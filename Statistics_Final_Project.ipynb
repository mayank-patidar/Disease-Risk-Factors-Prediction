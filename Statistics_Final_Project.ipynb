{
  "nbformat": 4,
  "nbformat_minor": 0,
  "metadata": {
    "colab": {
      "name": "Statistics_Final_Project.ipynb",
      "provenance": [],
      "collapsed_sections": [],
      "toc_visible": true,
      "include_colab_link": true
    },
    "kernelspec": {
      "name": "ir",
      "display_name": "R"
    }
  },
  "cells": [
    {
      "cell_type": "markdown",
      "metadata": {
        "id": "view-in-github",
        "colab_type": "text"
      },
      "source": [
        "<a href=\"https://colab.research.google.com/github/mayank-patidar/Disease-Risk-Factors-Prediction/blob/main/Statistics_Final_Project.ipynb\" target=\"_parent\"><img src=\"https://colab.research.google.com/assets/colab-badge.svg\" alt=\"Open In Colab\"/></a>"
      ]
    },
    {
      "cell_type": "markdown",
      "metadata": {
        "id": "6YRUaTWc8aNH"
      },
      "source": [
        "# Statistics Project (Spring 2021)\n",
        "**Mayank Patidar - map20016**"
      ]
    },
    {
      "cell_type": "code",
      "metadata": {
        "colab": {
          "base_uri": "https://localhost:8080/",
          "height": 284
        },
        "id": "RwivqFwK8aNI",
        "outputId": "ae80291a-7b57-48c1-ccc1-a2fb15bec831"
      },
      "source": [
        "version # make sure it says language R at the bottom!"
      ],
      "execution_count": null,
      "outputs": [
        {
          "output_type": "display_data",
          "data": {
            "text/plain": [
              "               _                           \n",
              "platform       x86_64-pc-linux-gnu         \n",
              "arch           x86_64                      \n",
              "os             linux-gnu                   \n",
              "system         x86_64, linux-gnu           \n",
              "status                                     \n",
              "major          4                           \n",
              "minor          0.5                         \n",
              "year           2021                        \n",
              "month          03                          \n",
              "day            31                          \n",
              "svn rev        80133                       \n",
              "language       R                           \n",
              "version.string R version 4.0.5 (2021-03-31)\n",
              "nickname       Shake and Throw             "
            ]
          },
          "metadata": {
            "tags": []
          }
        }
      ]
    },
    {
      "cell_type": "markdown",
      "metadata": {
        "id": "ZyFnC5B58aNJ"
      },
      "source": [
        "# Install and Load Required Packages"
      ]
    },
    {
      "cell_type": "code",
      "metadata": {
        "colab": {
          "base_uri": "https://localhost:8080/"
        },
        "id": "23I9-quTsl0q",
        "outputId": "c66e14e2-db4d-4220-a033-a7a3404c306d"
      },
      "source": [
        "install.packages(c(\"corrplot\",\"ggplot2\"))\n",
        "library(\"corrplot\")\n",
        "library(\"ggplot2\")"
      ],
      "execution_count": null,
      "outputs": [
        {
          "output_type": "stream",
          "text": [
            "Installing packages into ‘/usr/local/lib/R/site-library’\n",
            "(as ‘lib’ is unspecified)\n",
            "\n"
          ],
          "name": "stderr"
        }
      ]
    },
    {
      "cell_type": "markdown",
      "metadata": {
        "id": "WnLp84gs8aNK"
      },
      "source": [
        "# External Data Joining"
      ]
    },
    {
      "cell_type": "code",
      "metadata": {
        "colab": {
          "base_uri": "https://localhost:8080/",
          "height": 34
        },
        "id": "p-4V9r80sl0t",
        "outputId": "eb4b9c6d-f522-4a26-bd40-2fb1157e6b75"
      },
      "source": [
        "Places = read.csv(\"/content/PLACES_county_cleanheader.csv\", check.names = FALSE)\n",
        "dim(Places) #Checking count of rows and columns of the places dataset"
      ],
      "execution_count": null,
      "outputs": [
        {
          "output_type": "display_data",
          "data": {
            "text/plain": [
              "[1] 3142   30"
            ],
            "text/latex": "\\begin{enumerate*}\n\\item 3142\n\\item 30\n\\end{enumerate*}\n",
            "text/markdown": "1. 3142\n2. 30\n\n\n",
            "text/html": [
              "<style>\n",
              ".list-inline {list-style: none; margin:0; padding: 0}\n",
              ".list-inline>li {display: inline-block}\n",
              ".list-inline>li:not(:last-child)::after {content: \"\\00b7\"; padding: 0 .5ex}\n",
              "</style>\n",
              "<ol class=list-inline><li>3142</li><li>30</li></ol>\n"
            ]
          },
          "metadata": {
            "tags": []
          }
        }
      ]
    },
    {
      "cell_type": "code",
      "metadata": {
        "colab": {
          "base_uri": "https://localhost:8080/",
          "height": 34
        },
        "id": "bf50_19Nsl0u",
        "outputId": "fd6c5a0b-cc74-4f1e-b20c-209689b1c3fa"
      },
      "source": [
        "US_Regions = read.csv(\"/content/us census bureau regions and divisions.csv\", check.names = FALSE)\n",
        "dim(US_Regions) #Checking count of rows and columns of the region dataset\n",
        "colnames(Places)[1] <- \"State Code\" # Rename State Abbrevation column to merge place and region dataset\n",
        "df_merge = merge(Places,US_Regions,by=\"State Code\")\n",
        "write.csv(df_merge, file = \"merged_file.csv\")\n"
      ],
      "execution_count": null,
      "outputs": [
        {
          "output_type": "display_data",
          "data": {
            "text/plain": [
              "[1] 51  4"
            ],
            "text/latex": "\\begin{enumerate*}\n\\item 51\n\\item 4\n\\end{enumerate*}\n",
            "text/markdown": "1. 51\n2. 4\n\n\n",
            "text/html": [
              "<style>\n",
              ".list-inline {list-style: none; margin:0; padding: 0}\n",
              ".list-inline>li {display: inline-block}\n",
              ".list-inline>li:not(:last-child)::after {content: \"\\00b7\"; padding: 0 .5ex}\n",
              "</style>\n",
              "<ol class=list-inline><li>51</li><li>4</li></ol>\n"
            ]
          },
          "metadata": {
            "tags": []
          }
        }
      ]
    },
    {
      "cell_type": "code",
      "metadata": {
        "colab": {
          "base_uri": "https://localhost:8080/",
          "height": 34
        },
        "id": "2CVfaDKOsl0v",
        "outputId": "1cf21981-6d89-4e33-f049-ea051698a0ec"
      },
      "source": [
        "#Checking count of rows and columns of the merged dataset\n",
        "dim(df_merge)"
      ],
      "execution_count": null,
      "outputs": [
        {
          "output_type": "display_data",
          "data": {
            "text/plain": [
              "[1] 3142   33"
            ],
            "text/latex": "\\begin{enumerate*}\n\\item 3142\n\\item 33\n\\end{enumerate*}\n",
            "text/markdown": "1. 3142\n2. 33\n\n\n",
            "text/html": [
              "<style>\n",
              ".list-inline {list-style: none; margin:0; padding: 0}\n",
              ".list-inline>li {display: inline-block}\n",
              ".list-inline>li:not(:last-child)::after {content: \"\\00b7\"; padding: 0 .5ex}\n",
              "</style>\n",
              "<ol class=list-inline><li>3142</li><li>33</li></ol>\n"
            ]
          },
          "metadata": {
            "tags": []
          }
        }
      ]
    },
    {
      "cell_type": "code",
      "metadata": {
        "id": "uKR5cLehsl0w"
      },
      "source": [
        "# Subset the main dataframe\n",
        "temp = subset(df_merge, \n",
        "              select = c(\"State Code\"\t,\"LocationName\",\t\"State\",\t\"Region\",\t\"Division\",\n",
        "                          \"Coronary heart disease among adults aged >=18 years\",\n",
        "                          \"High blood pressure among adults aged >=18 years\",\t\n",
        "                          \"High cholesterol among adults aged >=18 years who have been screened in the past 5 years\", \n",
        "                          \"Cholesterol screening among adults aged >=18 years\" ,\t\n",
        "                          \"Taking medicine for high blood pressure control among adults aged >=18 years with high blood pressure\" , \n",
        " \t                        \"Binge drinking among adults aged >=18 years\", \n",
        "   \t                      \"Current smoking among adults aged >=18 years\", \t\n",
        "                          \"Obesity among adults aged >=18 years\", \n",
        "                          \"No leisure-time physical activity among adults aged >=18 years\",\n",
        "                          \"Sleeping less than 7 hours among adults aged >=18 years\",\n",
        "                          \"Visits to doctor for routine checkup within the past year among adults aged >=18 years\"\n",
        "                          )\n",
        "              )"
      ],
      "execution_count": null,
      "outputs": []
    },
    {
      "cell_type": "code",
      "metadata": {
        "id": "zVk9wBf6sl0w"
      },
      "source": [
        "# Rename the columns in the subset\n",
        "temp = setNames(df_merge, \n",
        "                c(\n",
        "                  \"State_code\",\n",
        "                  \"Loc_Name\",   \n",
        "                  \"teeth_loss\",\n",
        "                  \"Arthritis\", \n",
        "                  \"drinking\", \n",
        "                  \"cancer\", \n",
        "                  \"cer_cancer_screen\", \n",
        "                  \"ch_screen\", \n",
        "                  \"chronic_disease\", \n",
        "                  \"chronic_obs_pul\", \n",
        "                  \"CHD\", \n",
        "                  \"Asthama\", \n",
        "                  \"lack_health_ins\",\n",
        "                  \"smoking\",\n",
        "                  \"diabetes\", \n",
        "                  \"Fecal_blood_test\", \n",
        "                  \"HBP\", \n",
        "                  \"HCH\", \n",
        "                  \"mammography\", \n",
        "                  \"mental_health\", \n",
        "                  \"no_leisure\", \n",
        "                  \"obesity\", \n",
        "                  \"old_adult_men\",\n",
        "                  \"old_adult_women\", \n",
        "                  \"physical_health\",\n",
        "                  \"not_sleeping\", \n",
        "                  \"stroke\", \n",
        "                  \"med_HBP\", \n",
        "                  \"dentist_visit\", \n",
        "                  \"doc_visit\", \n",
        "                  \"State\", \n",
        "                  \"Region\", \n",
        "                  \"Division\" \n",
        "                  )\n",
        "                )"
      ],
      "execution_count": null,
      "outputs": []
    },
    {
      "cell_type": "markdown",
      "metadata": {
        "id": "okBydR1H8aNL"
      },
      "source": [
        "# Exploratory Data Analysis"
      ]
    },
    {
      "cell_type": "markdown",
      "metadata": {
        "id": "mqS7sbxv8aNL"
      },
      "source": [
        "## Table 1 - Health Outcome"
      ]
    },
    {
      "cell_type": "code",
      "metadata": {
        "id": "9uj2z2d9sl0y"
      },
      "source": [
        "# Subset 'temp' dataframe to extract all the health outcomes to determine the highest impact of health outcomes in the US. \n",
        "health_outcome = subset(temp , \n",
        "                        select = c(\n",
        "                                    teeth_loss, \n",
        "                                    Arthritis, \n",
        "                                    cancer, \n",
        "                                    chronic_disease, \n",
        "                                    chronic_obs_pul, \n",
        "                                    CHD,\n",
        "                                    Asthama, \n",
        "                                    diabetes, \n",
        "                                    HBP, \n",
        "                                    HCH, \n",
        "                                    mental_health, \n",
        "                                    physical_health, \n",
        "                                    stroke\n",
        "                                  )\n",
        "                          )"
      ],
      "execution_count": null,
      "outputs": []
    },
    {
      "cell_type": "code",
      "metadata": {
        "colab": {
          "base_uri": "https://localhost:8080/",
          "height": 437
        },
        "id": "iomFaUDysl0z",
        "outputId": "f523760d-ebc8-4122-d8a3-4bf1a2947a6a"
      },
      "source": [
        "# Create individual boxplots for each health outcome\n",
        "ggplot(stack(health_outcome), aes(x = ind, y = values)) +\n",
        "geom_boxplot()"
      ],
      "execution_count": null,
      "outputs": [
        {
          "output_type": "display_data",
          "data": {
            "image/png": "[encoded data removed]",
            "text/plain": [
              "plot without title"
            ]
          },
          "metadata": {
            "tags": [],
            "image/png": {
              "width": 420,
              "height": 420
            }
          }
        }
      ]
    },
    {
      "cell_type": "markdown",
      "metadata": {
        "id": "LuXhmFlG8aNM"
      },
      "source": [
        "**From the above plot, we can say that High Blood Pressure is most prevalent amongst the other health outcomes in the US**"
      ]
    },
    {
      "cell_type": "markdown",
      "metadata": {
        "id": "tw1gETwV8aNM"
      },
      "source": [
        "## Table 2 - High Blood Pressure"
      ]
    },
    {
      "cell_type": "code",
      "metadata": {
        "colab": {
          "base_uri": "https://localhost:8080/",
          "height": 437
        },
        "id": "XEoD35vZsl00",
        "outputId": "aa9f0f8b-5935-4f96-b7aa-6699d431b454"
      },
      "source": [
        "# High Blood Pressure has the highest median. Hence, we selected High Blood Pressure for the further analysis.\n",
        "# Check which region is the most impacted with High Blood Pressure issues.\n",
        "\n",
        "boxplot( HBP ~ Region, data = temp) # Create a boxplot for the same"
      ],
      "execution_count": null,
      "outputs": [
        {
          "output_type": "display_data",
          "data": {
            "image/png": "[encoded data removed]",
            "text/plain": [
              "plot without title"
            ]
          },
          "metadata": {
            "tags": [],
            "image/png": {
              "width": 420,
              "height": 420
            }
          }
        }
      ]
    },
    {
      "cell_type": "markdown",
      "metadata": {
        "id": "3PPLtUXf8aNN"
      },
      "source": [
        "**We see that South is the highest affected region whereas West is the lowest affected region.**"
      ]
    },
    {
      "cell_type": "markdown",
      "metadata": {
        "id": "22QCj8Pc8aNN"
      },
      "source": [
        "## Table 3 - Factors affecting High Blood Pressure"
      ]
    },
    {
      "cell_type": "code",
      "metadata": {
        "colab": {
          "base_uri": "https://localhost:8080/",
          "height": 240
        },
        "id": "YnXmmN4S8aNN",
        "outputId": "608698f8-3d4c-4db6-ed80-7b29241f8fef"
      },
      "source": [
        "HBP_Corr = subset(temp, \n",
        "                  select = c(\n",
        "                              HBP, \n",
        "                              drinking, \n",
        "                              smoking, \n",
        "                              obesity, \n",
        "                              not_sleeping, \n",
        "                              med_HBP\n",
        "                            )\n",
        "                  ) # Subset the dataframe\n",
        "cor(HBP_Corr) # Determine the correlation"
      ],
      "execution_count": null,
      "outputs": [
        {
          "output_type": "display_data",
          "data": {
            "text/plain": [
              "             HBP        drinking   smoking    obesity    not_sleeping\n",
              "HBP           1.0000000 -0.6785105  0.6761055  0.7139642  0.7746611  \n",
              "drinking     -0.6785105  1.0000000 -0.3290419 -0.3234388 -0.6442544  \n",
              "smoking       0.6761055 -0.3290419  1.0000000  0.6240325  0.6463071  \n",
              "obesity       0.7139642 -0.3234388  0.6240325  1.0000000  0.5295514  \n",
              "not_sleeping  0.7746611 -0.6442544  0.6463071  0.5295514  1.0000000  \n",
              "med_HBP       0.8110757 -0.4766185  0.5499420  0.6534702  0.6627992  \n",
              "             med_HBP   \n",
              "HBP           0.8110757\n",
              "drinking     -0.4766185\n",
              "smoking       0.5499420\n",
              "obesity       0.6534702\n",
              "not_sleeping  0.6627992\n",
              "med_HBP       1.0000000"
            ],
            "text/latex": "A matrix: 6 × 6 of type dbl\n\\begin{tabular}{r|llllll}\n  & HBP & drinking & smoking & obesity & not\\_sleeping & med\\_HBP\\\\\n\\hline\n\tHBP &  1.0000000 & -0.6785105 &  0.6761055 &  0.7139642 &  0.7746611 &  0.8110757\\\\\n\tdrinking & -0.6785105 &  1.0000000 & -0.3290419 & -0.3234388 & -0.6442544 & -0.4766185\\\\\n\tsmoking &  0.6761055 & -0.3290419 &  1.0000000 &  0.6240325 &  0.6463071 &  0.5499420\\\\\n\tobesity &  0.7139642 & -0.3234388 &  0.6240325 &  1.0000000 &  0.5295514 &  0.6534702\\\\\n\tnot\\_sleeping &  0.7746611 & -0.6442544 &  0.6463071 &  0.5295514 &  1.0000000 &  0.6627992\\\\\n\tmed\\_HBP &  0.8110757 & -0.4766185 &  0.5499420 &  0.6534702 &  0.6627992 &  1.0000000\\\\\n\\end{tabular}\n",
            "text/markdown": "\nA matrix: 6 × 6 of type dbl\n\n| <!--/--> | HBP | drinking | smoking | obesity | not_sleeping | med_HBP |\n|---|---|---|---|---|---|---|\n| HBP |  1.0000000 | -0.6785105 |  0.6761055 |  0.7139642 |  0.7746611 |  0.8110757 |\n| drinking | -0.6785105 |  1.0000000 | -0.3290419 | -0.3234388 | -0.6442544 | -0.4766185 |\n| smoking |  0.6761055 | -0.3290419 |  1.0000000 |  0.6240325 |  0.6463071 |  0.5499420 |\n| obesity |  0.7139642 | -0.3234388 |  0.6240325 |  1.0000000 |  0.5295514 |  0.6534702 |\n| not_sleeping |  0.7746611 | -0.6442544 |  0.6463071 |  0.5295514 |  1.0000000 |  0.6627992 |\n| med_HBP |  0.8110757 | -0.4766185 |  0.5499420 |  0.6534702 |  0.6627992 |  1.0000000 |\n\n",
            "text/html": [
              "<table class=\"dataframe\">\n",
              "<caption>A matrix: 6 × 6 of type dbl</caption>\n",
              "<thead>\n",
              "\t<tr><th></th><th scope=col>HBP</th><th scope=col>drinking</th><th scope=col>smoking</th><th scope=col>obesity</th><th scope=col>not_sleeping</th><th scope=col>med_HBP</th></tr>\n",
              "</thead>\n",
              "<tbody>\n",
              "\t<tr><th scope=row>HBP</th><td> 1.0000000</td><td>-0.6785105</td><td> 0.6761055</td><td> 0.7139642</td><td> 0.7746611</td><td> 0.8110757</td></tr>\n",
              "\t<tr><th scope=row>drinking</th><td>-0.6785105</td><td> 1.0000000</td><td>-0.3290419</td><td>-0.3234388</td><td>-0.6442544</td><td>-0.4766185</td></tr>\n",
              "\t<tr><th scope=row>smoking</th><td> 0.6761055</td><td>-0.3290419</td><td> 1.0000000</td><td> 0.6240325</td><td> 0.6463071</td><td> 0.5499420</td></tr>\n",
              "\t<tr><th scope=row>obesity</th><td> 0.7139642</td><td>-0.3234388</td><td> 0.6240325</td><td> 1.0000000</td><td> 0.5295514</td><td> 0.6534702</td></tr>\n",
              "\t<tr><th scope=row>not_sleeping</th><td> 0.7746611</td><td>-0.6442544</td><td> 0.6463071</td><td> 0.5295514</td><td> 1.0000000</td><td> 0.6627992</td></tr>\n",
              "\t<tr><th scope=row>med_HBP</th><td> 0.8110757</td><td>-0.4766185</td><td> 0.5499420</td><td> 0.6534702</td><td> 0.6627992</td><td> 1.0000000</td></tr>\n",
              "</tbody>\n",
              "</table>\n"
            ]
          },
          "metadata": {
            "tags": []
          }
        }
      ]
    },
    {
      "cell_type": "markdown",
      "metadata": {
        "id": "tEyQnWze8aNN"
      },
      "source": [
        "**Looking at the above correlation table, we see that High Blood Pressure has the highest correlation of 0.774661 with not_sleeping variable.**"
      ]
    },
    {
      "cell_type": "markdown",
      "metadata": {
        "id": "wSpSkJ9j8aNN"
      },
      "source": [
        "## Table 4 - Analyzing High Blood Pressure Data for South region."
      ]
    },
    {
      "cell_type": "code",
      "metadata": {
        "id": "f4eUH772sl01"
      },
      "source": [
        "# Filter the data region wise\n",
        "south_region = temp[temp$Region == \"South\",]"
      ],
      "execution_count": null,
      "outputs": []
    },
    {
      "cell_type": "markdown",
      "metadata": {
        "id": "n0ZmzfCs8aNN"
      },
      "source": [
        "**As south region has the highest impact of high blood pressure, we dived further into the state level of South region for the analysis**"
      ]
    },
    {
      "cell_type": "code",
      "metadata": {
        "colab": {
          "base_uri": "https://localhost:8080/",
          "height": 437
        },
        "id": "4gP1a53Csl02",
        "outputId": "9a4d74dc-452f-44ed-9f9a-c7b357d6bcb9"
      },
      "source": [
        "# Plot for South Region\n",
        "ggplot(south_region, aes(x=HBP, y=State), ) +\n",
        "  geom_boxplot()"
      ],
      "execution_count": null,
      "outputs": [
        {
          "output_type": "display_data",
          "data": {
            "image/png": "[encoded data removed]",
            "text/plain": [
              "plot without title"
            ]
          },
          "metadata": {
            "tags": [],
            "image/png": {
              "width": 420,
              "height": 420
            }
          }
        }
      ]
    },
    {
      "cell_type": "markdown",
      "metadata": {
        "id": "RfIBkChM8aNO"
      },
      "source": [
        "**From the above plot, we can see that Mississippi is the highest affected state in terms of High Blood Pressure.**"
      ]
    },
    {
      "cell_type": "markdown",
      "metadata": {
        "id": "VW7pHMtu8aNO"
      },
      "source": [
        "## Table 5 - Analyzing High Blood Pressure Data for West region."
      ]
    },
    {
      "cell_type": "markdown",
      "metadata": {
        "id": "O8PGQi888aNO"
      },
      "source": [
        "**As west region has the lowest impact of high blood pressure, we dived further into the state level of west region for the analysis**"
      ]
    },
    {
      "cell_type": "code",
      "metadata": {
        "id": "e0a0BbUO8aNO"
      },
      "source": [
        "West_region = temp[temp$Region == \"West\",]"
      ],
      "execution_count": null,
      "outputs": []
    },
    {
      "cell_type": "code",
      "metadata": {
        "colab": {
          "base_uri": "https://localhost:8080/",
          "height": 437
        },
        "id": "9tmfX7u5sl03",
        "outputId": "918b772e-1f7d-47d3-a2fc-0c813903b6f0"
      },
      "source": [
        "# Plot for West region\n",
        "ggplot(West_region, aes(x=HBP, y=State)) +\n",
        "geom_boxplot()"
      ],
      "execution_count": null,
      "outputs": [
        {
          "output_type": "display_data",
          "data": {
            "image/png": "[encoded data removed]",
            "text/plain": [
              "plot without title"
            ]
          },
          "metadata": {
            "tags": [],
            "image/png": {
              "width": 420,
              "height": 420
            }
          }
        }
      ]
    },
    {
      "cell_type": "markdown",
      "metadata": {
        "id": "plvo8f-J8aNO"
      },
      "source": [
        "**From the above plot, we can see that Colorado is the least affected state in terms of High Blood Pressure.**"
      ]
    },
    {
      "cell_type": "markdown",
      "metadata": {
        "id": "Q4ymW-PYlx1C"
      },
      "source": [
        "# Literature Review"
      ]
    },
    {
      "cell_type": "markdown",
      "metadata": {
        "id": "PGwXKKLlmD8h"
      },
      "source": [
        "After exploring the dataset, we have found some interesting relations between the variables. For doing Hypothesis testing and proceeding further with the project it is important to understand the trends that are associated with our target variable. We are going forward with “**High Blood Pressure (HBP)**” as our target variable to find relevant findings. According to the American heart association, high blood pressure (also referred to as HBP, or hypertension) is the condition when our blood pressure, the force of blood flowing through our blood vessels, is consistently too high [1].\n",
        "\n",
        "<br>\n",
        "\n",
        "As per the Harvard health survey, for decades, HBP was defined as 140/90(140 over 90). In November 2017, new United States guidelines lowered the threshold for diagnosing the condition. According to new guidelines, anyone with a reading of 130/80 or higher has blood pressure. Based on this new definition, nearly half of Americans now fall into this group [2]. Blood pressure is now categorized as Normal for less than 120/80, Elevated for 120/80 to 129/79, Stage 1 of Hypertension for 130/80 to 139/89, and Stage 2 of Hypertension for more than 140/90 mm Hg. There is one more category for blood pressure higher than 180 as Hypertensive crisis, it is suggested to immediately consider a doctor if someone is having this higher blood pressure [1].\n",
        "\n",
        "![picture](https://www.heart.org/-/media/images/health-topics/high-blood-pressure/rainbow-chart/blood-pressure-readings-chart.jpg)\n",
        "\n",
        "<br>\n",
        "\n",
        "After understanding the levels of hypertension, we can now start exploring and analyzing the overall trends, preventability, effect on a certain community, available medication, and the pandemic's effect on HBP.\n",
        "\n",
        "<br>\n",
        "\n",
        "Having hypertension can put an individual at risk for heart disease and stroke, which are leading causes of death in the United States. In 2018, nearly half a million deaths in the United States included hypertension as a primary or contributing cause [3]. Nearly half of adults in the United States (108 million, or 45%) have hypertension defined as an HBP ≥ 130 are taking medication for hypertension. Further, the facts concluded that about 1 in 4 adults (24%) with hypertension in the US have their condition under control. About half of adults (45%) with uncontrolled hypertension have a blood pressure of 140/90 or higher. This includes 37 million U.S. adults. \n",
        "High blood pressure was a primary cause of death for more than 494,873 people in the United States in 2018 [3]. High blood pressure costs the United States about $131 billion each year, averaged over 12 years from 2003 to 2014. \n",
        "\n",
        "<br>\n",
        "\n",
        "Looking at the concerning figures of death caused by HBP, several organizations and governments are working to make people aware of Hypertension. A recent finding published online indicates that the proportion of U.S. adults with hypertension who were aware they had hypertension and had controlled blood pressure declined between 2013-2014 and 2017-2018 [4]. The results of this survey are concerning, according to the survey the proportion of U.S. adults with hypertension who were aware they had hypertension increased from 70% in 1999-2000 to 85% in 2013-2014 before declining to 77% in 2017-2018 [4]. The survey also reported that those between the ages of 60 and 74 and those over 75 were less likely to have controlled blood pressure than those 18-44 years old. \n",
        "\n",
        "<br>\n",
        "\n",
        "Despite being one of the most common and widespread diseases in the United States, hypertension is also one of the most preventable. A person's risk of having high blood pressure over their lifespan is influenced by a variety of factors. Our age, a family history of hypertension, and ethnicity are among the hypertension risk factors that are out of our control. When it comes to preventing high blood pressure, the idea is to focus on the risk factors that we can change [5].\n",
        "To avoid a hypertension diagnosis, one should make the following healthy lifestyle choices:\n",
        "<br>\n",
        "\n",
        "* Maintain a healthy weight.\n",
        "* Eat a balanced diet\n",
        "* Cut back on salt.\n",
        "* Exercise regularly. \n",
        "* Limit alcohol usage.\n",
        "* Manage stress. \n",
        "* Monitor your blood pressure regularly. \n",
        "\n",
        "<br>\n",
        "\n",
        "Adopting these lifestyle changes can help us to prevent high blood pressure. Making an effort to prevent high blood pressure, will benefit to reduce the risk of heart attack, stroke, and other serious illnesses. One of the major concerns with Hypertension is the formal behavior of an individual towards HBP, if a person is suffering and he/she is not taking the doctor’s advice or following the suggested lifestyle changes, the damages could be life-threatening [6]. With proper treatment and management, one can control blood pressure to live a long and healthy life. The only step we should take is to follow a healthy lifestyle and consulting a doctor at the right time.\n",
        "\n",
        "<br>\n",
        "\n",
        "It may seem insignificant, but certain individuals are more likely to have a high blood pressure problem than others due to their family background or demographic group. The Data from the National Health and Nutrition Examination Survey suggests that the prevalence of hypertension was higher among non-Hispanic blacks (57.1%) than among non-Hispanic whites (43.6%) and Hispanics (43.7%) [7]. Among men, the age-adjusted prevalence of hypertension was higher among non-Hispanic blacks (57.2%) than non-Hispanic whites (50.2%) and Hispanic (50.1%) adults. Among women, the age-adjusted prevalence of hypertension was higher among non-Hispanic blacks (56.7%) than non-Hispanic whites (36.7%) and Hispanic (36.8%) adults [7]. This study results can be seen from the graphical description below:\n",
        "\n",
        "<br>\n",
        "\n",
        "![picture](https://www.cdc.gov/nchs/images/databriefs/351-400/db364-fig2.png)\n",
        "\n",
        "<br>\n",
        "\n",
        "Alone this study was not able to show the proper explanations on why the prevalence of hypertension was higher among non-Hispanic blacks. The research from Daniel T. Lackland addresses certain causes that may be correlated with this racial imbalance, such as salt exposure and obesity; this means that African Americans have a much higher susceptibility to salt consumption (which has a greater impact on Hypertension) and suffer from obesity more than other races, all of which affect blood pressure [8].\n",
        "\n",
        "<br>\n",
        "\n",
        "We can easily differentiate the level of severity in different states of the United States from the data available on some of the government websites. As per the data of 2019 from the website of “State of childhood obesity”, the most recent Behavioral Risk Factor Surveillance System (BRFSS) finds that nine of the 10 states with the highest rates of hypertension in the United States are in the South. West Virginia and Mississippi are the top ranked states (43.8% and 43.6%), and Alabama is the 3rd state with 42.5% of people facing HBP [9].\n",
        "\n",
        "<br>\n",
        "\n",
        "![picture](https://sites.psu.edu/eworkingernutr360/files/2017/03/hypertension_0-1xai07n.png)\n",
        "\n",
        "<br>\n",
        "\n",
        "Several types of research have been done on how to mitigate the risk and effect of High blood pressure on an individual. Fewer than half of those people with high blood pressure have it under control. But when the condition is detected early and treated properly, the outlook is good.\n",
        "Sometimes high blood pressure can be treated solely through lifestyle changes, which are the first line of defense. In other cases, treatment requires both a healthy lifestyle and medications[10]. Some supplements may help to lower blood pressure, however, more research is needed to determine the potential benefits. These supplements include:\n",
        "\n",
        "* Fiber, such as blond psyllium and wheat bran\n",
        "* Minerals, such as magnesium, calcium and potassium\n",
        "* Folic acid\n",
        "* Supplements or products that increase nitric oxide or widen blood vessels (vasodilators), such as cocoa, coenzyme Q10, L-arginine and garlic\n",
        "* Omega-3 fatty acids, found in fatty fish, high-dose fish oil supplements and flaxseed\n",
        "\n",
        "In a recent clinical trial led by researchers from the George Institute for Global Health with branches in the United Kingdom, Australia, and India, they tested the effectiveness and safety of using an innovative drug for the treatment of high blood pressure or hypertension. This drug, nicknamed the “triple pill” by the investigators, combines low doses of three existing drugs for blood pressure [11]. Namely, these are telmisartan (20 milligrams), amlodipine (2.5 milligrams), and chlorthalidone (12.5 milligrams). This new combination drug may have the potential to revolutionize hypertension treatment worldwide, the 1st clinical trial has declared it safe to use and very effective [11].\n",
        "\n",
        "<br>\n",
        "\n",
        "We are currently in the middle of a pandemic due to the spread of the new coronavirus, researchers are working to learn more about health conditions that may put us at risk for serious illness. One of the conditions being investigated is high blood pressure [12]. A recent study investigated more than 2,800 hospitalized individuals with confirmed COVID-19 in China. Investigators made the following observations related to high blood pressure:\n",
        "\n",
        "* Out of all study participants, 29.5 percent had high blood pressure. Of those with high blood pressure, 83.5 percent were taking medications to manage their condition.\n",
        "\n",
        "* There was a twofold increase in the risk of death due to COVID-19 in people with high blood pressure when compared to those without high blood pressure.\n",
        "\n",
        "* Those with high blood pressure who weren’t taking medications to manage their condition were at a greater risk for death compared to those who took blood pressure medications.\n",
        "\n",
        "After this research CDC has recently updated its list of factors that put an individual at increased risk for serious illness due to COVID-19 and Hypertension is one among these factors. Analysis of early data from different countries shows that high blood pressure is the most commonly shared pre-existing condition among those hospitalized, affecting between 30% to 50% of the patients. Other health conditions included cancer, diabetes, or lung disease. A report said that more than 99% of people who had died from the virus had one of these conditions -- and 76% of them had high blood pressure [13]. Other research shows that people with high blood pressure are also slightly more likely to die from coronavirus. Their risk is about twice as high as that of the overall population.\n",
        "\n",
        "<br>\n",
        "\n",
        "Overall, high blood pressure or hypertension is a huge illness that affects millions of people in the United States and other countries around the world. Some people and states in the US itself are more vulnerable than others, but there are also appropriate approaches to treat the condition. A healthy lifestyle and medication can lower the risk of facing high blood pressure. Due to the pandemic, the situation has gotten worst and it would be interesting to learn more about the impact of HBP and Covid-19 on an individual.\n",
        "\n",
        "---\n",
        "\n"
      ]
    },
    {
      "cell_type": "markdown",
      "metadata": {
        "id": "iegOljhALDPK"
      },
      "source": [
        "# Hypothesis Testing"
      ]
    },
    {
      "cell_type": "markdown",
      "metadata": {
        "id": "xRHNRTVMtfSM"
      },
      "source": [
        "## One Sample Hypothesis Test\n",
        "\n",
        "According to the literature mentioned above, Mississippi has the highest hypertension (high blood pressure) rate amonst all other states in the US. So we can compare if the the mean of HBP (High Blood Pressure) in Mississipi is greater than the mean of HBP in overall United States. consider mean of overall United States as the mean of the entire dataset"
      ]
    },
    {
      "cell_type": "code",
      "metadata": {
        "colab": {
          "base_uri": "https://localhost:8080/",
          "height": 454
        },
        "id": "B-l1KmcdKsA5",
        "outputId": "bc55bb8d-5582-47bf-b30c-77875548f6b8"
      },
      "source": [
        "# Check distribution of HBP\n",
        "\n",
        "plot(density(temp$HBP), xlab=\"Blood Pressure\", main=\"Blood Pressure\") \n",
        "abline(v= mean(temp$HBP), col='Blue', lty=3, lwd=4)\n",
        "text(x=mean(temp$HBP)-1, y=0.02, label=\"Mean = \", cex = 1.3, col=\"Blue\", srt = 90)\n",
        "text(x=mean(temp$HBP)-1, y=0.034, label= round(mean(temp$HBP),2), cex = 1.3, col=\"Blue\", srt = 90)\n",
        "mean(temp$HBP)\n"
      ],
      "execution_count": null,
      "outputs": [
        {
          "output_type": "display_data",
          "data": {
            "text/plain": [
              "[1] 32.37728"
            ],
            "text/latex": "32.3772756206238",
            "text/markdown": "32.3772756206238",
            "text/html": [
              "32.3772756206238"
            ]
          },
          "metadata": {
            "tags": []
          }
        },
        {
          "output_type": "display_data",
          "data": {
            "image/png": "[encoded data removed]",
            "text/plain": [
              "Plot with title “Blood Pressure”"
            ]
          },
          "metadata": {
            "tags": [],
            "image/png": {
              "width": 420,
              "height": 420
            }
          }
        }
      ]
    },
    {
      "cell_type": "markdown",
      "metadata": {
        "id": "2_VHV7AjMdCa"
      },
      "source": [
        "**Null ($H_0$) and Alternate ($H_1$) Hypothesis:**<br>\n",
        "<center> $H_0:\\mu \\le 32.38$<br>\n",
        "$H_1:\\mu > 32.38$ </center> "
      ]
    },
    {
      "cell_type": "markdown",
      "metadata": {
        "id": "u2swbCILNLBk"
      },
      "source": [
        "**Level of Significance:** With 95% confidence interval, the level of significance is $0.05$"
      ]
    },
    {
      "cell_type": "code",
      "metadata": {
        "id": "aetxnRS8NWz5",
        "colab": {
          "base_uri": "https://localhost:8080/",
          "height": 1000
        },
        "outputId": "5e20998f-f1ca-424d-e987-0b853127f4da"
      },
      "source": [
        "missi_data = subset(temp, temp$State_code == \"MS\")\n",
        "missi_data"
      ],
      "execution_count": null,
      "outputs": [
        {
          "output_type": "display_data",
          "data": {
            "text/plain": [
              "     State_code Loc_Name     teeth_loss Arthritis drinking cancer\n",
              "1517 MS         Webster      20.5       30.2      14.5     6.4   \n",
              "1518 MS         Madison      12.1       24.4      15.9     6.4   \n",
              "1519 MS         Quitman      32.5       34.4      10.8     6.0   \n",
              "1520 MS         Hancock      16.5       27.7      16.1     6.5   \n",
              "1521 MS         Newton       21.6       29.7      13.9     6.3   \n",
              "1522 MS         Stone        21.6       29.6      15.3     6.4   \n",
              "1523 MS         Prentiss     23.7       31.9      14.8     6.5   \n",
              "1524 MS         Clarke       20.9       30.1      14.2     6.3   \n",
              "1525 MS         Yalobusha    21.8       29.0      13.4     6.2   \n",
              "1526 MS         Hinds        18.7       26.4      12.2     6.1   \n",
              "1527 MS         Harrison     18.8       29.1      15.2     6.4   \n",
              "1528 MS         Perry        23.2       30.1      14.2     6.4   \n",
              "1529 MS         Tippah       22.9       29.8      15.2     6.5   \n",
              "1530 MS         Franklin     20.5       29.8      14.4     6.3   \n",
              "1531 MS         Wilkinson    33.5       33.0      12.0     5.9   \n",
              "1532 MS         Winston      23.4       30.5      13.4     6.2   \n",
              "1533 MS         Lawrence     21.3       28.9      14.1     6.3   \n",
              "1534 MS         Rankin       13.4       26.8      15.3     6.5   \n",
              "1535 MS         Itawamba     19.8       29.6      15.4     6.6   \n",
              "1536 MS         Calhoun      24.3       30.1      14.3     6.3   \n",
              "1537 MS         Jasper       23.4       31.6      12.9     6.1   \n",
              "1538 MS         Pearl River  19.7       29.5      15.7     6.5   \n",
              "1539 MS         Wayne        22.2       30.9      14.4     6.3   \n",
              "1540 MS         Leflore      30.5       31.9      11.4     5.9   \n",
              "1541 MS         George       20.5       29.0      16.5     6.5   \n",
              "1542 MS         Warren       20.3       29.8      14.0     6.2   \n",
              "1543 MS         Noxubee      27.3       30.9      12.1     6.0   \n",
              "1544 MS         Chickasaw    25.2       30.5      14.0     6.1   \n",
              "1545 MS         Bolivar      26.2       33.1      13.2     6.0   \n",
              "1546 MS         Neshoba      25.7       30.9      14.1     6.5   \n",
              "⋮    ⋮          ⋮            ⋮          ⋮         ⋮        ⋮     \n",
              "1569 MS         Coahoma      27.7       32.8      10.6     5.9   \n",
              "1570 MS         Washington   25.8       29.2      11.7     6.0   \n",
              "1571 MS         Leake        26.3       31.1      12.9     6.2   \n",
              "1572 MS         Benton       25.2       30.3      14.0     6.2   \n",
              "1573 MS         Scott        28.1       30.4      13.0     6.2   \n",
              "1574 MS         Tate         20.4       30.0      14.4     6.4   \n",
              "1575 MS         Jefferson    35.6       33.2      10.3     5.8   \n",
              "1576 MS         Simpson      25.3       31.6      13.7     6.3   \n",
              "1577 MS         Union        20.6       28.6      15.0     6.4   \n",
              "1578 MS         Oktibbeha    17.7       28.1      13.1     6.3   \n",
              "1579 MS         Panola       24.3       30.2      13.3     6.2   \n",
              "1580 MS         Covington    22.4       29.9      13.6     6.3   \n",
              "1581 MS         Holmes       36.0       34.4       9.8     5.8   \n",
              "1582 MS         Sharkey      31.7       33.1      11.0     5.9   \n",
              "1583 MS         Kemper       28.0       32.5      12.3     6.1   \n",
              "1584 MS         Lamar        14.2       27.9      15.0     6.5   \n",
              "1585 MS         Tallahatchie 29.4       32.2      13.1     6.0   \n",
              "1586 MS         Issaquena    34.6       33.7      12.1     6.0   \n",
              "1587 MS         Lee          18.5       29.6      14.3     6.5   \n",
              "1588 MS         Pike         26.3       32.1      12.3     6.1   \n",
              "1589 MS         Lowndes      18.7       27.9      13.5     6.4   \n",
              "1590 MS         Tishomingo   22.6       29.8      15.4     6.5   \n",
              "1591 MS         Sunflower    28.5       32.3      12.6     5.9   \n",
              "1592 MS         Smith        21.7       29.2      15.0     6.3   \n",
              "1593 MS         Greene       20.2       28.4      15.9     6.3   \n",
              "1594 MS         Marion       25.6       31.4      13.7     6.3   \n",
              "1595 MS         Yazoo        27.8       29.6      13.4     5.9   \n",
              "1596 MS         Jackson      16.3       27.3      15.5     6.4   \n",
              "1597 MS         Claiborne    32.4       32.5      10.3     5.8   \n",
              "1598 MS         Jones        20.6       30.2      13.8     6.2   \n",
              "     cer_cancer_screen ch_screen chronic_disease chronic_obs_pul ⋯\n",
              "1517 84.0              78.0      3.1              9.0            ⋯\n",
              "1518 88.3              82.8      2.6              5.6            ⋯\n",
              "1519 83.3              78.0      4.5             11.4            ⋯\n",
              "1520 84.9              78.9      2.8              7.9            ⋯\n",
              "1521 84.9              78.7      3.3              9.2            ⋯\n",
              "1522 84.0              78.1      3.1              9.0            ⋯\n",
              "1523 82.3              76.3      3.3             10.5            ⋯\n",
              "1524 85.4              78.8      3.2              8.7            ⋯\n",
              "1525 84.8              78.6      3.2              8.6            ⋯\n",
              "1526 88.1              82.3      3.5              7.5            ⋯\n",
              "1527 85.3              79.6      3.0              8.2            ⋯\n",
              "1528 83.5              76.8      3.3              9.9            ⋯\n",
              "1529 83.4              77.4      3.1              9.6            ⋯\n",
              "1530 85.4              78.7      3.2              8.7            ⋯\n",
              "1531 82.7              77.4      4.4             11.2            ⋯\n",
              "1532 84.2              78.7      3.5              9.1            ⋯\n",
              "1533 84.7              78.2      3.1              8.8            ⋯\n",
              "1534 87.5              80.7      2.5              6.6            ⋯\n",
              "1535 83.7              77.1      3.0              9.1            ⋯\n",
              "1536 83.9              76.8      3.4              9.9            ⋯\n",
              "1537 84.9              79.4      3.5              8.9            ⋯\n",
              "1538 84.6              78.4      2.9              8.3            ⋯\n",
              "1539 84.9              77.7      3.2              8.9            ⋯\n",
              "1540 84.5              79.7      4.3             10.4            ⋯\n",
              "1541 84.0              77.1      2.8              8.8            ⋯\n",
              "1542 86.2              80.2      3.2              8.1            ⋯\n",
              "1543 84.0              78.7      4.0              9.6            ⋯\n",
              "1544 84.4              77.9      3.6              9.8            ⋯\n",
              "1545 84.4              79.1      4.1              9.7            ⋯\n",
              "1546 82.8              77.7      3.5             10.3            ⋯\n",
              "⋮    ⋮                 ⋮         ⋮               ⋮               ⋱\n",
              "1569 84.5              79.6      4.3             10.2            ⋯\n",
              "1570 85.0              80.1      4.0              9.7            ⋯\n",
              "1571 83.4              78.1      3.7             10.2            ⋯\n",
              "1572 83.3              77.8      3.4              9.8            ⋯\n",
              "1573 83.2              78.0      3.7             10.2            ⋯\n",
              "1574 84.7              79.1      3.1              8.6            ⋯\n",
              "1575 83.4              78.6      5.0             11.5            ⋯\n",
              "1576 83.7              77.8      3.5              9.7            ⋯\n",
              "1577 84.4              77.4      3.0              8.8            ⋯\n",
              "1578 85.9              80.6      3.4              7.7            ⋯\n",
              "1579 84.7              78.7      3.5              9.3            ⋯\n",
              "1580 83.8              78.1      3.3              9.2            ⋯\n",
              "1581 82.4              78.2      4.9             11.7            ⋯\n",
              "1582 83.4              79.3      4.5             11.0            ⋯\n",
              "1583 83.6              78.6      4.0             10.1            ⋯\n",
              "1584 87.0              81.0      2.7              6.8            ⋯\n",
              "1585 83.1              77.4      4.1             10.6            ⋯\n",
              "1586 81.5              75.7      4.5             12.2            ⋯\n",
              "1587 86.6              79.7      2.9              7.7            ⋯\n",
              "1588 84.0              78.8      3.8              9.9            ⋯\n",
              "1589 85.4              80.1      3.2              8.0            ⋯\n",
              "1590 82.7              76.3      3.0             10.0            ⋯\n",
              "1591 84.1              78.9      4.1             10.0            ⋯\n",
              "1592 84.0              77.8      3.1              9.0            ⋯\n",
              "1593 83.7              77.9      2.9              8.4            ⋯\n",
              "1594 82.8              77.2      3.6             10.6            ⋯\n",
              "1595 83.4              77.7      4.0             10.0            ⋯\n",
              "1596 85.7              80.3      2.8              7.5            ⋯\n",
              "1597 83.7              79.8      4.7             10.6            ⋯\n",
              "1598 85.2              78.5      3.2              8.7            ⋯\n",
              "     old_adult_women physical_health not_sleeping stroke med_HBP dentist_visit\n",
              "1517 19.8            15.4            36.7         3.8    64.1    50.6         \n",
              "1518 24.3            10.6            34.6         2.9    63.0    63.6         \n",
              "1519 17.7            20.6            43.1         6.2    70.2    40.3         \n",
              "1520 22.1            13.6            34.9         3.3    61.6    55.7         \n",
              "1521 18.2            16.3            39.7         4.2    64.6    48.6         \n",
              "1522 19.6            15.2            36.4         3.8    63.3    48.4         \n",
              "1523 20.7            17.7            37.2         4.2    64.0    48.3         \n",
              "1524 19.5            15.3            37.0         4.0    65.1    52.3         \n",
              "1525 20.2            15.3            39.3         4.1    66.2    49.7         \n",
              "1526 23.8            14.2            42.3         4.4    68.7    54.4         \n",
              "1527 22.2            14.7            39.4         3.7    63.8    55.4         \n",
              "1528 19.5            16.7            37.8         4.1    64.1    46.4         \n",
              "1529 18.6            16.4            36.7         3.9    63.1    47.8         \n",
              "1530 19.7            15.2            38.7         4.0    64.7    48.5         \n",
              "1531 16.8            20.5            44.1         6.1    69.3    36.7         \n",
              "1532 19.7            16.3            40.1         4.5    66.8    46.6         \n",
              "1533 19.7            15.2            38.6         4.0    64.4    49.6         \n",
              "1534 22.3            11.8            34.0         3.0    62.5    63.8         \n",
              "1535 22.3            15.1            37.7         3.6    62.8    50.5         \n",
              "1536 20.1            16.6            38.5         4.3    65.5    46.0         \n",
              "1537 18.4            16.3            39.6         4.6    67.3    45.9         \n",
              "1538 24.3            14.3            36.4         3.5    61.7    54.2         \n",
              "1539 20.0            15.8            40.5         4.2    65.8    48.6         \n",
              "1540 15.5            19.3            42.2         5.9    70.6    40.2         \n",
              "1541 22.1            14.8            36.7         3.5    61.2    53.2         \n",
              "1542 19.7            14.8            40.6         4.1    67.6    52.3         \n",
              "1543 17.2            17.7            42.3         5.4    68.9    42.7         \n",
              "1544 19.2            17.1            40.1         4.7    67.2    44.2         \n",
              "1545 18.1            18.5            40.4         5.4    69.2    47.5         \n",
              "1546 18.5            17.8            38.9         4.5    64.1    49.1         \n",
              "⋮    ⋮               ⋮               ⋮            ⋮      ⋮       ⋮            \n",
              "1569 16.6            19.0            44.1         5.8    70.6    41.0         \n",
              "1570 16.3            17.9            39.4         5.5    69.9    43.2         \n",
              "1571 20.3            17.7            38.6         4.9    65.8    44.3         \n",
              "1572 19.0            16.8            41.0         4.4    64.9    44.7         \n",
              "1573 18.2            17.8            40.9         4.8    66.0    45.7         \n",
              "1574 19.9            15.5            38.9         3.9    64.7    49.9         \n",
              "1575 15.3            21.6            46.0         6.9    71.3    35.7         \n",
              "1576 19.7            17.1            38.8         4.4    65.7    45.8         \n",
              "1577 19.1            14.9            36.8         3.7    63.3    52.3         \n",
              "1578 21.1            14.5            38.8         4.1    66.1    56.7         \n",
              "1579 20.0            16.6            39.5         4.5    67.5    46.2         \n",
              "1580 20.0            16.1            39.2         4.3    65.5    47.0         \n",
              "1581 14.9            21.3            45.6         6.8    71.4    35.4         \n",
              "1582 16.6            20.1            44.2         6.1    69.6    39.0         \n",
              "1583 17.8            18.1            42.9         5.4    68.9    41.8         \n",
              "1584 23.1            12.0            36.6         3.1    62.6    61.6         \n",
              "1585 17.4            19.1            43.0         5.5    67.4    39.7         \n",
              "1586 15.9            21.4            44.2         6.3    69.8    35.2         \n",
              "1587 21.9            14.3            37.4         3.5    64.3    50.9         \n",
              "1588 16.9            17.8            40.6         5.1    68.6    46.0         \n",
              "1589 18.0            14.6            39.9         4.0    65.7    50.9         \n",
              "1590 19.5            16.6            37.4         3.8    61.4    48.2         \n",
              "1591 18.8            18.3            43.7         5.6    69.5    41.5         \n",
              "1592 20.0            15.4            36.2         3.9    64.3    47.9         \n",
              "1593 20.3            14.5            36.9         3.7    62.9    48.2         \n",
              "1594 17.4            17.7            39.1         4.7    66.4    46.2         \n",
              "1595 17.0            18.1            41.9         5.2    68.0    41.1         \n",
              "1596 20.8            13.6            38.9         3.4    62.4    57.7         \n",
              "1597 16.4            20.0            45.3         6.4    71.3    36.8         \n",
              "1598 21.5            14.9            38.3         4.0    66.1    47.8         \n",
              "     doc_visit State       Region Division          \n",
              "1517 73.5      Mississippi South  East South Central\n",
              "1518 77.1      Mississippi South  East South Central\n",
              "1519 78.7      Mississippi South  East South Central\n",
              "1520 72.6      Mississippi South  East South Central\n",
              "1521 75.3      Mississippi South  East South Central\n",
              "1522 73.7      Mississippi South  East South Central\n",
              "1523 73.7      Mississippi South  East South Central\n",
              "1524 75.0      Mississippi South  East South Central\n",
              "1525 75.9      Mississippi South  East South Central\n",
              "1526 79.7      Mississippi South  East South Central\n",
              "1527 75.6      Mississippi South  East South Central\n",
              "1528 72.9      Mississippi South  East South Central\n",
              "1529 73.3      Mississippi South  East South Central\n",
              "1530 75.5      Mississippi South  East South Central\n",
              "1531 77.6      Mississippi South  East South Central\n",
              "1532 76.2      Mississippi South  East South Central\n",
              "1533 75.1      Mississippi South  East South Central\n",
              "1534 75.0      Mississippi South  East South Central\n",
              "1535 73.0      Mississippi South  East South Central\n",
              "1536 73.7      Mississippi South  East South Central\n",
              "1537 76.8      Mississippi South  East South Central\n",
              "1538 72.5      Mississippi South  East South Central\n",
              "1539 75.7      Mississippi South  East South Central\n",
              "1540 79.6      Mississippi South  East South Central\n",
              "1541 72.4      Mississippi South  East South Central\n",
              "1542 77.0      Mississippi South  East South Central\n",
              "1543 78.3      Mississippi South  East South Central\n",
              "1544 75.4      Mississippi South  East South Central\n",
              "1545 78.1      Mississippi South  East South Central\n",
              "1546 74.7      Mississippi South  East South Central\n",
              "⋮    ⋮         ⋮           ⋮      ⋮                 \n",
              "1569 79.7      Mississippi South  East South Central\n",
              "1570 79.3      Mississippi South  East South Central\n",
              "1571 75.8      Mississippi South  East South Central\n",
              "1572 74.5      Mississippi South  East South Central\n",
              "1573 74.4      Mississippi South  East South Central\n",
              "1574 74.3      Mississippi South  East South Central\n",
              "1575 80.1      Mississippi South  East South Central\n",
              "1576 75.4      Mississippi South  East South Central\n",
              "1577 73.2      Mississippi South  East South Central\n",
              "1578 75.9      Mississippi South  East South Central\n",
              "1579 77.2      Mississippi South  East South Central\n",
              "1580 75.5      Mississippi South  East South Central\n",
              "1581 79.1      Mississippi South  East South Central\n",
              "1582 78.7      Mississippi South  East South Central\n",
              "1583 77.8      Mississippi South  East South Central\n",
              "1584 75.7      Mississippi South  East South Central\n",
              "1585 74.9      Mississippi South  East South Central\n",
              "1586 76.8      Mississippi South  East South Central\n",
              "1587 75.7      Mississippi South  East South Central\n",
              "1588 76.0      Mississippi South  East South Central\n",
              "1589 76.0      Mississippi South  East South Central\n",
              "1590 71.4      Mississippi South  East South Central\n",
              "1591 77.9      Mississippi South  East South Central\n",
              "1592 73.9      Mississippi South  East South Central\n",
              "1593 73.1      Mississippi South  East South Central\n",
              "1594 74.1      Mississippi South  East South Central\n",
              "1595 76.3      Mississippi South  East South Central\n",
              "1596 74.9      Mississippi South  East South Central\n",
              "1597 80.2      Mississippi South  East South Central\n",
              "1598 74.6      Mississippi South  East South Central"
            ],
            "text/latex": "A data.frame: 82 × 33\n\\begin{tabular}{r|lllllllllllllllllllll}\n  & State\\_code & Loc\\_Name & teeth\\_loss & Arthritis & drinking & cancer & cer\\_cancer\\_screen & ch\\_screen & chronic\\_disease & chronic\\_obs\\_pul & ⋯ & old\\_adult\\_women & physical\\_health & not\\_sleeping & stroke & med\\_HBP & dentist\\_visit & doc\\_visit & State & Region & Division\\\\\n  & <chr> & <chr> & <dbl> & <dbl> & <dbl> & <dbl> & <dbl> & <dbl> & <dbl> & <dbl> & ⋯ & <dbl> & <dbl> & <dbl> & <dbl> & <dbl> & <dbl> & <dbl> & <chr> & <chr> & <chr>\\\\\n\\hline\n\t1517 & MS & Webster     & 20.5 & 30.2 & 14.5 & 6.4 & 84.0 & 78.0 & 3.1 &  9.0 & ⋯ & 19.8 & 15.4 & 36.7 & 3.8 & 64.1 & 50.6 & 73.5 & Mississippi & South & East South Central\\\\\n\t1518 & MS & Madison     & 12.1 & 24.4 & 15.9 & 6.4 & 88.3 & 82.8 & 2.6 &  5.6 & ⋯ & 24.3 & 10.6 & 34.6 & 2.9 & 63.0 & 63.6 & 77.1 & Mississippi & South & East South Central\\\\\n\t1519 & MS & Quitman     & 32.5 & 34.4 & 10.8 & 6.0 & 83.3 & 78.0 & 4.5 & 11.4 & ⋯ & 17.7 & 20.6 & 43.1 & 6.2 & 70.2 & 40.3 & 78.7 & Mississippi & South & East South Central\\\\\n\t1520 & MS & Hancock     & 16.5 & 27.7 & 16.1 & 6.5 & 84.9 & 78.9 & 2.8 &  7.9 & ⋯ & 22.1 & 13.6 & 34.9 & 3.3 & 61.6 & 55.7 & 72.6 & Mississippi & South & East South Central\\\\\n\t1521 & MS & Newton      & 21.6 & 29.7 & 13.9 & 6.3 & 84.9 & 78.7 & 3.3 &  9.2 & ⋯ & 18.2 & 16.3 & 39.7 & 4.2 & 64.6 & 48.6 & 75.3 & Mississippi & South & East South Central\\\\\n\t1522 & MS & Stone       & 21.6 & 29.6 & 15.3 & 6.4 & 84.0 & 78.1 & 3.1 &  9.0 & ⋯ & 19.6 & 15.2 & 36.4 & 3.8 & 63.3 & 48.4 & 73.7 & Mississippi & South & East South Central\\\\\n\t1523 & MS & Prentiss    & 23.7 & 31.9 & 14.8 & 6.5 & 82.3 & 76.3 & 3.3 & 10.5 & ⋯ & 20.7 & 17.7 & 37.2 & 4.2 & 64.0 & 48.3 & 73.7 & Mississippi & South & East South Central\\\\\n\t1524 & MS & Clarke      & 20.9 & 30.1 & 14.2 & 6.3 & 85.4 & 78.8 & 3.2 &  8.7 & ⋯ & 19.5 & 15.3 & 37.0 & 4.0 & 65.1 & 52.3 & 75.0 & Mississippi & South & East South Central\\\\\n\t1525 & MS & Yalobusha   & 21.8 & 29.0 & 13.4 & 6.2 & 84.8 & 78.6 & 3.2 &  8.6 & ⋯ & 20.2 & 15.3 & 39.3 & 4.1 & 66.2 & 49.7 & 75.9 & Mississippi & South & East South Central\\\\\n\t1526 & MS & Hinds       & 18.7 & 26.4 & 12.2 & 6.1 & 88.1 & 82.3 & 3.5 &  7.5 & ⋯ & 23.8 & 14.2 & 42.3 & 4.4 & 68.7 & 54.4 & 79.7 & Mississippi & South & East South Central\\\\\n\t1527 & MS & Harrison    & 18.8 & 29.1 & 15.2 & 6.4 & 85.3 & 79.6 & 3.0 &  8.2 & ⋯ & 22.2 & 14.7 & 39.4 & 3.7 & 63.8 & 55.4 & 75.6 & Mississippi & South & East South Central\\\\\n\t1528 & MS & Perry       & 23.2 & 30.1 & 14.2 & 6.4 & 83.5 & 76.8 & 3.3 &  9.9 & ⋯ & 19.5 & 16.7 & 37.8 & 4.1 & 64.1 & 46.4 & 72.9 & Mississippi & South & East South Central\\\\\n\t1529 & MS & Tippah      & 22.9 & 29.8 & 15.2 & 6.5 & 83.4 & 77.4 & 3.1 &  9.6 & ⋯ & 18.6 & 16.4 & 36.7 & 3.9 & 63.1 & 47.8 & 73.3 & Mississippi & South & East South Central\\\\\n\t1530 & MS & Franklin    & 20.5 & 29.8 & 14.4 & 6.3 & 85.4 & 78.7 & 3.2 &  8.7 & ⋯ & 19.7 & 15.2 & 38.7 & 4.0 & 64.7 & 48.5 & 75.5 & Mississippi & South & East South Central\\\\\n\t1531 & MS & Wilkinson   & 33.5 & 33.0 & 12.0 & 5.9 & 82.7 & 77.4 & 4.4 & 11.2 & ⋯ & 16.8 & 20.5 & 44.1 & 6.1 & 69.3 & 36.7 & 77.6 & Mississippi & South & East South Central\\\\\n\t1532 & MS & Winston     & 23.4 & 30.5 & 13.4 & 6.2 & 84.2 & 78.7 & 3.5 &  9.1 & ⋯ & 19.7 & 16.3 & 40.1 & 4.5 & 66.8 & 46.6 & 76.2 & Mississippi & South & East South Central\\\\\n\t1533 & MS & Lawrence    & 21.3 & 28.9 & 14.1 & 6.3 & 84.7 & 78.2 & 3.1 &  8.8 & ⋯ & 19.7 & 15.2 & 38.6 & 4.0 & 64.4 & 49.6 & 75.1 & Mississippi & South & East South Central\\\\\n\t1534 & MS & Rankin      & 13.4 & 26.8 & 15.3 & 6.5 & 87.5 & 80.7 & 2.5 &  6.6 & ⋯ & 22.3 & 11.8 & 34.0 & 3.0 & 62.5 & 63.8 & 75.0 & Mississippi & South & East South Central\\\\\n\t1535 & MS & Itawamba    & 19.8 & 29.6 & 15.4 & 6.6 & 83.7 & 77.1 & 3.0 &  9.1 & ⋯ & 22.3 & 15.1 & 37.7 & 3.6 & 62.8 & 50.5 & 73.0 & Mississippi & South & East South Central\\\\\n\t1536 & MS & Calhoun     & 24.3 & 30.1 & 14.3 & 6.3 & 83.9 & 76.8 & 3.4 &  9.9 & ⋯ & 20.1 & 16.6 & 38.5 & 4.3 & 65.5 & 46.0 & 73.7 & Mississippi & South & East South Central\\\\\n\t1537 & MS & Jasper      & 23.4 & 31.6 & 12.9 & 6.1 & 84.9 & 79.4 & 3.5 &  8.9 & ⋯ & 18.4 & 16.3 & 39.6 & 4.6 & 67.3 & 45.9 & 76.8 & Mississippi & South & East South Central\\\\\n\t1538 & MS & Pearl River & 19.7 & 29.5 & 15.7 & 6.5 & 84.6 & 78.4 & 2.9 &  8.3 & ⋯ & 24.3 & 14.3 & 36.4 & 3.5 & 61.7 & 54.2 & 72.5 & Mississippi & South & East South Central\\\\\n\t1539 & MS & Wayne       & 22.2 & 30.9 & 14.4 & 6.3 & 84.9 & 77.7 & 3.2 &  8.9 & ⋯ & 20.0 & 15.8 & 40.5 & 4.2 & 65.8 & 48.6 & 75.7 & Mississippi & South & East South Central\\\\\n\t1540 & MS & Leflore     & 30.5 & 31.9 & 11.4 & 5.9 & 84.5 & 79.7 & 4.3 & 10.4 & ⋯ & 15.5 & 19.3 & 42.2 & 5.9 & 70.6 & 40.2 & 79.6 & Mississippi & South & East South Central\\\\\n\t1541 & MS & George      & 20.5 & 29.0 & 16.5 & 6.5 & 84.0 & 77.1 & 2.8 &  8.8 & ⋯ & 22.1 & 14.8 & 36.7 & 3.5 & 61.2 & 53.2 & 72.4 & Mississippi & South & East South Central\\\\\n\t1542 & MS & Warren      & 20.3 & 29.8 & 14.0 & 6.2 & 86.2 & 80.2 & 3.2 &  8.1 & ⋯ & 19.7 & 14.8 & 40.6 & 4.1 & 67.6 & 52.3 & 77.0 & Mississippi & South & East South Central\\\\\n\t1543 & MS & Noxubee     & 27.3 & 30.9 & 12.1 & 6.0 & 84.0 & 78.7 & 4.0 &  9.6 & ⋯ & 17.2 & 17.7 & 42.3 & 5.4 & 68.9 & 42.7 & 78.3 & Mississippi & South & East South Central\\\\\n\t1544 & MS & Chickasaw   & 25.2 & 30.5 & 14.0 & 6.1 & 84.4 & 77.9 & 3.6 &  9.8 & ⋯ & 19.2 & 17.1 & 40.1 & 4.7 & 67.2 & 44.2 & 75.4 & Mississippi & South & East South Central\\\\\n\t1545 & MS & Bolivar     & 26.2 & 33.1 & 13.2 & 6.0 & 84.4 & 79.1 & 4.1 &  9.7 & ⋯ & 18.1 & 18.5 & 40.4 & 5.4 & 69.2 & 47.5 & 78.1 & Mississippi & South & East South Central\\\\\n\t1546 & MS & Neshoba     & 25.7 & 30.9 & 14.1 & 6.5 & 82.8 & 77.7 & 3.5 & 10.3 & ⋯ & 18.5 & 17.8 & 38.9 & 4.5 & 64.1 & 49.1 & 74.7 & Mississippi & South & East South Central\\\\\n\t⋮ & ⋮ & ⋮ & ⋮ & ⋮ & ⋮ & ⋮ & ⋮ & ⋮ & ⋮ & ⋮ & ⋱ & ⋮ & ⋮ & ⋮ & ⋮ & ⋮ & ⋮ & ⋮ & ⋮ & ⋮ & ⋮\\\\\n\t1569 & MS & Coahoma      & 27.7 & 32.8 & 10.6 & 5.9 & 84.5 & 79.6 & 4.3 & 10.2 & ⋯ & 16.6 & 19.0 & 44.1 & 5.8 & 70.6 & 41.0 & 79.7 & Mississippi & South & East South Central\\\\\n\t1570 & MS & Washington   & 25.8 & 29.2 & 11.7 & 6.0 & 85.0 & 80.1 & 4.0 &  9.7 & ⋯ & 16.3 & 17.9 & 39.4 & 5.5 & 69.9 & 43.2 & 79.3 & Mississippi & South & East South Central\\\\\n\t1571 & MS & Leake        & 26.3 & 31.1 & 12.9 & 6.2 & 83.4 & 78.1 & 3.7 & 10.2 & ⋯ & 20.3 & 17.7 & 38.6 & 4.9 & 65.8 & 44.3 & 75.8 & Mississippi & South & East South Central\\\\\n\t1572 & MS & Benton       & 25.2 & 30.3 & 14.0 & 6.2 & 83.3 & 77.8 & 3.4 &  9.8 & ⋯ & 19.0 & 16.8 & 41.0 & 4.4 & 64.9 & 44.7 & 74.5 & Mississippi & South & East South Central\\\\\n\t1573 & MS & Scott        & 28.1 & 30.4 & 13.0 & 6.2 & 83.2 & 78.0 & 3.7 & 10.2 & ⋯ & 18.2 & 17.8 & 40.9 & 4.8 & 66.0 & 45.7 & 74.4 & Mississippi & South & East South Central\\\\\n\t1574 & MS & Tate         & 20.4 & 30.0 & 14.4 & 6.4 & 84.7 & 79.1 & 3.1 &  8.6 & ⋯ & 19.9 & 15.5 & 38.9 & 3.9 & 64.7 & 49.9 & 74.3 & Mississippi & South & East South Central\\\\\n\t1575 & MS & Jefferson    & 35.6 & 33.2 & 10.3 & 5.8 & 83.4 & 78.6 & 5.0 & 11.5 & ⋯ & 15.3 & 21.6 & 46.0 & 6.9 & 71.3 & 35.7 & 80.1 & Mississippi & South & East South Central\\\\\n\t1576 & MS & Simpson      & 25.3 & 31.6 & 13.7 & 6.3 & 83.7 & 77.8 & 3.5 &  9.7 & ⋯ & 19.7 & 17.1 & 38.8 & 4.4 & 65.7 & 45.8 & 75.4 & Mississippi & South & East South Central\\\\\n\t1577 & MS & Union        & 20.6 & 28.6 & 15.0 & 6.4 & 84.4 & 77.4 & 3.0 &  8.8 & ⋯ & 19.1 & 14.9 & 36.8 & 3.7 & 63.3 & 52.3 & 73.2 & Mississippi & South & East South Central\\\\\n\t1578 & MS & Oktibbeha    & 17.7 & 28.1 & 13.1 & 6.3 & 85.9 & 80.6 & 3.4 &  7.7 & ⋯ & 21.1 & 14.5 & 38.8 & 4.1 & 66.1 & 56.7 & 75.9 & Mississippi & South & East South Central\\\\\n\t1579 & MS & Panola       & 24.3 & 30.2 & 13.3 & 6.2 & 84.7 & 78.7 & 3.5 &  9.3 & ⋯ & 20.0 & 16.6 & 39.5 & 4.5 & 67.5 & 46.2 & 77.2 & Mississippi & South & East South Central\\\\\n\t1580 & MS & Covington    & 22.4 & 29.9 & 13.6 & 6.3 & 83.8 & 78.1 & 3.3 &  9.2 & ⋯ & 20.0 & 16.1 & 39.2 & 4.3 & 65.5 & 47.0 & 75.5 & Mississippi & South & East South Central\\\\\n\t1581 & MS & Holmes       & 36.0 & 34.4 &  9.8 & 5.8 & 82.4 & 78.2 & 4.9 & 11.7 & ⋯ & 14.9 & 21.3 & 45.6 & 6.8 & 71.4 & 35.4 & 79.1 & Mississippi & South & East South Central\\\\\n\t1582 & MS & Sharkey      & 31.7 & 33.1 & 11.0 & 5.9 & 83.4 & 79.3 & 4.5 & 11.0 & ⋯ & 16.6 & 20.1 & 44.2 & 6.1 & 69.6 & 39.0 & 78.7 & Mississippi & South & East South Central\\\\\n\t1583 & MS & Kemper       & 28.0 & 32.5 & 12.3 & 6.1 & 83.6 & 78.6 & 4.0 & 10.1 & ⋯ & 17.8 & 18.1 & 42.9 & 5.4 & 68.9 & 41.8 & 77.8 & Mississippi & South & East South Central\\\\\n\t1584 & MS & Lamar        & 14.2 & 27.9 & 15.0 & 6.5 & 87.0 & 81.0 & 2.7 &  6.8 & ⋯ & 23.1 & 12.0 & 36.6 & 3.1 & 62.6 & 61.6 & 75.7 & Mississippi & South & East South Central\\\\\n\t1585 & MS & Tallahatchie & 29.4 & 32.2 & 13.1 & 6.0 & 83.1 & 77.4 & 4.1 & 10.6 & ⋯ & 17.4 & 19.1 & 43.0 & 5.5 & 67.4 & 39.7 & 74.9 & Mississippi & South & East South Central\\\\\n\t1586 & MS & Issaquena    & 34.6 & 33.7 & 12.1 & 6.0 & 81.5 & 75.7 & 4.5 & 12.2 & ⋯ & 15.9 & 21.4 & 44.2 & 6.3 & 69.8 & 35.2 & 76.8 & Mississippi & South & East South Central\\\\\n\t1587 & MS & Lee          & 18.5 & 29.6 & 14.3 & 6.5 & 86.6 & 79.7 & 2.9 &  7.7 & ⋯ & 21.9 & 14.3 & 37.4 & 3.5 & 64.3 & 50.9 & 75.7 & Mississippi & South & East South Central\\\\\n\t1588 & MS & Pike         & 26.3 & 32.1 & 12.3 & 6.1 & 84.0 & 78.8 & 3.8 &  9.9 & ⋯ & 16.9 & 17.8 & 40.6 & 5.1 & 68.6 & 46.0 & 76.0 & Mississippi & South & East South Central\\\\\n\t1589 & MS & Lowndes      & 18.7 & 27.9 & 13.5 & 6.4 & 85.4 & 80.1 & 3.2 &  8.0 & ⋯ & 18.0 & 14.6 & 39.9 & 4.0 & 65.7 & 50.9 & 76.0 & Mississippi & South & East South Central\\\\\n\t1590 & MS & Tishomingo   & 22.6 & 29.8 & 15.4 & 6.5 & 82.7 & 76.3 & 3.0 & 10.0 & ⋯ & 19.5 & 16.6 & 37.4 & 3.8 & 61.4 & 48.2 & 71.4 & Mississippi & South & East South Central\\\\\n\t1591 & MS & Sunflower    & 28.5 & 32.3 & 12.6 & 5.9 & 84.1 & 78.9 & 4.1 & 10.0 & ⋯ & 18.8 & 18.3 & 43.7 & 5.6 & 69.5 & 41.5 & 77.9 & Mississippi & South & East South Central\\\\\n\t1592 & MS & Smith        & 21.7 & 29.2 & 15.0 & 6.3 & 84.0 & 77.8 & 3.1 &  9.0 & ⋯ & 20.0 & 15.4 & 36.2 & 3.9 & 64.3 & 47.9 & 73.9 & Mississippi & South & East South Central\\\\\n\t1593 & MS & Greene       & 20.2 & 28.4 & 15.9 & 6.3 & 83.7 & 77.9 & 2.9 &  8.4 & ⋯ & 20.3 & 14.5 & 36.9 & 3.7 & 62.9 & 48.2 & 73.1 & Mississippi & South & East South Central\\\\\n\t1594 & MS & Marion       & 25.6 & 31.4 & 13.7 & 6.3 & 82.8 & 77.2 & 3.6 & 10.6 & ⋯ & 17.4 & 17.7 & 39.1 & 4.7 & 66.4 & 46.2 & 74.1 & Mississippi & South & East South Central\\\\\n\t1595 & MS & Yazoo        & 27.8 & 29.6 & 13.4 & 5.9 & 83.4 & 77.7 & 4.0 & 10.0 & ⋯ & 17.0 & 18.1 & 41.9 & 5.2 & 68.0 & 41.1 & 76.3 & Mississippi & South & East South Central\\\\\n\t1596 & MS & Jackson      & 16.3 & 27.3 & 15.5 & 6.4 & 85.7 & 80.3 & 2.8 &  7.5 & ⋯ & 20.8 & 13.6 & 38.9 & 3.4 & 62.4 & 57.7 & 74.9 & Mississippi & South & East South Central\\\\\n\t1597 & MS & Claiborne    & 32.4 & 32.5 & 10.3 & 5.8 & 83.7 & 79.8 & 4.7 & 10.6 & ⋯ & 16.4 & 20.0 & 45.3 & 6.4 & 71.3 & 36.8 & 80.2 & Mississippi & South & East South Central\\\\\n\t1598 & MS & Jones        & 20.6 & 30.2 & 13.8 & 6.2 & 85.2 & 78.5 & 3.2 &  8.7 & ⋯ & 21.5 & 14.9 & 38.3 & 4.0 & 66.1 & 47.8 & 74.6 & Mississippi & South & East South Central\\\\\n\\end{tabular}\n",
            "text/markdown": "\nA data.frame: 82 × 33\n\n| <!--/--> | State_code &lt;chr&gt; | Loc_Name &lt;chr&gt; | teeth_loss &lt;dbl&gt; | Arthritis &lt;dbl&gt; | drinking &lt;dbl&gt; | cancer &lt;dbl&gt; | cer_cancer_screen &lt;dbl&gt; | ch_screen &lt;dbl&gt; | chronic_disease &lt;dbl&gt; | chronic_obs_pul &lt;dbl&gt; | ⋯ ⋯ | old_adult_women &lt;dbl&gt; | physical_health &lt;dbl&gt; | not_sleeping &lt;dbl&gt; | stroke &lt;dbl&gt; | med_HBP &lt;dbl&gt; | dentist_visit &lt;dbl&gt; | doc_visit &lt;dbl&gt; | State &lt;chr&gt; | Region &lt;chr&gt; | Division &lt;chr&gt; |\n|---|---|---|---|---|---|---|---|---|---|---|---|---|---|---|---|---|---|---|---|---|---|\n| 1517 | MS | Webster     | 20.5 | 30.2 | 14.5 | 6.4 | 84.0 | 78.0 | 3.1 |  9.0 | ⋯ | 19.8 | 15.4 | 36.7 | 3.8 | 64.1 | 50.6 | 73.5 | Mississippi | South | East South Central |\n| 1518 | MS | Madison     | 12.1 | 24.4 | 15.9 | 6.4 | 88.3 | 82.8 | 2.6 |  5.6 | ⋯ | 24.3 | 10.6 | 34.6 | 2.9 | 63.0 | 63.6 | 77.1 | Mississippi | South | East South Central |\n| 1519 | MS | Quitman     | 32.5 | 34.4 | 10.8 | 6.0 | 83.3 | 78.0 | 4.5 | 11.4 | ⋯ | 17.7 | 20.6 | 43.1 | 6.2 | 70.2 | 40.3 | 78.7 | Mississippi | South | East South Central |\n| 1520 | MS | Hancock     | 16.5 | 27.7 | 16.1 | 6.5 | 84.9 | 78.9 | 2.8 |  7.9 | ⋯ | 22.1 | 13.6 | 34.9 | 3.3 | 61.6 | 55.7 | 72.6 | Mississippi | South | East South Central |\n| 1521 | MS | Newton      | 21.6 | 29.7 | 13.9 | 6.3 | 84.9 | 78.7 | 3.3 |  9.2 | ⋯ | 18.2 | 16.3 | 39.7 | 4.2 | 64.6 | 48.6 | 75.3 | Mississippi | South | East South Central |\n| 1522 | MS | Stone       | 21.6 | 29.6 | 15.3 | 6.4 | 84.0 | 78.1 | 3.1 |  9.0 | ⋯ | 19.6 | 15.2 | 36.4 | 3.8 | 63.3 | 48.4 | 73.7 | Mississippi | South | East South Central |\n| 1523 | MS | Prentiss    | 23.7 | 31.9 | 14.8 | 6.5 | 82.3 | 76.3 | 3.3 | 10.5 | ⋯ | 20.7 | 17.7 | 37.2 | 4.2 | 64.0 | 48.3 | 73.7 | Mississippi | South | East South Central |\n| 1524 | MS | Clarke      | 20.9 | 30.1 | 14.2 | 6.3 | 85.4 | 78.8 | 3.2 |  8.7 | ⋯ | 19.5 | 15.3 | 37.0 | 4.0 | 65.1 | 52.3 | 75.0 | Mississippi | South | East South Central |\n| 1525 | MS | Yalobusha   | 21.8 | 29.0 | 13.4 | 6.2 | 84.8 | 78.6 | 3.2 |  8.6 | ⋯ | 20.2 | 15.3 | 39.3 | 4.1 | 66.2 | 49.7 | 75.9 | Mississippi | South | East South Central |\n| 1526 | MS | Hinds       | 18.7 | 26.4 | 12.2 | 6.1 | 88.1 | 82.3 | 3.5 |  7.5 | ⋯ | 23.8 | 14.2 | 42.3 | 4.4 | 68.7 | 54.4 | 79.7 | Mississippi | South | East South Central |\n| 1527 | MS | Harrison    | 18.8 | 29.1 | 15.2 | 6.4 | 85.3 | 79.6 | 3.0 |  8.2 | ⋯ | 22.2 | 14.7 | 39.4 | 3.7 | 63.8 | 55.4 | 75.6 | Mississippi | South | East South Central |\n| 1528 | MS | Perry       | 23.2 | 30.1 | 14.2 | 6.4 | 83.5 | 76.8 | 3.3 |  9.9 | ⋯ | 19.5 | 16.7 | 37.8 | 4.1 | 64.1 | 46.4 | 72.9 | Mississippi | South | East South Central |\n| 1529 | MS | Tippah      | 22.9 | 29.8 | 15.2 | 6.5 | 83.4 | 77.4 | 3.1 |  9.6 | ⋯ | 18.6 | 16.4 | 36.7 | 3.9 | 63.1 | 47.8 | 73.3 | Mississippi | South | East South Central |\n| 1530 | MS | Franklin    | 20.5 | 29.8 | 14.4 | 6.3 | 85.4 | 78.7 | 3.2 |  8.7 | ⋯ | 19.7 | 15.2 | 38.7 | 4.0 | 64.7 | 48.5 | 75.5 | Mississippi | South | East South Central |\n| 1531 | MS | Wilkinson   | 33.5 | 33.0 | 12.0 | 5.9 | 82.7 | 77.4 | 4.4 | 11.2 | ⋯ | 16.8 | 20.5 | 44.1 | 6.1 | 69.3 | 36.7 | 77.6 | Mississippi | South | East South Central |\n| 1532 | MS | Winston     | 23.4 | 30.5 | 13.4 | 6.2 | 84.2 | 78.7 | 3.5 |  9.1 | ⋯ | 19.7 | 16.3 | 40.1 | 4.5 | 66.8 | 46.6 | 76.2 | Mississippi | South | East South Central |\n| 1533 | MS | Lawrence    | 21.3 | 28.9 | 14.1 | 6.3 | 84.7 | 78.2 | 3.1 |  8.8 | ⋯ | 19.7 | 15.2 | 38.6 | 4.0 | 64.4 | 49.6 | 75.1 | Mississippi | South | East South Central |\n| 1534 | MS | Rankin      | 13.4 | 26.8 | 15.3 | 6.5 | 87.5 | 80.7 | 2.5 |  6.6 | ⋯ | 22.3 | 11.8 | 34.0 | 3.0 | 62.5 | 63.8 | 75.0 | Mississippi | South | East South Central |\n| 1535 | MS | Itawamba    | 19.8 | 29.6 | 15.4 | 6.6 | 83.7 | 77.1 | 3.0 |  9.1 | ⋯ | 22.3 | 15.1 | 37.7 | 3.6 | 62.8 | 50.5 | 73.0 | Mississippi | South | East South Central |\n| 1536 | MS | Calhoun     | 24.3 | 30.1 | 14.3 | 6.3 | 83.9 | 76.8 | 3.4 |  9.9 | ⋯ | 20.1 | 16.6 | 38.5 | 4.3 | 65.5 | 46.0 | 73.7 | Mississippi | South | East South Central |\n| 1537 | MS | Jasper      | 23.4 | 31.6 | 12.9 | 6.1 | 84.9 | 79.4 | 3.5 |  8.9 | ⋯ | 18.4 | 16.3 | 39.6 | 4.6 | 67.3 | 45.9 | 76.8 | Mississippi | South | East South Central |\n| 1538 | MS | Pearl River | 19.7 | 29.5 | 15.7 | 6.5 | 84.6 | 78.4 | 2.9 |  8.3 | ⋯ | 24.3 | 14.3 | 36.4 | 3.5 | 61.7 | 54.2 | 72.5 | Mississippi | South | East South Central |\n| 1539 | MS | Wayne       | 22.2 | 30.9 | 14.4 | 6.3 | 84.9 | 77.7 | 3.2 |  8.9 | ⋯ | 20.0 | 15.8 | 40.5 | 4.2 | 65.8 | 48.6 | 75.7 | Mississippi | South | East South Central |\n| 1540 | MS | Leflore     | 30.5 | 31.9 | 11.4 | 5.9 | 84.5 | 79.7 | 4.3 | 10.4 | ⋯ | 15.5 | 19.3 | 42.2 | 5.9 | 70.6 | 40.2 | 79.6 | Mississippi | South | East South Central |\n| 1541 | MS | George      | 20.5 | 29.0 | 16.5 | 6.5 | 84.0 | 77.1 | 2.8 |  8.8 | ⋯ | 22.1 | 14.8 | 36.7 | 3.5 | 61.2 | 53.2 | 72.4 | Mississippi | South | East South Central |\n| 1542 | MS | Warren      | 20.3 | 29.8 | 14.0 | 6.2 | 86.2 | 80.2 | 3.2 |  8.1 | ⋯ | 19.7 | 14.8 | 40.6 | 4.1 | 67.6 | 52.3 | 77.0 | Mississippi | South | East South Central |\n| 1543 | MS | Noxubee     | 27.3 | 30.9 | 12.1 | 6.0 | 84.0 | 78.7 | 4.0 |  9.6 | ⋯ | 17.2 | 17.7 | 42.3 | 5.4 | 68.9 | 42.7 | 78.3 | Mississippi | South | East South Central |\n| 1544 | MS | Chickasaw   | 25.2 | 30.5 | 14.0 | 6.1 | 84.4 | 77.9 | 3.6 |  9.8 | ⋯ | 19.2 | 17.1 | 40.1 | 4.7 | 67.2 | 44.2 | 75.4 | Mississippi | South | East South Central |\n| 1545 | MS | Bolivar     | 26.2 | 33.1 | 13.2 | 6.0 | 84.4 | 79.1 | 4.1 |  9.7 | ⋯ | 18.1 | 18.5 | 40.4 | 5.4 | 69.2 | 47.5 | 78.1 | Mississippi | South | East South Central |\n| 1546 | MS | Neshoba     | 25.7 | 30.9 | 14.1 | 6.5 | 82.8 | 77.7 | 3.5 | 10.3 | ⋯ | 18.5 | 17.8 | 38.9 | 4.5 | 64.1 | 49.1 | 74.7 | Mississippi | South | East South Central |\n| ⋮ | ⋮ | ⋮ | ⋮ | ⋮ | ⋮ | ⋮ | ⋮ | ⋮ | ⋮ | ⋮ | ⋱ | ⋮ | ⋮ | ⋮ | ⋮ | ⋮ | ⋮ | ⋮ | ⋮ | ⋮ | ⋮ |\n| 1569 | MS | Coahoma      | 27.7 | 32.8 | 10.6 | 5.9 | 84.5 | 79.6 | 4.3 | 10.2 | ⋯ | 16.6 | 19.0 | 44.1 | 5.8 | 70.6 | 41.0 | 79.7 | Mississippi | South | East South Central |\n| 1570 | MS | Washington   | 25.8 | 29.2 | 11.7 | 6.0 | 85.0 | 80.1 | 4.0 |  9.7 | ⋯ | 16.3 | 17.9 | 39.4 | 5.5 | 69.9 | 43.2 | 79.3 | Mississippi | South | East South Central |\n| 1571 | MS | Leake        | 26.3 | 31.1 | 12.9 | 6.2 | 83.4 | 78.1 | 3.7 | 10.2 | ⋯ | 20.3 | 17.7 | 38.6 | 4.9 | 65.8 | 44.3 | 75.8 | Mississippi | South | East South Central |\n| 1572 | MS | Benton       | 25.2 | 30.3 | 14.0 | 6.2 | 83.3 | 77.8 | 3.4 |  9.8 | ⋯ | 19.0 | 16.8 | 41.0 | 4.4 | 64.9 | 44.7 | 74.5 | Mississippi | South | East South Central |\n| 1573 | MS | Scott        | 28.1 | 30.4 | 13.0 | 6.2 | 83.2 | 78.0 | 3.7 | 10.2 | ⋯ | 18.2 | 17.8 | 40.9 | 4.8 | 66.0 | 45.7 | 74.4 | Mississippi | South | East South Central |\n| 1574 | MS | Tate         | 20.4 | 30.0 | 14.4 | 6.4 | 84.7 | 79.1 | 3.1 |  8.6 | ⋯ | 19.9 | 15.5 | 38.9 | 3.9 | 64.7 | 49.9 | 74.3 | Mississippi | South | East South Central |\n| 1575 | MS | Jefferson    | 35.6 | 33.2 | 10.3 | 5.8 | 83.4 | 78.6 | 5.0 | 11.5 | ⋯ | 15.3 | 21.6 | 46.0 | 6.9 | 71.3 | 35.7 | 80.1 | Mississippi | South | East South Central |\n| 1576 | MS | Simpson      | 25.3 | 31.6 | 13.7 | 6.3 | 83.7 | 77.8 | 3.5 |  9.7 | ⋯ | 19.7 | 17.1 | 38.8 | 4.4 | 65.7 | 45.8 | 75.4 | Mississippi | South | East South Central |\n| 1577 | MS | Union        | 20.6 | 28.6 | 15.0 | 6.4 | 84.4 | 77.4 | 3.0 |  8.8 | ⋯ | 19.1 | 14.9 | 36.8 | 3.7 | 63.3 | 52.3 | 73.2 | Mississippi | South | East South Central |\n| 1578 | MS | Oktibbeha    | 17.7 | 28.1 | 13.1 | 6.3 | 85.9 | 80.6 | 3.4 |  7.7 | ⋯ | 21.1 | 14.5 | 38.8 | 4.1 | 66.1 | 56.7 | 75.9 | Mississippi | South | East South Central |\n| 1579 | MS | Panola       | 24.3 | 30.2 | 13.3 | 6.2 | 84.7 | 78.7 | 3.5 |  9.3 | ⋯ | 20.0 | 16.6 | 39.5 | 4.5 | 67.5 | 46.2 | 77.2 | Mississippi | South | East South Central |\n| 1580 | MS | Covington    | 22.4 | 29.9 | 13.6 | 6.3 | 83.8 | 78.1 | 3.3 |  9.2 | ⋯ | 20.0 | 16.1 | 39.2 | 4.3 | 65.5 | 47.0 | 75.5 | Mississippi | South | East South Central |\n| 1581 | MS | Holmes       | 36.0 | 34.4 |  9.8 | 5.8 | 82.4 | 78.2 | 4.9 | 11.7 | ⋯ | 14.9 | 21.3 | 45.6 | 6.8 | 71.4 | 35.4 | 79.1 | Mississippi | South | East South Central |\n| 1582 | MS | Sharkey      | 31.7 | 33.1 | 11.0 | 5.9 | 83.4 | 79.3 | 4.5 | 11.0 | ⋯ | 16.6 | 20.1 | 44.2 | 6.1 | 69.6 | 39.0 | 78.7 | Mississippi | South | East South Central |\n| 1583 | MS | Kemper       | 28.0 | 32.5 | 12.3 | 6.1 | 83.6 | 78.6 | 4.0 | 10.1 | ⋯ | 17.8 | 18.1 | 42.9 | 5.4 | 68.9 | 41.8 | 77.8 | Mississippi | South | East South Central |\n| 1584 | MS | Lamar        | 14.2 | 27.9 | 15.0 | 6.5 | 87.0 | 81.0 | 2.7 |  6.8 | ⋯ | 23.1 | 12.0 | 36.6 | 3.1 | 62.6 | 61.6 | 75.7 | Mississippi | South | East South Central |\n| 1585 | MS | Tallahatchie | 29.4 | 32.2 | 13.1 | 6.0 | 83.1 | 77.4 | 4.1 | 10.6 | ⋯ | 17.4 | 19.1 | 43.0 | 5.5 | 67.4 | 39.7 | 74.9 | Mississippi | South | East South Central |\n| 1586 | MS | Issaquena    | 34.6 | 33.7 | 12.1 | 6.0 | 81.5 | 75.7 | 4.5 | 12.2 | ⋯ | 15.9 | 21.4 | 44.2 | 6.3 | 69.8 | 35.2 | 76.8 | Mississippi | South | East South Central |\n| 1587 | MS | Lee          | 18.5 | 29.6 | 14.3 | 6.5 | 86.6 | 79.7 | 2.9 |  7.7 | ⋯ | 21.9 | 14.3 | 37.4 | 3.5 | 64.3 | 50.9 | 75.7 | Mississippi | South | East South Central |\n| 1588 | MS | Pike         | 26.3 | 32.1 | 12.3 | 6.1 | 84.0 | 78.8 | 3.8 |  9.9 | ⋯ | 16.9 | 17.8 | 40.6 | 5.1 | 68.6 | 46.0 | 76.0 | Mississippi | South | East South Central |\n| 1589 | MS | Lowndes      | 18.7 | 27.9 | 13.5 | 6.4 | 85.4 | 80.1 | 3.2 |  8.0 | ⋯ | 18.0 | 14.6 | 39.9 | 4.0 | 65.7 | 50.9 | 76.0 | Mississippi | South | East South Central |\n| 1590 | MS | Tishomingo   | 22.6 | 29.8 | 15.4 | 6.5 | 82.7 | 76.3 | 3.0 | 10.0 | ⋯ | 19.5 | 16.6 | 37.4 | 3.8 | 61.4 | 48.2 | 71.4 | Mississippi | South | East South Central |\n| 1591 | MS | Sunflower    | 28.5 | 32.3 | 12.6 | 5.9 | 84.1 | 78.9 | 4.1 | 10.0 | ⋯ | 18.8 | 18.3 | 43.7 | 5.6 | 69.5 | 41.5 | 77.9 | Mississippi | South | East South Central |\n| 1592 | MS | Smith        | 21.7 | 29.2 | 15.0 | 6.3 | 84.0 | 77.8 | 3.1 |  9.0 | ⋯ | 20.0 | 15.4 | 36.2 | 3.9 | 64.3 | 47.9 | 73.9 | Mississippi | South | East South Central |\n| 1593 | MS | Greene       | 20.2 | 28.4 | 15.9 | 6.3 | 83.7 | 77.9 | 2.9 |  8.4 | ⋯ | 20.3 | 14.5 | 36.9 | 3.7 | 62.9 | 48.2 | 73.1 | Mississippi | South | East South Central |\n| 1594 | MS | Marion       | 25.6 | 31.4 | 13.7 | 6.3 | 82.8 | 77.2 | 3.6 | 10.6 | ⋯ | 17.4 | 17.7 | 39.1 | 4.7 | 66.4 | 46.2 | 74.1 | Mississippi | South | East South Central |\n| 1595 | MS | Yazoo        | 27.8 | 29.6 | 13.4 | 5.9 | 83.4 | 77.7 | 4.0 | 10.0 | ⋯ | 17.0 | 18.1 | 41.9 | 5.2 | 68.0 | 41.1 | 76.3 | Mississippi | South | East South Central |\n| 1596 | MS | Jackson      | 16.3 | 27.3 | 15.5 | 6.4 | 85.7 | 80.3 | 2.8 |  7.5 | ⋯ | 20.8 | 13.6 | 38.9 | 3.4 | 62.4 | 57.7 | 74.9 | Mississippi | South | East South Central |\n| 1597 | MS | Claiborne    | 32.4 | 32.5 | 10.3 | 5.8 | 83.7 | 79.8 | 4.7 | 10.6 | ⋯ | 16.4 | 20.0 | 45.3 | 6.4 | 71.3 | 36.8 | 80.2 | Mississippi | South | East South Central |\n| 1598 | MS | Jones        | 20.6 | 30.2 | 13.8 | 6.2 | 85.2 | 78.5 | 3.2 |  8.7 | ⋯ | 21.5 | 14.9 | 38.3 | 4.0 | 66.1 | 47.8 | 74.6 | Mississippi | South | East South Central |\n\n",
            "text/html": [
              "<table class=\"dataframe\">\n",
              "<caption>A data.frame: 82 × 33</caption>\n",
              "<thead>\n",
              "\t<tr><th></th><th scope=col>State_code</th><th scope=col>Loc_Name</th><th scope=col>teeth_loss</th><th scope=col>Arthritis</th><th scope=col>drinking</th><th scope=col>cancer</th><th scope=col>cer_cancer_screen</th><th scope=col>ch_screen</th><th scope=col>chronic_disease</th><th scope=col>chronic_obs_pul</th><th scope=col>⋯</th><th scope=col>old_adult_women</th><th scope=col>physical_health</th><th scope=col>not_sleeping</th><th scope=col>stroke</th><th scope=col>med_HBP</th><th scope=col>dentist_visit</th><th scope=col>doc_visit</th><th scope=col>State</th><th scope=col>Region</th><th scope=col>Division</th></tr>\n",
              "\t<tr><th></th><th scope=col>&lt;chr&gt;</th><th scope=col>&lt;chr&gt;</th><th scope=col>&lt;dbl&gt;</th><th scope=col>&lt;dbl&gt;</th><th scope=col>&lt;dbl&gt;</th><th scope=col>&lt;dbl&gt;</th><th scope=col>&lt;dbl&gt;</th><th scope=col>&lt;dbl&gt;</th><th scope=col>&lt;dbl&gt;</th><th scope=col>&lt;dbl&gt;</th><th scope=col>⋯</th><th scope=col>&lt;dbl&gt;</th><th scope=col>&lt;dbl&gt;</th><th scope=col>&lt;dbl&gt;</th><th scope=col>&lt;dbl&gt;</th><th scope=col>&lt;dbl&gt;</th><th scope=col>&lt;dbl&gt;</th><th scope=col>&lt;dbl&gt;</th><th scope=col>&lt;chr&gt;</th><th scope=col>&lt;chr&gt;</th><th scope=col>&lt;chr&gt;</th></tr>\n",
              "</thead>\n",
              "<tbody>\n",
              "\t<tr><th scope=row>1517</th><td>MS</td><td>Webster    </td><td>20.5</td><td>30.2</td><td>14.5</td><td>6.4</td><td>84.0</td><td>78.0</td><td>3.1</td><td> 9.0</td><td>⋯</td><td>19.8</td><td>15.4</td><td>36.7</td><td>3.8</td><td>64.1</td><td>50.6</td><td>73.5</td><td>Mississippi</td><td>South</td><td>East South Central</td></tr>\n",
              "\t<tr><th scope=row>1518</th><td>MS</td><td>Madison    </td><td>12.1</td><td>24.4</td><td>15.9</td><td>6.4</td><td>88.3</td><td>82.8</td><td>2.6</td><td> 5.6</td><td>⋯</td><td>24.3</td><td>10.6</td><td>34.6</td><td>2.9</td><td>63.0</td><td>63.6</td><td>77.1</td><td>Mississippi</td><td>South</td><td>East South Central</td></tr>\n",
              "\t<tr><th scope=row>1519</th><td>MS</td><td>Quitman    </td><td>32.5</td><td>34.4</td><td>10.8</td><td>6.0</td><td>83.3</td><td>78.0</td><td>4.5</td><td>11.4</td><td>⋯</td><td>17.7</td><td>20.6</td><td>43.1</td><td>6.2</td><td>70.2</td><td>40.3</td><td>78.7</td><td>Mississippi</td><td>South</td><td>East South Central</td></tr>\n",
              "\t<tr><th scope=row>1520</th><td>MS</td><td>Hancock    </td><td>16.5</td><td>27.7</td><td>16.1</td><td>6.5</td><td>84.9</td><td>78.9</td><td>2.8</td><td> 7.9</td><td>⋯</td><td>22.1</td><td>13.6</td><td>34.9</td><td>3.3</td><td>61.6</td><td>55.7</td><td>72.6</td><td>Mississippi</td><td>South</td><td>East South Central</td></tr>\n",
              "\t<tr><th scope=row>1521</th><td>MS</td><td>Newton     </td><td>21.6</td><td>29.7</td><td>13.9</td><td>6.3</td><td>84.9</td><td>78.7</td><td>3.3</td><td> 9.2</td><td>⋯</td><td>18.2</td><td>16.3</td><td>39.7</td><td>4.2</td><td>64.6</td><td>48.6</td><td>75.3</td><td>Mississippi</td><td>South</td><td>East South Central</td></tr>\n",
              "\t<tr><th scope=row>1522</th><td>MS</td><td>Stone      </td><td>21.6</td><td>29.6</td><td>15.3</td><td>6.4</td><td>84.0</td><td>78.1</td><td>3.1</td><td> 9.0</td><td>⋯</td><td>19.6</td><td>15.2</td><td>36.4</td><td>3.8</td><td>63.3</td><td>48.4</td><td>73.7</td><td>Mississippi</td><td>South</td><td>East South Central</td></tr>\n",
              "\t<tr><th scope=row>1523</th><td>MS</td><td>Prentiss   </td><td>23.7</td><td>31.9</td><td>14.8</td><td>6.5</td><td>82.3</td><td>76.3</td><td>3.3</td><td>10.5</td><td>⋯</td><td>20.7</td><td>17.7</td><td>37.2</td><td>4.2</td><td>64.0</td><td>48.3</td><td>73.7</td><td>Mississippi</td><td>South</td><td>East South Central</td></tr>\n",
              "\t<tr><th scope=row>1524</th><td>MS</td><td>Clarke     </td><td>20.9</td><td>30.1</td><td>14.2</td><td>6.3</td><td>85.4</td><td>78.8</td><td>3.2</td><td> 8.7</td><td>⋯</td><td>19.5</td><td>15.3</td><td>37.0</td><td>4.0</td><td>65.1</td><td>52.3</td><td>75.0</td><td>Mississippi</td><td>South</td><td>East South Central</td></tr>\n",
              "\t<tr><th scope=row>1525</th><td>MS</td><td>Yalobusha  </td><td>21.8</td><td>29.0</td><td>13.4</td><td>6.2</td><td>84.8</td><td>78.6</td><td>3.2</td><td> 8.6</td><td>⋯</td><td>20.2</td><td>15.3</td><td>39.3</td><td>4.1</td><td>66.2</td><td>49.7</td><td>75.9</td><td>Mississippi</td><td>South</td><td>East South Central</td></tr>\n",
              "\t<tr><th scope=row>1526</th><td>MS</td><td>Hinds      </td><td>18.7</td><td>26.4</td><td>12.2</td><td>6.1</td><td>88.1</td><td>82.3</td><td>3.5</td><td> 7.5</td><td>⋯</td><td>23.8</td><td>14.2</td><td>42.3</td><td>4.4</td><td>68.7</td><td>54.4</td><td>79.7</td><td>Mississippi</td><td>South</td><td>East South Central</td></tr>\n",
              "\t<tr><th scope=row>1527</th><td>MS</td><td>Harrison   </td><td>18.8</td><td>29.1</td><td>15.2</td><td>6.4</td><td>85.3</td><td>79.6</td><td>3.0</td><td> 8.2</td><td>⋯</td><td>22.2</td><td>14.7</td><td>39.4</td><td>3.7</td><td>63.8</td><td>55.4</td><td>75.6</td><td>Mississippi</td><td>South</td><td>East South Central</td></tr>\n",
              "\t<tr><th scope=row>1528</th><td>MS</td><td>Perry      </td><td>23.2</td><td>30.1</td><td>14.2</td><td>6.4</td><td>83.5</td><td>76.8</td><td>3.3</td><td> 9.9</td><td>⋯</td><td>19.5</td><td>16.7</td><td>37.8</td><td>4.1</td><td>64.1</td><td>46.4</td><td>72.9</td><td>Mississippi</td><td>South</td><td>East South Central</td></tr>\n",
              "\t<tr><th scope=row>1529</th><td>MS</td><td>Tippah     </td><td>22.9</td><td>29.8</td><td>15.2</td><td>6.5</td><td>83.4</td><td>77.4</td><td>3.1</td><td> 9.6</td><td>⋯</td><td>18.6</td><td>16.4</td><td>36.7</td><td>3.9</td><td>63.1</td><td>47.8</td><td>73.3</td><td>Mississippi</td><td>South</td><td>East South Central</td></tr>\n",
              "\t<tr><th scope=row>1530</th><td>MS</td><td>Franklin   </td><td>20.5</td><td>29.8</td><td>14.4</td><td>6.3</td><td>85.4</td><td>78.7</td><td>3.2</td><td> 8.7</td><td>⋯</td><td>19.7</td><td>15.2</td><td>38.7</td><td>4.0</td><td>64.7</td><td>48.5</td><td>75.5</td><td>Mississippi</td><td>South</td><td>East South Central</td></tr>\n",
              "\t<tr><th scope=row>1531</th><td>MS</td><td>Wilkinson  </td><td>33.5</td><td>33.0</td><td>12.0</td><td>5.9</td><td>82.7</td><td>77.4</td><td>4.4</td><td>11.2</td><td>⋯</td><td>16.8</td><td>20.5</td><td>44.1</td><td>6.1</td><td>69.3</td><td>36.7</td><td>77.6</td><td>Mississippi</td><td>South</td><td>East South Central</td></tr>\n",
              "\t<tr><th scope=row>1532</th><td>MS</td><td>Winston    </td><td>23.4</td><td>30.5</td><td>13.4</td><td>6.2</td><td>84.2</td><td>78.7</td><td>3.5</td><td> 9.1</td><td>⋯</td><td>19.7</td><td>16.3</td><td>40.1</td><td>4.5</td><td>66.8</td><td>46.6</td><td>76.2</td><td>Mississippi</td><td>South</td><td>East South Central</td></tr>\n",
              "\t<tr><th scope=row>1533</th><td>MS</td><td>Lawrence   </td><td>21.3</td><td>28.9</td><td>14.1</td><td>6.3</td><td>84.7</td><td>78.2</td><td>3.1</td><td> 8.8</td><td>⋯</td><td>19.7</td><td>15.2</td><td>38.6</td><td>4.0</td><td>64.4</td><td>49.6</td><td>75.1</td><td>Mississippi</td><td>South</td><td>East South Central</td></tr>\n",
              "\t<tr><th scope=row>1534</th><td>MS</td><td>Rankin     </td><td>13.4</td><td>26.8</td><td>15.3</td><td>6.5</td><td>87.5</td><td>80.7</td><td>2.5</td><td> 6.6</td><td>⋯</td><td>22.3</td><td>11.8</td><td>34.0</td><td>3.0</td><td>62.5</td><td>63.8</td><td>75.0</td><td>Mississippi</td><td>South</td><td>East South Central</td></tr>\n",
              "\t<tr><th scope=row>1535</th><td>MS</td><td>Itawamba   </td><td>19.8</td><td>29.6</td><td>15.4</td><td>6.6</td><td>83.7</td><td>77.1</td><td>3.0</td><td> 9.1</td><td>⋯</td><td>22.3</td><td>15.1</td><td>37.7</td><td>3.6</td><td>62.8</td><td>50.5</td><td>73.0</td><td>Mississippi</td><td>South</td><td>East South Central</td></tr>\n",
              "\t<tr><th scope=row>1536</th><td>MS</td><td>Calhoun    </td><td>24.3</td><td>30.1</td><td>14.3</td><td>6.3</td><td>83.9</td><td>76.8</td><td>3.4</td><td> 9.9</td><td>⋯</td><td>20.1</td><td>16.6</td><td>38.5</td><td>4.3</td><td>65.5</td><td>46.0</td><td>73.7</td><td>Mississippi</td><td>South</td><td>East South Central</td></tr>\n",
              "\t<tr><th scope=row>1537</th><td>MS</td><td>Jasper     </td><td>23.4</td><td>31.6</td><td>12.9</td><td>6.1</td><td>84.9</td><td>79.4</td><td>3.5</td><td> 8.9</td><td>⋯</td><td>18.4</td><td>16.3</td><td>39.6</td><td>4.6</td><td>67.3</td><td>45.9</td><td>76.8</td><td>Mississippi</td><td>South</td><td>East South Central</td></tr>\n",
              "\t<tr><th scope=row>1538</th><td>MS</td><td>Pearl River</td><td>19.7</td><td>29.5</td><td>15.7</td><td>6.5</td><td>84.6</td><td>78.4</td><td>2.9</td><td> 8.3</td><td>⋯</td><td>24.3</td><td>14.3</td><td>36.4</td><td>3.5</td><td>61.7</td><td>54.2</td><td>72.5</td><td>Mississippi</td><td>South</td><td>East South Central</td></tr>\n",
              "\t<tr><th scope=row>1539</th><td>MS</td><td>Wayne      </td><td>22.2</td><td>30.9</td><td>14.4</td><td>6.3</td><td>84.9</td><td>77.7</td><td>3.2</td><td> 8.9</td><td>⋯</td><td>20.0</td><td>15.8</td><td>40.5</td><td>4.2</td><td>65.8</td><td>48.6</td><td>75.7</td><td>Mississippi</td><td>South</td><td>East South Central</td></tr>\n",
              "\t<tr><th scope=row>1540</th><td>MS</td><td>Leflore    </td><td>30.5</td><td>31.9</td><td>11.4</td><td>5.9</td><td>84.5</td><td>79.7</td><td>4.3</td><td>10.4</td><td>⋯</td><td>15.5</td><td>19.3</td><td>42.2</td><td>5.9</td><td>70.6</td><td>40.2</td><td>79.6</td><td>Mississippi</td><td>South</td><td>East South Central</td></tr>\n",
              "\t<tr><th scope=row>1541</th><td>MS</td><td>George     </td><td>20.5</td><td>29.0</td><td>16.5</td><td>6.5</td><td>84.0</td><td>77.1</td><td>2.8</td><td> 8.8</td><td>⋯</td><td>22.1</td><td>14.8</td><td>36.7</td><td>3.5</td><td>61.2</td><td>53.2</td><td>72.4</td><td>Mississippi</td><td>South</td><td>East South Central</td></tr>\n",
              "\t<tr><th scope=row>1542</th><td>MS</td><td>Warren     </td><td>20.3</td><td>29.8</td><td>14.0</td><td>6.2</td><td>86.2</td><td>80.2</td><td>3.2</td><td> 8.1</td><td>⋯</td><td>19.7</td><td>14.8</td><td>40.6</td><td>4.1</td><td>67.6</td><td>52.3</td><td>77.0</td><td>Mississippi</td><td>South</td><td>East South Central</td></tr>\n",
              "\t<tr><th scope=row>1543</th><td>MS</td><td>Noxubee    </td><td>27.3</td><td>30.9</td><td>12.1</td><td>6.0</td><td>84.0</td><td>78.7</td><td>4.0</td><td> 9.6</td><td>⋯</td><td>17.2</td><td>17.7</td><td>42.3</td><td>5.4</td><td>68.9</td><td>42.7</td><td>78.3</td><td>Mississippi</td><td>South</td><td>East South Central</td></tr>\n",
              "\t<tr><th scope=row>1544</th><td>MS</td><td>Chickasaw  </td><td>25.2</td><td>30.5</td><td>14.0</td><td>6.1</td><td>84.4</td><td>77.9</td><td>3.6</td><td> 9.8</td><td>⋯</td><td>19.2</td><td>17.1</td><td>40.1</td><td>4.7</td><td>67.2</td><td>44.2</td><td>75.4</td><td>Mississippi</td><td>South</td><td>East South Central</td></tr>\n",
              "\t<tr><th scope=row>1545</th><td>MS</td><td>Bolivar    </td><td>26.2</td><td>33.1</td><td>13.2</td><td>6.0</td><td>84.4</td><td>79.1</td><td>4.1</td><td> 9.7</td><td>⋯</td><td>18.1</td><td>18.5</td><td>40.4</td><td>5.4</td><td>69.2</td><td>47.5</td><td>78.1</td><td>Mississippi</td><td>South</td><td>East South Central</td></tr>\n",
              "\t<tr><th scope=row>1546</th><td>MS</td><td>Neshoba    </td><td>25.7</td><td>30.9</td><td>14.1</td><td>6.5</td><td>82.8</td><td>77.7</td><td>3.5</td><td>10.3</td><td>⋯</td><td>18.5</td><td>17.8</td><td>38.9</td><td>4.5</td><td>64.1</td><td>49.1</td><td>74.7</td><td>Mississippi</td><td>South</td><td>East South Central</td></tr>\n",
              "\t<tr><th scope=row>⋮</th><td>⋮</td><td>⋮</td><td>⋮</td><td>⋮</td><td>⋮</td><td>⋮</td><td>⋮</td><td>⋮</td><td>⋮</td><td>⋮</td><td>⋱</td><td>⋮</td><td>⋮</td><td>⋮</td><td>⋮</td><td>⋮</td><td>⋮</td><td>⋮</td><td>⋮</td><td>⋮</td><td>⋮</td></tr>\n",
              "\t<tr><th scope=row>1569</th><td>MS</td><td>Coahoma     </td><td>27.7</td><td>32.8</td><td>10.6</td><td>5.9</td><td>84.5</td><td>79.6</td><td>4.3</td><td>10.2</td><td>⋯</td><td>16.6</td><td>19.0</td><td>44.1</td><td>5.8</td><td>70.6</td><td>41.0</td><td>79.7</td><td>Mississippi</td><td>South</td><td>East South Central</td></tr>\n",
              "\t<tr><th scope=row>1570</th><td>MS</td><td>Washington  </td><td>25.8</td><td>29.2</td><td>11.7</td><td>6.0</td><td>85.0</td><td>80.1</td><td>4.0</td><td> 9.7</td><td>⋯</td><td>16.3</td><td>17.9</td><td>39.4</td><td>5.5</td><td>69.9</td><td>43.2</td><td>79.3</td><td>Mississippi</td><td>South</td><td>East South Central</td></tr>\n",
              "\t<tr><th scope=row>1571</th><td>MS</td><td>Leake       </td><td>26.3</td><td>31.1</td><td>12.9</td><td>6.2</td><td>83.4</td><td>78.1</td><td>3.7</td><td>10.2</td><td>⋯</td><td>20.3</td><td>17.7</td><td>38.6</td><td>4.9</td><td>65.8</td><td>44.3</td><td>75.8</td><td>Mississippi</td><td>South</td><td>East South Central</td></tr>\n",
              "\t<tr><th scope=row>1572</th><td>MS</td><td>Benton      </td><td>25.2</td><td>30.3</td><td>14.0</td><td>6.2</td><td>83.3</td><td>77.8</td><td>3.4</td><td> 9.8</td><td>⋯</td><td>19.0</td><td>16.8</td><td>41.0</td><td>4.4</td><td>64.9</td><td>44.7</td><td>74.5</td><td>Mississippi</td><td>South</td><td>East South Central</td></tr>\n",
              "\t<tr><th scope=row>1573</th><td>MS</td><td>Scott       </td><td>28.1</td><td>30.4</td><td>13.0</td><td>6.2</td><td>83.2</td><td>78.0</td><td>3.7</td><td>10.2</td><td>⋯</td><td>18.2</td><td>17.8</td><td>40.9</td><td>4.8</td><td>66.0</td><td>45.7</td><td>74.4</td><td>Mississippi</td><td>South</td><td>East South Central</td></tr>\n",
              "\t<tr><th scope=row>1574</th><td>MS</td><td>Tate        </td><td>20.4</td><td>30.0</td><td>14.4</td><td>6.4</td><td>84.7</td><td>79.1</td><td>3.1</td><td> 8.6</td><td>⋯</td><td>19.9</td><td>15.5</td><td>38.9</td><td>3.9</td><td>64.7</td><td>49.9</td><td>74.3</td><td>Mississippi</td><td>South</td><td>East South Central</td></tr>\n",
              "\t<tr><th scope=row>1575</th><td>MS</td><td>Jefferson   </td><td>35.6</td><td>33.2</td><td>10.3</td><td>5.8</td><td>83.4</td><td>78.6</td><td>5.0</td><td>11.5</td><td>⋯</td><td>15.3</td><td>21.6</td><td>46.0</td><td>6.9</td><td>71.3</td><td>35.7</td><td>80.1</td><td>Mississippi</td><td>South</td><td>East South Central</td></tr>\n",
              "\t<tr><th scope=row>1576</th><td>MS</td><td>Simpson     </td><td>25.3</td><td>31.6</td><td>13.7</td><td>6.3</td><td>83.7</td><td>77.8</td><td>3.5</td><td> 9.7</td><td>⋯</td><td>19.7</td><td>17.1</td><td>38.8</td><td>4.4</td><td>65.7</td><td>45.8</td><td>75.4</td><td>Mississippi</td><td>South</td><td>East South Central</td></tr>\n",
              "\t<tr><th scope=row>1577</th><td>MS</td><td>Union       </td><td>20.6</td><td>28.6</td><td>15.0</td><td>6.4</td><td>84.4</td><td>77.4</td><td>3.0</td><td> 8.8</td><td>⋯</td><td>19.1</td><td>14.9</td><td>36.8</td><td>3.7</td><td>63.3</td><td>52.3</td><td>73.2</td><td>Mississippi</td><td>South</td><td>East South Central</td></tr>\n",
              "\t<tr><th scope=row>1578</th><td>MS</td><td>Oktibbeha   </td><td>17.7</td><td>28.1</td><td>13.1</td><td>6.3</td><td>85.9</td><td>80.6</td><td>3.4</td><td> 7.7</td><td>⋯</td><td>21.1</td><td>14.5</td><td>38.8</td><td>4.1</td><td>66.1</td><td>56.7</td><td>75.9</td><td>Mississippi</td><td>South</td><td>East South Central</td></tr>\n",
              "\t<tr><th scope=row>1579</th><td>MS</td><td>Panola      </td><td>24.3</td><td>30.2</td><td>13.3</td><td>6.2</td><td>84.7</td><td>78.7</td><td>3.5</td><td> 9.3</td><td>⋯</td><td>20.0</td><td>16.6</td><td>39.5</td><td>4.5</td><td>67.5</td><td>46.2</td><td>77.2</td><td>Mississippi</td><td>South</td><td>East South Central</td></tr>\n",
              "\t<tr><th scope=row>1580</th><td>MS</td><td>Covington   </td><td>22.4</td><td>29.9</td><td>13.6</td><td>6.3</td><td>83.8</td><td>78.1</td><td>3.3</td><td> 9.2</td><td>⋯</td><td>20.0</td><td>16.1</td><td>39.2</td><td>4.3</td><td>65.5</td><td>47.0</td><td>75.5</td><td>Mississippi</td><td>South</td><td>East South Central</td></tr>\n",
              "\t<tr><th scope=row>1581</th><td>MS</td><td>Holmes      </td><td>36.0</td><td>34.4</td><td> 9.8</td><td>5.8</td><td>82.4</td><td>78.2</td><td>4.9</td><td>11.7</td><td>⋯</td><td>14.9</td><td>21.3</td><td>45.6</td><td>6.8</td><td>71.4</td><td>35.4</td><td>79.1</td><td>Mississippi</td><td>South</td><td>East South Central</td></tr>\n",
              "\t<tr><th scope=row>1582</th><td>MS</td><td>Sharkey     </td><td>31.7</td><td>33.1</td><td>11.0</td><td>5.9</td><td>83.4</td><td>79.3</td><td>4.5</td><td>11.0</td><td>⋯</td><td>16.6</td><td>20.1</td><td>44.2</td><td>6.1</td><td>69.6</td><td>39.0</td><td>78.7</td><td>Mississippi</td><td>South</td><td>East South Central</td></tr>\n",
              "\t<tr><th scope=row>1583</th><td>MS</td><td>Kemper      </td><td>28.0</td><td>32.5</td><td>12.3</td><td>6.1</td><td>83.6</td><td>78.6</td><td>4.0</td><td>10.1</td><td>⋯</td><td>17.8</td><td>18.1</td><td>42.9</td><td>5.4</td><td>68.9</td><td>41.8</td><td>77.8</td><td>Mississippi</td><td>South</td><td>East South Central</td></tr>\n",
              "\t<tr><th scope=row>1584</th><td>MS</td><td>Lamar       </td><td>14.2</td><td>27.9</td><td>15.0</td><td>6.5</td><td>87.0</td><td>81.0</td><td>2.7</td><td> 6.8</td><td>⋯</td><td>23.1</td><td>12.0</td><td>36.6</td><td>3.1</td><td>62.6</td><td>61.6</td><td>75.7</td><td>Mississippi</td><td>South</td><td>East South Central</td></tr>\n",
              "\t<tr><th scope=row>1585</th><td>MS</td><td>Tallahatchie</td><td>29.4</td><td>32.2</td><td>13.1</td><td>6.0</td><td>83.1</td><td>77.4</td><td>4.1</td><td>10.6</td><td>⋯</td><td>17.4</td><td>19.1</td><td>43.0</td><td>5.5</td><td>67.4</td><td>39.7</td><td>74.9</td><td>Mississippi</td><td>South</td><td>East South Central</td></tr>\n",
              "\t<tr><th scope=row>1586</th><td>MS</td><td>Issaquena   </td><td>34.6</td><td>33.7</td><td>12.1</td><td>6.0</td><td>81.5</td><td>75.7</td><td>4.5</td><td>12.2</td><td>⋯</td><td>15.9</td><td>21.4</td><td>44.2</td><td>6.3</td><td>69.8</td><td>35.2</td><td>76.8</td><td>Mississippi</td><td>South</td><td>East South Central</td></tr>\n",
              "\t<tr><th scope=row>1587</th><td>MS</td><td>Lee         </td><td>18.5</td><td>29.6</td><td>14.3</td><td>6.5</td><td>86.6</td><td>79.7</td><td>2.9</td><td> 7.7</td><td>⋯</td><td>21.9</td><td>14.3</td><td>37.4</td><td>3.5</td><td>64.3</td><td>50.9</td><td>75.7</td><td>Mississippi</td><td>South</td><td>East South Central</td></tr>\n",
              "\t<tr><th scope=row>1588</th><td>MS</td><td>Pike        </td><td>26.3</td><td>32.1</td><td>12.3</td><td>6.1</td><td>84.0</td><td>78.8</td><td>3.8</td><td> 9.9</td><td>⋯</td><td>16.9</td><td>17.8</td><td>40.6</td><td>5.1</td><td>68.6</td><td>46.0</td><td>76.0</td><td>Mississippi</td><td>South</td><td>East South Central</td></tr>\n",
              "\t<tr><th scope=row>1589</th><td>MS</td><td>Lowndes     </td><td>18.7</td><td>27.9</td><td>13.5</td><td>6.4</td><td>85.4</td><td>80.1</td><td>3.2</td><td> 8.0</td><td>⋯</td><td>18.0</td><td>14.6</td><td>39.9</td><td>4.0</td><td>65.7</td><td>50.9</td><td>76.0</td><td>Mississippi</td><td>South</td><td>East South Central</td></tr>\n",
              "\t<tr><th scope=row>1590</th><td>MS</td><td>Tishomingo  </td><td>22.6</td><td>29.8</td><td>15.4</td><td>6.5</td><td>82.7</td><td>76.3</td><td>3.0</td><td>10.0</td><td>⋯</td><td>19.5</td><td>16.6</td><td>37.4</td><td>3.8</td><td>61.4</td><td>48.2</td><td>71.4</td><td>Mississippi</td><td>South</td><td>East South Central</td></tr>\n",
              "\t<tr><th scope=row>1591</th><td>MS</td><td>Sunflower   </td><td>28.5</td><td>32.3</td><td>12.6</td><td>5.9</td><td>84.1</td><td>78.9</td><td>4.1</td><td>10.0</td><td>⋯</td><td>18.8</td><td>18.3</td><td>43.7</td><td>5.6</td><td>69.5</td><td>41.5</td><td>77.9</td><td>Mississippi</td><td>South</td><td>East South Central</td></tr>\n",
              "\t<tr><th scope=row>1592</th><td>MS</td><td>Smith       </td><td>21.7</td><td>29.2</td><td>15.0</td><td>6.3</td><td>84.0</td><td>77.8</td><td>3.1</td><td> 9.0</td><td>⋯</td><td>20.0</td><td>15.4</td><td>36.2</td><td>3.9</td><td>64.3</td><td>47.9</td><td>73.9</td><td>Mississippi</td><td>South</td><td>East South Central</td></tr>\n",
              "\t<tr><th scope=row>1593</th><td>MS</td><td>Greene      </td><td>20.2</td><td>28.4</td><td>15.9</td><td>6.3</td><td>83.7</td><td>77.9</td><td>2.9</td><td> 8.4</td><td>⋯</td><td>20.3</td><td>14.5</td><td>36.9</td><td>3.7</td><td>62.9</td><td>48.2</td><td>73.1</td><td>Mississippi</td><td>South</td><td>East South Central</td></tr>\n",
              "\t<tr><th scope=row>1594</th><td>MS</td><td>Marion      </td><td>25.6</td><td>31.4</td><td>13.7</td><td>6.3</td><td>82.8</td><td>77.2</td><td>3.6</td><td>10.6</td><td>⋯</td><td>17.4</td><td>17.7</td><td>39.1</td><td>4.7</td><td>66.4</td><td>46.2</td><td>74.1</td><td>Mississippi</td><td>South</td><td>East South Central</td></tr>\n",
              "\t<tr><th scope=row>1595</th><td>MS</td><td>Yazoo       </td><td>27.8</td><td>29.6</td><td>13.4</td><td>5.9</td><td>83.4</td><td>77.7</td><td>4.0</td><td>10.0</td><td>⋯</td><td>17.0</td><td>18.1</td><td>41.9</td><td>5.2</td><td>68.0</td><td>41.1</td><td>76.3</td><td>Mississippi</td><td>South</td><td>East South Central</td></tr>\n",
              "\t<tr><th scope=row>1596</th><td>MS</td><td>Jackson     </td><td>16.3</td><td>27.3</td><td>15.5</td><td>6.4</td><td>85.7</td><td>80.3</td><td>2.8</td><td> 7.5</td><td>⋯</td><td>20.8</td><td>13.6</td><td>38.9</td><td>3.4</td><td>62.4</td><td>57.7</td><td>74.9</td><td>Mississippi</td><td>South</td><td>East South Central</td></tr>\n",
              "\t<tr><th scope=row>1597</th><td>MS</td><td>Claiborne   </td><td>32.4</td><td>32.5</td><td>10.3</td><td>5.8</td><td>83.7</td><td>79.8</td><td>4.7</td><td>10.6</td><td>⋯</td><td>16.4</td><td>20.0</td><td>45.3</td><td>6.4</td><td>71.3</td><td>36.8</td><td>80.2</td><td>Mississippi</td><td>South</td><td>East South Central</td></tr>\n",
              "\t<tr><th scope=row>1598</th><td>MS</td><td>Jones       </td><td>20.6</td><td>30.2</td><td>13.8</td><td>6.2</td><td>85.2</td><td>78.5</td><td>3.2</td><td> 8.7</td><td>⋯</td><td>21.5</td><td>14.9</td><td>38.3</td><td>4.0</td><td>66.1</td><td>47.8</td><td>74.6</td><td>Mississippi</td><td>South</td><td>East South Central</td></tr>\n",
              "</tbody>\n",
              "</table>\n"
            ]
          },
          "metadata": {
            "tags": []
          }
        }
      ]
    },
    {
      "cell_type": "code",
      "metadata": {
        "colab": {
          "base_uri": "https://localhost:8080/",
          "height": 34
        },
        "id": "UKPfC8JqOIk5",
        "outputId": "03e4d030-5edc-4f34-d71a-c24d428fdf80"
      },
      "source": [
        "mean(missi_data$HBP)"
      ],
      "execution_count": null,
      "outputs": [
        {
          "output_type": "display_data",
          "data": {
            "text/plain": [
              "[1] 41.32439"
            ],
            "text/latex": "41.3243902439024",
            "text/markdown": "41.3243902439024",
            "text/html": [
              "41.3243902439024"
            ]
          },
          "metadata": {
            "tags": []
          }
        }
      ]
    },
    {
      "cell_type": "markdown",
      "metadata": {
        "id": "kbE_zVDiOZdu"
      },
      "source": [
        "**Formula for Test Statistics:**\n",
        "\n",
        "When population standard deviation is unknown, the value of the test statistic is computed by $t$ distribution:<br>\n",
        "\n",
        " <center> $t$ = $\\frac{\\bar{X} - \\mu}{s/\\sqrt n}$</center>\n",
        "\n",
        "\n",
        "*   $\\bar{X}$ = Sample Mean\n",
        "*   $\\mu$ = Population Mean\n",
        "*   $s$ = Sample Standard Deviation\n",
        "*   $n$ = Number of Samples"
      ]
    },
    {
      "cell_type": "code",
      "metadata": {
        "colab": {
          "base_uri": "https://localhost:8080/",
          "height": 34
        },
        "id": "yQxU0khNOc-D",
        "outputId": "3ad26516-8c04-41a2-90ab-10ad81c4f79b"
      },
      "source": [
        "x_bar = mean(missi_data$HBP)\n",
        "mu = mean(temp$HBP)\n",
        "s = sd(missi_data$HBP)\n",
        "n = nrow(missi_data)\n",
        "#Calculate t\n",
        "\n",
        "t = (x_bar-mu)/(s/sqrt(n))\n",
        "t"
      ],
      "execution_count": null,
      "outputs": [
        {
          "output_type": "display_data",
          "data": {
            "text/plain": [
              "[1] 18.53454"
            ],
            "text/latex": "18.5345420252915",
            "text/markdown": "18.5345420252915",
            "text/html": [
              "18.5345420252915"
            ]
          },
          "metadata": {
            "tags": []
          }
        }
      ]
    },
    {
      "cell_type": "code",
      "metadata": {
        "colab": {
          "base_uri": "https://localhost:8080/",
          "height": 34
        },
        "id": "_zUUbKC-OypM",
        "outputId": "c441fa2c-8a95-4088-ff9a-dba16c8547bf"
      },
      "source": [
        "alpha = 0.05 \n",
        "t.alpha = qt(alpha, df=n-1)\n",
        "t.alpha"
      ],
      "execution_count": null,
      "outputs": [
        {
          "output_type": "display_data",
          "data": {
            "text/plain": [
              "[1] -1.663884"
            ],
            "text/latex": "-1.6638839129226",
            "text/markdown": "-1.6638839129226",
            "text/html": [
              "-1.6638839129226"
            ]
          },
          "metadata": {
            "tags": []
          }
        }
      ]
    },
    {
      "cell_type": "markdown",
      "metadata": {
        "id": "Hut6zScrPrbU"
      },
      "source": [
        "**Decision Rule:**\n",
        "\n",
        "If $t$ is less than or equal to $-1.664$, do not reject null hypothesis. If the computed value of $t$ is greater than $-1.664$, reject the null hypothesis."
      ]
    },
    {
      "cell_type": "code",
      "metadata": {
        "colab": {
          "base_uri": "https://localhost:8080/",
          "height": 437
        },
        "id": "BUJp1f7_QRlD",
        "outputId": "11d8db21-367a-47ca-a0e1-40876b58af1c"
      },
      "source": [
        "\n",
        "\n",
        "tmp = rnorm(100000, mean=0, sd=1) # \n",
        "plot(density(tmp), main=' Blood Pressure Rates', xlim=c(-7,19)) \n",
        "\n",
        "# add a line for our test statistic, -10.4664\n",
        "abline(v=t, col='purple', lty = 2, lwd=5)\n",
        "\n",
        "# add another line for our critical value, -1.6577\n",
        "abline(v=t.alpha, lwd=3, col='red')\n",
        "\n",
        "# shade values less than the critical value & greater than negative infinity\n",
        "dens = density(tmp)\n",
        "x1 <- min(which(dens$x >= t.alpha))\n",
        "x2 <- max(which(dens$x <= Inf))\n",
        "with(dens, polygon(x=c(x[c(x1,x1:x2,x2)]), y= c(0, y[x1:x2], 0), col=\"skyblue\")) # shade it blue!"
      ],
      "execution_count": null,
      "outputs": [
        {
          "output_type": "display_data",
          "data": {
            "image/png": "[encoded data removed]",
            "text/plain": [
              "Plot with title “ Blood Pressure Rates”"
            ]
          },
          "metadata": {
            "tags": [],
            "image/png": {
              "width": 420,
              "height": 420
            }
          }
        }
      ]
    },
    {
      "cell_type": "markdown",
      "metadata": {
        "id": "yA5O3LPgcD-_"
      },
      "source": [
        "**Decision:** Because the computed value of $t$, i.e. $18.54$ is not less than $-1.664$, $H_0$ is rejected.<br>\n",
        "\n",
        "\n",
        "**Interpretation of the Result:** We were successfull to disprove the null hypothesis and hence can conclude that the hypertension rate in Mississippi state is **much greater** than the average national rate of $32.37$ since the $t$ value is too high."
      ]
    },
    {
      "cell_type": "markdown",
      "metadata": {
        "id": "iEjid77KIwX4"
      },
      "source": [
        "##Two Sample Hypothesis Test"
      ]
    },
    {
      "cell_type": "markdown",
      "metadata": {
        "id": "jNc_NFUzI0xZ"
      },
      "source": [
        "The 2020 annual report of America's Health Rankings by United Health Foundation states that High Blood Pressure and Obesity are the leading causes of death in Mississippi and the report also states that Mississipi ranks the lowest (49th and 50th respectively) amongst all the states based on health measures evaluated on HBP and Obesity. (Refer to [14] in citations) <br>\n",
        "Since the ranking on both these factors is almost same,  we consider that mean of adults with obesity in Mississippi is equal to mean of adults with high blood pressure. This becomes the basis of our hypothesis. <br>"
      ]
    },
    {
      "cell_type": "markdown",
      "metadata": {
        "id": "tJ07cPpPRCKc"
      },
      "source": [
        "**Null ($H_0$) and Alternate ($H_1$) Hypothesis:**\n",
        "<center> $H_0$  :  $\\mu_1$ = $\\mu_2$<br>\n",
        "$H_1$  :  $\\mu_1$ $\\ne \\mu_2$</center>\n",
        "\n",
        "\n",
        "\n",
        "\n",
        "*   $\\mu_1$ = Mean of adults with HBP\n",
        "*   $\\mu_2$ = Mean of adults with Obesity"
      ]
    },
    {
      "cell_type": "code",
      "metadata": {
        "colab": {
          "base_uri": "https://localhost:8080/",
          "height": 1000
        },
        "id": "KBjpha1USTY-",
        "outputId": "76ca69a6-71fa-4883-d8cf-91e0219fb268"
      },
      "source": [
        "# Create subset for details with HBP and Obesity in Mississippi\n",
        "\n",
        "table1 = data.frame(Location = missi_data$Loc_Name, HBP = missi_data$HBP, Obesity = missi_data$obesity)\n",
        "table1"
      ],
      "execution_count": null,
      "outputs": [
        {
          "output_type": "display_data",
          "data": {
            "text/plain": [
              "   Location     HBP  Obesity\n",
              "1  Webster      38.4 37.6   \n",
              "2  Madison      34.5 33.2   \n",
              "3  Quitman      48.2 45.6   \n",
              "4  Hancock      34.7 36.1   \n",
              "5  Newton       40.1 38.2   \n",
              "6  Stone        37.5 37.5   \n",
              "7  Prentiss     39.1 40.9   \n",
              "8  Clarke       39.8 38.3   \n",
              "9  Yalobusha    41.0 41.1   \n",
              "10 Hinds        42.2 44.0   \n",
              "11 Harrison     37.5 36.7   \n",
              "12 Perry        39.2 42.2   \n",
              "13 Tippah       37.9 38.1   \n",
              "14 Franklin     38.9 37.8   \n",
              "15 Wilkinson    47.8 48.7   \n",
              "16 Winston      44.0 41.4   \n",
              "17 Lawrence     39.9 39.3   \n",
              "18 Rankin       34.9 38.3   \n",
              "19 Itawamba     35.7 35.9   \n",
              "20 Calhoun      39.6 38.0   \n",
              "21 Jasper       43.7 42.8   \n",
              "22 Pearl River  37.3 36.4   \n",
              "23 Wayne        40.4 41.5   \n",
              "24 Leflore      47.1 46.0   \n",
              "25 George       34.8 36.0   \n",
              "26 Warren       42.0 40.7   \n",
              "27 Noxubee      47.1 46.0   \n",
              "28 Chickasaw    43.8 43.6   \n",
              "29 Bolivar      46.0 39.8   \n",
              "30 Neshoba      40.8 42.8   \n",
              "⋮  ⋮            ⋮    ⋮      \n",
              "53 Coahoma      48.2 43.8   \n",
              "54 Washington   46.0 43.6   \n",
              "55 Leake        42.4 45.6   \n",
              "56 Benton       40.9 39.4   \n",
              "57 Scott        42.5 44.2   \n",
              "58 Tate         37.4 42.6   \n",
              "59 Jefferson    52.0 50.1   \n",
              "60 Simpson      41.9 41.9   \n",
              "61 Union        36.9 37.2   \n",
              "62 Oktibbeha    39.6 42.4   \n",
              "63 Panola       40.7 47.3   \n",
              "64 Covington    41.3 39.6   \n",
              "65 Holmes       50.8 50.1   \n",
              "66 Sharkey      46.9 46.1   \n",
              "67 Kemper       47.1 45.2   \n",
              "68 Lamar        34.6 35.8   \n",
              "69 Tallahatchie 44.9 43.0   \n",
              "70 Issaquena    49.2 48.6   \n",
              "71 Lee          37.0 36.2   \n",
              "72 Pike         43.7 42.0   \n",
              "73 Lowndes      39.8 38.2   \n",
              "74 Tishomingo   36.1 36.1   \n",
              "75 Sunflower    49.1 45.6   \n",
              "76 Smith        38.6 39.2   \n",
              "77 Greene       38.4 40.4   \n",
              "78 Marion       41.7 43.6   \n",
              "79 Yazoo        45.3 44.7   \n",
              "80 Jackson      35.6 35.8   \n",
              "81 Claiborne    50.4 49.3   \n",
              "82 Jones        39.8 41.6   "
            ],
            "text/latex": "A data.frame: 82 × 3\n\\begin{tabular}{lll}\n Location & HBP & Obesity\\\\\n <chr> & <dbl> & <dbl>\\\\\n\\hline\n\t Webster     & 38.4 & 37.6\\\\\n\t Madison     & 34.5 & 33.2\\\\\n\t Quitman     & 48.2 & 45.6\\\\\n\t Hancock     & 34.7 & 36.1\\\\\n\t Newton      & 40.1 & 38.2\\\\\n\t Stone       & 37.5 & 37.5\\\\\n\t Prentiss    & 39.1 & 40.9\\\\\n\t Clarke      & 39.8 & 38.3\\\\\n\t Yalobusha   & 41.0 & 41.1\\\\\n\t Hinds       & 42.2 & 44.0\\\\\n\t Harrison    & 37.5 & 36.7\\\\\n\t Perry       & 39.2 & 42.2\\\\\n\t Tippah      & 37.9 & 38.1\\\\\n\t Franklin    & 38.9 & 37.8\\\\\n\t Wilkinson   & 47.8 & 48.7\\\\\n\t Winston     & 44.0 & 41.4\\\\\n\t Lawrence    & 39.9 & 39.3\\\\\n\t Rankin      & 34.9 & 38.3\\\\\n\t Itawamba    & 35.7 & 35.9\\\\\n\t Calhoun     & 39.6 & 38.0\\\\\n\t Jasper      & 43.7 & 42.8\\\\\n\t Pearl River & 37.3 & 36.4\\\\\n\t Wayne       & 40.4 & 41.5\\\\\n\t Leflore     & 47.1 & 46.0\\\\\n\t George      & 34.8 & 36.0\\\\\n\t Warren      & 42.0 & 40.7\\\\\n\t Noxubee     & 47.1 & 46.0\\\\\n\t Chickasaw   & 43.8 & 43.6\\\\\n\t Bolivar     & 46.0 & 39.8\\\\\n\t Neshoba     & 40.8 & 42.8\\\\\n\t ⋮ & ⋮ & ⋮\\\\\n\t Coahoma      & 48.2 & 43.8\\\\\n\t Washington   & 46.0 & 43.6\\\\\n\t Leake        & 42.4 & 45.6\\\\\n\t Benton       & 40.9 & 39.4\\\\\n\t Scott        & 42.5 & 44.2\\\\\n\t Tate         & 37.4 & 42.6\\\\\n\t Jefferson    & 52.0 & 50.1\\\\\n\t Simpson      & 41.9 & 41.9\\\\\n\t Union        & 36.9 & 37.2\\\\\n\t Oktibbeha    & 39.6 & 42.4\\\\\n\t Panola       & 40.7 & 47.3\\\\\n\t Covington    & 41.3 & 39.6\\\\\n\t Holmes       & 50.8 & 50.1\\\\\n\t Sharkey      & 46.9 & 46.1\\\\\n\t Kemper       & 47.1 & 45.2\\\\\n\t Lamar        & 34.6 & 35.8\\\\\n\t Tallahatchie & 44.9 & 43.0\\\\\n\t Issaquena    & 49.2 & 48.6\\\\\n\t Lee          & 37.0 & 36.2\\\\\n\t Pike         & 43.7 & 42.0\\\\\n\t Lowndes      & 39.8 & 38.2\\\\\n\t Tishomingo   & 36.1 & 36.1\\\\\n\t Sunflower    & 49.1 & 45.6\\\\\n\t Smith        & 38.6 & 39.2\\\\\n\t Greene       & 38.4 & 40.4\\\\\n\t Marion       & 41.7 & 43.6\\\\\n\t Yazoo        & 45.3 & 44.7\\\\\n\t Jackson      & 35.6 & 35.8\\\\\n\t Claiborne    & 50.4 & 49.3\\\\\n\t Jones        & 39.8 & 41.6\\\\\n\\end{tabular}\n",
            "text/markdown": "\nA data.frame: 82 × 3\n\n| Location &lt;chr&gt; | HBP &lt;dbl&gt; | Obesity &lt;dbl&gt; |\n|---|---|---|\n| Webster     | 38.4 | 37.6 |\n| Madison     | 34.5 | 33.2 |\n| Quitman     | 48.2 | 45.6 |\n| Hancock     | 34.7 | 36.1 |\n| Newton      | 40.1 | 38.2 |\n| Stone       | 37.5 | 37.5 |\n| Prentiss    | 39.1 | 40.9 |\n| Clarke      | 39.8 | 38.3 |\n| Yalobusha   | 41.0 | 41.1 |\n| Hinds       | 42.2 | 44.0 |\n| Harrison    | 37.5 | 36.7 |\n| Perry       | 39.2 | 42.2 |\n| Tippah      | 37.9 | 38.1 |\n| Franklin    | 38.9 | 37.8 |\n| Wilkinson   | 47.8 | 48.7 |\n| Winston     | 44.0 | 41.4 |\n| Lawrence    | 39.9 | 39.3 |\n| Rankin      | 34.9 | 38.3 |\n| Itawamba    | 35.7 | 35.9 |\n| Calhoun     | 39.6 | 38.0 |\n| Jasper      | 43.7 | 42.8 |\n| Pearl River | 37.3 | 36.4 |\n| Wayne       | 40.4 | 41.5 |\n| Leflore     | 47.1 | 46.0 |\n| George      | 34.8 | 36.0 |\n| Warren      | 42.0 | 40.7 |\n| Noxubee     | 47.1 | 46.0 |\n| Chickasaw   | 43.8 | 43.6 |\n| Bolivar     | 46.0 | 39.8 |\n| Neshoba     | 40.8 | 42.8 |\n| ⋮ | ⋮ | ⋮ |\n| Coahoma      | 48.2 | 43.8 |\n| Washington   | 46.0 | 43.6 |\n| Leake        | 42.4 | 45.6 |\n| Benton       | 40.9 | 39.4 |\n| Scott        | 42.5 | 44.2 |\n| Tate         | 37.4 | 42.6 |\n| Jefferson    | 52.0 | 50.1 |\n| Simpson      | 41.9 | 41.9 |\n| Union        | 36.9 | 37.2 |\n| Oktibbeha    | 39.6 | 42.4 |\n| Panola       | 40.7 | 47.3 |\n| Covington    | 41.3 | 39.6 |\n| Holmes       | 50.8 | 50.1 |\n| Sharkey      | 46.9 | 46.1 |\n| Kemper       | 47.1 | 45.2 |\n| Lamar        | 34.6 | 35.8 |\n| Tallahatchie | 44.9 | 43.0 |\n| Issaquena    | 49.2 | 48.6 |\n| Lee          | 37.0 | 36.2 |\n| Pike         | 43.7 | 42.0 |\n| Lowndes      | 39.8 | 38.2 |\n| Tishomingo   | 36.1 | 36.1 |\n| Sunflower    | 49.1 | 45.6 |\n| Smith        | 38.6 | 39.2 |\n| Greene       | 38.4 | 40.4 |\n| Marion       | 41.7 | 43.6 |\n| Yazoo        | 45.3 | 44.7 |\n| Jackson      | 35.6 | 35.8 |\n| Claiborne    | 50.4 | 49.3 |\n| Jones        | 39.8 | 41.6 |\n\n",
            "text/html": [
              "<table class=\"dataframe\">\n",
              "<caption>A data.frame: 82 × 3</caption>\n",
              "<thead>\n",
              "\t<tr><th scope=col>Location</th><th scope=col>HBP</th><th scope=col>Obesity</th></tr>\n",
              "\t<tr><th scope=col>&lt;chr&gt;</th><th scope=col>&lt;dbl&gt;</th><th scope=col>&lt;dbl&gt;</th></tr>\n",
              "</thead>\n",
              "<tbody>\n",
              "\t<tr><td>Webster    </td><td>38.4</td><td>37.6</td></tr>\n",
              "\t<tr><td>Madison    </td><td>34.5</td><td>33.2</td></tr>\n",
              "\t<tr><td>Quitman    </td><td>48.2</td><td>45.6</td></tr>\n",
              "\t<tr><td>Hancock    </td><td>34.7</td><td>36.1</td></tr>\n",
              "\t<tr><td>Newton     </td><td>40.1</td><td>38.2</td></tr>\n",
              "\t<tr><td>Stone      </td><td>37.5</td><td>37.5</td></tr>\n",
              "\t<tr><td>Prentiss   </td><td>39.1</td><td>40.9</td></tr>\n",
              "\t<tr><td>Clarke     </td><td>39.8</td><td>38.3</td></tr>\n",
              "\t<tr><td>Yalobusha  </td><td>41.0</td><td>41.1</td></tr>\n",
              "\t<tr><td>Hinds      </td><td>42.2</td><td>44.0</td></tr>\n",
              "\t<tr><td>Harrison   </td><td>37.5</td><td>36.7</td></tr>\n",
              "\t<tr><td>Perry      </td><td>39.2</td><td>42.2</td></tr>\n",
              "\t<tr><td>Tippah     </td><td>37.9</td><td>38.1</td></tr>\n",
              "\t<tr><td>Franklin   </td><td>38.9</td><td>37.8</td></tr>\n",
              "\t<tr><td>Wilkinson  </td><td>47.8</td><td>48.7</td></tr>\n",
              "\t<tr><td>Winston    </td><td>44.0</td><td>41.4</td></tr>\n",
              "\t<tr><td>Lawrence   </td><td>39.9</td><td>39.3</td></tr>\n",
              "\t<tr><td>Rankin     </td><td>34.9</td><td>38.3</td></tr>\n",
              "\t<tr><td>Itawamba   </td><td>35.7</td><td>35.9</td></tr>\n",
              "\t<tr><td>Calhoun    </td><td>39.6</td><td>38.0</td></tr>\n",
              "\t<tr><td>Jasper     </td><td>43.7</td><td>42.8</td></tr>\n",
              "\t<tr><td>Pearl River</td><td>37.3</td><td>36.4</td></tr>\n",
              "\t<tr><td>Wayne      </td><td>40.4</td><td>41.5</td></tr>\n",
              "\t<tr><td>Leflore    </td><td>47.1</td><td>46.0</td></tr>\n",
              "\t<tr><td>George     </td><td>34.8</td><td>36.0</td></tr>\n",
              "\t<tr><td>Warren     </td><td>42.0</td><td>40.7</td></tr>\n",
              "\t<tr><td>Noxubee    </td><td>47.1</td><td>46.0</td></tr>\n",
              "\t<tr><td>Chickasaw  </td><td>43.8</td><td>43.6</td></tr>\n",
              "\t<tr><td>Bolivar    </td><td>46.0</td><td>39.8</td></tr>\n",
              "\t<tr><td>Neshoba    </td><td>40.8</td><td>42.8</td></tr>\n",
              "\t<tr><td>⋮</td><td>⋮</td><td>⋮</td></tr>\n",
              "\t<tr><td>Coahoma     </td><td>48.2</td><td>43.8</td></tr>\n",
              "\t<tr><td>Washington  </td><td>46.0</td><td>43.6</td></tr>\n",
              "\t<tr><td>Leake       </td><td>42.4</td><td>45.6</td></tr>\n",
              "\t<tr><td>Benton      </td><td>40.9</td><td>39.4</td></tr>\n",
              "\t<tr><td>Scott       </td><td>42.5</td><td>44.2</td></tr>\n",
              "\t<tr><td>Tate        </td><td>37.4</td><td>42.6</td></tr>\n",
              "\t<tr><td>Jefferson   </td><td>52.0</td><td>50.1</td></tr>\n",
              "\t<tr><td>Simpson     </td><td>41.9</td><td>41.9</td></tr>\n",
              "\t<tr><td>Union       </td><td>36.9</td><td>37.2</td></tr>\n",
              "\t<tr><td>Oktibbeha   </td><td>39.6</td><td>42.4</td></tr>\n",
              "\t<tr><td>Panola      </td><td>40.7</td><td>47.3</td></tr>\n",
              "\t<tr><td>Covington   </td><td>41.3</td><td>39.6</td></tr>\n",
              "\t<tr><td>Holmes      </td><td>50.8</td><td>50.1</td></tr>\n",
              "\t<tr><td>Sharkey     </td><td>46.9</td><td>46.1</td></tr>\n",
              "\t<tr><td>Kemper      </td><td>47.1</td><td>45.2</td></tr>\n",
              "\t<tr><td>Lamar       </td><td>34.6</td><td>35.8</td></tr>\n",
              "\t<tr><td>Tallahatchie</td><td>44.9</td><td>43.0</td></tr>\n",
              "\t<tr><td>Issaquena   </td><td>49.2</td><td>48.6</td></tr>\n",
              "\t<tr><td>Lee         </td><td>37.0</td><td>36.2</td></tr>\n",
              "\t<tr><td>Pike        </td><td>43.7</td><td>42.0</td></tr>\n",
              "\t<tr><td>Lowndes     </td><td>39.8</td><td>38.2</td></tr>\n",
              "\t<tr><td>Tishomingo  </td><td>36.1</td><td>36.1</td></tr>\n",
              "\t<tr><td>Sunflower   </td><td>49.1</td><td>45.6</td></tr>\n",
              "\t<tr><td>Smith       </td><td>38.6</td><td>39.2</td></tr>\n",
              "\t<tr><td>Greene      </td><td>38.4</td><td>40.4</td></tr>\n",
              "\t<tr><td>Marion      </td><td>41.7</td><td>43.6</td></tr>\n",
              "\t<tr><td>Yazoo       </td><td>45.3</td><td>44.7</td></tr>\n",
              "\t<tr><td>Jackson     </td><td>35.6</td><td>35.8</td></tr>\n",
              "\t<tr><td>Claiborne   </td><td>50.4</td><td>49.3</td></tr>\n",
              "\t<tr><td>Jones       </td><td>39.8</td><td>41.6</td></tr>\n",
              "</tbody>\n",
              "</table>\n"
            ]
          },
          "metadata": {
            "tags": []
          }
        }
      ]
    },
    {
      "cell_type": "markdown",
      "metadata": {
        "id": "TA_isjCrRhpt"
      },
      "source": [
        "**Level of Significance:** With 95% confidence interval, the level of significance is $0.05$"
      ]
    },
    {
      "cell_type": "markdown",
      "metadata": {
        "id": "I3r5DbVIRilm"
      },
      "source": [
        "**Two-Sample tests of Means - Unknown Standard Deviation:**<br>\n",
        "<center> $t$ = $\\frac{{\\bar{X_1}-\\bar{X_2}}}{\\sqrt{s_p^2(\\frac{1}{n_1} + \\frac{1}{n_2}})}$ <br></center>\n",
        "\n",
        "where:<br>\n",
        "$\\bar{X_1}$ is the mean of the first sample<br>\n",
        "$\\bar{X_2}$ is the mean of the second sample<br>\n",
        "$n_1$ is the number of observations in the first sample<br>\n",
        "$n_2$ is the number of observations in the second sample<br>\n",
        "$s_p^2$ is the pooled estimate of the population variance"
      ]
    },
    {
      "cell_type": "markdown",
      "metadata": {
        "id": "trZ0kJ6fSKel"
      },
      "source": [
        "**The following formula is used to pool the sample standard deviations:**<br>\n",
        "<center> $s_p^2$ = $\\frac{(n_1-1)s_1^2 + (n_2-1)s_2^2}{n_1+n_2-2}$</center>\n",
        "\n",
        "where:<br>\n",
        "$s_1^2$ is the variance (standard deviation squared) of the first sample.<br>\n",
        "$s_2^2$ is the variance of the second sample.<br>\n"
      ]
    },
    {
      "cell_type": "code",
      "metadata": {
        "id": "p8_AKsHgUca9"
      },
      "source": [
        "x_bar_HBP = mean(table1$HBP)\n",
        "x_bar_Obesity = mean(table1$Obesity)\n",
        "sd_HBP = sd(table1$HBP)\n",
        "sd_Obesity = sd(table1$Obesity)\n",
        "n1 = nrow(table1) #samples in table 1\n",
        "n2 = nrow(table1) #samples in table 2\n",
        "df = n1 + n2 - 2 #degree of freedom \n"
      ],
      "execution_count": null,
      "outputs": []
    },
    {
      "cell_type": "code",
      "metadata": {
        "colab": {
          "base_uri": "https://localhost:8080/",
          "height": 34
        },
        "id": "bWV9uZWLU9Yx",
        "outputId": "6a1fc453-4179-4403-ab6e-b0bb25b14739"
      },
      "source": [
        "#calculating pooled estimate of the population variance\n",
        "sp=(((n1-1)*sd_HBP^2)+((n2-1)*sd_Obesity^2))/df \n",
        "sp"
      ],
      "execution_count": null,
      "outputs": [
        {
          "output_type": "display_data",
          "data": {
            "text/plain": [
              "[1] 17.58613"
            ],
            "text/latex": "17.5861336946703",
            "text/markdown": "17.5861336946703",
            "text/html": [
              "17.5861336946703"
            ]
          },
          "metadata": {
            "tags": []
          }
        }
      ]
    },
    {
      "cell_type": "code",
      "metadata": {
        "colab": {
          "base_uri": "https://localhost:8080/",
          "height": 34
        },
        "id": "Oiff_BBnWg0u",
        "outputId": "e0e709a6-7750-4a4a-bd41-0e526b021713"
      },
      "source": [
        "# Calculating t distribution as population standard deviation is unknown\n",
        "t = (x_bar_HBP - x_bar_Obesity)/sqrt(sp*(1/n1 + 1/n2)) \n",
        "t"
      ],
      "execution_count": null,
      "outputs": [
        {
          "output_type": "display_data",
          "data": {
            "text/plain": [
              "[1] 0.01489645"
            ],
            "text/latex": "0.01489645324138",
            "text/markdown": "0.01489645324138",
            "text/html": [
              "0.01489645324138"
            ]
          },
          "metadata": {
            "tags": []
          }
        }
      ]
    },
    {
      "cell_type": "code",
      "metadata": {
        "colab": {
          "base_uri": "https://localhost:8080/",
          "height": 34
        },
        "id": "j73heBTxWv-M",
        "outputId": "7aea1df0-5277-47b2-a1ad-8337f0565d62"
      },
      "source": [
        "alpha = 0.05  # level of significance\n",
        "t.half.alpha = qt(1-alpha/2, df=df) \n",
        "c(-t.half.alpha, t.half.alpha) # calculating the critical value range"
      ],
      "execution_count": null,
      "outputs": [
        {
          "output_type": "display_data",
          "data": {
            "text/plain": [
              "[1] -1.974716  1.974716"
            ],
            "text/latex": "\\begin{enumerate*}\n\\item -1.97471578592379\n\\item 1.97471578592379\n\\end{enumerate*}\n",
            "text/markdown": "1. -1.97471578592379\n2. 1.97471578592379\n\n\n",
            "text/html": [
              "<style>\n",
              ".list-inline {list-style: none; margin:0; padding: 0}\n",
              ".list-inline>li {display: inline-block}\n",
              ".list-inline>li:not(:last-child)::after {content: \"\\00b7\"; padding: 0 .5ex}\n",
              "</style>\n",
              "<ol class=list-inline><li>-1.97471578592379</li><li>1.97471578592379</li></ol>\n"
            ]
          },
          "metadata": {
            "tags": []
          }
        }
      ]
    },
    {
      "cell_type": "markdown",
      "metadata": {
        "id": "saiqT2xaSM7q"
      },
      "source": [
        "**Decision rule:** If the computed $t$ value falls between $-1.975$ and $1.975$, do not reject the null hypothesis ($H_0$), else reject the null hypothesis ($H_0$)."
      ]
    },
    {
      "cell_type": "code",
      "metadata": {
        "colab": {
          "base_uri": "https://localhost:8080/",
          "height": 437
        },
        "id": "oVlvolDkXqWp",
        "outputId": "d14d619c-14a4-4f85-a881-f43c1a218e55"
      },
      "source": [
        "tmp = rnorm(100000, mean=0, sd=1)\n",
        "plot(density(tmp), main='Two Tail Test')\n",
        "\n",
        "# add a line on the right tail\n",
        "abline(v=t.half.alpha, col='red', lwd=3)\n",
        "# add the shaded polygon to the RIGHT\n",
        "dens = density(tmp) # store those value\n",
        "x1 <- min(which(dens$x >= t.half.alpha))\n",
        "x2 <- max(which(dens$x <= Inf))\n",
        "with(dens, polygon(x=c(x[c(x1,x1:x2,x2)]), y= c(0, y[x1:x2], 0), col=\"skyblue\"))\n",
        "\n",
        "# add a line on the left tail\n",
        "abline(v=-t.half.alpha, col='red', lwd=3)\n",
        "# add the shaded polygon to the LEFT\n",
        "dens = density(tmp) # store those value\n",
        "x1 <- min(which(dens$x >= -Inf))\n",
        "x2 <- max(which(dens$x <= -t.half.alpha))\n",
        "with(dens, polygon(x=c(x[c(x1,x1:x2,x2)]), y= c(0, y[x1:x2], 0), col=\"skyblue\"))\n",
        "\n",
        "# now add our purple line\n",
        "abline(v=t, lty=2, lwd=5, col='purple')"
      ],
      "execution_count": null,
      "outputs": [
        {
          "output_type": "display_data",
          "data": {
            "image/png": "[encoded data removed]",
            "text/plain": [
              "Plot with title “Two Tail Test”"
            ]
          },
          "metadata": {
            "tags": [],
            "image/png": {
              "width": 420,
              "height": 420
            }
          }
        }
      ]
    },
    {
      "cell_type": "code",
      "metadata": {
        "colab": {
          "base_uri": "https://localhost:8080/",
          "height": 34
        },
        "id": "0m8GsoPqX_sU",
        "outputId": "494b988b-01d4-4254-9dcc-89fc3f0159d4"
      },
      "source": [
        "# Calculating p-value\n",
        "pval = 2*pt(t,df=df, lower.tail = FALSE) \n",
        "pval"
      ],
      "execution_count": null,
      "outputs": [
        {
          "output_type": "display_data",
          "data": {
            "text/plain": [
              "[1] 0.9881331"
            ],
            "text/latex": "0.988133119334667",
            "text/markdown": "0.988133119334667",
            "text/html": [
              "0.988133119334667"
            ]
          },
          "metadata": {
            "tags": []
          }
        }
      ]
    },
    {
      "cell_type": "markdown",
      "metadata": {
        "id": "lMT9v0MJZaki"
      },
      "source": [
        "\n",
        "**Decision:** Since, the test statistic value 't', i.e.$0.015$ falls in the region between $-1.975$ and $1.975$, the decision is to not reject the null hypothesis. <br>\n",
        "Moreover, the $p$-value of $0.9881$ is much greater than the significance level of $0.05$ decided upon initially, so $H_0$ is not rejected.<br>\n",
        "<br>\n",
        "**Interpretation of the result**: We conclude that there is 98.81% chance that the mean of adults with obesity in Mississippi is equal to the mean of adults with high blood pressure in Mississippi. Hence, our results support the conclusions from the report that currently Obesity and Blood Pressure are equally fatal for people in Mississippi"
      ]
    },
    {
      "cell_type": "markdown",
      "metadata": {
        "id": "aioRcQixug7m"
      },
      "source": [
        "# Modeling"
      ]
    },
    {
      "cell_type": "markdown",
      "metadata": {
        "id": "ZpeVAFFLv2LN"
      },
      "source": [
        "### Full Linear Regression Model"
      ]
    },
    {
      "cell_type": "code",
      "metadata": {
        "colab": {
          "base_uri": "https://localhost:8080/",
          "height": 240
        },
        "id": "IHF0pfhVOSVG",
        "outputId": "6d161c0e-09b4-4aae-e5bc-173ac49e33c6"
      },
      "source": [
        "#correlation wrt unhealthy behaviours\n",
        "HBP_Corr_unhealthy = subset(temp, \n",
        "                            select = c(\n",
        "                                        HBP, \n",
        "                                        drinking, \n",
        "                                        smoking, \n",
        "                                        obesity, \n",
        "                                        not_sleeping\n",
        "                                      )\n",
        "                                )\n",
        "cor(HBP_Corr)"
      ],
      "execution_count": null,
      "outputs": [
        {
          "output_type": "display_data",
          "data": {
            "text/plain": [
              "             HBP        drinking   smoking    obesity    not_sleeping\n",
              "HBP           1.0000000 -0.6785105  0.6761055  0.7139642  0.7746611  \n",
              "drinking     -0.6785105  1.0000000 -0.3290419 -0.3234388 -0.6442544  \n",
              "smoking       0.6761055 -0.3290419  1.0000000  0.6240325  0.6463071  \n",
              "obesity       0.7139642 -0.3234388  0.6240325  1.0000000  0.5295514  \n",
              "not_sleeping  0.7746611 -0.6442544  0.6463071  0.5295514  1.0000000  \n",
              "med_HBP       0.8110757 -0.4766185  0.5499420  0.6534702  0.6627992  \n",
              "             med_HBP   \n",
              "HBP           0.8110757\n",
              "drinking     -0.4766185\n",
              "smoking       0.5499420\n",
              "obesity       0.6534702\n",
              "not_sleeping  0.6627992\n",
              "med_HBP       1.0000000"
            ],
            "text/latex": "A matrix: 6 × 6 of type dbl\n\\begin{tabular}{r|llllll}\n  & HBP & drinking & smoking & obesity & not\\_sleeping & med\\_HBP\\\\\n\\hline\n\tHBP &  1.0000000 & -0.6785105 &  0.6761055 &  0.7139642 &  0.7746611 &  0.8110757\\\\\n\tdrinking & -0.6785105 &  1.0000000 & -0.3290419 & -0.3234388 & -0.6442544 & -0.4766185\\\\\n\tsmoking &  0.6761055 & -0.3290419 &  1.0000000 &  0.6240325 &  0.6463071 &  0.5499420\\\\\n\tobesity &  0.7139642 & -0.3234388 &  0.6240325 &  1.0000000 &  0.5295514 &  0.6534702\\\\\n\tnot\\_sleeping &  0.7746611 & -0.6442544 &  0.6463071 &  0.5295514 &  1.0000000 &  0.6627992\\\\\n\tmed\\_HBP &  0.8110757 & -0.4766185 &  0.5499420 &  0.6534702 &  0.6627992 &  1.0000000\\\\\n\\end{tabular}\n",
            "text/markdown": "\nA matrix: 6 × 6 of type dbl\n\n| <!--/--> | HBP | drinking | smoking | obesity | not_sleeping | med_HBP |\n|---|---|---|---|---|---|---|\n| HBP |  1.0000000 | -0.6785105 |  0.6761055 |  0.7139642 |  0.7746611 |  0.8110757 |\n| drinking | -0.6785105 |  1.0000000 | -0.3290419 | -0.3234388 | -0.6442544 | -0.4766185 |\n| smoking |  0.6761055 | -0.3290419 |  1.0000000 |  0.6240325 |  0.6463071 |  0.5499420 |\n| obesity |  0.7139642 | -0.3234388 |  0.6240325 |  1.0000000 |  0.5295514 |  0.6534702 |\n| not_sleeping |  0.7746611 | -0.6442544 |  0.6463071 |  0.5295514 |  1.0000000 |  0.6627992 |\n| med_HBP |  0.8110757 | -0.4766185 |  0.5499420 |  0.6534702 |  0.6627992 |  1.0000000 |\n\n",
            "text/html": [
              "<table class=\"dataframe\">\n",
              "<caption>A matrix: 6 × 6 of type dbl</caption>\n",
              "<thead>\n",
              "\t<tr><th></th><th scope=col>HBP</th><th scope=col>drinking</th><th scope=col>smoking</th><th scope=col>obesity</th><th scope=col>not_sleeping</th><th scope=col>med_HBP</th></tr>\n",
              "</thead>\n",
              "<tbody>\n",
              "\t<tr><th scope=row>HBP</th><td> 1.0000000</td><td>-0.6785105</td><td> 0.6761055</td><td> 0.7139642</td><td> 0.7746611</td><td> 0.8110757</td></tr>\n",
              "\t<tr><th scope=row>drinking</th><td>-0.6785105</td><td> 1.0000000</td><td>-0.3290419</td><td>-0.3234388</td><td>-0.6442544</td><td>-0.4766185</td></tr>\n",
              "\t<tr><th scope=row>smoking</th><td> 0.6761055</td><td>-0.3290419</td><td> 1.0000000</td><td> 0.6240325</td><td> 0.6463071</td><td> 0.5499420</td></tr>\n",
              "\t<tr><th scope=row>obesity</th><td> 0.7139642</td><td>-0.3234388</td><td> 0.6240325</td><td> 1.0000000</td><td> 0.5295514</td><td> 0.6534702</td></tr>\n",
              "\t<tr><th scope=row>not_sleeping</th><td> 0.7746611</td><td>-0.6442544</td><td> 0.6463071</td><td> 0.5295514</td><td> 1.0000000</td><td> 0.6627992</td></tr>\n",
              "\t<tr><th scope=row>med_HBP</th><td> 0.8110757</td><td>-0.4766185</td><td> 0.5499420</td><td> 0.6534702</td><td> 0.6627992</td><td> 1.0000000</td></tr>\n",
              "</tbody>\n",
              "</table>\n"
            ]
          },
          "metadata": {
            "tags": []
          }
        }
      ]
    },
    {
      "cell_type": "code",
      "metadata": {
        "colab": {
          "base_uri": "https://localhost:8080/",
          "height": 439
        },
        "id": "deCJfrgFOW4c",
        "outputId": "9e4c1bc8-4b90-49ac-dfe3-c977b342025f"
      },
      "source": [
        "#correlation between the HBP and other healthy outcomes\n",
        "HBP_Corr_healthy = subset(temp, select = c(HBP,teeth_loss, cancer, Arthritis, HCH, mental_health, physical_health, Asthama, diabetes, CHD, chronic_disease, chronic_obs_pul))\n",
        "cor(HBP_Corr_healthy)\n"
      ],
      "execution_count": null,
      "outputs": [
        {
          "output_type": "display_data",
          "data": {
            "text/plain": [
              "                HBP        teeth_loss  cancer      Arthritis HCH       \n",
              "HBP              1.0000000  0.81453866 -0.21011976 0.7096382  0.8176562\n",
              "teeth_loss       0.8145387  1.00000000 -0.08947836 0.7575985  0.6549443\n",
              "cancer          -0.2101198 -0.08947836  1.00000000 0.2592384 -0.1386331\n",
              "Arthritis        0.7096382  0.75759846  0.25923838 1.0000000  0.6687203\n",
              "HCH              0.8176562  0.65494432 -0.13863313 0.6687203  1.0000000\n",
              "mental_health    0.7787830  0.88910485  0.05125821 0.8798758  0.7378908\n",
              "physical_health  0.7904369  0.93019717 -0.13326773 0.7891989  0.7041788\n",
              "Asthama          0.5971522  0.74804575  0.19378913 0.7804568  0.4695163\n",
              "diabetes         0.8740105  0.84584891 -0.45660262 0.5684109  0.6702573\n",
              "CHD              0.8200167  0.94212455 -0.07617017 0.7709767  0.7148266\n",
              "chronic_disease  0.7779115  0.84207530 -0.41861496 0.5174493  0.5646890\n",
              "chronic_obs_pul  0.7824986  0.90434935  0.10756070 0.8811907  0.7469529\n",
              "                mental_health physical_health Asthama   diabetes   CHD        \n",
              "HBP             0.77878304     0.7904369      0.5971522  0.8740105  0.82001667\n",
              "teeth_loss      0.88910485     0.9301972      0.7480458  0.8458489  0.94212455\n",
              "cancer          0.05125821    -0.1332677      0.1937891 -0.4566026 -0.07617017\n",
              "Arthritis       0.87987581     0.7891989      0.7804568  0.5684109  0.77097671\n",
              "HCH             0.73789083     0.7041788      0.4695163  0.6702573  0.71482661\n",
              "mental_health   1.00000000     0.9388528      0.8112802  0.7359623  0.89383445\n",
              "physical_health 0.93885281     1.0000000      0.7847860  0.8471282  0.94780985\n",
              "Asthama         0.81128015     0.7847860      1.0000000  0.5872385  0.70859279\n",
              "diabetes        0.73596233     0.8471282      0.5872385  1.0000000  0.84814875\n",
              "CHD             0.89383445     0.9478099      0.7085928  0.8481488  1.00000000\n",
              "chronic_disease 0.70938502     0.8604509      0.6246011  0.9462421  0.84371590\n",
              "chronic_obs_pul 0.95267287     0.9052980      0.7681243  0.7152847  0.91759465\n",
              "                chronic_disease chronic_obs_pul\n",
              "HBP              0.7779115      0.7824986      \n",
              "teeth_loss       0.8420753      0.9043493      \n",
              "cancer          -0.4186150      0.1075607      \n",
              "Arthritis        0.5174493      0.8811907      \n",
              "HCH              0.5646890      0.7469529      \n",
              "mental_health    0.7093850      0.9526729      \n",
              "physical_health  0.8604509      0.9052980      \n",
              "Asthama          0.6246011      0.7681243      \n",
              "diabetes         0.9462421      0.7152847      \n",
              "CHD              0.8437159      0.9175947      \n",
              "chronic_disease  1.0000000      0.6759694      \n",
              "chronic_obs_pul  0.6759694      1.0000000      "
            ],
            "text/latex": "A matrix: 12 × 12 of type dbl\n\\begin{tabular}{r|llllllllllll}\n  & HBP & teeth\\_loss & cancer & Arthritis & HCH & mental\\_health & physical\\_health & Asthama & diabetes & CHD & chronic\\_disease & chronic\\_obs\\_pul\\\\\n\\hline\n\tHBP &  1.0000000 &  0.81453866 & -0.21011976 & 0.7096382 &  0.8176562 & 0.77878304 &  0.7904369 & 0.5971522 &  0.8740105 &  0.82001667 &  0.7779115 & 0.7824986\\\\\n\tteeth\\_loss &  0.8145387 &  1.00000000 & -0.08947836 & 0.7575985 &  0.6549443 & 0.88910485 &  0.9301972 & 0.7480458 &  0.8458489 &  0.94212455 &  0.8420753 & 0.9043493\\\\\n\tcancer & -0.2101198 & -0.08947836 &  1.00000000 & 0.2592384 & -0.1386331 & 0.05125821 & -0.1332677 & 0.1937891 & -0.4566026 & -0.07617017 & -0.4186150 & 0.1075607\\\\\n\tArthritis &  0.7096382 &  0.75759846 &  0.25923838 & 1.0000000 &  0.6687203 & 0.87987581 &  0.7891989 & 0.7804568 &  0.5684109 &  0.77097671 &  0.5174493 & 0.8811907\\\\\n\tHCH &  0.8176562 &  0.65494432 & -0.13863313 & 0.6687203 &  1.0000000 & 0.73789083 &  0.7041788 & 0.4695163 &  0.6702573 &  0.71482661 &  0.5646890 & 0.7469529\\\\\n\tmental\\_health &  0.7787830 &  0.88910485 &  0.05125821 & 0.8798758 &  0.7378908 & 1.00000000 &  0.9388528 & 0.8112802 &  0.7359623 &  0.89383445 &  0.7093850 & 0.9526729\\\\\n\tphysical\\_health &  0.7904369 &  0.93019717 & -0.13326773 & 0.7891989 &  0.7041788 & 0.93885281 &  1.0000000 & 0.7847860 &  0.8471282 &  0.94780985 &  0.8604509 & 0.9052980\\\\\n\tAsthama &  0.5971522 &  0.74804575 &  0.19378913 & 0.7804568 &  0.4695163 & 0.81128015 &  0.7847860 & 1.0000000 &  0.5872385 &  0.70859279 &  0.6246011 & 0.7681243\\\\\n\tdiabetes &  0.8740105 &  0.84584891 & -0.45660262 & 0.5684109 &  0.6702573 & 0.73596233 &  0.8471282 & 0.5872385 &  1.0000000 &  0.84814875 &  0.9462421 & 0.7152847\\\\\n\tCHD &  0.8200167 &  0.94212455 & -0.07617017 & 0.7709767 &  0.7148266 & 0.89383445 &  0.9478099 & 0.7085928 &  0.8481488 &  1.00000000 &  0.8437159 & 0.9175947\\\\\n\tchronic\\_disease &  0.7779115 &  0.84207530 & -0.41861496 & 0.5174493 &  0.5646890 & 0.70938502 &  0.8604509 & 0.6246011 &  0.9462421 &  0.84371590 &  1.0000000 & 0.6759694\\\\\n\tchronic\\_obs\\_pul &  0.7824986 &  0.90434935 &  0.10756070 & 0.8811907 &  0.7469529 & 0.95267287 &  0.9052980 & 0.7681243 &  0.7152847 &  0.91759465 &  0.6759694 & 1.0000000\\\\\n\\end{tabular}\n",
            "text/markdown": "\nA matrix: 12 × 12 of type dbl\n\n| <!--/--> | HBP | teeth_loss | cancer | Arthritis | HCH | mental_health | physical_health | Asthama | diabetes | CHD | chronic_disease | chronic_obs_pul |\n|---|---|---|---|---|---|---|---|---|---|---|---|---|\n| HBP |  1.0000000 |  0.81453866 | -0.21011976 | 0.7096382 |  0.8176562 | 0.77878304 |  0.7904369 | 0.5971522 |  0.8740105 |  0.82001667 |  0.7779115 | 0.7824986 |\n| teeth_loss |  0.8145387 |  1.00000000 | -0.08947836 | 0.7575985 |  0.6549443 | 0.88910485 |  0.9301972 | 0.7480458 |  0.8458489 |  0.94212455 |  0.8420753 | 0.9043493 |\n| cancer | -0.2101198 | -0.08947836 |  1.00000000 | 0.2592384 | -0.1386331 | 0.05125821 | -0.1332677 | 0.1937891 | -0.4566026 | -0.07617017 | -0.4186150 | 0.1075607 |\n| Arthritis |  0.7096382 |  0.75759846 |  0.25923838 | 1.0000000 |  0.6687203 | 0.87987581 |  0.7891989 | 0.7804568 |  0.5684109 |  0.77097671 |  0.5174493 | 0.8811907 |\n| HCH |  0.8176562 |  0.65494432 | -0.13863313 | 0.6687203 |  1.0000000 | 0.73789083 |  0.7041788 | 0.4695163 |  0.6702573 |  0.71482661 |  0.5646890 | 0.7469529 |\n| mental_health |  0.7787830 |  0.88910485 |  0.05125821 | 0.8798758 |  0.7378908 | 1.00000000 |  0.9388528 | 0.8112802 |  0.7359623 |  0.89383445 |  0.7093850 | 0.9526729 |\n| physical_health |  0.7904369 |  0.93019717 | -0.13326773 | 0.7891989 |  0.7041788 | 0.93885281 |  1.0000000 | 0.7847860 |  0.8471282 |  0.94780985 |  0.8604509 | 0.9052980 |\n| Asthama |  0.5971522 |  0.74804575 |  0.19378913 | 0.7804568 |  0.4695163 | 0.81128015 |  0.7847860 | 1.0000000 |  0.5872385 |  0.70859279 |  0.6246011 | 0.7681243 |\n| diabetes |  0.8740105 |  0.84584891 | -0.45660262 | 0.5684109 |  0.6702573 | 0.73596233 |  0.8471282 | 0.5872385 |  1.0000000 |  0.84814875 |  0.9462421 | 0.7152847 |\n| CHD |  0.8200167 |  0.94212455 | -0.07617017 | 0.7709767 |  0.7148266 | 0.89383445 |  0.9478099 | 0.7085928 |  0.8481488 |  1.00000000 |  0.8437159 | 0.9175947 |\n| chronic_disease |  0.7779115 |  0.84207530 | -0.41861496 | 0.5174493 |  0.5646890 | 0.70938502 |  0.8604509 | 0.6246011 |  0.9462421 |  0.84371590 |  1.0000000 | 0.6759694 |\n| chronic_obs_pul |  0.7824986 |  0.90434935 |  0.10756070 | 0.8811907 |  0.7469529 | 0.95267287 |  0.9052980 | 0.7681243 |  0.7152847 |  0.91759465 |  0.6759694 | 1.0000000 |\n\n",
            "text/html": [
              "<table class=\"dataframe\">\n",
              "<caption>A matrix: 12 × 12 of type dbl</caption>\n",
              "<thead>\n",
              "\t<tr><th></th><th scope=col>HBP</th><th scope=col>teeth_loss</th><th scope=col>cancer</th><th scope=col>Arthritis</th><th scope=col>HCH</th><th scope=col>mental_health</th><th scope=col>physical_health</th><th scope=col>Asthama</th><th scope=col>diabetes</th><th scope=col>CHD</th><th scope=col>chronic_disease</th><th scope=col>chronic_obs_pul</th></tr>\n",
              "</thead>\n",
              "<tbody>\n",
              "\t<tr><th scope=row>HBP</th><td> 1.0000000</td><td> 0.81453866</td><td>-0.21011976</td><td>0.7096382</td><td> 0.8176562</td><td>0.77878304</td><td> 0.7904369</td><td>0.5971522</td><td> 0.8740105</td><td> 0.82001667</td><td> 0.7779115</td><td>0.7824986</td></tr>\n",
              "\t<tr><th scope=row>teeth_loss</th><td> 0.8145387</td><td> 1.00000000</td><td>-0.08947836</td><td>0.7575985</td><td> 0.6549443</td><td>0.88910485</td><td> 0.9301972</td><td>0.7480458</td><td> 0.8458489</td><td> 0.94212455</td><td> 0.8420753</td><td>0.9043493</td></tr>\n",
              "\t<tr><th scope=row>cancer</th><td>-0.2101198</td><td>-0.08947836</td><td> 1.00000000</td><td>0.2592384</td><td>-0.1386331</td><td>0.05125821</td><td>-0.1332677</td><td>0.1937891</td><td>-0.4566026</td><td>-0.07617017</td><td>-0.4186150</td><td>0.1075607</td></tr>\n",
              "\t<tr><th scope=row>Arthritis</th><td> 0.7096382</td><td> 0.75759846</td><td> 0.25923838</td><td>1.0000000</td><td> 0.6687203</td><td>0.87987581</td><td> 0.7891989</td><td>0.7804568</td><td> 0.5684109</td><td> 0.77097671</td><td> 0.5174493</td><td>0.8811907</td></tr>\n",
              "\t<tr><th scope=row>HCH</th><td> 0.8176562</td><td> 0.65494432</td><td>-0.13863313</td><td>0.6687203</td><td> 1.0000000</td><td>0.73789083</td><td> 0.7041788</td><td>0.4695163</td><td> 0.6702573</td><td> 0.71482661</td><td> 0.5646890</td><td>0.7469529</td></tr>\n",
              "\t<tr><th scope=row>mental_health</th><td> 0.7787830</td><td> 0.88910485</td><td> 0.05125821</td><td>0.8798758</td><td> 0.7378908</td><td>1.00000000</td><td> 0.9388528</td><td>0.8112802</td><td> 0.7359623</td><td> 0.89383445</td><td> 0.7093850</td><td>0.9526729</td></tr>\n",
              "\t<tr><th scope=row>physical_health</th><td> 0.7904369</td><td> 0.93019717</td><td>-0.13326773</td><td>0.7891989</td><td> 0.7041788</td><td>0.93885281</td><td> 1.0000000</td><td>0.7847860</td><td> 0.8471282</td><td> 0.94780985</td><td> 0.8604509</td><td>0.9052980</td></tr>\n",
              "\t<tr><th scope=row>Asthama</th><td> 0.5971522</td><td> 0.74804575</td><td> 0.19378913</td><td>0.7804568</td><td> 0.4695163</td><td>0.81128015</td><td> 0.7847860</td><td>1.0000000</td><td> 0.5872385</td><td> 0.70859279</td><td> 0.6246011</td><td>0.7681243</td></tr>\n",
              "\t<tr><th scope=row>diabetes</th><td> 0.8740105</td><td> 0.84584891</td><td>-0.45660262</td><td>0.5684109</td><td> 0.6702573</td><td>0.73596233</td><td> 0.8471282</td><td>0.5872385</td><td> 1.0000000</td><td> 0.84814875</td><td> 0.9462421</td><td>0.7152847</td></tr>\n",
              "\t<tr><th scope=row>CHD</th><td> 0.8200167</td><td> 0.94212455</td><td>-0.07617017</td><td>0.7709767</td><td> 0.7148266</td><td>0.89383445</td><td> 0.9478099</td><td>0.7085928</td><td> 0.8481488</td><td> 1.00000000</td><td> 0.8437159</td><td>0.9175947</td></tr>\n",
              "\t<tr><th scope=row>chronic_disease</th><td> 0.7779115</td><td> 0.84207530</td><td>-0.41861496</td><td>0.5174493</td><td> 0.5646890</td><td>0.70938502</td><td> 0.8604509</td><td>0.6246011</td><td> 0.9462421</td><td> 0.84371590</td><td> 1.0000000</td><td>0.6759694</td></tr>\n",
              "\t<tr><th scope=row>chronic_obs_pul</th><td> 0.7824986</td><td> 0.90434935</td><td> 0.10756070</td><td>0.8811907</td><td> 0.7469529</td><td>0.95267287</td><td> 0.9052980</td><td>0.7681243</td><td> 0.7152847</td><td> 0.91759465</td><td> 0.6759694</td><td>1.0000000</td></tr>\n",
              "</tbody>\n",
              "</table>\n"
            ]
          },
          "metadata": {
            "tags": []
          }
        }
      ]
    },
    {
      "cell_type": "code",
      "metadata": {
        "colab": {
          "base_uri": "https://localhost:8080/",
          "height": 153
        },
        "id": "8NFb_AwIRr3C",
        "outputId": "303b7d38-add1-4321-a8b7-cb6ca63fa7a2"
      },
      "source": [
        "#correlation between HBP and prevention\n",
        "HBP_Corr_Prevention = subset(temp, select = c(HBP, med_HBP, doc_visit))\n",
        "cor(HBP_Corr_Prevention)"
      ],
      "execution_count": null,
      "outputs": [
        {
          "output_type": "display_data",
          "data": {
            "text/plain": [
              "          HBP       med_HBP   doc_visit\n",
              "HBP       1.0000000 0.8110757 0.5195130\n",
              "med_HBP   0.8110757 1.0000000 0.7179782\n",
              "doc_visit 0.5195130 0.7179782 1.0000000"
            ],
            "text/latex": "A matrix: 3 × 3 of type dbl\n\\begin{tabular}{r|lll}\n  & HBP & med\\_HBP & doc\\_visit\\\\\n\\hline\n\tHBP & 1.0000000 & 0.8110757 & 0.5195130\\\\\n\tmed\\_HBP & 0.8110757 & 1.0000000 & 0.7179782\\\\\n\tdoc\\_visit & 0.5195130 & 0.7179782 & 1.0000000\\\\\n\\end{tabular}\n",
            "text/markdown": "\nA matrix: 3 × 3 of type dbl\n\n| <!--/--> | HBP | med_HBP | doc_visit |\n|---|---|---|---|\n| HBP | 1.0000000 | 0.8110757 | 0.5195130 |\n| med_HBP | 0.8110757 | 1.0000000 | 0.7179782 |\n| doc_visit | 0.5195130 | 0.7179782 | 1.0000000 |\n\n",
            "text/html": [
              "<table class=\"dataframe\">\n",
              "<caption>A matrix: 3 × 3 of type dbl</caption>\n",
              "<thead>\n",
              "\t<tr><th></th><th scope=col>HBP</th><th scope=col>med_HBP</th><th scope=col>doc_visit</th></tr>\n",
              "</thead>\n",
              "<tbody>\n",
              "\t<tr><th scope=row>HBP</th><td>1.0000000</td><td>0.8110757</td><td>0.5195130</td></tr>\n",
              "\t<tr><th scope=row>med_HBP</th><td>0.8110757</td><td>1.0000000</td><td>0.7179782</td></tr>\n",
              "\t<tr><th scope=row>doc_visit</th><td>0.5195130</td><td>0.7179782</td><td>1.0000000</td></tr>\n",
              "</tbody>\n",
              "</table>\n"
            ]
          },
          "metadata": {
            "tags": []
          }
        }
      ]
    },
    {
      "cell_type": "code",
      "metadata": {
        "colab": {
          "base_uri": "https://localhost:8080/",
          "height": 437
        },
        "id": "aaGg27k1W8rh",
        "outputId": "c92992f8-f7bc-48e9-e74a-4e4458a9c903"
      },
      "source": [
        "plot(density(temp$HBP))"
      ],
      "execution_count": null,
      "outputs": [
        {
          "output_type": "display_data",
          "data": {
            "image/png": "[encoded data removed]",
            "text/plain": [
              "Plot with title “density.default(x = temp$HBP)”"
            ]
          },
          "metadata": {
            "tags": [],
            "image/png": {
              "width": 420,
              "height": 420
            }
          }
        }
      ]
    },
    {
      "cell_type": "code",
      "metadata": {
        "colab": {
          "base_uri": "https://localhost:8080/"
        },
        "id": "xDOvpF7YYlxS",
        "outputId": "af812431-4303-4b45-aec8-45b7b085267f"
      },
      "source": [
        "install.packages(\"olsrr\")\n",
        "install.packages(\"car\") \n",
        "library(car)"
      ],
      "execution_count": null,
      "outputs": [
        {
          "output_type": "stream",
          "text": [
            "Installing package into ‘/usr/local/lib/R/site-library’\n",
            "(as ‘lib’ is unspecified)\n",
            "\n",
            "Installing package into ‘/usr/local/lib/R/site-library’\n",
            "(as ‘lib’ is unspecified)\n",
            "\n"
          ],
          "name": "stderr"
        }
      ]
    },
    {
      "cell_type": "code",
      "metadata": {
        "id": "OcZOKqy6dXhm"
      },
      "source": [
        "model_data = subset(temp, select = c(\"Arthritis\", \"drinking\", \"cancer\", \"cer_cancer_screen\", \"ch_screen\", \"chronic_disease\", \"chronic_obs_pul\", \"CHD\", \"Asthama\", \"lack_health_ins\",\"smoking\",\n",
        "\"diabetes\", \"Fecal_blood_test\", \"HBP\", \"HCH\", \"mammography\", \"mental_health\", \"no_leisure\", \"obesity\", \"physical_health\",\n",
        "\"not_sleeping\", \"stroke\", \"med_HBP\", \"doc_visit\" ))"
      ],
      "execution_count": null,
      "outputs": []
    },
    {
      "cell_type": "code",
      "metadata": {
        "id": "S8aK2Qaijasg",
        "colab": {
          "base_uri": "https://localhost:8080/",
          "height": 689
        },
        "outputId": "746c0ca2-de6f-4e84-ef6d-de3faacdd051"
      },
      "source": [
        "#Full model Linear Regression\n",
        "fit.full <- lm(HBP ~., data=model_data)\n",
        "summary(fit.full)\n",
        "AIC(fit.full)"
      ],
      "execution_count": null,
      "outputs": [
        {
          "output_type": "display_data",
          "data": {
            "text/plain": [
              "\n",
              "Call:\n",
              "lm(formula = HBP ~ ., data = model_data)\n",
              "\n",
              "Residuals:\n",
              "    Min      1Q  Median      3Q     Max \n",
              "-4.8266 -0.7660 -0.0164  0.7358  5.9978 \n",
              "\n",
              "Coefficients:\n",
              "                    Estimate Std. Error t value Pr(>|t|)    \n",
              "(Intercept)       -25.605516   2.088946 -12.258  < 2e-16 ***\n",
              "Arthritis           0.062991   0.019326   3.259 0.001129 ** \n",
              "drinking           -0.141814   0.014939  -9.493  < 2e-16 ***\n",
              "cancer              0.071173   0.185822   0.383 0.701733    \n",
              "cer_cancer_screen   0.243933   0.024747   9.857  < 2e-16 ***\n",
              "ch_screen           0.042323   0.014688   2.881 0.003986 ** \n",
              "chronic_disease    -4.828951   0.353092 -13.676  < 2e-16 ***\n",
              "chronic_obs_pul    -0.394890   0.059186  -6.672 2.97e-11 ***\n",
              "CHD                 1.030040   0.107119   9.616  < 2e-16 ***\n",
              "Asthama             0.069279   0.052895   1.310 0.190379    \n",
              "smoking            -0.025960   0.019795  -1.311 0.189819    \n",
              "diabetes            0.812127   0.057682  14.079  < 2e-16 ***\n",
              "Fecal_blood_test    0.026843   0.010618   2.528 0.011520 *  \n",
              "HCH                 0.641445   0.019894  32.242  < 2e-16 ***\n",
              "mammography        -0.018190   0.010854  -1.676 0.093852 .  \n",
              "mental_health       0.174887   0.050659   3.452 0.000563 ***\n",
              "no_leisure          0.056749   0.013987   4.057 5.09e-05 ***\n",
              "obesity             0.036894   0.009611   3.839 0.000126 ***\n",
              "physical_health    -0.429447   0.057785  -7.432 1.38e-13 ***\n",
              "not_sleeping        0.058653   0.013362   4.390 1.17e-05 ***\n",
              "stroke              3.988387   0.176779  22.561  < 2e-16 ***\n",
              "med_HBP             0.170694   0.015637  10.916  < 2e-16 ***\n",
              "doc_visit          -0.123671   0.013816  -8.952  < 2e-16 ***\n",
              "---\n",
              "Signif. codes:  0 ‘***’ 0.001 ‘**’ 0.01 ‘*’ 0.05 ‘.’ 0.1 ‘ ’ 1\n",
              "\n",
              "Residual standard error: 1.221 on 3119 degrees of freedom\n",
              "Multiple R-squared:  0.9335,\tAdjusted R-squared:  0.933 \n",
              "F-statistic:  1990 on 22 and 3119 DF,  p-value: < 2.2e-16\n"
            ]
          },
          "metadata": {
            "tags": []
          }
        },
        {
          "output_type": "display_data",
          "data": {
            "text/plain": [
              "[1] 10196.31"
            ],
            "text/latex": "10196.3131036908",
            "text/markdown": "10196.3131036908",
            "text/html": [
              "10196.3131036908"
            ]
          },
          "metadata": {
            "tags": []
          }
        }
      ]
    },
    {
      "cell_type": "code",
      "metadata": {
        "id": "2eDYrEIAymPE",
        "colab": {
          "base_uri": "https://localhost:8080/"
        },
        "outputId": "8df946bd-0954-4d88-d38e-8dc8f2bb4b40"
      },
      "source": [
        "install.packages('Metrics')\n",
        "library(Metrics)"
      ],
      "execution_count": null,
      "outputs": [
        {
          "output_type": "stream",
          "text": [
            "Installing package into ‘/usr/local/lib/R/site-library’\n",
            "(as ‘lib’ is unspecified)\n",
            "\n"
          ],
          "name": "stderr"
        }
      ]
    },
    {
      "cell_type": "code",
      "metadata": {
        "id": "y45LhI5ozGym",
        "colab": {
          "base_uri": "https://localhost:8080/",
          "height": 84
        },
        "outputId": "1039b092-1034-4e47-84a8-c46973c1dc6d"
      },
      "source": [
        "#Analysis Parameter\n",
        "actual = model_data$HBP\n",
        "prediction = round(fit.full$fitted.values,1)\n",
        "preds_full = prediction\n",
        "mae(actual, preds_full)\n",
        "mape(actual, preds_full)\n",
        "rmse(actual, preds_full)\n",
        "bias(actual, preds_full)"
      ],
      "execution_count": null,
      "outputs": [
        {
          "output_type": "display_data",
          "data": {
            "text/plain": [
              "[1] 0.9939847"
            ],
            "text/latex": "0.993984723106302",
            "text/markdown": "0.993984723106302",
            "text/html": [
              "0.993984723106302"
            ]
          },
          "metadata": {
            "tags": []
          }
        },
        {
          "output_type": "display_data",
          "data": {
            "text/plain": [
              "[1] 0.03098044"
            ],
            "text/latex": "0.0309804395341781",
            "text/markdown": "0.0309804395341781",
            "text/html": [
              "0.0309804395341781"
            ]
          },
          "metadata": {
            "tags": []
          }
        },
        {
          "output_type": "display_data",
          "data": {
            "text/plain": [
              "[1] 1.287245"
            ],
            "text/latex": "1.28724462590664",
            "text/markdown": "1.28724462590664",
            "text/html": [
              "1.28724462590664"
            ]
          },
          "metadata": {
            "tags": []
          }
        },
        {
          "output_type": "display_data",
          "data": {
            "text/plain": [
              "[1] -0.0001591343"
            ],
            "text/latex": "-0.000159134309357113",
            "text/markdown": "-0.000159134309357113",
            "text/html": [
              "-0.000159134309357113"
            ]
          },
          "metadata": {
            "tags": []
          }
        }
      ]
    },
    {
      "cell_type": "code",
      "metadata": {
        "id": "hefCSpIQzkYS",
        "colab": {
          "base_uri": "https://localhost:8080/",
          "height": 437
        },
        "outputId": "cb7a2fae-0fa1-4d00-8c29-60b6c8baecb1"
      },
      "source": [
        "#Actual vs Predicted\n",
        "plot(actual, prediction, col='blue', pch=19,\n",
        "      xlim=c(0,50), ylim=c(0,50))\n",
        "abline(0,1, col='black', lty=2, lwd=3)"
      ],
      "execution_count": null,
      "outputs": [
        {
          "output_type": "display_data",
          "data": {
            "image/png": "[encoded data removed]",
            "text/plain": [
              "plot without title"
            ]
          },
          "metadata": {
            "tags": [],
            "image/png": {
              "width": 420,
              "height": 420
            }
          }
        }
      ]
    },
    {
      "cell_type": "code",
      "metadata": {
        "id": "rGOqhYtU0BqU"
      },
      "source": [
        "CI = predict(fit.full, model_data, interval='confidence') # Finding Confidence Interval"
      ],
      "execution_count": null,
      "outputs": []
    },
    {
      "cell_type": "code",
      "metadata": {
        "id": "1iuvs9o_0T7J"
      },
      "source": [
        "PI = predict(fit.full, model_data, interval='prediction') # Finding Predicted Intervals\n"
      ],
      "execution_count": null,
      "outputs": []
    },
    {
      "cell_type": "markdown",
      "metadata": {
        "id": "Lr3f3OD49zJt"
      },
      "source": [
        "##Reduced Linear Regression"
      ]
    },
    {
      "cell_type": "code",
      "metadata": {
        "colab": {
          "base_uri": "https://localhost:8080/"
        },
        "id": "FNFyuDXL4btT",
        "outputId": "91aeb85b-ea47-456c-a6b2-b83ada4a1d03"
      },
      "source": [
        "install.packages(\"olsrr\")\n",
        "library(olsrr)"
      ],
      "execution_count": null,
      "outputs": [
        {
          "output_type": "stream",
          "text": [
            "Installing package into ‘/usr/local/lib/R/site-library’\n",
            "(as ‘lib’ is unspecified)\n",
            "\n"
          ],
          "name": "stderr"
        }
      ]
    },
    {
      "cell_type": "code",
      "metadata": {
        "colab": {
          "base_uri": "https://localhost:8080/"
        },
        "id": "BGrqxfEn4tmh",
        "outputId": "d4f64f8f-37d6-4e07-a211-c1644afe2298"
      },
      "source": [
        "print(vif(fit.full))"
      ],
      "execution_count": null,
      "outputs": [
        {
          "output_type": "stream",
          "text": [
            "        Arthritis          drinking            cancer cer_cancer_screen \n",
            "         9.306374          4.736248          4.989353          4.750830 \n",
            "        ch_screen   chronic_disease   chronic_obs_pul               CHD \n",
            "         3.582854         48.365809         26.859674         31.180334 \n",
            "          Asthama           smoking          diabetes  Fecal_blood_test \n",
            "         6.114811         14.236827         37.799416          5.359616 \n",
            "              HCH       mammography     mental_health        no_leisure \n",
            "         4.440236          4.031793         30.213024         11.704692 \n",
            "          obesity   physical_health      not_sleeping            stroke \n",
            "         3.985765         48.502949          5.913538         29.759842 \n",
            "          med_HBP         doc_visit \n",
            "         8.099670          5.449668 \n"
          ],
          "name": "stdout"
        }
      ]
    },
    {
      "cell_type": "markdown",
      "metadata": {
        "id": "DA6ybF7F-E2W"
      },
      "source": [
        "Backward Stepwise Linear Regression Model"
      ]
    },
    {
      "cell_type": "code",
      "metadata": {
        "colab": {
          "base_uri": "https://localhost:8080/",
          "height": 689
        },
        "id": "TizFwsxG49_9",
        "outputId": "f346b813-9afc-4c2a-eebf-f5461b4229e2"
      },
      "source": [
        "fit.full <- lm(HBP ~., data=model_data)\n",
        "backward = ols_step_backward_p(fit.full) \n",
        "summary(backward$model)\n",
        "AIC(backward$model)"
      ],
      "execution_count": null,
      "outputs": [
        {
          "output_type": "display_data",
          "data": {
            "text/plain": [
              "\n",
              "Call:\n",
              "lm(formula = paste(response, \"~\", paste(preds, collapse = \" + \")), \n",
              "    data = l)\n",
              "\n",
              "Residuals:\n",
              "    Min      1Q  Median      3Q     Max \n",
              "-4.8370 -0.7624 -0.0184  0.7356  5.9968 \n",
              "\n",
              "Coefficients:\n",
              "                    Estimate Std. Error t value Pr(>|t|)    \n",
              "(Intercept)       -25.211259   1.817481 -13.872  < 2e-16 ***\n",
              "Arthritis           0.063717   0.019230   3.313 0.000932 ***\n",
              "drinking           -0.141999   0.014929  -9.511  < 2e-16 ***\n",
              "cer_cancer_screen   0.244427   0.024710   9.892  < 2e-16 ***\n",
              "ch_screen           0.041928   0.014650   2.862 0.004237 ** \n",
              "chronic_disease    -4.854709   0.346581 -14.007  < 2e-16 ***\n",
              "chronic_obs_pul    -0.392910   0.058951  -6.665 3.12e-11 ***\n",
              "CHD                 1.043891   0.100817  10.354  < 2e-16 ***\n",
              "Asthama             0.076862   0.049043   1.567 0.117157    \n",
              "smoking            -0.026203   0.019783  -1.325 0.185418    \n",
              "diabetes            0.804200   0.053834  14.939  < 2e-16 ***\n",
              "Fecal_blood_test    0.027064   0.010601   2.553 0.010728 *  \n",
              "HCH                 0.641178   0.019879  32.253  < 2e-16 ***\n",
              "mammography        -0.018299   0.010849  -1.687 0.091747 .  \n",
              "mental_health       0.176233   0.050530   3.488 0.000494 ***\n",
              "no_leisure          0.056239   0.013922   4.040 5.48e-05 ***\n",
              "obesity             0.037355   0.009534   3.918 9.11e-05 ***\n",
              "physical_health    -0.433691   0.056705  -7.648 2.70e-14 ***\n",
              "not_sleeping        0.057589   0.013068   4.407 1.08e-05 ***\n",
              "stroke              4.003573   0.172252  23.243  < 2e-16 ***\n",
              "med_HBP             0.171267   0.015563  11.005  < 2e-16 ***\n",
              "doc_visit          -0.123599   0.013812  -8.948  < 2e-16 ***\n",
              "---\n",
              "Signif. codes:  0 ‘***’ 0.001 ‘**’ 0.01 ‘*’ 0.05 ‘.’ 0.1 ‘ ’ 1\n",
              "\n",
              "Residual standard error: 1.221 on 3120 degrees of freedom\n",
              "Multiple R-squared:  0.9335,\tAdjusted R-squared:  0.9331 \n",
              "F-statistic:  2086 on 21 and 3120 DF,  p-value: < 2.2e-16\n"
            ]
          },
          "metadata": {
            "tags": []
          }
        },
        {
          "output_type": "display_data",
          "data": {
            "text/plain": [
              "[1] 10194.46"
            ],
            "text/latex": "10194.4608837925",
            "text/markdown": "10194.4608837925",
            "text/html": [
              "10194.4608837925"
            ]
          },
          "metadata": {
            "tags": []
          }
        }
      ]
    },
    {
      "cell_type": "markdown",
      "metadata": {
        "id": "PIn6guvU97oq"
      },
      "source": [
        "Forward Stepwise Linear model "
      ]
    },
    {
      "cell_type": "code",
      "metadata": {
        "colab": {
          "base_uri": "https://localhost:8080/",
          "height": 1000
        },
        "id": "bTmtCJzM5WAb",
        "outputId": "a5cc7da1-2f6b-45d1-86c4-a4bc47bdac39"
      },
      "source": [
        "r_fit_full <- lm(HBP ~.,  data=model_data) #Fitting the full model excluding the target variable\n",
        "forward <- ols_step_forward_p(r_fit_full)\n",
        "summary(forward$model)\n",
        "AIC(forward$model)\n",
        "forward"
      ],
      "execution_count": null,
      "outputs": [
        {
          "output_type": "display_data",
          "data": {
            "text/plain": [
              "\n",
              "Call:\n",
              "lm(formula = paste(response, \"~\", paste(preds, collapse = \" + \")), \n",
              "    data = l)\n",
              "\n",
              "Residuals:\n",
              "    Min      1Q  Median      3Q     Max \n",
              "-4.8370 -0.7624 -0.0184  0.7356  5.9968 \n",
              "\n",
              "Coefficients:\n",
              "                    Estimate Std. Error t value Pr(>|t|)    \n",
              "(Intercept)       -25.211259   1.817481 -13.872  < 2e-16 ***\n",
              "Arthritis           0.063717   0.019230   3.313 0.000932 ***\n",
              "drinking           -0.141999   0.014929  -9.511  < 2e-16 ***\n",
              "chronic_disease    -4.854709   0.346581 -14.007  < 2e-16 ***\n",
              "chronic_obs_pul    -0.392910   0.058951  -6.665 3.12e-11 ***\n",
              "CHD                 1.043891   0.100817  10.354  < 2e-16 ***\n",
              "smoking            -0.026203   0.019783  -1.325 0.185418    \n",
              "diabetes            0.804200   0.053834  14.939  < 2e-16 ***\n",
              "HCH                 0.641178   0.019879  32.253  < 2e-16 ***\n",
              "mental_health       0.176233   0.050530   3.488 0.000494 ***\n",
              "no_leisure          0.056239   0.013922   4.040 5.48e-05 ***\n",
              "obesity             0.037355   0.009534   3.918 9.11e-05 ***\n",
              "physical_health    -0.433691   0.056705  -7.648 2.70e-14 ***\n",
              "not_sleeping        0.057589   0.013068   4.407 1.08e-05 ***\n",
              "stroke              4.003573   0.172252  23.243  < 2e-16 ***\n",
              "med_HBP             0.171267   0.015563  11.005  < 2e-16 ***\n",
              "cer_cancer_screen   0.244427   0.024710   9.892  < 2e-16 ***\n",
              "doc_visit          -0.123599   0.013812  -8.948  < 2e-16 ***\n",
              "ch_screen           0.041928   0.014650   2.862 0.004237 ** \n",
              "Fecal_blood_test    0.027064   0.010601   2.553 0.010728 *  \n",
              "mammography        -0.018299   0.010849  -1.687 0.091747 .  \n",
              "Asthama             0.076862   0.049043   1.567 0.117157    \n",
              "---\n",
              "Signif. codes:  0 ‘***’ 0.001 ‘**’ 0.01 ‘*’ 0.05 ‘.’ 0.1 ‘ ’ 1\n",
              "\n",
              "Residual standard error: 1.221 on 3120 degrees of freedom\n",
              "Multiple R-squared:  0.9335,\tAdjusted R-squared:  0.9331 \n",
              "F-statistic:  2086 on 21 and 3120 DF,  p-value: < 2.2e-16\n"
            ]
          },
          "metadata": {
            "tags": []
          }
        },
        {
          "output_type": "display_data",
          "data": {
            "text/plain": [
              "[1] 10194.46"
            ],
            "text/latex": "10194.4608837925",
            "text/markdown": "10194.4608837925",
            "text/html": [
              "10194.4608837925"
            ]
          },
          "metadata": {
            "tags": []
          }
        },
        {
          "output_type": "display_data",
          "data": {
            "text/plain": [
              "\n",
              "                                  Selection Summary                                   \n",
              "-------------------------------------------------------------------------------------\n",
              "        Variable                           Adj.                                          \n",
              "Step         Entered         R-Square    R-Square      C(p)         AIC         RMSE     \n",
              "-------------------------------------------------------------------------------------\n",
              "   1    Arthritis              0.9295      0.9292    196.0598    10365.3178    1.2557    \n",
              "   2    drinking               0.9311      0.9308    122.3283    10294.5072    1.2414    \n",
              "   3    chronic_disease        0.9330      0.9327     35.9345    10209.3322    1.2245    \n",
              "   4    chronic_obs_pul        0.9333      0.9329     24.3380    10197.7059    1.2221    \n",
              "   5    CHD                    0.9334      0.9330     22.3604    10195.7084    1.2215    \n",
              "   6    smoking                0.9334      0.9330     21.6023    10194.9335    1.2211    \n",
              "   7    diabetes               0.9335      0.9331     21.1467    10194.4609    1.2208    \n",
              "   8    HCH                        NA          NA          NA            NA        NA    \n",
              "   9    mental_health              NA          NA          NA            NA        NA    \n",
              "  10    no_leisure                 NA          NA          NA            NA        NA    \n",
              "  11    obesity                    NA          NA          NA            NA        NA    \n",
              "  12    physical_health            NA          NA          NA            NA        NA    \n",
              "  13    not_sleeping               NA          NA          NA            NA        NA    \n",
              "  14    stroke                     NA          NA          NA            NA        NA    \n",
              "  15    med_HBP                    NA          NA          NA            NA        NA    \n",
              "  16    cer_cancer_screen          NA          NA          NA            NA        NA    \n",
              "  17    doc_visit                  NA          NA          NA            NA        NA    \n",
              "  18    ch_screen                  NA          NA          NA            NA        NA    \n",
              "  19    Fecal_blood_test           NA          NA          NA            NA        NA    \n",
              "  20    mammography                NA          NA          NA            NA        NA    \n",
              "  21    Asthama                    NA          NA          NA            NA        NA    \n",
              "-------------------------------------------------------------------------------------"
            ]
          },
          "metadata": {
            "tags": []
          }
        }
      ]
    },
    {
      "cell_type": "markdown",
      "metadata": {
        "id": "CdFIoZoK-LZz"
      },
      "source": [
        "Choosing Backward model because of its lower AIC than forward stepwise model "
      ]
    },
    {
      "cell_type": "code",
      "metadata": {
        "colab": {
          "base_uri": "https://localhost:8080/",
          "height": 319
        },
        "id": "dvbybmr-Sb-i",
        "outputId": "30509f84-cb0e-4d40-e4b1-fe1c865291e7"
      },
      "source": [
        "backward$model"
      ],
      "execution_count": null,
      "outputs": [
        {
          "output_type": "display_data",
          "data": {
            "text/plain": [
              "\n",
              "Call:\n",
              "lm(formula = paste(response, \"~\", paste(preds, collapse = \" + \")), \n",
              "    data = l)\n",
              "\n",
              "Coefficients:\n",
              "      (Intercept)           drinking  cer_cancer_screen          ch_screen  \n",
              "        -23.32492           -0.16245            0.24992            0.06516  \n",
              "  chronic_disease    chronic_obs_pul                CHD            Asthama  \n",
              "         -4.41824           -0.42574            1.07396           -0.13617  \n",
              "  lack_health_ins            smoking           diabetes                HCH  \n",
              "         -0.08199           -0.04168            0.85959            0.66969  \n",
              "      mammography      mental_health         no_leisure            obesity  \n",
              "         -0.01174            0.28628            0.06739            0.04741  \n",
              "  physical_health       not_sleeping             stroke            med_HBP  \n",
              "         -0.43647            0.05544            3.96438            0.15253  \n",
              "        doc_visit  \n",
              "         -0.13345  \n"
            ]
          },
          "metadata": {
            "tags": []
          }
        }
      ]
    },
    {
      "cell_type": "code",
      "metadata": {
        "colab": {
          "base_uri": "https://localhost:8080/",
          "height": 1000
        },
        "id": "9nV_QUZlScCh",
        "outputId": "99c90140-4da5-454b-bbe6-3e9f92b73f2d"
      },
      "source": [
        "backward$model$terms"
      ],
      "execution_count": null,
      "outputs": [
        {
          "output_type": "display_data",
          "data": {
            "text/plain": [
              "HBP ~ drinking + cer_cancer_screen + ch_screen + chronic_disease + \n",
              "    chronic_obs_pul + CHD + Asthama + lack_health_ins + smoking + \n",
              "    diabetes + HCH + mammography + mental_health + no_leisure + \n",
              "    obesity + physical_health + not_sleeping + stroke + med_HBP + \n",
              "    doc_visit\n",
              "attr(,\"variables\")\n",
              "list(HBP, drinking, cer_cancer_screen, ch_screen, chronic_disease, \n",
              "    chronic_obs_pul, CHD, Asthama, lack_health_ins, smoking, \n",
              "    diabetes, HCH, mammography, mental_health, no_leisure, obesity, \n",
              "    physical_health, not_sleeping, stroke, med_HBP, doc_visit)\n",
              "attr(,\"factors\")\n",
              "                  drinking cer_cancer_screen ch_screen chronic_disease\n",
              "HBP                      0                 0         0               0\n",
              "drinking                 1                 0         0               0\n",
              "cer_cancer_screen        0                 1         0               0\n",
              "ch_screen                0                 0         1               0\n",
              "chronic_disease          0                 0         0               1\n",
              "chronic_obs_pul          0                 0         0               0\n",
              "CHD                      0                 0         0               0\n",
              "Asthama                  0                 0         0               0\n",
              "lack_health_ins          0                 0         0               0\n",
              "smoking                  0                 0         0               0\n",
              "diabetes                 0                 0         0               0\n",
              "HCH                      0                 0         0               0\n",
              "mammography              0                 0         0               0\n",
              "mental_health            0                 0         0               0\n",
              "no_leisure               0                 0         0               0\n",
              "obesity                  0                 0         0               0\n",
              "physical_health          0                 0         0               0\n",
              "not_sleeping             0                 0         0               0\n",
              "stroke                   0                 0         0               0\n",
              "med_HBP                  0                 0         0               0\n",
              "doc_visit                0                 0         0               0\n",
              "                  chronic_obs_pul CHD Asthama lack_health_ins smoking diabetes\n",
              "HBP                             0   0       0               0       0        0\n",
              "drinking                        0   0       0               0       0        0\n",
              "cer_cancer_screen               0   0       0               0       0        0\n",
              "ch_screen                       0   0       0               0       0        0\n",
              "chronic_disease                 0   0       0               0       0        0\n",
              "chronic_obs_pul                 1   0       0               0       0        0\n",
              "CHD                             0   1       0               0       0        0\n",
              "Asthama                         0   0       1               0       0        0\n",
              "lack_health_ins                 0   0       0               1       0        0\n",
              "smoking                         0   0       0               0       1        0\n",
              "diabetes                        0   0       0               0       0        1\n",
              "HCH                             0   0       0               0       0        0\n",
              "mammography                     0   0       0               0       0        0\n",
              "mental_health                   0   0       0               0       0        0\n",
              "no_leisure                      0   0       0               0       0        0\n",
              "obesity                         0   0       0               0       0        0\n",
              "physical_health                 0   0       0               0       0        0\n",
              "not_sleeping                    0   0       0               0       0        0\n",
              "stroke                          0   0       0               0       0        0\n",
              "med_HBP                         0   0       0               0       0        0\n",
              "doc_visit                       0   0       0               0       0        0\n",
              "                  HCH mammography mental_health no_leisure obesity\n",
              "HBP                 0           0             0          0       0\n",
              "drinking            0           0             0          0       0\n",
              "cer_cancer_screen   0           0             0          0       0\n",
              "ch_screen           0           0             0          0       0\n",
              "chronic_disease     0           0             0          0       0\n",
              "chronic_obs_pul     0           0             0          0       0\n",
              "CHD                 0           0             0          0       0\n",
              "Asthama             0           0             0          0       0\n",
              "lack_health_ins     0           0             0          0       0\n",
              "smoking             0           0             0          0       0\n",
              "diabetes            0           0             0          0       0\n",
              "HCH                 1           0             0          0       0\n",
              "mammography         0           1             0          0       0\n",
              "mental_health       0           0             1          0       0\n",
              "no_leisure          0           0             0          1       0\n",
              "obesity             0           0             0          0       1\n",
              "physical_health     0           0             0          0       0\n",
              "not_sleeping        0           0             0          0       0\n",
              "stroke              0           0             0          0       0\n",
              "med_HBP             0           0             0          0       0\n",
              "doc_visit           0           0             0          0       0\n",
              "                  physical_health not_sleeping stroke med_HBP doc_visit\n",
              "HBP                             0            0      0       0         0\n",
              "drinking                        0            0      0       0         0\n",
              "cer_cancer_screen               0            0      0       0         0\n",
              "ch_screen                       0            0      0       0         0\n",
              "chronic_disease                 0            0      0       0         0\n",
              "chronic_obs_pul                 0            0      0       0         0\n",
              "CHD                             0            0      0       0         0\n",
              "Asthama                         0            0      0       0         0\n",
              "lack_health_ins                 0            0      0       0         0\n",
              "smoking                         0            0      0       0         0\n",
              "diabetes                        0            0      0       0         0\n",
              "HCH                             0            0      0       0         0\n",
              "mammography                     0            0      0       0         0\n",
              "mental_health                   0            0      0       0         0\n",
              "no_leisure                      0            0      0       0         0\n",
              "obesity                         0            0      0       0         0\n",
              "physical_health                 1            0      0       0         0\n",
              "not_sleeping                    0            1      0       0         0\n",
              "stroke                          0            0      1       0         0\n",
              "med_HBP                         0            0      0       1         0\n",
              "doc_visit                       0            0      0       0         1\n",
              "attr(,\"term.labels\")\n",
              " [1] \"drinking\"          \"cer_cancer_screen\" \"ch_screen\"        \n",
              " [4] \"chronic_disease\"   \"chronic_obs_pul\"   \"CHD\"              \n",
              " [7] \"Asthama\"           \"lack_health_ins\"   \"smoking\"          \n",
              "[10] \"diabetes\"          \"HCH\"               \"mammography\"      \n",
              "[13] \"mental_health\"     \"no_leisure\"        \"obesity\"          \n",
              "[16] \"physical_health\"   \"not_sleeping\"      \"stroke\"           \n",
              "[19] \"med_HBP\"           \"doc_visit\"        \n",
              "attr(,\"order\")\n",
              " [1] 1 1 1 1 1 1 1 1 1 1 1 1 1 1 1 1 1 1 1 1\n",
              "attr(,\"intercept\")\n",
              "[1] 1\n",
              "attr(,\"response\")\n",
              "[1] 1\n",
              "attr(,\".Environment\")\n",
              "<environment: 0x5626f5390698>\n",
              "attr(,\"predvars\")\n",
              "list(HBP, drinking, cer_cancer_screen, ch_screen, chronic_disease, \n",
              "    chronic_obs_pul, CHD, Asthama, lack_health_ins, smoking, \n",
              "    diabetes, HCH, mammography, mental_health, no_leisure, obesity, \n",
              "    physical_health, not_sleeping, stroke, med_HBP, doc_visit)\n",
              "attr(,\"dataClasses\")\n",
              "              HBP          drinking cer_cancer_screen         ch_screen \n",
              "        \"numeric\"         \"numeric\"         \"numeric\"         \"numeric\" \n",
              "  chronic_disease   chronic_obs_pul               CHD           Asthama \n",
              "        \"numeric\"         \"numeric\"         \"numeric\"         \"numeric\" \n",
              "  lack_health_ins           smoking          diabetes               HCH \n",
              "        \"numeric\"         \"numeric\"         \"numeric\"         \"numeric\" \n",
              "      mammography     mental_health        no_leisure           obesity \n",
              "        \"numeric\"         \"numeric\"         \"numeric\"         \"numeric\" \n",
              "  physical_health      not_sleeping            stroke           med_HBP \n",
              "        \"numeric\"         \"numeric\"         \"numeric\"         \"numeric\" \n",
              "        doc_visit \n",
              "        \"numeric\" "
            ]
          },
          "metadata": {
            "tags": []
          }
        }
      ]
    },
    {
      "cell_type": "code",
      "metadata": {
        "id": "R9EYiBf2ScHV"
      },
      "source": [
        "df_backward = subset(temp, select = c(HBP, drinking, cer_cancer_screen, ch_screen, chronic_disease, \n",
        "    chronic_obs_pul, CHD, Asthama, lack_health_ins, smoking, \n",
        "    diabetes, HCH, mammography, mental_health, no_leisure, obesity, \n",
        "    physical_health, not_sleeping, stroke, med_HBP, doc_visit))"
      ],
      "execution_count": null,
      "outputs": []
    },
    {
      "cell_type": "code",
      "metadata": {
        "colab": {
          "base_uri": "https://localhost:8080/",
          "height": 672
        },
        "id": "mVYTuOlJScN0",
        "outputId": "b216cd42-d0f6-4917-fe00-6f7e96468788"
      },
      "source": [
        "summary(backward$model)"
      ],
      "execution_count": null,
      "outputs": [
        {
          "output_type": "display_data",
          "data": {
            "text/plain": [
              "\n",
              "Call:\n",
              "lm(formula = paste(response, \"~\", paste(preds, collapse = \" + \")), \n",
              "    data = l)\n",
              "\n",
              "Residuals:\n",
              "    Min      1Q  Median      3Q     Max \n",
              "-4.8370 -0.7624 -0.0184  0.7356  5.9968 \n",
              "\n",
              "Coefficients:\n",
              "                    Estimate Std. Error t value Pr(>|t|)    \n",
              "(Intercept)       -25.211259   1.817481 -13.872  < 2e-16 ***\n",
              "Arthritis           0.063717   0.019230   3.313 0.000932 ***\n",
              "drinking           -0.141999   0.014929  -9.511  < 2e-16 ***\n",
              "cer_cancer_screen   0.244427   0.024710   9.892  < 2e-16 ***\n",
              "ch_screen           0.041928   0.014650   2.862 0.004237 ** \n",
              "chronic_disease    -4.854709   0.346581 -14.007  < 2e-16 ***\n",
              "chronic_obs_pul    -0.392910   0.058951  -6.665 3.12e-11 ***\n",
              "CHD                 1.043891   0.100817  10.354  < 2e-16 ***\n",
              "Asthama             0.076862   0.049043   1.567 0.117157    \n",
              "smoking            -0.026203   0.019783  -1.325 0.185418    \n",
              "diabetes            0.804200   0.053834  14.939  < 2e-16 ***\n",
              "Fecal_blood_test    0.027064   0.010601   2.553 0.010728 *  \n",
              "HCH                 0.641178   0.019879  32.253  < 2e-16 ***\n",
              "mammography        -0.018299   0.010849  -1.687 0.091747 .  \n",
              "mental_health       0.176233   0.050530   3.488 0.000494 ***\n",
              "no_leisure          0.056239   0.013922   4.040 5.48e-05 ***\n",
              "obesity             0.037355   0.009534   3.918 9.11e-05 ***\n",
              "physical_health    -0.433691   0.056705  -7.648 2.70e-14 ***\n",
              "not_sleeping        0.057589   0.013068   4.407 1.08e-05 ***\n",
              "stroke              4.003573   0.172252  23.243  < 2e-16 ***\n",
              "med_HBP             0.171267   0.015563  11.005  < 2e-16 ***\n",
              "doc_visit          -0.123599   0.013812  -8.948  < 2e-16 ***\n",
              "---\n",
              "Signif. codes:  0 ‘***’ 0.001 ‘**’ 0.01 ‘*’ 0.05 ‘.’ 0.1 ‘ ’ 1\n",
              "\n",
              "Residual standard error: 1.221 on 3120 degrees of freedom\n",
              "Multiple R-squared:  0.9335,\tAdjusted R-squared:  0.9331 \n",
              "F-statistic:  2086 on 21 and 3120 DF,  p-value: < 2.2e-16\n"
            ]
          },
          "metadata": {
            "tags": []
          }
        }
      ]
    },
    {
      "cell_type": "code",
      "metadata": {
        "id": "ksUwqoS8VMF4"
      },
      "source": [
        "#Removing the varaibles where p > 0.05\n",
        "backward_model = lm(HBP ~ drinking + cer_cancer_screen +  ch_screen + chronic_disease + \n",
        "    chronic_obs_pul + CHD +  lack_health_ins +  \n",
        "    diabetes + HCH +  mental_health + no_leisure + obesity + \n",
        "    physical_health + not_sleeping+ stroke + med_HBP + doc_visit, data = temp)"
      ],
      "execution_count": null,
      "outputs": []
    },
    {
      "cell_type": "code",
      "metadata": {
        "colab": {
          "base_uri": "https://localhost:8080/",
          "height": 34
        },
        "id": "9kRZARqgWI40",
        "outputId": "b119751b-7111-4602-85d4-c0d61d33cdd2"
      },
      "source": [
        "AIC(backward_model)"
      ],
      "execution_count": null,
      "outputs": [
        {
          "output_type": "display_data",
          "data": {
            "text/plain": [
              "[1] 10077.34"
            ],
            "text/latex": "10077.3421606474",
            "text/markdown": "10077.3421606474",
            "text/html": [
              "10077.3421606474"
            ]
          },
          "metadata": {
            "tags": []
          }
        }
      ]
    },
    {
      "cell_type": "code",
      "metadata": {
        "id": "EhOvv7oPXcW5"
      },
      "source": [
        "actual = temp$HBP\n",
        "preds_backward = round(backward_model$fitted.values,1)"
      ],
      "execution_count": null,
      "outputs": []
    },
    {
      "cell_type": "code",
      "metadata": {
        "colab": {
          "base_uri": "https://localhost:8080/",
          "height": 34
        },
        "id": "e78Xt-fcXn8i",
        "outputId": "f2bcb82e-6f35-492c-f1ad-7f3ffc717269"
      },
      "source": [
        "mae(actual,preds_backward)"
      ],
      "execution_count": null,
      "outputs": [
        {
          "output_type": "display_data",
          "data": {
            "text/plain": [
              "[1] 0.9100573"
            ],
            "text/latex": "0.910057288351369",
            "text/markdown": "0.910057288351369",
            "text/html": [
              "0.910057288351369"
            ]
          },
          "metadata": {
            "tags": []
          }
        }
      ]
    },
    {
      "cell_type": "code",
      "metadata": {
        "colab": {
          "base_uri": "https://localhost:8080/",
          "height": 34
        },
        "id": "yi2AJmHjXqzI",
        "outputId": "69c02cfb-4a2e-4e3d-8958-b8ff90ad25c8"
      },
      "source": [
        "mape(actual, preds_backward)"
      ],
      "execution_count": null,
      "outputs": [
        {
          "output_type": "display_data",
          "data": {
            "text/plain": [
              "[1] 0.02853055"
            ],
            "text/latex": "0.0285305476461209",
            "text/markdown": "0.0285305476461209",
            "text/html": [
              "0.0285305476461209"
            ]
          },
          "metadata": {
            "tags": []
          }
        }
      ]
    },
    {
      "cell_type": "code",
      "metadata": {
        "colab": {
          "base_uri": "https://localhost:8080/",
          "height": 34
        },
        "id": "R7076DJKXymU",
        "outputId": "227b20ad-2ed8-487a-bac4-cfcd9e71a2f6"
      },
      "source": [
        "rmse(actual, preds_backward)"
      ],
      "execution_count": null,
      "outputs": [
        {
          "output_type": "display_data",
          "data": {
            "text/plain": [
              "[1] 1.195925"
            ],
            "text/latex": "1.19592454560388",
            "text/markdown": "1.19592454560388",
            "text/html": [
              "1.19592454560388"
            ]
          },
          "metadata": {
            "tags": []
          }
        }
      ]
    },
    {
      "cell_type": "code",
      "metadata": {
        "colab": {
          "base_uri": "https://localhost:8080/",
          "height": 34
        },
        "id": "OL_8Wu6kX_PM",
        "outputId": "fcb4c296-5795-47d5-e505-380ba70edd29"
      },
      "source": [
        "bias(actual, preds_backward)"
      ],
      "execution_count": null,
      "outputs": [
        {
          "output_type": "display_data",
          "data": {
            "text/plain": [
              "[1] -0.0002546149"
            ],
            "text/latex": "-0.000254614894971395",
            "text/markdown": "-0.000254614894971395",
            "text/html": [
              "-0.000254614894971395"
            ]
          },
          "metadata": {
            "tags": []
          }
        }
      ]
    },
    {
      "cell_type": "code",
      "metadata": {
        "colab": {
          "base_uri": "https://localhost:8080/",
          "height": 437
        },
        "id": "0EgVv_B7Ympp",
        "outputId": "10e1debe-d3b4-43b4-c8f2-1d5be0c19f5f"
      },
      "source": [
        "plot(actual, preds_backward, col='magenta', pch=19,\n",
        "      xlim=c(0,50), ylim=c(0,50))\n",
        "abline(0,1, col='black', lty=2, lwd=3)"
      ],
      "execution_count": null,
      "outputs": [
        {
          "output_type": "display_data",
          "data": {
            "image/png": "[encoded data removed]",
            "text/plain": [
              "plot without title"
            ]
          },
          "metadata": {
            "tags": [],
            "image/png": {
              "width": 420,
              "height": 420
            }
          }
        }
      ]
    },
    {
      "cell_type": "code",
      "metadata": {
        "colab": {
          "base_uri": "https://localhost:8080/",
          "height": 1000
        },
        "id": "g66DGnU-tePL",
        "outputId": "ad3d62d3-e978-450f-885f-9a9a3f0644bc"
      },
      "source": [
        "CI = predict(backward_model, temp, interval='confidence') # Finding confidence interval\n",
        "CI\n",
        "PI = predict(backward_model, temp, interval='prediction') # Finding prediction interval\n",
        "PI"
      ],
      "execution_count": null,
      "outputs": [
        {
          "output_type": "display_data",
          "data": {
            "text/plain": [
              "     fit      lwr      upr     \n",
              "1    35.28563 34.96346 35.60779\n",
              "2    27.30384 27.09536 27.51231\n",
              "3    33.65145 33.10977 34.19313\n",
              "4    35.09406 34.80902 35.37910\n",
              "5    26.79205 26.59109 26.99301\n",
              "6    28.08472 27.87085 28.29860\n",
              "7    27.75045 27.51594 27.98497\n",
              "8    32.06244 31.82941 32.29546\n",
              "9    36.16976 35.84306 36.49646\n",
              "10   26.42705 26.23455 26.61954\n",
              "11   27.94063 27.67445 28.20681\n",
              "12   26.60951 26.40886 26.81016\n",
              "13   27.88863 27.68034 28.09692\n",
              "14   28.56473 28.30412 28.82534\n",
              "15   37.69269 37.30123 38.08415\n",
              "16   25.37743 25.20819 25.54668\n",
              "17   44.78780 44.23680 45.33880\n",
              "18   28.85648 28.66965 29.04330\n",
              "19   31.27296 30.79930 31.74662\n",
              "20   33.74255 33.43337 34.05172\n",
              "21   31.23614 30.96044 31.51183\n",
              "22   26.67543 26.47631 26.87456\n",
              "23   29.23696 29.00726 29.46667\n",
              "24   30.15719 29.95722 30.35716\n",
              "25   37.44674 37.09479 37.79868\n",
              "26   30.82561 30.59913 31.05209\n",
              "27   25.99632 25.80568 26.18696\n",
              "28   25.90112 25.70501 26.09724\n",
              "29   28.84168 28.63349 29.04987\n",
              "30   39.56831 39.40814 39.72848\n",
              "⋮    ⋮        ⋮        ⋮       \n",
              "3113 38.21255 38.01278 38.41232\n",
              "3114 33.82230 33.64264 34.00197\n",
              "3115 36.69604 36.46959 36.92250\n",
              "3116 35.62938 35.40798 35.85079\n",
              "3117 33.20896 32.99628 33.42164\n",
              "3118 35.46722 35.27093 35.66350\n",
              "3119 37.32715 37.11127 37.54303\n",
              "3120 27.60239 27.43549 27.76929\n",
              "3121 28.27474 28.09289 28.45660\n",
              "3122 28.32782 28.17838 28.47727\n",
              "3123 28.78716 28.60087 28.97345\n",
              "3124 26.86467 26.66921 27.06012\n",
              "3125 26.48171 26.31177 26.65165\n",
              "3126 26.77855 26.61816 26.93895\n",
              "3127 27.00590 26.83536 27.17643\n",
              "3128 29.10137 28.92635 29.27639\n",
              "3129 28.58338 28.40725 28.75952\n",
              "3130 26.32021 26.12371 26.51670\n",
              "3131 29.34170 29.15613 29.52728\n",
              "3132 26.34536 26.19381 26.49691\n",
              "3133 27.22466 27.05943 27.38989\n",
              "3134 26.61083 26.41208 26.80957\n",
              "3135 28.29436 28.10705 28.48167\n",
              "3136 22.65308 22.42948 22.87668\n",
              "3137 28.27118 28.09652 28.44584\n",
              "3138 28.46306 28.25519 28.67093\n",
              "3139 27.50738 27.34069 27.67407\n",
              "3140 27.12548 26.96760 27.28335\n",
              "3141 28.66333 28.49139 28.83526\n",
              "3142 27.45867 27.30330 27.61404"
            ],
            "text/latex": "A matrix: 3142 × 3 of type dbl\n\\begin{tabular}{r|lll}\n  & fit & lwr & upr\\\\\n\\hline\n\t1 & 35.28563 & 34.96346 & 35.60779\\\\\n\t2 & 27.30384 & 27.09536 & 27.51231\\\\\n\t3 & 33.65145 & 33.10977 & 34.19313\\\\\n\t4 & 35.09406 & 34.80902 & 35.37910\\\\\n\t5 & 26.79205 & 26.59109 & 26.99301\\\\\n\t6 & 28.08472 & 27.87085 & 28.29860\\\\\n\t7 & 27.75045 & 27.51594 & 27.98497\\\\\n\t8 & 32.06244 & 31.82941 & 32.29546\\\\\n\t9 & 36.16976 & 35.84306 & 36.49646\\\\\n\t10 & 26.42705 & 26.23455 & 26.61954\\\\\n\t11 & 27.94063 & 27.67445 & 28.20681\\\\\n\t12 & 26.60951 & 26.40886 & 26.81016\\\\\n\t13 & 27.88863 & 27.68034 & 28.09692\\\\\n\t14 & 28.56473 & 28.30412 & 28.82534\\\\\n\t15 & 37.69269 & 37.30123 & 38.08415\\\\\n\t16 & 25.37743 & 25.20819 & 25.54668\\\\\n\t17 & 44.78780 & 44.23680 & 45.33880\\\\\n\t18 & 28.85648 & 28.66965 & 29.04330\\\\\n\t19 & 31.27296 & 30.79930 & 31.74662\\\\\n\t20 & 33.74255 & 33.43337 & 34.05172\\\\\n\t21 & 31.23614 & 30.96044 & 31.51183\\\\\n\t22 & 26.67543 & 26.47631 & 26.87456\\\\\n\t23 & 29.23696 & 29.00726 & 29.46667\\\\\n\t24 & 30.15719 & 29.95722 & 30.35716\\\\\n\t25 & 37.44674 & 37.09479 & 37.79868\\\\\n\t26 & 30.82561 & 30.59913 & 31.05209\\\\\n\t27 & 25.99632 & 25.80568 & 26.18696\\\\\n\t28 & 25.90112 & 25.70501 & 26.09724\\\\\n\t29 & 28.84168 & 28.63349 & 29.04987\\\\\n\t30 & 39.56831 & 39.40814 & 39.72848\\\\\n\t⋮ & ⋮ & ⋮ & ⋮\\\\\n\t3113 & 38.21255 & 38.01278 & 38.41232\\\\\n\t3114 & 33.82230 & 33.64264 & 34.00197\\\\\n\t3115 & 36.69604 & 36.46959 & 36.92250\\\\\n\t3116 & 35.62938 & 35.40798 & 35.85079\\\\\n\t3117 & 33.20896 & 32.99628 & 33.42164\\\\\n\t3118 & 35.46722 & 35.27093 & 35.66350\\\\\n\t3119 & 37.32715 & 37.11127 & 37.54303\\\\\n\t3120 & 27.60239 & 27.43549 & 27.76929\\\\\n\t3121 & 28.27474 & 28.09289 & 28.45660\\\\\n\t3122 & 28.32782 & 28.17838 & 28.47727\\\\\n\t3123 & 28.78716 & 28.60087 & 28.97345\\\\\n\t3124 & 26.86467 & 26.66921 & 27.06012\\\\\n\t3125 & 26.48171 & 26.31177 & 26.65165\\\\\n\t3126 & 26.77855 & 26.61816 & 26.93895\\\\\n\t3127 & 27.00590 & 26.83536 & 27.17643\\\\\n\t3128 & 29.10137 & 28.92635 & 29.27639\\\\\n\t3129 & 28.58338 & 28.40725 & 28.75952\\\\\n\t3130 & 26.32021 & 26.12371 & 26.51670\\\\\n\t3131 & 29.34170 & 29.15613 & 29.52728\\\\\n\t3132 & 26.34536 & 26.19381 & 26.49691\\\\\n\t3133 & 27.22466 & 27.05943 & 27.38989\\\\\n\t3134 & 26.61083 & 26.41208 & 26.80957\\\\\n\t3135 & 28.29436 & 28.10705 & 28.48167\\\\\n\t3136 & 22.65308 & 22.42948 & 22.87668\\\\\n\t3137 & 28.27118 & 28.09652 & 28.44584\\\\\n\t3138 & 28.46306 & 28.25519 & 28.67093\\\\\n\t3139 & 27.50738 & 27.34069 & 27.67407\\\\\n\t3140 & 27.12548 & 26.96760 & 27.28335\\\\\n\t3141 & 28.66333 & 28.49139 & 28.83526\\\\\n\t3142 & 27.45867 & 27.30330 & 27.61404\\\\\n\\end{tabular}\n",
            "text/markdown": "\nA matrix: 3142 × 3 of type dbl\n\n| <!--/--> | fit | lwr | upr |\n|---|---|---|---|\n| 1 | 35.28563 | 34.96346 | 35.60779 |\n| 2 | 27.30384 | 27.09536 | 27.51231 |\n| 3 | 33.65145 | 33.10977 | 34.19313 |\n| 4 | 35.09406 | 34.80902 | 35.37910 |\n| 5 | 26.79205 | 26.59109 | 26.99301 |\n| 6 | 28.08472 | 27.87085 | 28.29860 |\n| 7 | 27.75045 | 27.51594 | 27.98497 |\n| 8 | 32.06244 | 31.82941 | 32.29546 |\n| 9 | 36.16976 | 35.84306 | 36.49646 |\n| 10 | 26.42705 | 26.23455 | 26.61954 |\n| 11 | 27.94063 | 27.67445 | 28.20681 |\n| 12 | 26.60951 | 26.40886 | 26.81016 |\n| 13 | 27.88863 | 27.68034 | 28.09692 |\n| 14 | 28.56473 | 28.30412 | 28.82534 |\n| 15 | 37.69269 | 37.30123 | 38.08415 |\n| 16 | 25.37743 | 25.20819 | 25.54668 |\n| 17 | 44.78780 | 44.23680 | 45.33880 |\n| 18 | 28.85648 | 28.66965 | 29.04330 |\n| 19 | 31.27296 | 30.79930 | 31.74662 |\n| 20 | 33.74255 | 33.43337 | 34.05172 |\n| 21 | 31.23614 | 30.96044 | 31.51183 |\n| 22 | 26.67543 | 26.47631 | 26.87456 |\n| 23 | 29.23696 | 29.00726 | 29.46667 |\n| 24 | 30.15719 | 29.95722 | 30.35716 |\n| 25 | 37.44674 | 37.09479 | 37.79868 |\n| 26 | 30.82561 | 30.59913 | 31.05209 |\n| 27 | 25.99632 | 25.80568 | 26.18696 |\n| 28 | 25.90112 | 25.70501 | 26.09724 |\n| 29 | 28.84168 | 28.63349 | 29.04987 |\n| 30 | 39.56831 | 39.40814 | 39.72848 |\n| ⋮ | ⋮ | ⋮ | ⋮ |\n| 3113 | 38.21255 | 38.01278 | 38.41232 |\n| 3114 | 33.82230 | 33.64264 | 34.00197 |\n| 3115 | 36.69604 | 36.46959 | 36.92250 |\n| 3116 | 35.62938 | 35.40798 | 35.85079 |\n| 3117 | 33.20896 | 32.99628 | 33.42164 |\n| 3118 | 35.46722 | 35.27093 | 35.66350 |\n| 3119 | 37.32715 | 37.11127 | 37.54303 |\n| 3120 | 27.60239 | 27.43549 | 27.76929 |\n| 3121 | 28.27474 | 28.09289 | 28.45660 |\n| 3122 | 28.32782 | 28.17838 | 28.47727 |\n| 3123 | 28.78716 | 28.60087 | 28.97345 |\n| 3124 | 26.86467 | 26.66921 | 27.06012 |\n| 3125 | 26.48171 | 26.31177 | 26.65165 |\n| 3126 | 26.77855 | 26.61816 | 26.93895 |\n| 3127 | 27.00590 | 26.83536 | 27.17643 |\n| 3128 | 29.10137 | 28.92635 | 29.27639 |\n| 3129 | 28.58338 | 28.40725 | 28.75952 |\n| 3130 | 26.32021 | 26.12371 | 26.51670 |\n| 3131 | 29.34170 | 29.15613 | 29.52728 |\n| 3132 | 26.34536 | 26.19381 | 26.49691 |\n| 3133 | 27.22466 | 27.05943 | 27.38989 |\n| 3134 | 26.61083 | 26.41208 | 26.80957 |\n| 3135 | 28.29436 | 28.10705 | 28.48167 |\n| 3136 | 22.65308 | 22.42948 | 22.87668 |\n| 3137 | 28.27118 | 28.09652 | 28.44584 |\n| 3138 | 28.46306 | 28.25519 | 28.67093 |\n| 3139 | 27.50738 | 27.34069 | 27.67407 |\n| 3140 | 27.12548 | 26.96760 | 27.28335 |\n| 3141 | 28.66333 | 28.49139 | 28.83526 |\n| 3142 | 27.45867 | 27.30330 | 27.61404 |\n\n",
            "text/html": [
              "<table class=\"dataframe\">\n",
              "<caption>A matrix: 3142 × 3 of type dbl</caption>\n",
              "<thead>\n",
              "\t<tr><th></th><th scope=col>fit</th><th scope=col>lwr</th><th scope=col>upr</th></tr>\n",
              "</thead>\n",
              "<tbody>\n",
              "\t<tr><th scope=row>1</th><td>35.28563</td><td>34.96346</td><td>35.60779</td></tr>\n",
              "\t<tr><th scope=row>2</th><td>27.30384</td><td>27.09536</td><td>27.51231</td></tr>\n",
              "\t<tr><th scope=row>3</th><td>33.65145</td><td>33.10977</td><td>34.19313</td></tr>\n",
              "\t<tr><th scope=row>4</th><td>35.09406</td><td>34.80902</td><td>35.37910</td></tr>\n",
              "\t<tr><th scope=row>5</th><td>26.79205</td><td>26.59109</td><td>26.99301</td></tr>\n",
              "\t<tr><th scope=row>6</th><td>28.08472</td><td>27.87085</td><td>28.29860</td></tr>\n",
              "\t<tr><th scope=row>7</th><td>27.75045</td><td>27.51594</td><td>27.98497</td></tr>\n",
              "\t<tr><th scope=row>8</th><td>32.06244</td><td>31.82941</td><td>32.29546</td></tr>\n",
              "\t<tr><th scope=row>9</th><td>36.16976</td><td>35.84306</td><td>36.49646</td></tr>\n",
              "\t<tr><th scope=row>10</th><td>26.42705</td><td>26.23455</td><td>26.61954</td></tr>\n",
              "\t<tr><th scope=row>11</th><td>27.94063</td><td>27.67445</td><td>28.20681</td></tr>\n",
              "\t<tr><th scope=row>12</th><td>26.60951</td><td>26.40886</td><td>26.81016</td></tr>\n",
              "\t<tr><th scope=row>13</th><td>27.88863</td><td>27.68034</td><td>28.09692</td></tr>\n",
              "\t<tr><th scope=row>14</th><td>28.56473</td><td>28.30412</td><td>28.82534</td></tr>\n",
              "\t<tr><th scope=row>15</th><td>37.69269</td><td>37.30123</td><td>38.08415</td></tr>\n",
              "\t<tr><th scope=row>16</th><td>25.37743</td><td>25.20819</td><td>25.54668</td></tr>\n",
              "\t<tr><th scope=row>17</th><td>44.78780</td><td>44.23680</td><td>45.33880</td></tr>\n",
              "\t<tr><th scope=row>18</th><td>28.85648</td><td>28.66965</td><td>29.04330</td></tr>\n",
              "\t<tr><th scope=row>19</th><td>31.27296</td><td>30.79930</td><td>31.74662</td></tr>\n",
              "\t<tr><th scope=row>20</th><td>33.74255</td><td>33.43337</td><td>34.05172</td></tr>\n",
              "\t<tr><th scope=row>21</th><td>31.23614</td><td>30.96044</td><td>31.51183</td></tr>\n",
              "\t<tr><th scope=row>22</th><td>26.67543</td><td>26.47631</td><td>26.87456</td></tr>\n",
              "\t<tr><th scope=row>23</th><td>29.23696</td><td>29.00726</td><td>29.46667</td></tr>\n",
              "\t<tr><th scope=row>24</th><td>30.15719</td><td>29.95722</td><td>30.35716</td></tr>\n",
              "\t<tr><th scope=row>25</th><td>37.44674</td><td>37.09479</td><td>37.79868</td></tr>\n",
              "\t<tr><th scope=row>26</th><td>30.82561</td><td>30.59913</td><td>31.05209</td></tr>\n",
              "\t<tr><th scope=row>27</th><td>25.99632</td><td>25.80568</td><td>26.18696</td></tr>\n",
              "\t<tr><th scope=row>28</th><td>25.90112</td><td>25.70501</td><td>26.09724</td></tr>\n",
              "\t<tr><th scope=row>29</th><td>28.84168</td><td>28.63349</td><td>29.04987</td></tr>\n",
              "\t<tr><th scope=row>30</th><td>39.56831</td><td>39.40814</td><td>39.72848</td></tr>\n",
              "\t<tr><th scope=row>⋮</th><td>⋮</td><td>⋮</td><td>⋮</td></tr>\n",
              "\t<tr><th scope=row>3113</th><td>38.21255</td><td>38.01278</td><td>38.41232</td></tr>\n",
              "\t<tr><th scope=row>3114</th><td>33.82230</td><td>33.64264</td><td>34.00197</td></tr>\n",
              "\t<tr><th scope=row>3115</th><td>36.69604</td><td>36.46959</td><td>36.92250</td></tr>\n",
              "\t<tr><th scope=row>3116</th><td>35.62938</td><td>35.40798</td><td>35.85079</td></tr>\n",
              "\t<tr><th scope=row>3117</th><td>33.20896</td><td>32.99628</td><td>33.42164</td></tr>\n",
              "\t<tr><th scope=row>3118</th><td>35.46722</td><td>35.27093</td><td>35.66350</td></tr>\n",
              "\t<tr><th scope=row>3119</th><td>37.32715</td><td>37.11127</td><td>37.54303</td></tr>\n",
              "\t<tr><th scope=row>3120</th><td>27.60239</td><td>27.43549</td><td>27.76929</td></tr>\n",
              "\t<tr><th scope=row>3121</th><td>28.27474</td><td>28.09289</td><td>28.45660</td></tr>\n",
              "\t<tr><th scope=row>3122</th><td>28.32782</td><td>28.17838</td><td>28.47727</td></tr>\n",
              "\t<tr><th scope=row>3123</th><td>28.78716</td><td>28.60087</td><td>28.97345</td></tr>\n",
              "\t<tr><th scope=row>3124</th><td>26.86467</td><td>26.66921</td><td>27.06012</td></tr>\n",
              "\t<tr><th scope=row>3125</th><td>26.48171</td><td>26.31177</td><td>26.65165</td></tr>\n",
              "\t<tr><th scope=row>3126</th><td>26.77855</td><td>26.61816</td><td>26.93895</td></tr>\n",
              "\t<tr><th scope=row>3127</th><td>27.00590</td><td>26.83536</td><td>27.17643</td></tr>\n",
              "\t<tr><th scope=row>3128</th><td>29.10137</td><td>28.92635</td><td>29.27639</td></tr>\n",
              "\t<tr><th scope=row>3129</th><td>28.58338</td><td>28.40725</td><td>28.75952</td></tr>\n",
              "\t<tr><th scope=row>3130</th><td>26.32021</td><td>26.12371</td><td>26.51670</td></tr>\n",
              "\t<tr><th scope=row>3131</th><td>29.34170</td><td>29.15613</td><td>29.52728</td></tr>\n",
              "\t<tr><th scope=row>3132</th><td>26.34536</td><td>26.19381</td><td>26.49691</td></tr>\n",
              "\t<tr><th scope=row>3133</th><td>27.22466</td><td>27.05943</td><td>27.38989</td></tr>\n",
              "\t<tr><th scope=row>3134</th><td>26.61083</td><td>26.41208</td><td>26.80957</td></tr>\n",
              "\t<tr><th scope=row>3135</th><td>28.29436</td><td>28.10705</td><td>28.48167</td></tr>\n",
              "\t<tr><th scope=row>3136</th><td>22.65308</td><td>22.42948</td><td>22.87668</td></tr>\n",
              "\t<tr><th scope=row>3137</th><td>28.27118</td><td>28.09652</td><td>28.44584</td></tr>\n",
              "\t<tr><th scope=row>3138</th><td>28.46306</td><td>28.25519</td><td>28.67093</td></tr>\n",
              "\t<tr><th scope=row>3139</th><td>27.50738</td><td>27.34069</td><td>27.67407</td></tr>\n",
              "\t<tr><th scope=row>3140</th><td>27.12548</td><td>26.96760</td><td>27.28335</td></tr>\n",
              "\t<tr><th scope=row>3141</th><td>28.66333</td><td>28.49139</td><td>28.83526</td></tr>\n",
              "\t<tr><th scope=row>3142</th><td>27.45867</td><td>27.30330</td><td>27.61404</td></tr>\n",
              "</tbody>\n",
              "</table>\n"
            ]
          },
          "metadata": {
            "tags": []
          }
        },
        {
          "output_type": "display_data",
          "data": {
            "text/plain": [
              "     fit      lwr      upr     \n",
              "1    35.28563 32.91263 37.65862\n",
              "2    27.30384 24.94359 29.66409\n",
              "3    33.65145 31.23883 36.06407\n",
              "4    35.09406 32.72582 37.46230\n",
              "5    26.79205 24.43245 29.15165\n",
              "6    28.08472 25.72399 30.44546\n",
              "7    27.75045 25.38776 30.11315\n",
              "8    32.06244 29.69989 34.42498\n",
              "9    36.16976 33.79614 38.54337\n",
              "10   26.42705 24.06815 28.78594\n",
              "11   27.94063 25.57459 30.30668\n",
              "12   26.60951 24.24994 28.96908\n",
              "13   27.88863 25.52840 30.24887\n",
              "14   28.56473 26.19931 30.93016\n",
              "15   37.69269 35.30930 40.07608\n",
              "16   25.37743 23.02032 27.73454\n",
              "17   44.78780 42.37307 47.20253\n",
              "18   28.85648 26.49804 31.21491\n",
              "19   31.27296 28.87470 33.67123\n",
              "20   33.74255 31.37128 36.11381\n",
              "21   31.23614 28.86900 33.60327\n",
              "22   26.67543 24.31599 29.03488\n",
              "23   29.23696 26.87474 31.59918\n",
              "24   30.15719 27.79768 32.51671\n",
              "25   37.44674 35.06951 39.82396\n",
              "26   30.82561 28.46370 33.18752\n",
              "27   25.99632 23.63757 28.35506\n",
              "28   25.90112 23.54193 28.26031\n",
              "29   28.84168 26.48146 31.20191\n",
              "30   39.56831 37.21183 41.92478\n",
              "⋮    ⋮        ⋮        ⋮       \n",
              "3113 38.21255 35.85305 40.57205\n",
              "3114 33.82230 31.46442 36.18018\n",
              "3115 36.69604 34.33414 39.05795\n",
              "3116 35.62938 33.26796 37.99081\n",
              "3117 33.20896 30.84833 35.56958\n",
              "3118 35.46722 33.10801 37.82642\n",
              "3119 37.32715 34.96624 39.68807\n",
              "3120 27.60239 25.24544 29.95933\n",
              "3121 28.27474 25.91670 30.63279\n",
              "3122 28.32782 25.97205 30.68359\n",
              "3123 28.78716 26.42877 31.14556\n",
              "3124 26.86467 24.50553 29.22380\n",
              "3125 26.48171 24.12455 28.83887\n",
              "3126 26.77855 24.42206 29.13504\n",
              "3127 27.00590 24.64869 29.36310\n",
              "3128 29.10137 26.74384 31.45890\n",
              "3129 28.58338 26.22577 30.94100\n",
              "3130 26.32021 23.96099 28.67943\n",
              "3131 29.34170 26.98337 31.70004\n",
              "3132 26.34536 23.98945 28.70126\n",
              "3133 27.22466 24.86784 29.58149\n",
              "3134 26.61083 24.25142 28.97024\n",
              "3135 28.29436 25.93589 30.65284\n",
              "3136 22.65308 20.29145 25.01472\n",
              "3137 28.27118 25.91368 30.62868\n",
              "3138 28.46306 26.10286 30.82326\n",
              "3139 27.50738 25.15045 29.86431\n",
              "3140 27.12548 24.76916 29.48180\n",
              "3141 28.66333 26.30602 31.02063\n",
              "3142 27.45867 25.10252 29.81482"
            ],
            "text/latex": "A matrix: 3142 × 3 of type dbl\n\\begin{tabular}{r|lll}\n  & fit & lwr & upr\\\\\n\\hline\n\t1 & 35.28563 & 32.91263 & 37.65862\\\\\n\t2 & 27.30384 & 24.94359 & 29.66409\\\\\n\t3 & 33.65145 & 31.23883 & 36.06407\\\\\n\t4 & 35.09406 & 32.72582 & 37.46230\\\\\n\t5 & 26.79205 & 24.43245 & 29.15165\\\\\n\t6 & 28.08472 & 25.72399 & 30.44546\\\\\n\t7 & 27.75045 & 25.38776 & 30.11315\\\\\n\t8 & 32.06244 & 29.69989 & 34.42498\\\\\n\t9 & 36.16976 & 33.79614 & 38.54337\\\\\n\t10 & 26.42705 & 24.06815 & 28.78594\\\\\n\t11 & 27.94063 & 25.57459 & 30.30668\\\\\n\t12 & 26.60951 & 24.24994 & 28.96908\\\\\n\t13 & 27.88863 & 25.52840 & 30.24887\\\\\n\t14 & 28.56473 & 26.19931 & 30.93016\\\\\n\t15 & 37.69269 & 35.30930 & 40.07608\\\\\n\t16 & 25.37743 & 23.02032 & 27.73454\\\\\n\t17 & 44.78780 & 42.37307 & 47.20253\\\\\n\t18 & 28.85648 & 26.49804 & 31.21491\\\\\n\t19 & 31.27296 & 28.87470 & 33.67123\\\\\n\t20 & 33.74255 & 31.37128 & 36.11381\\\\\n\t21 & 31.23614 & 28.86900 & 33.60327\\\\\n\t22 & 26.67543 & 24.31599 & 29.03488\\\\\n\t23 & 29.23696 & 26.87474 & 31.59918\\\\\n\t24 & 30.15719 & 27.79768 & 32.51671\\\\\n\t25 & 37.44674 & 35.06951 & 39.82396\\\\\n\t26 & 30.82561 & 28.46370 & 33.18752\\\\\n\t27 & 25.99632 & 23.63757 & 28.35506\\\\\n\t28 & 25.90112 & 23.54193 & 28.26031\\\\\n\t29 & 28.84168 & 26.48146 & 31.20191\\\\\n\t30 & 39.56831 & 37.21183 & 41.92478\\\\\n\t⋮ & ⋮ & ⋮ & ⋮\\\\\n\t3113 & 38.21255 & 35.85305 & 40.57205\\\\\n\t3114 & 33.82230 & 31.46442 & 36.18018\\\\\n\t3115 & 36.69604 & 34.33414 & 39.05795\\\\\n\t3116 & 35.62938 & 33.26796 & 37.99081\\\\\n\t3117 & 33.20896 & 30.84833 & 35.56958\\\\\n\t3118 & 35.46722 & 33.10801 & 37.82642\\\\\n\t3119 & 37.32715 & 34.96624 & 39.68807\\\\\n\t3120 & 27.60239 & 25.24544 & 29.95933\\\\\n\t3121 & 28.27474 & 25.91670 & 30.63279\\\\\n\t3122 & 28.32782 & 25.97205 & 30.68359\\\\\n\t3123 & 28.78716 & 26.42877 & 31.14556\\\\\n\t3124 & 26.86467 & 24.50553 & 29.22380\\\\\n\t3125 & 26.48171 & 24.12455 & 28.83887\\\\\n\t3126 & 26.77855 & 24.42206 & 29.13504\\\\\n\t3127 & 27.00590 & 24.64869 & 29.36310\\\\\n\t3128 & 29.10137 & 26.74384 & 31.45890\\\\\n\t3129 & 28.58338 & 26.22577 & 30.94100\\\\\n\t3130 & 26.32021 & 23.96099 & 28.67943\\\\\n\t3131 & 29.34170 & 26.98337 & 31.70004\\\\\n\t3132 & 26.34536 & 23.98945 & 28.70126\\\\\n\t3133 & 27.22466 & 24.86784 & 29.58149\\\\\n\t3134 & 26.61083 & 24.25142 & 28.97024\\\\\n\t3135 & 28.29436 & 25.93589 & 30.65284\\\\\n\t3136 & 22.65308 & 20.29145 & 25.01472\\\\\n\t3137 & 28.27118 & 25.91368 & 30.62868\\\\\n\t3138 & 28.46306 & 26.10286 & 30.82326\\\\\n\t3139 & 27.50738 & 25.15045 & 29.86431\\\\\n\t3140 & 27.12548 & 24.76916 & 29.48180\\\\\n\t3141 & 28.66333 & 26.30602 & 31.02063\\\\\n\t3142 & 27.45867 & 25.10252 & 29.81482\\\\\n\\end{tabular}\n",
            "text/markdown": "\nA matrix: 3142 × 3 of type dbl\n\n| <!--/--> | fit | lwr | upr |\n|---|---|---|---|\n| 1 | 35.28563 | 32.91263 | 37.65862 |\n| 2 | 27.30384 | 24.94359 | 29.66409 |\n| 3 | 33.65145 | 31.23883 | 36.06407 |\n| 4 | 35.09406 | 32.72582 | 37.46230 |\n| 5 | 26.79205 | 24.43245 | 29.15165 |\n| 6 | 28.08472 | 25.72399 | 30.44546 |\n| 7 | 27.75045 | 25.38776 | 30.11315 |\n| 8 | 32.06244 | 29.69989 | 34.42498 |\n| 9 | 36.16976 | 33.79614 | 38.54337 |\n| 10 | 26.42705 | 24.06815 | 28.78594 |\n| 11 | 27.94063 | 25.57459 | 30.30668 |\n| 12 | 26.60951 | 24.24994 | 28.96908 |\n| 13 | 27.88863 | 25.52840 | 30.24887 |\n| 14 | 28.56473 | 26.19931 | 30.93016 |\n| 15 | 37.69269 | 35.30930 | 40.07608 |\n| 16 | 25.37743 | 23.02032 | 27.73454 |\n| 17 | 44.78780 | 42.37307 | 47.20253 |\n| 18 | 28.85648 | 26.49804 | 31.21491 |\n| 19 | 31.27296 | 28.87470 | 33.67123 |\n| 20 | 33.74255 | 31.37128 | 36.11381 |\n| 21 | 31.23614 | 28.86900 | 33.60327 |\n| 22 | 26.67543 | 24.31599 | 29.03488 |\n| 23 | 29.23696 | 26.87474 | 31.59918 |\n| 24 | 30.15719 | 27.79768 | 32.51671 |\n| 25 | 37.44674 | 35.06951 | 39.82396 |\n| 26 | 30.82561 | 28.46370 | 33.18752 |\n| 27 | 25.99632 | 23.63757 | 28.35506 |\n| 28 | 25.90112 | 23.54193 | 28.26031 |\n| 29 | 28.84168 | 26.48146 | 31.20191 |\n| 30 | 39.56831 | 37.21183 | 41.92478 |\n| ⋮ | ⋮ | ⋮ | ⋮ |\n| 3113 | 38.21255 | 35.85305 | 40.57205 |\n| 3114 | 33.82230 | 31.46442 | 36.18018 |\n| 3115 | 36.69604 | 34.33414 | 39.05795 |\n| 3116 | 35.62938 | 33.26796 | 37.99081 |\n| 3117 | 33.20896 | 30.84833 | 35.56958 |\n| 3118 | 35.46722 | 33.10801 | 37.82642 |\n| 3119 | 37.32715 | 34.96624 | 39.68807 |\n| 3120 | 27.60239 | 25.24544 | 29.95933 |\n| 3121 | 28.27474 | 25.91670 | 30.63279 |\n| 3122 | 28.32782 | 25.97205 | 30.68359 |\n| 3123 | 28.78716 | 26.42877 | 31.14556 |\n| 3124 | 26.86467 | 24.50553 | 29.22380 |\n| 3125 | 26.48171 | 24.12455 | 28.83887 |\n| 3126 | 26.77855 | 24.42206 | 29.13504 |\n| 3127 | 27.00590 | 24.64869 | 29.36310 |\n| 3128 | 29.10137 | 26.74384 | 31.45890 |\n| 3129 | 28.58338 | 26.22577 | 30.94100 |\n| 3130 | 26.32021 | 23.96099 | 28.67943 |\n| 3131 | 29.34170 | 26.98337 | 31.70004 |\n| 3132 | 26.34536 | 23.98945 | 28.70126 |\n| 3133 | 27.22466 | 24.86784 | 29.58149 |\n| 3134 | 26.61083 | 24.25142 | 28.97024 |\n| 3135 | 28.29436 | 25.93589 | 30.65284 |\n| 3136 | 22.65308 | 20.29145 | 25.01472 |\n| 3137 | 28.27118 | 25.91368 | 30.62868 |\n| 3138 | 28.46306 | 26.10286 | 30.82326 |\n| 3139 | 27.50738 | 25.15045 | 29.86431 |\n| 3140 | 27.12548 | 24.76916 | 29.48180 |\n| 3141 | 28.66333 | 26.30602 | 31.02063 |\n| 3142 | 27.45867 | 25.10252 | 29.81482 |\n\n",
            "text/html": [
              "<table class=\"dataframe\">\n",
              "<caption>A matrix: 3142 × 3 of type dbl</caption>\n",
              "<thead>\n",
              "\t<tr><th></th><th scope=col>fit</th><th scope=col>lwr</th><th scope=col>upr</th></tr>\n",
              "</thead>\n",
              "<tbody>\n",
              "\t<tr><th scope=row>1</th><td>35.28563</td><td>32.91263</td><td>37.65862</td></tr>\n",
              "\t<tr><th scope=row>2</th><td>27.30384</td><td>24.94359</td><td>29.66409</td></tr>\n",
              "\t<tr><th scope=row>3</th><td>33.65145</td><td>31.23883</td><td>36.06407</td></tr>\n",
              "\t<tr><th scope=row>4</th><td>35.09406</td><td>32.72582</td><td>37.46230</td></tr>\n",
              "\t<tr><th scope=row>5</th><td>26.79205</td><td>24.43245</td><td>29.15165</td></tr>\n",
              "\t<tr><th scope=row>6</th><td>28.08472</td><td>25.72399</td><td>30.44546</td></tr>\n",
              "\t<tr><th scope=row>7</th><td>27.75045</td><td>25.38776</td><td>30.11315</td></tr>\n",
              "\t<tr><th scope=row>8</th><td>32.06244</td><td>29.69989</td><td>34.42498</td></tr>\n",
              "\t<tr><th scope=row>9</th><td>36.16976</td><td>33.79614</td><td>38.54337</td></tr>\n",
              "\t<tr><th scope=row>10</th><td>26.42705</td><td>24.06815</td><td>28.78594</td></tr>\n",
              "\t<tr><th scope=row>11</th><td>27.94063</td><td>25.57459</td><td>30.30668</td></tr>\n",
              "\t<tr><th scope=row>12</th><td>26.60951</td><td>24.24994</td><td>28.96908</td></tr>\n",
              "\t<tr><th scope=row>13</th><td>27.88863</td><td>25.52840</td><td>30.24887</td></tr>\n",
              "\t<tr><th scope=row>14</th><td>28.56473</td><td>26.19931</td><td>30.93016</td></tr>\n",
              "\t<tr><th scope=row>15</th><td>37.69269</td><td>35.30930</td><td>40.07608</td></tr>\n",
              "\t<tr><th scope=row>16</th><td>25.37743</td><td>23.02032</td><td>27.73454</td></tr>\n",
              "\t<tr><th scope=row>17</th><td>44.78780</td><td>42.37307</td><td>47.20253</td></tr>\n",
              "\t<tr><th scope=row>18</th><td>28.85648</td><td>26.49804</td><td>31.21491</td></tr>\n",
              "\t<tr><th scope=row>19</th><td>31.27296</td><td>28.87470</td><td>33.67123</td></tr>\n",
              "\t<tr><th scope=row>20</th><td>33.74255</td><td>31.37128</td><td>36.11381</td></tr>\n",
              "\t<tr><th scope=row>21</th><td>31.23614</td><td>28.86900</td><td>33.60327</td></tr>\n",
              "\t<tr><th scope=row>22</th><td>26.67543</td><td>24.31599</td><td>29.03488</td></tr>\n",
              "\t<tr><th scope=row>23</th><td>29.23696</td><td>26.87474</td><td>31.59918</td></tr>\n",
              "\t<tr><th scope=row>24</th><td>30.15719</td><td>27.79768</td><td>32.51671</td></tr>\n",
              "\t<tr><th scope=row>25</th><td>37.44674</td><td>35.06951</td><td>39.82396</td></tr>\n",
              "\t<tr><th scope=row>26</th><td>30.82561</td><td>28.46370</td><td>33.18752</td></tr>\n",
              "\t<tr><th scope=row>27</th><td>25.99632</td><td>23.63757</td><td>28.35506</td></tr>\n",
              "\t<tr><th scope=row>28</th><td>25.90112</td><td>23.54193</td><td>28.26031</td></tr>\n",
              "\t<tr><th scope=row>29</th><td>28.84168</td><td>26.48146</td><td>31.20191</td></tr>\n",
              "\t<tr><th scope=row>30</th><td>39.56831</td><td>37.21183</td><td>41.92478</td></tr>\n",
              "\t<tr><th scope=row>⋮</th><td>⋮</td><td>⋮</td><td>⋮</td></tr>\n",
              "\t<tr><th scope=row>3113</th><td>38.21255</td><td>35.85305</td><td>40.57205</td></tr>\n",
              "\t<tr><th scope=row>3114</th><td>33.82230</td><td>31.46442</td><td>36.18018</td></tr>\n",
              "\t<tr><th scope=row>3115</th><td>36.69604</td><td>34.33414</td><td>39.05795</td></tr>\n",
              "\t<tr><th scope=row>3116</th><td>35.62938</td><td>33.26796</td><td>37.99081</td></tr>\n",
              "\t<tr><th scope=row>3117</th><td>33.20896</td><td>30.84833</td><td>35.56958</td></tr>\n",
              "\t<tr><th scope=row>3118</th><td>35.46722</td><td>33.10801</td><td>37.82642</td></tr>\n",
              "\t<tr><th scope=row>3119</th><td>37.32715</td><td>34.96624</td><td>39.68807</td></tr>\n",
              "\t<tr><th scope=row>3120</th><td>27.60239</td><td>25.24544</td><td>29.95933</td></tr>\n",
              "\t<tr><th scope=row>3121</th><td>28.27474</td><td>25.91670</td><td>30.63279</td></tr>\n",
              "\t<tr><th scope=row>3122</th><td>28.32782</td><td>25.97205</td><td>30.68359</td></tr>\n",
              "\t<tr><th scope=row>3123</th><td>28.78716</td><td>26.42877</td><td>31.14556</td></tr>\n",
              "\t<tr><th scope=row>3124</th><td>26.86467</td><td>24.50553</td><td>29.22380</td></tr>\n",
              "\t<tr><th scope=row>3125</th><td>26.48171</td><td>24.12455</td><td>28.83887</td></tr>\n",
              "\t<tr><th scope=row>3126</th><td>26.77855</td><td>24.42206</td><td>29.13504</td></tr>\n",
              "\t<tr><th scope=row>3127</th><td>27.00590</td><td>24.64869</td><td>29.36310</td></tr>\n",
              "\t<tr><th scope=row>3128</th><td>29.10137</td><td>26.74384</td><td>31.45890</td></tr>\n",
              "\t<tr><th scope=row>3129</th><td>28.58338</td><td>26.22577</td><td>30.94100</td></tr>\n",
              "\t<tr><th scope=row>3130</th><td>26.32021</td><td>23.96099</td><td>28.67943</td></tr>\n",
              "\t<tr><th scope=row>3131</th><td>29.34170</td><td>26.98337</td><td>31.70004</td></tr>\n",
              "\t<tr><th scope=row>3132</th><td>26.34536</td><td>23.98945</td><td>28.70126</td></tr>\n",
              "\t<tr><th scope=row>3133</th><td>27.22466</td><td>24.86784</td><td>29.58149</td></tr>\n",
              "\t<tr><th scope=row>3134</th><td>26.61083</td><td>24.25142</td><td>28.97024</td></tr>\n",
              "\t<tr><th scope=row>3135</th><td>28.29436</td><td>25.93589</td><td>30.65284</td></tr>\n",
              "\t<tr><th scope=row>3136</th><td>22.65308</td><td>20.29145</td><td>25.01472</td></tr>\n",
              "\t<tr><th scope=row>3137</th><td>28.27118</td><td>25.91368</td><td>30.62868</td></tr>\n",
              "\t<tr><th scope=row>3138</th><td>28.46306</td><td>26.10286</td><td>30.82326</td></tr>\n",
              "\t<tr><th scope=row>3139</th><td>27.50738</td><td>25.15045</td><td>29.86431</td></tr>\n",
              "\t<tr><th scope=row>3140</th><td>27.12548</td><td>24.76916</td><td>29.48180</td></tr>\n",
              "\t<tr><th scope=row>3141</th><td>28.66333</td><td>26.30602</td><td>31.02063</td></tr>\n",
              "\t<tr><th scope=row>3142</th><td>27.45867</td><td>25.10252</td><td>29.81482</td></tr>\n",
              "</tbody>\n",
              "</table>\n"
            ]
          },
          "metadata": {
            "tags": []
          }
        }
      ]
    },
    {
      "cell_type": "markdown",
      "metadata": {
        "id": "sKGoTK1_p4Gy"
      },
      "source": [
        "**Comparing model performance of Full Linear regression model and Reduced Linear regression model**"
      ]
    },
    {
      "cell_type": "markdown",
      "metadata": {
        "id": "YL3C4W-QZvCB"
      },
      "source": [
        "The AIC index takes into account a model’s statistical fit and the number of parameters needed to achieve this fit. Models with smaller AIC values are preferred—indicating adequate fit with fewer parameters.\n",
        "\n",
        "$\\text{AIC} = -2LL + 2k$\n",
        "\n",
        "where $k$ is the number of predictors in your model and $LL$ is the log-likelihood."
      ]
    },
    {
      "cell_type": "markdown",
      "metadata": {
        "id": "CKw1CoKbI4Jd"
      },
      "source": [
        "Checking the AIC for all our models to check which one is the best one - "
      ]
    },
    {
      "cell_type": "code",
      "metadata": {
        "id": "il8ZXpnxqA6E",
        "colab": {
          "base_uri": "https://localhost:8080/",
          "height": 34
        },
        "outputId": "67941fb0-0d90-4337-f928-620b8fb95c88"
      },
      "source": [
        "AIC(fit.full) #Results of full linear regression model"
      ],
      "execution_count": null,
      "outputs": [
        {
          "output_type": "display_data",
          "data": {
            "text/plain": [
              "[1] 10196.31"
            ],
            "text/latex": "10196.3131036908",
            "text/markdown": "10196.3131036908",
            "text/html": [
              "10196.3131036908"
            ]
          },
          "metadata": {
            "tags": []
          }
        }
      ]
    },
    {
      "cell_type": "code",
      "metadata": {
        "id": "XLDOM-1mqI4T",
        "colab": {
          "base_uri": "https://localhost:8080/",
          "height": 34
        },
        "outputId": "c370360d-6252-437e-e04b-1d5609abc8bb"
      },
      "source": [
        "AIC(backward_model) #Results of backward stepwise reduced model after removing variables with insignificant contribution"
      ],
      "execution_count": null,
      "outputs": [
        {
          "output_type": "display_data",
          "data": {
            "text/plain": [
              "[1] 10077.34"
            ],
            "text/latex": "10077.3421606474",
            "text/markdown": "10077.3421606474",
            "text/html": [
              "10077.3421606474"
            ]
          },
          "metadata": {
            "tags": []
          }
        }
      ]
    },
    {
      "cell_type": "markdown",
      "metadata": {
        "id": "wj8wJgLcrFVK"
      },
      "source": [
        "The AIC values represent that the reduced model using backward stepwise regression after removing variables with insignificant contribution has the least AIC indicating a better performance"
      ]
    },
    {
      "cell_type": "markdown",
      "metadata": {
        "id": "XqhBzMhK6iTo"
      },
      "source": [
        "Viewing all the predictions"
      ]
    },
    {
      "cell_type": "code",
      "metadata": {
        "id": "2M6IptN55yHt",
        "colab": {
          "base_uri": "https://localhost:8080/"
        },
        "outputId": "b1836215-7749-4490-c894-ba1348070e06"
      },
      "source": [
        "full = preds_full\n",
        "print(full)"
      ],
      "execution_count": null,
      "outputs": [
        {
          "output_type": "stream",
          "text": [
            "   1    2    3    4    5    6    7    8    9   10   11   12   13   14   15   16 \n",
            "30.1 40.8 38.4 36.3 30.6 43.3 24.9 25.9 22.7 31.6 30.2 29.8 30.0 29.4 30.6 28.7 \n",
            "  17   18   19   20   21   22   23   24   25   26   27   28   29   30   31   32 \n",
            "26.1 24.4 28.9 34.6 35.2 31.9 23.8 30.0 23.3 25.5 20.9 26.5 28.2 31.1 25.8 29.7 \n",
            "  33   34   35   36   37   38   39   40   41   42   43   44   45   46   47   48 \n",
            "27.2 26.8 26.6 36.7 27.2 25.9 26.6 25.0 28.6 27.0 25.1 28.2 24.0 24.7 25.6 24.8 \n",
            "  49   50   51   52   53   54   55   56   57   58   59   60   61   62   63   64 \n",
            "30.8 28.8 27.0 23.8 25.1 22.7 28.2 31.5 26.0 25.6 26.4 28.0 29.7 23.8 30.2 28.5 \n",
            "  65   66   67   68   69   70   71   72   73   74   75   76   77   78   79   80 \n",
            "23.6 32.1 26.3 26.9 23.7 28.2 30.1 29.9 24.4 25.9 28.3 25.2 28.1 28.7 24.9 27.3 \n",
            "  81   82   83   84   85   86   87   88   89   90   91   92   93   94   95   96 \n",
            "25.4 27.6 25.7 27.2 26.5 24.1 25.5 30.0 27.0 25.2 23.3 26.8 28.1 24.1 23.5 26.0 \n",
            "  97   98   99  100  101  102  103  104  105  106  107  108  109  110  111  112 \n",
            "26.1 23.0 25.4 27.5 31.0 22.2 23.5 25.3 24.0 25.6 25.7 25.5 27.5 28.3 26.6 29.9 \n",
            " 113  114  115  116  117  118  119  120  121  122  123  124  125  126  127  128 \n",
            "28.6 25.2 23.9 24.6 30.8 26.8 29.7 27.1 25.8 26.8 21.6 25.2 26.0 26.0 25.9 25.8 \n",
            " 129  130  131  132  133  134  135  136  137  138  139  140  141  142  143  144 \n",
            "23.0 33.2 26.2 25.3 28.0 24.5 27.7 21.9 26.0 26.6 26.2 24.2 25.8 24.3 26.0 27.6 \n",
            " 145  146  147  148  149  150  151  152  153  154  155  156  157  158  159  160 \n",
            "29.4 24.8 25.5 21.3 26.2 23.4 24.9 23.3 18.6 22.0 30.9 25.6 26.1 24.8 15.4 30.2 \n",
            " 161  162  163  164  165  166  167  168  169  170  171  172  173  174  175  176 \n",
            "31.4 27.6 28.5 26.9 34.8 31.1 34.1 37.7 28.2 33.7 34.1 40.3 36.6 35.5 33.6 34.4 \n",
            " 177  178  179  180  181  182  183  184  185  186  187  188  189  190  191  192 \n",
            "32.4 29.9 34.1 24.1 31.2 27.4 36.9 33.6 22.5 28.2 29.0 38.8 28.2 35.9 36.8 34.7 \n",
            " 193  194  195  196  197  198  199  200  201  202  203  204  205  206  207  208 \n",
            "29.9 31.1 37.2 35.7 36.4 31.9 29.2 33.8 33.0 33.5 45.0 36.3 41.1 26.9 37.0 25.7 \n",
            " 209  210  211  212  213  214  215  216  217  218  219  220  221  222  223  224 \n",
            "26.4 31.4 25.8 37.2 34.0 28.8 24.9 28.7 25.9 35.5 30.1 27.8 30.3 33.2 32.3 21.9 \n",
            " 225  226  227  228  229  230  231  232  233  234  235  236  237  238  239  240 \n",
            "25.6 28.0 26.5 25.4 27.6 25.0 27.8 25.8 26.8 36.6 29.1 27.6 31.2 34.8 36.2 30.3 \n",
            " 241  242  243  244  245  246  247  248  249  250  251  252  253  254  255  256 \n",
            "31.6 23.9 19.8 35.8 33.2 51.0 29.1 30.8 19.7 31.2 30.8 33.4 36.6 20.1 34.7 26.0 \n",
            " 257  258  259  260  261  262  263  264  265  266  267  268  269  270  271  272 \n",
            "31.9 27.5 34.3 29.7 32.6 34.9 36.2 39.6 34.3 40.8 29.0 38.6 30.5 24.4 35.7 30.7 \n",
            " 273  274  275  276  277  278  279  280  281  282  283  284  285  286  287  288 \n",
            "26.2 31.4 29.0 21.1 35.0 36.1 28.7 21.8 34.9 30.9 31.3 32.8 33.2 33.0 43.8 28.4 \n",
            " 289  290  291  292  293  294  295  296  297  298  299  300  301  302  303  304 \n",
            "28.3 38.7 28.0 47.3 29.7 32.9 20.9 29.2 35.7 23.7 25.2 26.4 27.1 26.8 25.8 22.9 \n",
            " 305  306  307  308  309  310  311  312  313  314  315  316  317  318  319  320 \n",
            "37.6 41.1 23.2 34.9 28.9 27.5 34.0 33.2 31.4 34.4 21.0 27.6 24.8 28.8 28.5 27.7 \n",
            " 321  322  323  324  325  326  327  328  329  330  331  332  333  334  335  336 \n",
            "28.2 29.0 30.2 29.4 29.3 28.1 29.3 31.2 36.1 34.8 29.4 31.1 38.1 34.9 26.7 26.2 \n",
            " 337  338  339  340  341  342  343  344  345  346  347  348  349  350  351  352 \n",
            "27.6 25.7 34.0 30.0 32.1 36.2 29.6 31.3 32.8 30.0 35.6 26.6 30.8 29.8 37.4 28.5 \n",
            " 353  354  355  356  357  358  359  360  361  362  363  364  365  366  367  368 \n",
            "33.3 36.1 29.1 31.5 37.2 34.7 32.0 27.6 19.7 23.8 29.8 36.3 41.4 41.0 38.6 35.8 \n",
            " 369  370  371  372  373  374  375  376  377  378  379  380  381  382  383  384 \n",
            "36.5 45.1 31.2 27.1 29.4 31.9 27.0 32.2 28.9 24.6 25.8 24.1 28.8 26.9 25.8 24.8 \n",
            " 385  386  387  388  389  390  391  392  393  394  395  396  397  398  399  400 \n",
            "31.3 30.9 35.0 31.4 33.7 33.7 35.7 33.1 28.1 32.6 30.2 32.5 28.2 33.2 28.4 33.9 \n",
            " 401  402  403  404  405  406  407  408  409  410  411  412  413  414  415  416 \n",
            "29.7 29.2 25.9 31.7 37.8 28.1 40.0 32.9 30.6 30.6 29.0 31.6 28.1 30.9 30.1 30.3 \n",
            " 417  418  419  420  421  422  423  424  425  426  427  428  429  430  431  432 \n",
            "28.9 32.8 27.0 28.1 22.5 34.1 16.1 31.8 31.8 25.5 29.2 30.9 30.0 26.6 28.7 25.7 \n",
            " 433  434  435  436  437  438  439  440  441  442  443  444  445  446  447  448 \n",
            "30.8 37.1 31.1 27.8 26.9 25.9 24.2 30.3 31.3 34.0 26.6 26.7 27.0 29.8 31.3 31.0 \n",
            " 449  450  451  452  453  454  455  456  457  458  459  460  461  462  463  464 \n",
            "24.7 33.7 28.7 29.9 30.3 29.7 28.2 30.8 27.8 21.2 22.1 29.2 25.0 16.1 24.9 23.3 \n",
            " 465  466  467  468  469  470  471  472  473  474  475  476  477  478  479  480 \n",
            "24.3 18.5 37.0 33.5 26.1 29.7 30.0 33.2 33.4 38.6 31.6 35.6 36.1 25.6 27.8 29.2 \n",
            " 481  482  483  484  485  486  487  488  489  490  491  492  493  494  495  496 \n",
            "26.7 28.6 29.7 29.4 24.7 29.9 24.8 30.3 27.6 23.3 31.1 38.6 29.0 32.2 26.4 29.2 \n",
            " 497  498  499  500 \n",
            "21.3 32.6 26.9 29.0 \n"
          ],
          "name": "stdout"
        }
      ]
    },
    {
      "cell_type": "code",
      "metadata": {
        "id": "v65Htc9a6X_L",
        "colab": {
          "base_uri": "https://localhost:8080/"
        },
        "outputId": "e3e3de3c-3812-41df-b674-54c21e6970ee"
      },
      "source": [
        "reduced = preds_backward\n",
        "print(reduced)"
      ],
      "execution_count": null,
      "outputs": [
        {
          "output_type": "stream",
          "text": [
            "   1    2    3    4    5    6    7    8    9   10   11   12   13   14   15   16 \n",
            "35.3 27.3 33.7 35.1 26.8 28.1 27.8 32.1 36.2 26.4 27.9 26.6 27.9 28.6 37.7 25.4 \n",
            "  17   18   19   20   21   22   23   24   25   26   27   28   29   30   31   32 \n",
            "44.8 28.9 31.3 33.7 31.2 26.7 29.2 30.2 37.4 30.8 26.0 25.9 28.8 39.6 40.0 36.4 \n",
            "  33   34   35   36   37   38   39   40   41   42   43   44   45   46   47   48 \n",
            "37.1 40.8 39.4 40.8 38.8 38.6 37.0 39.6 39.2 33.4 38.7 38.1 36.1 39.3 50.2 38.9 \n",
            "  49   50   51   52   53   54   55   56   57   58   59   60   61   62   63   64 \n",
            "43.2 38.9 45.1 46.3 36.5 42.3 38.3 43.3 36.2 47.1 38.4 33.6 41.3 38.0 39.1 37.8 \n",
            "  65   66   67   68   69   70   71   72   73   74   75   76   77   78   79   80 \n",
            "39.5 43.1 41.2 37.3 41.3 38.6 46.4 36.6 41.8 47.7 46.5 37.9 37.0 37.1 39.1 36.6 \n",
            "  81   82   83   84   85   86   87   88   89   90   91   92   93   94   95   96 \n",
            "36.9 39.5 47.5 34.3 37.4 41.7 37.6 39.1 44.6 40.2 38.4 41.2 45.2 37.9 43.6 50.8 \n",
            "  97   98   99  100  101  102  103  104  105  106  107  108  109  110  111  112 \n",
            "35.5 39.8 42.4 42.8 37.3 39.5 39.0 36.1 36.6 36.2 34.4 35.2 33.3 37.0 33.2 34.9 \n",
            " 113  114  115  116  117  118  119  120  121  122  123  124  125  126  127  128 \n",
            "33.5 34.4 34.1 35.6 39.3 38.5 41.3 36.5 41.2 32.8 30.8 36.5 38.0 37.8 40.2 37.5 \n",
            " 129  130  131  132  133  134  135  136  137  138  139  140  141  142  143  144 \n",
            "33.0 34.5 35.3 32.2 34.4 34.3 35.0 35.2 33.7 34.3 37.0 32.6 31.9 38.4 32.8 34.0 \n",
            " 145  146  147  148  149  150  151  152  153  154  155  156  157  158  159  160 \n",
            "35.0 34.9 34.8 33.8 37.0 35.3 40.3 34.3 42.8 32.4 34.2 38.0 32.6 35.2 34.7 36.7 \n",
            " 161  162  163  164  165  166  167  168  169  170  171  172  173  174  175  176 \n",
            "36.2 36.6 32.5 35.5 33.2 35.4 37.8 38.9 34.1 36.3 35.7 30.5 28.3 29.0 35.2 32.5 \n",
            " 177  178  179  180  181  182  183  184  185  186  187  188  189  190  191  192 \n",
            "30.2 28.1 31.2 28.8 25.3 29.8 27.4 28.2 26.3 31.1 24.8 28.8 30.0 31.2 27.2 24.2 \n",
            " 193  194  195  196  197  198  199  200  201  202  203  204  205  206  207  208 \n",
            "30.5 28.8 30.9 27.9 28.4 31.1 29.3 30.5 29.0 27.1 25.7 23.4 26.5 28.4 27.6 24.7 \n",
            " 209  210  211  212  213  214  215  216  217  218  219  220  221  222  223  224 \n",
            "27.4 28.7 29.7 25.9 31.2 24.5 26.3 23.1 25.7 29.8 27.1 28.3 24.9 28.2 29.6 28.3 \n",
            " 225  226  227  228  229  230  231  232  233  234  235  236  237  238  239  240 \n",
            "26.8 27.6 26.5 28.5 28.7 25.9 24.8 28.4 24.0 25.9 26.2 28.0 26.5 26.9 24.1 26.0 \n",
            " 241  242  243  244  245  246  247  248  249  250  251  252  253  254  255  256 \n",
            "24.4 28.6 26.9 29.2 26.5 25.6 27.2 26.2 24.3 22.8 23.8 25.9 27.6 22.9 26.6 27.4 \n",
            " 257  258  259  260  261  262  263  264  265  266  267  268  269  270  271  272 \n",
            "25.5 28.5 27.1 27.4 27.0 23.6 27.0 27.5 24.2 25.5 30.8 24.4 26.8 26.3 24.3 27.9 \n",
            " 273  274  275  276  277  278  279  280  281  282  283  284  285  286  287  288 \n",
            "23.7 26.7 26.4 25.3 24.5 24.6 23.0 27.9 26.2 24.1 26.2 25.8 24.6 28.6 26.1 25.3 \n",
            " 289  290  291  292  293  294  295  296  297  298  299  300  301  302  303  304 \n",
            "26.4 30.4 27.3 26.9 23.7 23.4 27.8 23.5 24.4 30.4 24.1 28.2 26.0 23.9 24.4 28.6 \n",
            " 305  306  307  308  309  310  311  312  313  314  315  316  317  318  319  320 \n",
            "27.1 21.3 23.8 23.4 26.8 29.8 26.6 25.2 29.5 27.7 27.1 29.0 29.6 30.4 30.1 34.0 \n",
            " 321  322  323  324  325  326  327  328  329  330  331  332  333  334  335  336 \n",
            "33.8 34.8 27.3 32.0 33.3 30.5 28.0 36.6 32.3 35.0 27.0 35.0 28.4 36.6 26.3 31.0 \n",
            " 337  338  339  340  341  342  343  344  345  346  347  348  349  350  351  352 \n",
            "29.6 37.9 34.7 27.9 27.7 30.5 33.2 29.8 31.6 32.6 29.6 28.5 31.1 32.7 28.3 30.1 \n",
            " 353  354  355  356  357  358  359  360  361  362  363  364  365  366  367  368 \n",
            "36.9 29.3 29.5 29.7 29.7 34.7 34.0 32.2 31.5 29.6 33.7 33.1 38.1 33.7 30.7 33.8 \n",
            " 369  370  371  372  373  374  375  376  377  378  379  380  381  382  383  384 \n",
            "33.1 31.9 30.2 28.8 31.7 32.3 31.3 36.0 31.2 29.8 36.0 35.8 35.4 36.0 31.6 31.0 \n",
            " 385  386  387  388  389  390  391  392  393  394  395  396  397  398  399  400 \n",
            "28.3 29.4 31.2 38.0 33.3 38.5 36.4 38.7 30.3 39.4 30.7 32.7 32.6 34.1 31.9 30.3 \n",
            " 401  402  403  404  405  406  407  408  409  410  411  412  413  414  415  416 \n",
            "33.7 37.1 37.4 37.5 30.7 32.6 35.3 34.1 32.7 40.6 36.5 35.0 35.5 32.2 41.4 31.4 \n",
            " 417  418  419  420  421  422  423  424  425  426  427  428  429  430  431  432 \n",
            "30.9 38.6 33.2 35.7 31.4 36.9 34.7 31.6 41.0 39.0 37.5 34.3 37.6 38.4 34.9 35.2 \n",
            " 433  434  435  436  437  438  439  440  441  442  443  444  445  446  447  448 \n",
            "36.0 30.0 31.7 35.9 39.4 37.4 36.2 36.6 36.1 38.3 40.1 29.4 37.8 35.9 37.4 36.7 \n",
            " 449  450  451  452  453  454  455  456  457  458  459  460  461  462  463  464 \n",
            "29.5 39.2 35.4 34.7 35.4 36.7 32.8 29.8 37.0 32.2 38.7 32.9 27.7 35.0 35.8 35.4 \n",
            " 465  466  467  468  469  470  471  472  473  474  475  476  477  478  479  480 \n",
            "35.2 37.2 37.1 35.5 30.1 31.0 39.5 35.6 39.8 27.7 39.8 36.5 31.9 34.7 40.2 34.7 \n",
            " 481  482  483  484  485  486  487  488  489  490  491  492  493  494  495  496 \n",
            "30.4 31.8 43.8 37.1 39.0 35.8 34.6 34.7 33.1 43.0 38.9 31.5 35.0 34.4 36.8 35.0 \n",
            " 497  498  499  500  501  502  503  504  505  506  507  508  509  510  511  512 \n",
            "42.9 37.9 30.8 38.2 29.4 38.7 34.0 41.7 35.4 43.2 36.0 33.3 35.7 33.7 33.2 35.3 \n",
            " 513  514  515  516  517  518  519  520  521  522  523  524  525  526  527  528 \n",
            "31.5 37.4 29.0 40.1 38.5 31.9 36.3 36.8 31.5 30.9 32.3 35.7 43.6 30.1 36.3 35.0 \n",
            " 529  530  531  532  533  534  535  536  537  538  539  540  541  542  543  544 \n",
            "39.7 33.7 38.7 33.5 30.7 31.2 34.9 35.4 34.8 35.4 31.6 37.6 33.6 35.0 39.9 34.1 \n",
            " 545  546  547  548  549  550  551  552  553  554  555  556  557  558  559  560 \n",
            "36.3 33.8 24.6 30.0 26.1 25.2 24.2 27.9 30.7 31.1 31.4 27.1 28.0 25.8 28.4 30.1 \n",
            " 561  562  563  564  565  566  567  568  569  570  571  572  573  574  575  576 \n",
            "30.1 28.0 28.7 29.2 28.5 28.3 29.2 28.4 27.8 30.1 28.9 29.0 29.8 28.3 28.2 30.0 \n",
            " 577  578  579  580  581  582  583  584  585  586  587  588  589  590  591  592 \n",
            "29.1 29.0 29.6 30.4 29.1 28.8 31.4 29.0 27.8 28.3 30.1 30.0 29.7 28.2 28.1 29.0 \n",
            " 593  594  595  596  597  598  599  600  601  602  603  604  605  606  607  608 \n",
            "28.6 28.9 29.6 29.4 29.4 28.8 28.5 25.7 29.1 29.7 30.0 30.9 29.1 28.6 29.3 29.1 \n",
            " 609  610  611  612  613  614  615  616  617  618  619  620  621  622  623  624 \n",
            "29.6 27.8 27.7 29.7 30.0 29.0 30.3 28.6 28.9 29.6 30.4 28.5 28.9 29.6 29.4 30.1 \n",
            " 625  626  627  628  629  630  631  632  633  634  635  636  637  638  639  640 \n",
            "29.7 29.8 29.5 27.2 29.1 29.3 27.6 28.0 28.9 29.6 28.8 28.4 29.8 29.4 31.1 30.0 \n",
            " 641  642  643  644  645  646  647  648  649  650  651  652  653  654  655  656 \n",
            "28.9 27.6 28.2 27.7 29.3 29.2 28.7 27.0 29.8 27.7 30.8 25.8 28.0 25.4 27.2 28.8 \n",
            " 657  658  659  660  661  662  663  664  665  666  667  668  669  670  671  672 \n",
            "29.7 30.1 27.5 28.2 26.3 29.3 27.5 28.8 29.2 30.5 27.6 27.9 29.9 32.1 29.5 29.0 \n",
            " 673  674  675  676  677  678  679  680  681  682  683  684  685  686  687  688 \n",
            "27.7 28.2 29.2 28.6 27.0 27.1 30.1 27.0 28.0 29.5 25.1 27.1 27.8 29.7 28.9 29.6 \n",
            " 689  690  691  692  693  694  695  696  697  698  699  700  701  702  703  704 \n",
            "26.9 28.2 30.1 28.5 29.7 29.4 30.1 30.3 31.4 30.1 30.7 30.4 30.4 29.8 36.6 30.5 \n",
            " 705  706  707  708  709  710  711  712  713  714  715  716  717  718  719  720 \n",
            "31.2 32.2 30.4 31.5 29.7 31.1 33.4 30.2 32.7 32.1 29.9 29.7 31.6 29.3 30.7 28.3 \n",
            " 721  722  723  724  725  726  727  728  729  730  731  732  733  734  735  736 \n",
            "27.1 32.0 30.1 31.5 28.0 32.3 31.0 30.9 30.1 30.7 29.6 31.0 32.4 31.4 32.4 30.4 \n",
            " 737  738  739  740  741  742  743  744  745  746  747  748  749  750  751  752 \n",
            "31.3 32.3 28.7 28.6 31.5 28.8 29.7 29.8 31.2 27.9 29.5 37.8 28.9 31.3 29.6 32.9 \n",
            " 753  754  755  756  757  758  759  760  761  762  763  764  765  766  767  768 \n",
            "32.0 31.0 31.0 31.3 29.5 31.1 31.4 31.5 27.9 31.5 28.0 29.8 31.0 28.9 27.1 32.1 \n",
            " 769  770  771  772  773  774  775  776  777  778  779  780  781  782  783  784 \n",
            "32.1 30.5 31.1 30.7 31.9 29.8 31.3 29.8 32.5 31.7 30.1 30.7 29.3 29.8 30.2 30.1 \n",
            " 785  786  787  788  789  790  791  792  793  794  795  796  797  798  799  800 \n",
            "29.5 30.5 28.3 30.3 29.0 32.2 30.3 33.0 29.5 31.1 29.7 30.9 32.5 32.6 34.4 32.2 \n",
            " 801  802  803  804  805  806  807  808  809  810  811  812  813  814  815  816 \n",
            "33.5 34.1 33.1 35.0 31.3 33.3 32.5 32.6 34.2 32.7 35.6 30.8 33.9 33.3 32.5 32.4 \n",
            " 817  818  819  820  821  822  823  824  825  826  827  828  829  830  831  832 \n",
            "31.8 32.3 33.5 30.5 34.2 32.8 34.0 31.9 31.5 31.8 34.1 33.9 33.4 33.4 33.1 35.2 \n",
            " 833  834  835  836  837  838  839  840  841  842  843  844  845  846  847  848 \n",
            "33.5 34.1 32.6 33.5 35.3 30.4 32.4 34.2 33.3 31.9 32.6 31.8 31.5 34.2 32.1 32.5 \n",
            " 849  850  851  852  853  854  855  856  857  858  859  860  861  862  863  864 \n",
            "36.0 32.0 31.6 32.1 32.1 32.7 32.9 32.5 34.8 32.9 30.3 33.4 33.8 33.4 28.8 34.1 \n",
            " 865  866  867  868  869  870  871  872  873  874  875  876  877  878  879  880 \n",
            "33.8 33.2 31.3 32.8 34.8 34.9 31.9 33.2 33.4 34.9 31.8 34.7 34.5 34.4 34.3 31.1 \n",
            " 881  882  883  884  885  886  887  888  889  890  891  892  893  894  895  896 \n",
            "34.0 28.8 33.6 32.9 34.5 34.3 31.2 33.0 29.7 31.5 33.3 34.0 29.8 31.3 29.4 30.5 \n",
            " 897  898  899  900  901  902  903  904  905  906  907  908  909  910  911  912 \n",
            "28.9 32.0 30.9 29.6 30.7 32.7 29.4 29.9 32.2 29.6 31.2 30.7 31.0 30.1 30.1 32.1 \n",
            " 913  914  915  916  917  918  919  920  921  922  923  924  925  926  927  928 \n",
            "32.0 30.7 29.4 31.0 30.5 28.3 32.4 30.8 28.5 31.1 30.7 32.3 32.4 30.7 30.7 30.3 \n",
            " 929  930  931  932  933  934  935  936  937  938  939  940  941  942  943  944 \n",
            "31.2 30.5 31.8 28.7 31.0 29.5 33.1 29.8 30.9 29.0 29.0 30.7 32.0 29.5 28.7 27.5 \n",
            " 945  946  947  948  949  950  951  952  953  954  955  956  957  958  959  960 \n",
            "29.0 30.9 30.5 30.7 32.6 32.2 33.2 30.2 30.0 29.6 33.5 30.2 29.1 29.7 32.6 30.9 \n",
            " 961  962  963  964  965  966  967  968  969  970  971  972  973  974  975  976 \n",
            "29.5 29.9 30.6 31.1 31.9 28.5 30.1 30.6 31.2 30.0 30.5 29.1 30.0 30.7 32.6 30.9 \n",
            " 977  978  979  980  981  982  983  984  985  986  987  988  989  990  991  992 \n",
            "28.1 32.2 30.9 35.5 31.9 29.4 32.1 32.5 30.8 32.4 28.5 29.5 30.6 31.2 29.9 30.7 \n",
            " 993  994  995  996  997  998  999 1000 1001 1002 1003 1004 1005 1006 1007 1008 \n",
            "32.2 40.5 37.6 39.1 38.7 37.0 37.4 39.1 40.3 36.9 39.6 34.4 41.9 38.7 39.3 37.9 \n",
            "1009 1010 1011 1012 1013 1014 1015 1016 1017 1018 1019 1020 1021 1022 1023 1024 \n",
            "36.7 36.7 38.9 36.2 39.9 38.6 37.7 39.9 46.0 40.2 32.9 40.8 41.3 39.5 39.4 42.6 \n",
            "1025 1026 1027 1028 1029 1030 1031 1032 1033 1034 1035 1036 1037 1038 1039 1040 \n",
            "37.6 42.5 37.3 37.2 38.2 41.2 35.8 41.9 35.4 36.8 39.0 35.1 33.6 39.3 39.8 34.6 \n",
            "1041 1042 1043 1044 1045 1046 1047 1048 1049 1050 1051 1052 1053 1054 1055 1056 \n",
            "40.0 39.5 37.6 41.2 39.0 42.7 36.8 37.4 39.3 38.7 41.9 40.3 37.6 44.0 38.0 42.5 \n",
            "1057 1058 1059 1060 1061 1062 1063 1064 1065 1066 1067 1068 1069 1070 1071 1072 \n",
            "38.2 42.3 37.3 40.8 39.3 38.8 35.7 41.7 39.1 37.4 39.7 36.3 37.6 39.7 39.1 37.2 \n",
            "1073 1074 1075 1076 1077 1078 1079 1080 1081 1082 1083 1084 1085 1086 1087 1088 \n",
            "40.8 38.1 39.2 41.9 39.0 39.9 35.1 39.2 36.4 39.4 40.9 42.4 36.4 39.0 35.4 42.7 \n",
            "1089 1090 1091 1092 1093 1094 1095 1096 1097 1098 1099 1100 1101 1102 1103 1104 \n",
            "37.8 34.3 37.6 40.8 37.8 38.8 39.2 38.9 37.6 37.2 38.2 36.0 36.5 38.4 37.2 34.0 \n",
            "1105 1106 1107 1108 1109 1110 1111 1112 1113 1114 1115 1116 1117 1118 1119 1120 \n",
            "38.7 38.6 36.8 39.8 38.4 36.2 38.1 37.9 39.9 40.0 38.4 34.9 36.5 34.4 40.1 38.0 \n",
            "1121 1122 1123 1124 1125 1126 1127 1128 1129 1130 1131 1132 1133 1134 1135 1136 \n",
            "45.7 33.3 36.3 36.3 40.0 37.2 48.0 51.0 40.9 35.3 41.3 41.2 37.7 39.2 37.2 40.8 \n",
            "1137 1138 1139 1140 1141 1142 1143 1144 1145 1146 1147 1148 1149 1150 1151 1152 \n",
            "39.5 34.5 41.4 38.5 34.1 37.8 40.1 37.5 42.1 39.4 34.9 38.5 39.8 37.9 36.0 32.8 \n",
            "1153 1154 1155 1156 1157 1158 1159 1160 1161 1162 1163 1164 1165 1166 1167 1168 \n",
            "38.0 38.2 42.4 35.8 42.2 39.9 40.4 36.3 39.9 38.8 38.7 41.8 39.2 34.9 39.4 37.4 \n",
            "1169 1170 1171 1172 1173 1174 1175 1176 1177 1178 1179 1180 1181 1182 1183 1184 \n",
            "40.3 44.0 38.1 37.0 37.2 38.8 37.3 39.0 37.8 26.5 26.6 28.5 28.2 29.5 27.1 26.2 \n",
            "1185 1186 1187 1188 1189 1190 1191 1192 1193 1194 1195 1196 1197 1198 1199 1200 \n",
            "27.0 28.1 26.8 27.2 29.1 28.6 24.7 37.3 32.7 34.2 30.5 33.9 36.3 32.5 36.3 36.7 \n",
            "1201 1202 1203 1204 1205 1206 1207 1208 1209 1210 1211 1212 1213 1214 1215 1216 \n",
            "31.7 29.9 31.3 33.1 30.9 33.4 31.9 29.6 31.1 30.7 37.7 35.0 40.2 37.5 32.4 31.6 \n",
            "1217 1218 1219 1220 1221 1222 1223 1224 1225 1226 1227 1228 1229 1230 1231 1232 \n",
            "27.5 32.6 30.2 35.4 30.0 27.8 32.1 31.0 28.5 28.0 26.8 30.1 31.7 30.2 28.3 27.0 \n",
            "1233 1234 1235 1236 1237 1238 1239 1240 1241 1242 1243 1244 1245 1246 1247 1248 \n",
            "29.3 32.1 31.8 31.5 32.0 31.6 28.4 33.0 31.6 29.8 30.9 31.6 31.0 31.4 30.7 32.8 \n",
            "1249 1250 1251 1252 1253 1254 1255 1256 1257 1258 1259 1260 1261 1262 1263 1264 \n",
            "29.2 32.3 33.7 30.3 27.7 30.9 32.7 32.0 29.7 31.2 30.5 29.0 29.8 30.8 29.2 32.0 \n",
            "1265 1266 1267 1268 1269 1270 1271 1272 1273 1274 1275 1276 1277 1278 1279 1280 \n",
            "31.7 33.7 32.3 31.4 32.4 30.1 30.0 29.5 32.5 34.7 31.7 32.7 28.7 31.5 31.4 32.3 \n",
            "1281 1282 1283 1284 1285 1286 1287 1288 1289 1290 1291 1292 1293 1294 1295 1296 \n",
            "32.3 32.2 30.7 30.4 31.0 31.2 30.3 32.4 30.6 31.7 29.5 31.1 31.7 31.8 31.7 29.1 \n",
            "1297 1298 1299 1300 1301 1302 1303 1304 1305 1306 1307 1308 1309 1310 1311 1312 \n",
            "30.8 31.4 30.7 30.7 32.0 28.8 32.0 26.7 31.4 34.1 29.6 31.2 30.9 30.7 30.4 32.6 \n",
            "1313 1314 1315 1316 1317 1318 1319 1320 1321 1322 1323 1324 1325 1326 1327 1328 \n",
            "34.7 33.3 26.9 26.0 27.0 26.4 26.8 26.3 26.8 27.5 26.4 24.5 24.9 29.0 26.6 27.5 \n",
            "1329 1330 1331 1332 1333 1334 1335 1336 1337 1338 1339 1340 1341 1342 1343 1344 \n",
            "25.8 25.3 29.1 26.4 27.0 26.6 28.0 26.4 26.8 24.2 26.4 27.0 28.7 27.6 26.2 26.9 \n",
            "1345 1346 1347 1348 1349 1350 1351 1352 1353 1354 1355 1356 1357 1358 1359 1360 \n",
            "25.3 25.3 26.5 26.7 25.9 26.6 26.6 25.7 26.2 24.5 27.9 27.1 26.4 25.9 33.2 27.6 \n",
            "1361 1362 1363 1364 1365 1366 1367 1368 1369 1370 1371 1372 1373 1374 1375 1376 \n",
            "27.7 27.2 28.0 26.6 25.7 26.3 26.6 25.4 26.1 28.4 25.1 26.9 25.0 27.4 25.1 27.0 \n",
            "1377 1378 1379 1380 1381 1382 1383 1384 1385 1386 1387 1388 1389 1390 1391 1392 \n",
            "26.5 25.3 29.0 27.2 26.9 26.9 25.8 26.5 24.0 27.6 26.2 22.7 25.4 26.7 27.7 26.8 \n",
            "1393 1394 1395 1396 1397 1398 1399 1400 1401 1402 1403 1404 1405 1406 1407 1408 \n",
            "26.2 26.7 24.9 27.0 27.2 26.8 26.8 27.0 26.7 30.1 32.0 32.4 33.0 33.0 34.9 34.0 \n",
            "1409 1410 1411 1412 1413 1414 1415 1416 1417 1418 1419 1420 1421 1422 1423 1424 \n",
            "28.7 33.6 33.5 32.6 33.0 33.0 32.8 32.7 31.5 32.8 32.5 37.0 32.8 33.0 33.3 32.4 \n",
            "1425 1426 1427 1428 1429 1430 1431 1432 1433 1434 1435 1436 1437 1438 1439 1440 \n",
            "33.1 32.2 31.5 31.0 32.7 32.5 32.2 32.5 33.7 31.3 33.0 31.8 37.2 33.3 35.5 30.9 \n",
            "1441 1442 1443 1444 1445 1446 1447 1448 1449 1450 1451 1452 1453 1454 1455 1456 \n",
            "35.4 33.2 35.1 32.2 33.1 33.6 34.3 30.3 33.7 28.9 39.2 33.4 36.9 31.5 35.0 32.6 \n",
            "1457 1458 1459 1460 1461 1462 1463 1464 1465 1466 1467 1468 1469 1470 1471 1472 \n",
            "31.2 34.7 35.6 31.8 35.1 32.1 33.4 34.0 33.5 32.0 32.7 30.6 30.1 31.7 33.0 34.3 \n",
            "1473 1474 1475 1476 1477 1478 1479 1480 1481 1482 1483 1484 1485 1486 1487 1488 \n",
            "33.7 30.0 31.9 31.1 30.2 34.0 34.2 32.2 32.4 32.3 31.3 32.3 33.6 32.0 33.7 32.9 \n",
            "1489 1490 1491 1492 1493 1494 1495 1496 1497 1498 1499 1500 1501 1502 1503 1504 \n",
            "31.9 32.1 32.4 30.8 31.1 37.6 32.3 34.1 31.9 33.2 32.2 33.2 35.4 32.4 31.7 34.1 \n",
            "1505 1506 1507 1508 1509 1510 1511 1512 1513 1514 1515 1516 1517 1518 1519 1520 \n",
            "33.0 33.4 28.0 30.8 32.8 31.1 31.3 31.2 30.2 34.0 32.7 32.9 38.4 33.9 49.1 35.4 \n",
            "1521 1522 1523 1524 1525 1526 1527 1528 1529 1530 1531 1532 1533 1534 1535 1536 \n",
            "39.7 37.8 39.7 39.6 41.1 42.2 38.1 39.8 38.3 39.4 48.8 42.7 40.0 35.9 37.2 40.7 \n",
            "1537 1538 1539 1540 1541 1542 1543 1544 1545 1546 1547 1548 1549 1550 1551 1552 \n",
            "43.4 37.6 41.2 47.5 36.9 40.2 45.7 42.9 45.8 41.3 43.1 39.8 39.7 36.8 40.1 42.7 \n",
            "1553 1554 1555 1556 1557 1558 1559 1560 1561 1562 1563 1564 1565 1566 1567 1568 \n",
            "38.8 41.2 41.4 37.9 45.1 45.2 38.3 36.9 49.0 38.1 43.3 41.0 41.0 41.0 44.7 38.8 \n",
            "1569 1570 1571 1572 1573 1574 1575 1576 1577 1578 1579 1580 1581 1582 1583 1584 \n",
            "47.9 45.6 42.9 40.9 43.2 38.5 51.8 40.9 38.3 40.5 42.2 41.3 51.9 48.2 46.4 35.7 \n",
            "1585 1586 1587 1588 1589 1590 1591 1592 1593 1594 1595 1596 1597 1598 1599 1600 \n",
            "45.5 50.0 37.1 44.8 39.6 38.0 47.3 38.8 37.8 42.3 44.8 37.1 50.6 41.2 25.9 28.9 \n",
            "1601 1602 1603 1604 1605 1606 1607 1608 1609 1610 1611 1612 1613 1614 1615 1616 \n",
            "25.6 24.7 35.1 28.1 28.9 25.5 25.4 27.0 27.5 26.5 25.3 25.1 32.2 29.1 34.3 22.4 \n",
            "1617 1618 1619 1620 1621 1622 1623 1624 1625 1626 1627 1628 1629 1630 1631 1632 \n",
            "26.7 24.5 28.6 26.5 25.4 24.5 26.1 27.6 28.2 24.3 27.3 26.3 23.7 26.4 25.8 28.7 \n",
            "1633 1634 1635 1636 1637 1638 1639 1640 1641 1642 1643 1644 1645 1646 1647 1648 \n",
            "28.0 24.9 25.1 25.9 25.3 25.1 26.8 28.5 25.7 27.2 26.5 26.3 27.4 25.8 27.6 25.6 \n",
            "1649 1650 1651 1652 1653 1654 1655 1656 1657 1658 1659 1660 1661 1662 1663 1664 \n",
            "33.7 28.7 26.7 28.4 27.4 25.1 31.8 34.2 30.7 32.2 35.3 35.7 35.2 37.9 37.5 35.2 \n",
            "1665 1666 1667 1668 1669 1670 1671 1672 1673 1674 1675 1676 1677 1678 1679 1680 \n",
            "33.8 40.3 34.7 31.3 30.4 29.8 32.2 31.0 32.5 39.2 31.7 33.3 33.6 31.6 37.7 29.7 \n",
            "1681 1682 1683 1684 1685 1686 1687 1688 1689 1690 1691 1692 1693 1694 1695 1696 \n",
            "33.0 41.2 30.6 28.9 37.9 34.3 37.5 38.6 34.9 35.2 32.0 31.5 40.4 39.8 35.9 33.5 \n",
            "1697 1698 1699 1700 1701 1702 1703 1704 1705 1706 1707 1708 1709 1710 1711 1712 \n",
            "32.7 33.6 31.5 29.5 31.8 34.4 32.9 33.8 34.1 39.9 34.3 39.6 34.8 34.0 37.8 32.5 \n",
            "1713 1714 1715 1716 1717 1718 1719 1720 1721 1722 1723 1724 1725 1726 1727 1728 \n",
            "31.2 38.3 30.2 36.7 34.6 35.0 32.2 30.3 40.3 31.8 31.4 34.3 32.1 31.8 34.0 30.5 \n",
            "1729 1730 1731 1732 1733 1734 1735 1736 1737 1738 1739 1740 1741 1742 1743 1744 \n",
            "33.1 32.7 30.5 38.4 32.8 33.2 33.0 32.5 36.2 37.4 40.8 36.2 34.1 32.6 40.2 38.3 \n",
            "1745 1746 1747 1748 1749 1750 1751 1752 1753 1754 1755 1756 1757 1758 1759 1760 \n",
            "40.0 32.9 32.9 38.5 29.2 35.7 35.0 33.9 33.0 31.8 30.9 30.6 29.6 29.6 30.2 29.8 \n",
            "1761 1762 1763 1764 1765 1766 1767 1768 1769 1770 1771 1772 1773 1774 1775 1776 \n",
            "28.2 30.5 31.5 29.7 30.4 29.6 29.3 29.4 29.8 32.1 29.6 29.2 43.2 30.1 38.3 30.8 \n",
            "1777 1778 1779 1780 1781 1782 1783 1784 1785 1786 1787 1788 1789 1790 1791 1792 \n",
            "30.9 29.0 30.0 39.8 30.6 29.3 27.8 30.2 28.7 30.0 29.9 28.1 29.4 29.7 30.1 29.9 \n",
            "1793 1794 1795 1796 1797 1798 1799 1800 1801 1802 1803 1804 1805 1806 1807 1808 \n",
            "30.1 31.4 29.6 31.1 31.4 30.5 29.3 28.6 29.4 30.6 31.7 30.7 29.6 30.2 30.8 28.5 \n",
            "1809 1810 1811 1812 1813 1814 1815 1816 1817 1818 1819 1820 1821 1822 1823 1824 \n",
            "29.2 27.7 28.7 29.9 29.0 27.6 30.0 27.9 30.5 26.7 29.8 28.6 28.0 27.0 26.6 27.4 \n",
            "1825 1826 1827 1828 1829 1830 1831 1832 1833 1834 1835 1836 1837 1838 1839 1840 \n",
            "26.4 28.7 29.1 28.2 29.0 28.8 28.3 29.2 29.4 26.5 29.5 27.0 29.2 27.4 30.1 28.1 \n",
            "1841 1842 1843 1844 1845 1846 1847 1848 1849 1850 1851 1852 1853 1854 1855 1856 \n",
            "27.4 29.4 28.2 29.3 30.1 27.3 28.1 29.2 29.6 28.2 29.8 29.0 27.2 30.0 31.5 28.3 \n",
            "1857 1858 1859 1860 1861 1862 1863 1864 1865 1866 1867 1868 1869 1870 1871 1872 \n",
            "28.0 27.5 27.6 28.4 28.1 28.9 28.2 28.1 30.0 29.3 27.1 28.4 28.8 28.9 27.2 29.4 \n",
            "1873 1874 1875 1876 1877 1878 1879 1880 1881 1882 1883 1884 1885 1886 1887 1888 \n",
            "28.5 27.4 28.0 29.7 31.0 28.2 28.0 28.3 30.3 30.0 27.7 30.8 29.3 29.8 34.9 28.8 \n",
            "1889 1890 1891 1892 1893 1894 1895 1896 1897 1898 1899 1900 1901 1902 1903 1904 \n",
            "29.5 28.0 28.1 27.5 27.4 27.9 30.6 28.7 28.7 27.2 26.5 27.3 27.0 28.9 26.8 32.4 \n",
            "1905 1906 1907 1908 1909 1910 1911 1912 1913 1914 1915 1916 1917 1918 1919 1920 \n",
            "27.4 27.0 29.5 27.1 27.8 28.0 34.4 27.6 31.9 32.6 30.9 31.6 29.6 31.5 31.1 30.8 \n",
            "1921 1922 1923 1924 1925 1926 1927 1928 1929 1930 1931 1932 1933 1934 1935 1936 \n",
            "27.6 26.0 30.9 29.9 33.2 29.6 25.6 28.2 32.3 28.4 26.5 28.3 30.5 29.1 29.7 29.7 \n",
            "1937 1938 1939 1940 1941 1942 1943 1944 1945 1946 1947 1948 1949 1950 1951 1952 \n",
            "30.0 30.8 27.0 27.3 24.6 29.4 27.7 29.4 29.4 34.3 32.4 30.9 28.7 28.8 29.1 28.7 \n",
            "1953 1954 1955 1956 1957 1958 1959 1960 1961 1962 1963 1964 1965 1966 1967 1968 \n",
            "29.1 28.8 28.1 31.5 30.3 36.2 27.3 29.0 27.2 28.7 22.8 30.5 27.6 32.6 29.7 28.5 \n",
            "1969 1970 1971 1972 1973 1974 1975 1976 1977 1978 1979 1980 1981 1982 1983 1984 \n",
            "28.6 32.3 28.7 30.4 29.4 30.1 27.9 28.6 26.8 29.8 29.9 28.2 29.0 30.8 31.1 31.2 \n",
            "1985 1986 1987 1988 1989 1990 1991 1992 1993 1994 1995 1996 1997 1998 1999 2000 \n",
            "29.6 30.5 30.3 25.9 28.5 30.3 25.3 29.2 28.8 30.7 29.1 31.3 30.3 26.0 28.0 31.8 \n",
            "2001 2002 2003 2004 2005 2006 2007 2008 2009 2010 2011 2012 2013 2014 2015 2016 \n",
            "29.3 30.7 29.8 29.6 29.2 28.9 30.9 28.1 29.4 27.5 30.1 29.9 27.7 30.6 28.7 35.8 \n",
            "2017 2018 2019 2020 2021 2022 2023 2024 2025 2026 2027 2028 2029 2030 2031 2032 \n",
            "30.2 30.6 29.7 27.5 28.9 28.9 28.5 27.8 30.7 27.9 28.6 32.7 30.0 30.3 30.0 28.4 \n",
            "2033 2034 2035 2036 2037 2038 2039 2040 2041 2042 2043 2044 2045 2046 2047 2048 \n",
            "30.4 31.2 29.8 27.5 30.1 28.3 28.8 28.5 32.2 28.3 29.2 34.1 32.3 34.1 28.8 35.4 \n",
            "2049 2050 2051 2052 2053 2054 2055 2056 2057 2058 2059 2060 2061 2062 2063 2064 \n",
            "35.0 32.9 32.3 32.0 34.4 35.2 33.6 31.2 32.3 33.7 33.6 35.0 33.2 31.9 32.0 36.2 \n",
            "2065 2066 2067 2068 2069 2070 2071 2072 2073 2074 2075 2076 2077 2078 2079 2080 \n",
            "32.9 32.3 33.7 29.2 33.5 31.0 33.7 30.1 31.8 32.3 30.7 32.5 32.9 32.9 32.8 32.5 \n",
            "2081 2082 2083 2084 2085 2086 2087 2088 2089 2090 2091 2092 2093 2094 2095 2096 \n",
            "29.4 35.3 29.1 33.5 31.5 35.2 30.8 33.6 32.1 34.5 31.9 31.0 31.8 34.1 31.6 33.5 \n",
            "2097 2098 2099 2100 2101 2102 2103 2104 2105 2106 2107 2108 2109 2110 2111 2112 \n",
            "31.5 33.5 32.0 34.2 31.0 33.5 32.0 33.2 28.4 31.3 34.9 31.0 33.1 31.6 32.7 34.4 \n",
            "2113 2114 2115 2116 2117 2118 2119 2120 2121 2122 2123 2124 2125 2126 2127 2128 \n",
            "32.2 30.2 35.5 31.0 34.3 31.5 35.5 32.2 33.6 31.0 31.2 32.1 30.6 30.4 33.6 29.0 \n",
            "2129 2130 2131 2132 2133 2134 2135 2136 2137 2138 2139 2140 2141 2142 2143 2144 \n",
            "33.9 30.7 33.3 36.4 36.8 34.4 37.8 34.2 36.3 37.7 37.7 37.3 36.3 42.0 39.0 37.1 \n",
            "2145 2146 2147 2148 2149 2150 2151 2152 2153 2154 2155 2156 2157 2158 2159 2160 \n",
            "36.5 35.8 37.7 37.2 38.5 38.3 33.4 37.1 35.5 37.3 36.4 35.7 31.9 33.8 36.3 39.0 \n",
            "2161 2162 2163 2164 2165 2166 2167 2168 2169 2170 2171 2172 2173 2174 2175 2176 \n",
            "33.4 33.1 33.5 34.7 37.6 38.0 35.8 36.0 37.1 35.6 37.2 37.6 39.3 37.0 34.3 34.9 \n",
            "2177 2178 2179 2180 2181 2182 2183 2184 2185 2186 2187 2188 2189 2190 2191 2192 \n",
            "35.8 36.3 35.3 35.1 37.8 32.7 40.0 36.1 38.0 37.7 32.7 35.4 33.9 35.0 37.2 34.4 \n",
            "2193 2194 2195 2196 2197 2198 2199 2200 2201 2202 2203 2204 2205 2206 2207 2208 \n",
            "34.3 35.3 38.3 34.7 34.5 35.2 34.1 36.0 34.0 40.8 34.5 35.5 33.8 36.5 37.6 39.2 \n",
            "2209 2210 2211 2212 2213 2214 2215 2216 2217 2218 2219 2220 2221 2222 2223 2224 \n",
            "26.4 30.4 27.3 28.5 26.0 29.9 27.5 27.4 29.7 27.7 28.2 28.1 28.9 27.5 28.1 28.2 \n",
            "2225 2226 2227 2228 2229 2230 2231 2232 2233 2234 2235 2236 2237 2238 2239 2240 \n",
            "28.1 28.0 26.3 28.9 28.9 24.7 29.4 28.1 28.2 27.7 29.0 30.3 31.3 27.6 29.9 28.9 \n",
            "2241 2242 2243 2244 2245 2246 2247 2248 2249 2250 2251 2252 2253 2254 2255 2256 \n",
            "29.2 29.8 24.9 29.3 31.1 30.1 30.4 27.1 34.4 29.9 31.1 29.6 31.0 30.7 28.8 29.7 \n",
            "2257 2258 2259 2260 2261 2262 2263 2264 2265 2266 2267 2268 2269 2270 2271 2272 \n",
            "30.6 29.7 28.7 30.9 30.1 29.8 28.7 28.3 30.9 30.5 31.5 30.1 33.5 29.5 29.1 28.6 \n",
            "2273 2274 2275 2276 2277 2278 2279 2280 2281 2282 2283 2284 2285 2286 2287 2288 \n",
            "31.4 30.8 30.8 30.8 29.7 28.4 30.1 28.5 30.5 30.4 30.5 30.2 30.1 27.2 29.8 30.4 \n",
            "2289 2290 2291 2292 2293 2294 2295 2296 2297 2298 2299 2300 2301 2302 2303 2304 \n",
            "31.4 30.5 31.3 30.4 31.0 27.7 29.3 29.8 27.4 30.8 28.8 29.9 30.5 28.9 30.3 27.6 \n",
            "2305 2306 2307 2308 2309 2310 2311 2312 2313 2314 2315 2316 2317 2318 2319 2320 \n",
            "30.1 29.9 30.1 30.4 29.3 30.2 31.0 28.8 24.4 26.3 30.5 25.9 37.4 38.7 33.1 33.0 \n",
            "2321 2322 2323 2324 2325 2326 2327 2328 2329 2330 2331 2332 2333 2334 2335 2336 \n",
            "33.6 44.6 41.0 37.6 38.3 34.7 37.0 41.0 34.4 40.3 40.9 42.8 38.4 43.4 41.1 37.6 \n",
            "2337 2338 2339 2340 2341 2342 2343 2344 2345 2346 2347 2348 2349 2350 2351 2352 \n",
            "35.4 34.0 35.7 36.7 33.8 30.5 43.5 39.1 39.4 32.4 34.0 40.6 35.6 36.2 34.4 41.4 \n",
            "2353 2354 2355 2356 2357 2358 2359 2360 2361 2362 2363 2364 2365 2366 2367 2368 \n",
            "42.5 35.4 39.6 34.3 29.5 37.4 38.8 39.9 39.4 38.3 26.7 25.5 24.9 25.7 26.2 25.9 \n",
            "2369 2370 2371 2372 2373 2374 2375 2376 2377 2378 2379 2380 2381 2382 2383 2384 \n",
            "25.8 25.5 28.4 26.8 29.0 31.9 37.8 26.6 27.4 40.0 26.9 35.3 40.9 28.7 26.8 25.5 \n",
            "2385 2386 2387 2388 2389 2390 2391 2392 2393 2394 2395 2396 2397 2398 2399 2400 \n",
            "42.2 27.8 25.5 25.6 28.3 27.7 37.6 26.6 26.2 26.5 26.6 28.0 24.5 25.9 25.0 43.5 \n",
            "2401 2402 2403 2404 2405 2406 2407 2408 2409 2410 2411 2412 2413 2414 2415 2416 \n",
            "27.8 27.8 24.8 27.0 31.3 25.7 37.2 26.5 26.0 26.0 27.4 27.2 26.3 25.9 25.8 28.6 \n",
            "2417 2418 2419 2420 2421 2422 2423 2424 2425 2426 2427 2428 2429 2430 2431 2432 \n",
            "28.2 25.3 30.3 25.3 27.2 27.5 26.5 25.6 27.2 26.4 26.0 42.1 38.1 37.2 37.6 37.2 \n",
            "2433 2434 2435 2436 2437 2438 2439 2440 2441 2442 2443 2444 2445 2446 2447 2448 \n",
            "34.1 35.2 37.3 34.3 36.4 37.1 36.4 36.7 36.0 36.5 35.4 33.8 34.7 37.1 39.6 36.8 \n",
            "2449 2450 2451 2452 2453 2454 2455 2456 2457 2458 2459 2460 2461 2462 2463 2464 \n",
            "35.5 37.4 36.8 32.7 35.0 38.4 36.8 33.3 37.4 34.6 42.1 36.9 38.7 42.0 35.8 39.0 \n",
            "2465 2466 2467 2468 2469 2470 2471 2472 2473 2474 2475 2476 2477 2478 2479 2480 \n",
            "36.4 35.0 35.0 37.7 36.7 37.0 35.0 35.0 35.4 37.4 42.9 35.4 36.0 35.1 34.9 32.6 \n",
            "2481 2482 2483 2484 2485 2486 2487 2488 2489 2490 2491 2492 2493 2494 2495 2496 \n",
            "37.1 37.6 38.2 38.1 37.6 34.7 36.8 35.5 38.6 36.9 37.4 36.7 35.6 29.2 36.4 37.1 \n",
            "2497 2498 2499 2500 2501 2502 2503 2504 2505 2506 2507 2508 2509 2510 2511 2512 \n",
            "36.3 37.4 37.1 38.3 39.0 35.3 37.2 37.4 36.0 36.2 36.1 33.6 34.1 37.6 36.5 36.6 \n",
            "2513 2514 2515 2516 2517 2518 2519 2520 2521 2522 2523 2524 2525 2526 2527 2528 \n",
            "36.4 35.8 38.1 41.9 33.4 36.9 36.4 37.5 35.8 36.8 36.9 31.3 32.7 34.5 35.6 38.2 \n",
            "2529 2530 2531 2532 2533 2534 2535 2536 2537 2538 2539 2540 2541 2542 2543 2544 \n",
            "33.2 35.3 32.6 31.0 32.5 32.0 32.2 31.5 34.0 33.5 34.5 33.2 32.6 34.5 32.6 34.1 \n",
            "2545 2546 2547 2548 2549 2550 2551 2552 2553 2554 2555 2556 2557 2558 2559 2560 \n",
            "32.5 33.0 30.5 34.4 35.9 33.4 33.5 36.2 33.2 31.6 32.7 31.2 33.2 33.2 32.3 35.2 \n",
            "2561 2562 2563 2564 2565 2566 2567 2568 2569 2570 2571 2572 2573 2574 2575 2576 \n",
            "33.8 29.2 33.3 34.4 34.6 34.8 34.2 31.9 34.8 32.6 34.2 35.8 33.4 31.6 36.2 31.7 \n",
            "2577 2578 2579 2580 2581 2582 2583 2584 2585 2586 2587 2588 2589 2590 2591 2592 \n",
            "36.6 35.0 30.9 33.7 34.6 34.0 34.3 33.5 36.0 33.2 35.7 35.3 31.6 33.8 30.1 30.6 \n",
            "2593 2594 2595 2596 2597 2598 2599 2600 2601 2602 2603 2604 2605 2606 2607 2608 \n",
            "28.9 31.8 31.0 32.0 35.1 32.3 31.6 33.0 33.4 36.9 37.3 31.9 31.8 36.0 33.6 34.2 \n",
            "2609 2610 2611 2612 2613 2614 2615 2616 2617 2618 2619 2620 2621 2622 2623 2624 \n",
            "32.4 30.8 32.3 38.3 33.8 34.4 32.0 30.0 34.1 32.1 36.9 34.5 34.2 33.8 33.6 32.2 \n",
            "2625 2626 2627 2628 2629 2630 2631 2632 2633 2634 2635 2636 2637 2638 2639 2640 \n",
            "36.3 32.5 34.9 33.9 32.4 35.1 31.6 34.9 33.2 32.5 36.1 34.2 33.0 32.3 32.3 37.0 \n",
            "2641 2642 2643 2644 2645 2646 2647 2648 2649 2650 2651 2652 2653 2654 2655 2656 \n",
            "36.9 33.6 34.3 32.9 35.8 34.8 34.0 33.9 33.9 32.7 35.5 31.5 35.1 29.6 37.6 33.2 \n",
            "2657 2658 2659 2660 2661 2662 2663 2664 2665 2666 2667 2668 2669 2670 2671 2672 \n",
            "36.6 32.8 39.3 34.8 31.6 38.4 32.7 33.9 35.2 31.9 35.8 35.4 35.2 34.5 34.2 34.6 \n",
            "2673 2674 2675 2676 2677 2678 2679 2680 2681 2682 2683 2684 2685 2686 2687 2688 \n",
            "32.4 36.7 33.7 38.3 33.7 35.5 32.8 35.0 34.0 32.3 35.9 33.6 31.7 32.6 33.1 32.9 \n",
            "2689 2690 2691 2692 2693 2694 2695 2696 2697 2698 2699 2700 2701 2702 2703 2704 \n",
            "35.9 35.4 35.2 30.8 35.6 33.6 31.8 34.6 34.0 34.2 36.2 35.6 31.5 32.8 31.0 29.8 \n",
            "2705 2706 2707 2708 2709 2710 2711 2712 2713 2714 2715 2716 2717 2718 2719 2720 \n",
            "35.7 31.2 36.2 34.2 33.6 33.8 36.5 33.8 33.0 36.7 31.2 32.3 32.8 33.5 33.6 33.6 \n",
            "2721 2722 2723 2724 2725 2726 2727 2728 2729 2730 2731 2732 2733 2734 2735 2736 \n",
            "38.0 35.2 32.5 33.8 33.3 32.5 32.0 29.6 34.8 34.9 32.9 31.4 36.0 33.5 38.5 33.6 \n",
            "2737 2738 2739 2740 2741 2742 2743 2744 2745 2746 2747 2748 2749 2750 2751 2752 \n",
            "31.4 37.9 35.8 33.3 37.4 35.7 32.0 33.4 31.6 32.9 28.8 34.0 30.1 36.1 32.0 33.0 \n",
            "2753 2754 2755 2756 2757 2758 2759 2760 2761 2762 2763 2764 2765 2766 2767 2768 \n",
            "33.4 30.5 29.5 32.8 35.0 32.5 32.6 31.0 34.1 34.1 30.9 32.9 35.6 35.5 34.1 38.6 \n",
            "2769 2770 2771 2772 2773 2774 2775 2776 2777 2778 2779 2780 2781 2782 2783 2784 \n",
            "34.6 28.5 28.8 32.1 34.1 32.7 30.6 32.1 32.5 27.5 27.6 29.1 34.5 28.8 27.9 28.4 \n",
            "2785 2786 2787 2788 2789 2790 2791 2792 2793 2794 2795 2796 2797 2798 2799 2800 \n",
            "27.8 28.7 29.7 26.8 28.8 29.3 28.9 29.1 25.5 27.3 27.2 27.6 29.6 28.2 26.0 23.8 \n",
            "2801 2802 2803 2804 2805 2806 2807 2808 2809 2810 2811 2812 2813 2814 2815 2816 \n",
            "29.3 28.7 29.6 28.9 30.7 26.2 37.0 35.4 29.9 28.4 32.0 30.2 35.3 32.9 34.2 30.0 \n",
            "2817 2818 2819 2820 2821 2822 2823 2824 2825 2826 2827 2828 2829 2830 2831 2832 \n",
            "31.8 29.3 28.3 36.7 30.9 32.5 31.2 28.4 32.5 32.2 35.0 24.9 36.2 30.7 32.3 35.4 \n",
            "2833 2834 2835 2836 2837 2838 2839 2840 2841 2842 2843 2844 2845 2846 2847 2848 \n",
            "34.6 36.9 34.8 32.8 35.0 36.6 34.6 27.6 33.2 33.7 37.5 34.8 27.6 35.4 36.8 30.7 \n",
            "2849 2850 2851 2852 2853 2854 2855 2856 2857 2858 2859 2860 2861 2862 2863 2864 \n",
            "32.9 38.2 32.2 33.9 31.9 28.1 30.5 35.6 31.5 36.3 35.6 32.6 34.4 31.2 33.6 31.1 \n",
            "2865 2866 2867 2868 2869 2870 2871 2872 2873 2874 2875 2876 2877 2878 2879 2880 \n",
            "32.7 29.8 41.5 35.0 31.1 29.1 34.9 29.7 26.5 34.7 31.3 28.2 37.2 30.8 29.4 32.3 \n",
            "2881 2882 2883 2884 2885 2886 2887 2888 2889 2890 2891 2892 2893 2894 2895 2896 \n",
            "27.5 32.5 34.6 32.4 33.9 28.1 34.2 31.3 32.2 28.0 31.0 35.3 30.3 42.6 31.1 28.3 \n",
            "2897 2898 2899 2900 2901 2902 2903 2904 2905 2906 2907 2908 2909 2910 2911 2912 \n",
            "33.0 31.9 31.5 38.6 33.5 33.2 34.7 31.8 35.3 30.8 33.6 33.5 38.1 39.8 31.6 30.6 \n",
            "2913 2914 2915 2916 2917 2918 2919 2920 2921 2922 2923 2924 2925 2926 2927 2928 \n",
            "31.3 35.8 32.6 31.2 30.3 33.2 34.2 30.3 32.2 33.6 35.7 31.1 32.1 33.6 31.5 33.0 \n",
            "2929 2930 2931 2932 2933 2934 2935 2936 2937 2938 2939 2940 2941 2942 2943 2944 \n",
            "29.7 32.7 37.5 35.5 30.9 30.0 41.5 29.2 29.9 31.1 30.2 24.5 24.4 25.2 24.2 27.5 \n",
            "2945 2946 2947 2948 2949 2950 2951 2952 2953 2954 2955 2956 2957 2958 2959 2960 \n",
            "25.8 22.6 24.5 26.9 22.6 23.5 26.5 24.8 24.3 27.5 30.2 30.2 24.0 28.8 29.9 27.4 \n",
            "2961 2962 2963 2964 2965 2966 2967 2968 2969 2970 2971 2972 2973 2974 2975 2976 \n",
            "28.6 27.9 26.9 28.0 27.5 28.2 24.9 29.4 28.1 26.8 28.8 29.0 28.6 27.3 29.0 27.3 \n",
            "2977 2978 2979 2980 2981 2982 2983 2984 2985 2986 2987 2988 2989 2990 2991 2992 \n",
            "29.5 27.9 31.1 27.8 29.6 27.2 29.5 24.8 27.9 29.6 30.5 27.7 28.7 27.0 28.9 29.3 \n",
            "2993 2994 2995 2996 2997 2998 2999 3000 3001 3002 3003 3004 3005 3006 3007 3008 \n",
            "28.4 28.4 26.3 28.4 25.3 29.4 27.9 28.1 26.7 29.7 26.8 28.6 26.6 27.9 26.7 28.6 \n",
            "3009 3010 3011 3012 3013 3014 3015 3016 3017 3018 3019 3020 3021 3022 3023 3024 \n",
            "27.9 26.5 28.5 27.4 28.3 28.2 27.8 29.5 28.8 28.7 25.2 29.1 28.0 28.5 28.9 27.2 \n",
            "3025 3026 3027 3028 3029 3030 3031 3032 3033 3034 3035 3036 3037 3038 3039 3040 \n",
            "25.0 28.0 26.8 24.9 27.7 26.6 27.7 27.7 27.6 27.1 28.7 24.4 28.0 29.4 27.6 26.9 \n",
            "3041 3042 3043 3044 3045 3046 3047 3048 3049 3050 3051 3052 3053 3054 3055 3056 \n",
            "28.9 27.9 29.0 28.0 28.9 27.0 28.7 29.3 26.8 30.6 27.2 28.6 30.4 26.8 29.4 28.7 \n",
            "3057 3058 3059 3060 3061 3062 3063 3064 3065 3066 3067 3068 3069 3070 3071 3072 \n",
            "28.2 30.6 27.3 28.6 30.5 37.2 26.2 29.1 33.7 38.1 35.8 34.6 37.7 36.2 39.1 37.2 \n",
            "3073 3074 3075 3076 3077 3078 3079 3080 3081 3082 3083 3084 3085 3086 3087 3088 \n",
            "40.1 37.7 37.7 41.8 36.2 37.1 36.5 36.6 35.5 36.4 38.8 35.4 35.1 33.9 36.0 35.8 \n",
            "3089 3090 3091 3092 3093 3094 3095 3096 3097 3098 3099 3100 3101 3102 3103 3104 \n",
            "37.5 33.8 36.9 38.7 37.9 36.4 38.5 35.8 34.6 36.6 36.9 37.4 35.9 35.4 36.0 37.9 \n",
            "3105 3106 3107 3108 3109 3110 3111 3112 3113 3114 3115 3116 3117 3118 3119 3120 \n",
            "37.1 37.5 37.6 37.3 38.7 37.9 33.8 38.2 38.2 33.8 36.7 35.6 33.2 35.5 37.3 27.6 \n",
            "3121 3122 3123 3124 3125 3126 3127 3128 3129 3130 3131 3132 3133 3134 3135 3136 \n",
            "28.3 28.3 28.8 26.9 26.5 26.8 27.0 29.1 28.6 26.3 29.3 26.3 27.2 26.6 28.3 22.7 \n",
            "3137 3138 3139 3140 3141 3142 \n",
            "28.3 28.5 27.5 27.1 28.7 27.5 \n"
          ],
          "name": "stdout"
        }
      ]
    },
    {
      "cell_type": "markdown",
      "metadata": {
        "id": "zW171xxn-rJq"
      },
      "source": [
        "##Reduced Logistic Regression Model"
      ]
    },
    {
      "cell_type": "code",
      "metadata": {
        "id": "Y6wh4wgkuyZ0"
      },
      "source": [
        "install.packages('data.table') #installing data table package\n",
        "library(data.table)"
      ],
      "execution_count": null,
      "outputs": []
    },
    {
      "cell_type": "code",
      "metadata": {
        "colab": {
          "base_uri": "https://localhost:8080/"
        },
        "id": "_hrgA6bZDBS-",
        "outputId": "e104f113-b1b3-4cbb-bb67-7c4aadc0a39f"
      },
      "source": [
        "df = model_data\n",
        "print(paste('number of rows:', nrow(df)))\n",
        "print(paste('number of columns:', ncol(df)))\n",
        "print(paste('column types: \\n', str(df)))"
      ],
      "execution_count": null,
      "outputs": [
        {
          "output_type": "stream",
          "text": [
            "[1] \"number of rows: 3142\"\n",
            "[1] \"number of columns: 15\"\n",
            "'data.frame':\t3142 obs. of  15 variables:\n",
            " $ drinking     : num  17.7 19.3 14.2 16.7 18.5 17.9 16.2 18.2 16.8 17.9 ...\n",
            " $ cancer       : num  6.6 6.3 5.3 6.5 6.4 6.4 6.2 6.5 6.6 6.4 ...\n",
            " $ CHD          : num  9.3 5.9 7.5 8.8 6.1 6.2 5.4 7.7 9.5 5.6 ...\n",
            " $ smoking      : num  32.5 19.9 21 29 21.4 18.6 17 26.9 33.9 17.6 ...\n",
            " $ diabetes     : num  15.1 8.8 13.9 14.1 8.8 8.8 9.1 11.7 15.1 8.6 ...\n",
            " $ HBP          : num  37 28 33.9 34.9 29.8 28.8 30.7 33.2 36.4 28 ...\n",
            " $ HCH          : num  29.1 28.1 29.7 29.9 27.8 28.8 29.2 29 29.5 27.6 ...\n",
            " $ mental_health: num  18.4 12.9 11.5 17.5 13.9 12.4 12 16.1 18.7 12.5 ...\n",
            " $ no_leisure   : num  28.8 20.4 26.8 26.9 20.3 19.2 19 24.1 26.7 18.4 ...\n",
            " $ obesity      : num  33.4 27.2 27.8 35.1 32 26.1 27.8 32.2 38.1 26.3 ...\n",
            " $ not_sleeping : num  39.1 33.1 38.9 37.6 34.4 31.7 34.4 35.6 37.9 31 ...\n",
            " $ stroke       : num  5.3 2.9 3.9 4.9 3.1 3 2.7 4.1 5.4 2.8 ...\n",
            " $ med_HBP      : num  49.8 48.3 52.9 50.6 47.5 49.2 49.1 49.6 50.7 47.9 ...\n",
            " $ dentist_visit: num  54.2 67 56.8 57 61.7 65.8 68.5 60.6 53.3 68.7 ...\n",
            " $ doc_visit    : num  70.5 67.4 69.5 70.6 67.7 68.5 71.3 69.2 71.1 68.8 ...\n",
            "[1] \"column types: \\n \"\n"
          ],
          "name": "stdout"
        }
      ]
    },
    {
      "cell_type": "code",
      "metadata": {
        "colab": {
          "base_uri": "https://localhost:8080/",
          "height": 34
        },
        "id": "li3Vek__DNLy",
        "outputId": "4535fd73-ce88-4d6c-f98b-d07292cd81bd"
      },
      "source": [
        "d = median(df$HBP)\n",
        "d"
      ],
      "execution_count": null,
      "outputs": [
        {
          "output_type": "display_data",
          "data": {
            "text/plain": [
              "[1] 31.6"
            ],
            "text/latex": "31.6",
            "text/markdown": "31.6",
            "text/html": [
              "31.6"
            ]
          },
          "metadata": {
            "tags": []
          }
        }
      ]
    },
    {
      "cell_type": "code",
      "metadata": {
        "colab": {
          "base_uri": "https://localhost:8080/",
          "height": 151
        },
        "id": "IZ-qlgX8DT9i",
        "outputId": "17274edd-0141-4661-bffa-ef268e28b2c6"
      },
      "source": [
        "df$Flag[df$HBP > d] = 1\n",
        "df$Flag[df$HBP <= d] = 0 \n",
        "df$Flag"
      ],
      "execution_count": null,
      "outputs": [
        {
          "output_type": "display_data",
          "data": {
            "text/plain": [
              "   [1] 1 0 1 1 0 0 0 1 1 0 0 0 0 0 1 0 1 0 0 1 1 0 0 1 1 0 0 0 0 1 1 1 1 1 1 1 1\n",
              "  [38] 1 1 1 1 1 1 1 1 1 1 1 1 1 1 1 1 1 1 1 1 1 1 1 1 1 1 1 1 1 1 1 1 1 1 1 1 1\n",
              "  [75] 1 1 1 1 1 1 1 1 1 1 1 1 1 1 1 1 1 1 1 1 1 1 1 1 1 1 1 1 1 1 1 1 1 1 1 1 1\n",
              " [112] 1 1 1 1 1 1 1 1 1 1 1 0 1 1 1 1 1 1 1 1 1 1 1 1 1 1 1 1 1 1 1 1 1 1 1 1 1\n",
              " [149] 1 1 1 1 1 1 1 1 1 1 1 1 1 1 1 1 1 1 1 1 1 1 1 0 0 0 1 0 0 1 0 0 0 0 0 0 0\n",
              " [186] 0 0 0 0 0 0 0 0 0 1 0 0 0 0 0 0 0 0 0 0 0 0 0 0 0 0 0 0 0 0 0 0 0 0 0 0 0\n",
              " [223] 0 0 0 0 0 0 0 0 0 0 0 0 0 0 0 0 0 0 0 0 0 0 0 0 0 0 0 0 0 0 0 0 0 0 0 0 0\n",
              " [260] 0 0 0 0 0 0 0 1 0 0 0 0 0 0 0 0 0 0 0 0 0 0 0 0 0 0 0 0 0 0 0 0 0 0 0 0 0\n",
              " [297] 0 0 0 0 0 0 0 0 0 0 0 0 0 0 0 0 0 0 0 0 0 1 0 1 1 1 0 1 1 1 0 1 0 1 0 1 0\n",
              " [334] 1 0 1 0 1 1 0 0 0 1 0 1 1 0 0 0 1 0 0 1 0 0 0 0 1 1 1 1 0 1 1 1 1 1 1 1 1\n",
              " [371] 0 1 1 1 1 1 1 0 1 1 1 1 1 1 0 1 1 1 1 1 1 1 0 1 0 0 0 1 0 0 1 1 1 1 0 0 1\n",
              " [408] 1 1 1 1 1 1 0 1 0 0 1 1 1 0 1 1 0 1 1 1 1 1 1 1 1 1 0 0 1 1 1 1 1 1 1 1 0\n",
              " [445] 1 1 1 1 0 1 1 1 1 1 1 0 1 1 1 0 0 1 1 1 1 1 1 1 0 0 1 1 1 0 1 1 1 1 1 1 0\n",
              " [482] 1 1 1 1 1 1 1 0 1 1 0 1 1 1 1 1 1 0 1 0 1 1 1 1 1 1 0 1 0 1 1 0 1 0 1 1 0\n",
              " [519] 1 1 0 0 1 1 1 0 1 1 1 1 1 1 0 0 1 1 1 1 0 1 1 1 1 1 1 1 0 0 0 0 0 0 1 0 0\n",
              " [556] 0 0 0 0 0 0 0 0 0 0 0 0 0 0 0 0 0 0 0 0 0 0 0 0 0 0 0 0 0 0 0 0 0 0 0 0 0\n",
              " [593] 0 0 0 0 0 0 0 0 0 0 0 0 0 0 0 0 0 0 0 0 0 0 0 0 0 0 0 0 0 0 0 0 0 0 0 0 0\n",
              " [630] 0 0 0 0 0 0 0 0 0 0 0 0 0 0 0 0 0 0 0 0 0 0 0 0 0 0 0 0 0 0 0 0 0 0 0 0 0\n",
              " [667] 0 0 0 0 0 0 0 0 0 0 0 0 0 0 0 0 0 0 0 0 0 0 0 0 0 0 0 0 1 1 1 0 0 0 0 0 1\n",
              " [704] 0 1 1 0 0 0 0 1 0 1 1 0 0 1 0 0 0 0 1 0 1 0 1 0 0 0 0 0 0 1 1 1 1 1 1 0 0\n",
              " [741] 0 0 0 0 1 0 0 1 0 0 1 1 1 0 1 1 0 1 1 1 0 1 0 0 0 0 0 1 1 0 0 0 1 0 0 0 1\n",
              " [778] 1 0 0 0 0 0 0 0 0 0 0 0 1 0 1 0 0 0 0 1 1 1 1 1 1 1 1 0 1 1 1 1 1 1 0 1 1\n",
              " [815] 1 1 1 1 1 1 1 1 1 1 1 1 1 1 1 1 1 1 1 1 1 1 1 0 0 1 1 1 0 1 0 1 0 1 1 1 1\n",
              " [852] 0 1 1 1 0 1 1 0 1 1 1 0 1 1 1 0 1 1 1 1 1 1 1 0 1 1 1 1 1 1 0 1 1 1 1 1 1\n",
              " [889] 0 1 1 1 0 1 0 0 0 1 1 0 0 1 0 0 1 0 1 1 0 0 0 1 1 1 0 1 0 0 1 1 1 1 0 1 1\n",
              " [926] 0 1 0 1 0 1 0 1 0 1 1 1 0 0 1 1 0 0 0 0 1 1 1 1 1 1 1 1 1 1 1 0 0 1 1 0 0\n",
              " [963] 1 0 1 0 0 0 1 1 0 0 0 1 1 1 0 1 0 1 1 0 1 1 0 1 0 0 0 1 0 1 1 1 1 1 1 1 1\n",
              "[1000] 1 1 1 1 1 1 1 1 1 1 1 1 1 1 1 1 1 1 1 1 1 1 1 1 1 1 1 1 1 1 1 1 1 1 1 1 1\n",
              "[1037] 1 1 1 1 1 1 1 1 1 1 1 1 1 1 1 1 1 1 1 1 1 1 1 1 1 1 1 1 1 1 1 1 1 1 1 1 1\n",
              "[1074] 1 1 1 1 1 1 1 1 1 1 1 1 1 1 1 1 1 1 1 1 1 1 1 1 1 1 1 1 1 1 1 1 1 1 1 1 1\n",
              "[1111] 1 1 1 1 1 1 1 1 1 1 1 1 1 1 1 1 1 1 1 1 1 1 1 1 1 1 1 1 1 1 1 1 1 1 1 1 1\n",
              "[1148] 1 1 1 1 1 1 1 1 1 1 1 1 1 1 1 1 1 1 1 1 1 1 1 1 1 1 1 1 1 1 0 0 0 0 0 0 0\n",
              "[1185] 0 0 0 0 0 0 0 1 0 1 0 1 1 1 1 1 1 0 0 1 0 1 1 0 0 0 1 1 1 1 0 0 0 0 0 1 0\n",
              "[1222] 0 1 0 0 0 0 0 0 0 0 0 0 1 0 0 0 1 0 1 1 0 0 0 0 0 0 0 0 1 1 0 0 0 1 0 0 0\n",
              "[1259] 0 0 0 0 0 1 1 1 1 0 1 0 0 0 1 1 1 1 0 0 0 1 0 0 0 0 0 0 0 1 0 0 0 0 0 1 1\n",
              "[1296] 0 0 0 0 0 1 0 0 0 0 1 0 0 0 0 0 1 1 1 0 0 0 0 0 0 0 0 0 0 0 0 0 0 0 0 0 0\n",
              "[1333] 0 0 0 0 0 0 0 0 0 0 0 0 0 0 0 0 0 0 0 0 0 0 0 0 0 0 0 0 0 0 0 0 0 0 0 0 0\n",
              "[1370] 0 0 0 0 0 0 0 0 0 0 0 0 0 0 0 0 0 0 0 0 0 0 0 0 0 0 0 0 0 0 0 0 0 0 0 0 1\n",
              "[1407] 1 1 0 1 1 0 1 0 0 0 0 0 0 1 1 0 1 0 0 0 1 0 0 0 0 0 1 0 0 0 1 1 1 0 1 1 1\n",
              "[1444] 0 0 1 1 0 0 0 1 1 1 0 1 1 0 1 1 0 1 0 0 0 1 0 0 0 0 0 1 1 1 0 0 0 0 1 1 1\n",
              "[1481] 0 0 0 0 0 0 1 0 0 0 0 0 0 1 0 1 0 1 0 0 1 0 0 1 1 1 0 0 0 0 0 0 0 1 0 0 1\n",
              "[1518] 1 1 1 1 1 1 1 1 1 1 1 1 1 1 1 1 1 1 1 1 1 1 1 1 1 1 1 1 1 1 1 1 1 1 1 1 1\n",
              "[1555] 1 1 1 1 1 1 1 1 1 1 1 1 1 1 1 1 1 1 1 1 1 1 1 1 1 1 1 1 1 1 1 1 1 1 1 1 1\n",
              "[1592] 1 1 1 1 1 1 1 0 0 0 0 1 0 0 0 0 0 0 0 0 0 1 0 0 0 0 0 0 0 0 0 0 0 0 0 0 0\n",
              "[1629] 0 0 0 0 0 0 0 0 0 0 0 0 0 0 0 0 0 0 0 0 1 0 0 0 0 0 0 1 0 1 1 1 1 1 1 1 1\n",
              "[1666] 1 1 0 1 0 1 0 1 1 0 1 1 1 1 0 1 1 0 0 1 1 1 1 1 1 0 1 1 1 1 1 1 1 0 0 1 1\n",
              "[1703] 1 1 1 1 1 1 1 1 1 1 1 1 0 1 1 1 1 0 1 1 0 1 0 0 1 0 1 1 0 1 1 1 1 1 1 1 1\n",
              "[1740] 1 1 1 1 1 1 1 1 1 0 1 1 1 1 0 0 0 0 0 0 0 0 0 0 0 0 0 0 0 0 0 0 0 1 0 1 0\n",
              "[1777] 0 0 0 1 0 0 0 0 0 0 0 0 0 0 0 0 0 0 0 0 0 0 0 0 0 0 0 0 0 0 0 0 0 0 0 0 0\n",
              "[1814] 0 0 0 0 0 0 0 0 0 0 0 0 0 0 0 0 0 0 0 0 0 0 0 0 0 0 0 0 0 0 0 0 0 0 0 0 0\n",
              "[1851] 0 0 0 0 1 0 0 0 0 0 0 0 0 0 0 0 0 0 0 0 0 0 0 0 0 0 0 0 0 0 0 0 0 0 0 0 1\n",
              "[1888] 0 0 0 0 0 0 0 0 0 0 0 0 0 0 0 0 0 0 0 0 0 0 0 1 0 0 1 0 1 0 0 1 0 0 0 1 0\n",
              "[1925] 1 0 0 0 1 0 0 0 0 0 0 0 0 0 0 0 0 0 0 0 0 1 0 0 0 0 0 0 1 0 0 1 0 1 0 0 0\n",
              "[1962] 0 0 1 0 0 0 0 0 1 0 0 0 0 0 0 0 1 0 0 0 0 0 0 0 0 0 0 0 0 0 0 0 0 0 0 0 0\n",
              "[1999] 0 0 0 0 0 0 0 0 0 0 0 0 0 0 0 0 0 1 0 0 0 0 0 0 0 0 0 0 0 0 0 0 0 0 0 0 0\n",
              "[2036] 0 0 0 0 0 0 0 0 1 1 1 0 1 1 1 1 1 0 1 0 0 0 1 1 1 0 0 0 1 0 1 1 0 0 0 1 0\n",
              "[2073] 0 0 0 0 1 0 1 0 0 1 0 1 0 1 0 1 0 1 1 0 0 1 0 1 0 1 0 1 0 1 0 0 0 0 1 0 1\n",
              "[2110] 0 0 1 0 0 1 0 1 0 1 0 1 0 0 0 0 0 0 0 1 0 1 1 1 1 1 1 1 1 1 1 1 1 1 1 1 1\n",
              "[2147] 1 1 1 1 1 1 1 1 1 1 1 1 1 1 1 1 1 1 1 1 1 1 1 1 1 1 1 1 1 1 1 1 1 1 1 1 1\n",
              "[2184] 1 1 1 1 1 1 1 1 1 1 1 1 1 1 1 1 1 1 1 1 1 1 1 1 1 0 0 0 0 0 0 0 0 0 0 0 0\n",
              "[2221] 0 0 0 0 0 0 0 0 0 0 0 0 0 0 0 0 1 0 0 0 0 0 0 0 0 0 0 0 1 0 0 0 0 0 0 0 0\n",
              "[2258] 0 0 0 0 0 0 0 0 0 0 0 1 0 0 0 0 0 0 0 0 0 0 0 0 0 0 0 0 0 0 0 0 0 0 0 0 0\n",
              "[2295] 0 0 0 0 0 0 0 0 0 0 0 0 0 0 0 0 0 0 0 0 1 0 1 1 1 0 1 1 1 1 1 1 1 1 1 1 1\n",
              "[2332] 1 1 1 1 1 1 1 1 1 1 1 1 1 1 1 1 1 1 1 1 1 1 1 1 1 0 1 1 1 1 1 0 0 0 0 0 0\n",
              "[2369] 0 0 0 0 0 0 1 0 0 1 0 1 1 0 0 0 1 0 0 0 0 0 1 0 0 0 0 0 0 0 0 1 0 0 0 0 0\n",
              "[2406] 0 1 0 0 0 0 0 0 0 0 0 0 0 0 0 0 0 0 0 0 0 0 1 1 1 1 1 1 1 1 1 1 1 1 1 1 1\n",
              "[2443] 1 1 1 1 1 1 1 1 1 1 1 1 1 1 1 1 1 1 1 1 1 1 1 1 1 1 1 1 1 1 1 1 1 1 1 1 1\n",
              "[2480] 1 1 1 1 1 1 1 1 1 1 1 1 1 1 0 1 1 1 1 1 1 1 1 1 1 1 1 1 1 1 1 1 1 1 1 1 1\n",
              "[2517] 1 1 1 1 1 1 1 1 1 1 1 1 1 1 1 0 1 1 1 0 1 1 1 1 1 1 1 1 1 1 0 1 1 1 1 1 1\n",
              "[2554] 0 1 0 1 1 1 1 1 0 1 1 1 1 1 1 1 1 1 1 1 0 1 0 1 1 0 1 1 1 1 1 1 1 1 1 0 1\n",
              "[2591] 0 0 0 1 0 1 1 1 1 1 1 1 1 1 1 1 1 1 1 0 1 1 1 1 1 0 1 1 1 1 1 1 0 1 1 1 1\n",
              "[2628] 1 0 1 1 1 1 1 1 1 1 1 1 1 1 1 1 1 1 1 1 1 1 1 1 1 1 0 1 1 1 1 1 1 1 1 1 1\n",
              "[2665] 1 1 1 1 1 1 1 1 1 1 1 1 1 1 1 1 1 0 1 1 1 1 1 1 1 1 1 0 1 1 1 1 1 1 1 1 1\n",
              "[2702] 1 1 0 1 0 1 1 1 1 1 1 1 1 1 1 1 1 1 1 1 1 1 1 1 1 0 0 1 1 1 0 1 1 1 1 0 1\n",
              "[2739] 1 1 1 1 1 1 1 1 0 1 0 1 1 1 1 0 0 1 1 1 1 0 1 1 0 1 1 1 1 1 1 0 0 1 1 1 1\n",
              "[2776] 1 1 0 0 0 0 0 0 0 0 0 0 0 0 0 0 0 0 0 0 0 0 0 0 0 0 0 0 0 0 0 1 1 0 0 0 0\n",
              "[2813] 1 0 1 0 0 0 0 1 1 0 0 0 1 0 1 0 1 0 1 1 1 1 1 1 1 1 1 0 1 1 1 1 0 1 1 0 1\n",
              "[2850] 1 0 1 1 0 0 1 1 1 1 1 1 0 1 0 0 0 1 1 0 0 1 0 0 1 0 0 1 0 0 1 0 1 1 0 1 0\n",
              "[2887] 1 0 0 0 0 1 0 1 0 0 1 0 1 1 1 1 1 0 1 0 1 1 1 1 0 0 0 1 1 0 0 1 1 0 0 1 1\n",
              "[2924] 0 0 1 0 0 0 1 1 1 0 0 1 0 0 0 0 0 0 0 0 0 0 0 0 0 0 0 0 0 0 0 0 0 0 0 0 0\n",
              "[2961] 0 0 0 0 0 0 0 0 0 0 0 0 0 0 0 0 0 0 0 0 0 0 0 0 0 0 1 0 0 0 0 0 0 0 0 0 0\n",
              "[2998] 0 0 0 0 0 0 0 0 0 0 0 0 0 0 0 0 0 0 0 0 0 0 0 0 0 0 0 0 0 0 0 0 0 0 0 0 0\n",
              "[3035] 0 0 0 0 0 0 0 0 0 0 0 0 0 0 0 0 0 0 0 0 0 0 0 0 0 0 0 1 0 0 1 1 1 1 1 1 1\n",
              "[3072] 1 1 1 1 1 1 1 1 1 1 1 1 1 1 1 1 1 1 1 1 1 1 1 1 1 1 1 1 1 1 1 1 1 1 1 1 1\n",
              "[3109] 1 1 1 1 1 1 1 1 1 1 1 0 0 0 0 0 0 0 0 0 0 0 0 0 0 0 0 0 0 0 0 0 0 0"
            ],
            "text/latex": "\\begin{enumerate*}\n\\item 1\n\\item 0\n\\item 1\n\\item 1\n\\item 0\n\\item 0\n\\item 0\n\\item 1\n\\item 1\n\\item 0\n\\item 0\n\\item 0\n\\item 0\n\\item 0\n\\item 1\n\\item 0\n\\item 1\n\\item 0\n\\item 0\n\\item 1\n\\item 1\n\\item 0\n\\item 0\n\\item 1\n\\item 1\n\\item 0\n\\item 0\n\\item 0\n\\item 0\n\\item 1\n\\item 1\n\\item 1\n\\item 1\n\\item 1\n\\item 1\n\\item 1\n\\item 1\n\\item 1\n\\item 1\n\\item 1\n\\item 1\n\\item 1\n\\item 1\n\\item 1\n\\item 1\n\\item 1\n\\item 1\n\\item 1\n\\item 1\n\\item 1\n\\item 1\n\\item 1\n\\item 1\n\\item 1\n\\item 1\n\\item 1\n\\item 1\n\\item 1\n\\item 1\n\\item 1\n\\item 1\n\\item 1\n\\item 1\n\\item 1\n\\item 1\n\\item 1\n\\item 1\n\\item 1\n\\item 1\n\\item 1\n\\item 1\n\\item 1\n\\item 1\n\\item 1\n\\item 1\n\\item 1\n\\item 1\n\\item 1\n\\item 1\n\\item 1\n\\item 1\n\\item 1\n\\item 1\n\\item 1\n\\item 1\n\\item 1\n\\item 1\n\\item 1\n\\item 1\n\\item 1\n\\item 1\n\\item 1\n\\item 1\n\\item 1\n\\item 1\n\\item 1\n\\item 1\n\\item 1\n\\item 1\n\\item 1\n\\item 1\n\\item 1\n\\item 1\n\\item 1\n\\item 1\n\\item 1\n\\item 1\n\\item 1\n\\item 1\n\\item 1\n\\item 1\n\\item 1\n\\item 1\n\\item 1\n\\item 1\n\\item 1\n\\item 1\n\\item 1\n\\item 1\n\\item 1\n\\item 1\n\\item 1\n\\item 0\n\\item 1\n\\item 1\n\\item 1\n\\item 1\n\\item 1\n\\item 1\n\\item 1\n\\item 1\n\\item 1\n\\item 1\n\\item 1\n\\item 1\n\\item 1\n\\item 1\n\\item 1\n\\item 1\n\\item 1\n\\item 1\n\\item 1\n\\item 1\n\\item 1\n\\item 1\n\\item 1\n\\item 1\n\\item 1\n\\item 1\n\\item 1\n\\item 1\n\\item 1\n\\item 1\n\\item 1\n\\item 1\n\\item 1\n\\item 1\n\\item 1\n\\item 1\n\\item 1\n\\item 1\n\\item 1\n\\item 1\n\\item 1\n\\item 1\n\\item 1\n\\item 1\n\\item 1\n\\item 1\n\\item 1\n\\item 1\n\\item 0\n\\item 0\n\\item 0\n\\item 1\n\\item 0\n\\item 0\n\\item 1\n\\item 0\n\\item 0\n\\item 0\n\\item 0\n\\item 0\n\\item 0\n\\item 0\n\\item 0\n\\item 0\n\\item 0\n\\item 0\n\\item 0\n\\item 0\n\\item 0\n\\item 0\n\\item 0\n\\item 1\n\\item 0\n\\item 0\n\\item 0\n\\item 0\n\\item 0\n\\item ⋯\n\\item 0\n\\item 0\n\\item 0\n\\item 0\n\\item 0\n\\item 0\n\\item 0\n\\item 0\n\\item 0\n\\item 0\n\\item 0\n\\item 0\n\\item 0\n\\item 0\n\\item 0\n\\item 0\n\\item 0\n\\item 0\n\\item 0\n\\item 0\n\\item 0\n\\item 0\n\\item 0\n\\item 0\n\\item 0\n\\item 0\n\\item 0\n\\item 0\n\\item 0\n\\item 0\n\\item 0\n\\item 0\n\\item 0\n\\item 0\n\\item 0\n\\item 0\n\\item 0\n\\item 0\n\\item 0\n\\item 0\n\\item 0\n\\item 0\n\\item 0\n\\item 0\n\\item 1\n\\item 0\n\\item 0\n\\item 0\n\\item 0\n\\item 0\n\\item 0\n\\item 0\n\\item 0\n\\item 0\n\\item 0\n\\item 0\n\\item 0\n\\item 0\n\\item 0\n\\item 0\n\\item 0\n\\item 0\n\\item 0\n\\item 0\n\\item 0\n\\item 0\n\\item 0\n\\item 0\n\\item 0\n\\item 0\n\\item 0\n\\item 0\n\\item 0\n\\item 0\n\\item 0\n\\item 0\n\\item 0\n\\item 0\n\\item 0\n\\item 0\n\\item 0\n\\item 0\n\\item 0\n\\item 0\n\\item 0\n\\item 0\n\\item 0\n\\item 0\n\\item 0\n\\item 0\n\\item 0\n\\item 0\n\\item 0\n\\item 0\n\\item 0\n\\item 0\n\\item 0\n\\item 0\n\\item 0\n\\item 0\n\\item 0\n\\item 0\n\\item 0\n\\item 0\n\\item 0\n\\item 0\n\\item 0\n\\item 0\n\\item 0\n\\item 0\n\\item 0\n\\item 0\n\\item 0\n\\item 0\n\\item 0\n\\item 0\n\\item 0\n\\item 0\n\\item 0\n\\item 1\n\\item 0\n\\item 0\n\\item 1\n\\item 1\n\\item 1\n\\item 1\n\\item 1\n\\item 1\n\\item 1\n\\item 1\n\\item 1\n\\item 1\n\\item 1\n\\item 1\n\\item 1\n\\item 1\n\\item 1\n\\item 1\n\\item 1\n\\item 1\n\\item 1\n\\item 1\n\\item 1\n\\item 1\n\\item 1\n\\item 1\n\\item 1\n\\item 1\n\\item 1\n\\item 1\n\\item 1\n\\item 1\n\\item 1\n\\item 1\n\\item 1\n\\item 1\n\\item 1\n\\item 1\n\\item 1\n\\item 1\n\\item 1\n\\item 1\n\\item 1\n\\item 1\n\\item 1\n\\item 1\n\\item 1\n\\item 1\n\\item 1\n\\item 1\n\\item 1\n\\item 1\n\\item 1\n\\item 1\n\\item 1\n\\item 1\n\\item 1\n\\item 0\n\\item 0\n\\item 0\n\\item 0\n\\item 0\n\\item 0\n\\item 0\n\\item 0\n\\item 0\n\\item 0\n\\item 0\n\\item 0\n\\item 0\n\\item 0\n\\item 0\n\\item 0\n\\item 0\n\\item 0\n\\item 0\n\\item 0\n\\item 0\n\\item 0\n\\item 0\n\\end{enumerate*}\n",
            "text/markdown": "1. 1\n2. 0\n3. 1\n4. 1\n5. 0\n6. 0\n7. 0\n8. 1\n9. 1\n10. 0\n11. 0\n12. 0\n13. 0\n14. 0\n15. 1\n16. 0\n17. 1\n18. 0\n19. 0\n20. 1\n21. 1\n22. 0\n23. 0\n24. 1\n25. 1\n26. 0\n27. 0\n28. 0\n29. 0\n30. 1\n31. 1\n32. 1\n33. 1\n34. 1\n35. 1\n36. 1\n37. 1\n38. 1\n39. 1\n40. 1\n41. 1\n42. 1\n43. 1\n44. 1\n45. 1\n46. 1\n47. 1\n48. 1\n49. 1\n50. 1\n51. 1\n52. 1\n53. 1\n54. 1\n55. 1\n56. 1\n57. 1\n58. 1\n59. 1\n60. 1\n61. 1\n62. 1\n63. 1\n64. 1\n65. 1\n66. 1\n67. 1\n68. 1\n69. 1\n70. 1\n71. 1\n72. 1\n73. 1\n74. 1\n75. 1\n76. 1\n77. 1\n78. 1\n79. 1\n80. 1\n81. 1\n82. 1\n83. 1\n84. 1\n85. 1\n86. 1\n87. 1\n88. 1\n89. 1\n90. 1\n91. 1\n92. 1\n93. 1\n94. 1\n95. 1\n96. 1\n97. 1\n98. 1\n99. 1\n100. 1\n101. 1\n102. 1\n103. 1\n104. 1\n105. 1\n106. 1\n107. 1\n108. 1\n109. 1\n110. 1\n111. 1\n112. 1\n113. 1\n114. 1\n115. 1\n116. 1\n117. 1\n118. 1\n119. 1\n120. 1\n121. 1\n122. 1\n123. 0\n124. 1\n125. 1\n126. 1\n127. 1\n128. 1\n129. 1\n130. 1\n131. 1\n132. 1\n133. 1\n134. 1\n135. 1\n136. 1\n137. 1\n138. 1\n139. 1\n140. 1\n141. 1\n142. 1\n143. 1\n144. 1\n145. 1\n146. 1\n147. 1\n148. 1\n149. 1\n150. 1\n151. 1\n152. 1\n153. 1\n154. 1\n155. 1\n156. 1\n157. 1\n158. 1\n159. 1\n160. 1\n161. 1\n162. 1\n163. 1\n164. 1\n165. 1\n166. 1\n167. 1\n168. 1\n169. 1\n170. 1\n171. 1\n172. 0\n173. 0\n174. 0\n175. 1\n176. 0\n177. 0\n178. 1\n179. 0\n180. 0\n181. 0\n182. 0\n183. 0\n184. 0\n185. 0\n186. 0\n187. 0\n188. 0\n189. 0\n190. 0\n191. 0\n192. 0\n193. 0\n194. 0\n195. 1\n196. 0\n197. 0\n198. 0\n199. 0\n200. 0\n201. ⋯\n202. 0\n203. 0\n204. 0\n205. 0\n206. 0\n207. 0\n208. 0\n209. 0\n210. 0\n211. 0\n212. 0\n213. 0\n214. 0\n215. 0\n216. 0\n217. 0\n218. 0\n219. 0\n220. 0\n221. 0\n222. 0\n223. 0\n224. 0\n225. 0\n226. 0\n227. 0\n228. 0\n229. 0\n230. 0\n231. 0\n232. 0\n233. 0\n234. 0\n235. 0\n236. 0\n237. 0\n238. 0\n239. 0\n240. 0\n241. 0\n242. 0\n243. 0\n244. 0\n245. 0\n246. 1\n247. 0\n248. 0\n249. 0\n250. 0\n251. 0\n252. 0\n253. 0\n254. 0\n255. 0\n256. 0\n257. 0\n258. 0\n259. 0\n260. 0\n261. 0\n262. 0\n263. 0\n264. 0\n265. 0\n266. 0\n267. 0\n268. 0\n269. 0\n270. 0\n271. 0\n272. 0\n273. 0\n274. 0\n275. 0\n276. 0\n277. 0\n278. 0\n279. 0\n280. 0\n281. 0\n282. 0\n283. 0\n284. 0\n285. 0\n286. 0\n287. 0\n288. 0\n289. 0\n290. 0\n291. 0\n292. 0\n293. 0\n294. 0\n295. 0\n296. 0\n297. 0\n298. 0\n299. 0\n300. 0\n301. 0\n302. 0\n303. 0\n304. 0\n305. 0\n306. 0\n307. 0\n308. 0\n309. 0\n310. 0\n311. 0\n312. 0\n313. 0\n314. 0\n315. 0\n316. 0\n317. 0\n318. 0\n319. 0\n320. 0\n321. 1\n322. 0\n323. 0\n324. 1\n325. 1\n326. 1\n327. 1\n328. 1\n329. 1\n330. 1\n331. 1\n332. 1\n333. 1\n334. 1\n335. 1\n336. 1\n337. 1\n338. 1\n339. 1\n340. 1\n341. 1\n342. 1\n343. 1\n344. 1\n345. 1\n346. 1\n347. 1\n348. 1\n349. 1\n350. 1\n351. 1\n352. 1\n353. 1\n354. 1\n355. 1\n356. 1\n357. 1\n358. 1\n359. 1\n360. 1\n361. 1\n362. 1\n363. 1\n364. 1\n365. 1\n366. 1\n367. 1\n368. 1\n369. 1\n370. 1\n371. 1\n372. 1\n373. 1\n374. 1\n375. 1\n376. 1\n377. 1\n378. 1\n379. 0\n380. 0\n381. 0\n382. 0\n383. 0\n384. 0\n385. 0\n386. 0\n387. 0\n388. 0\n389. 0\n390. 0\n391. 0\n392. 0\n393. 0\n394. 0\n395. 0\n396. 0\n397. 0\n398. 0\n399. 0\n400. 0\n401. 0\n\n\n",
            "text/html": [
              "<style>\n",
              ".list-inline {list-style: none; margin:0; padding: 0}\n",
              ".list-inline>li {display: inline-block}\n",
              ".list-inline>li:not(:last-child)::after {content: \"\\00b7\"; padding: 0 .5ex}\n",
              "</style>\n",
              "<ol class=list-inline><li>1</li><li>0</li><li>1</li><li>1</li><li>0</li><li>0</li><li>0</li><li>1</li><li>1</li><li>0</li><li>0</li><li>0</li><li>0</li><li>0</li><li>1</li><li>0</li><li>1</li><li>0</li><li>0</li><li>1</li><li>1</li><li>0</li><li>0</li><li>1</li><li>1</li><li>0</li><li>0</li><li>0</li><li>0</li><li>1</li><li>1</li><li>1</li><li>1</li><li>1</li><li>1</li><li>1</li><li>1</li><li>1</li><li>1</li><li>1</li><li>1</li><li>1</li><li>1</li><li>1</li><li>1</li><li>1</li><li>1</li><li>1</li><li>1</li><li>1</li><li>1</li><li>1</li><li>1</li><li>1</li><li>1</li><li>1</li><li>1</li><li>1</li><li>1</li><li>1</li><li>1</li><li>1</li><li>1</li><li>1</li><li>1</li><li>1</li><li>1</li><li>1</li><li>1</li><li>1</li><li>1</li><li>1</li><li>1</li><li>1</li><li>1</li><li>1</li><li>1</li><li>1</li><li>1</li><li>1</li><li>1</li><li>1</li><li>1</li><li>1</li><li>1</li><li>1</li><li>1</li><li>1</li><li>1</li><li>1</li><li>1</li><li>1</li><li>1</li><li>1</li><li>1</li><li>1</li><li>1</li><li>1</li><li>1</li><li>1</li><li>1</li><li>1</li><li>1</li><li>1</li><li>1</li><li>1</li><li>1</li><li>1</li><li>1</li><li>1</li><li>1</li><li>1</li><li>1</li><li>1</li><li>1</li><li>1</li><li>1</li><li>1</li><li>1</li><li>1</li><li>1</li><li>1</li><li>0</li><li>1</li><li>1</li><li>1</li><li>1</li><li>1</li><li>1</li><li>1</li><li>1</li><li>1</li><li>1</li><li>1</li><li>1</li><li>1</li><li>1</li><li>1</li><li>1</li><li>1</li><li>1</li><li>1</li><li>1</li><li>1</li><li>1</li><li>1</li><li>1</li><li>1</li><li>1</li><li>1</li><li>1</li><li>1</li><li>1</li><li>1</li><li>1</li><li>1</li><li>1</li><li>1</li><li>1</li><li>1</li><li>1</li><li>1</li><li>1</li><li>1</li><li>1</li><li>1</li><li>1</li><li>1</li><li>1</li><li>1</li><li>1</li><li>0</li><li>0</li><li>0</li><li>1</li><li>0</li><li>0</li><li>1</li><li>0</li><li>0</li><li>0</li><li>0</li><li>0</li><li>0</li><li>0</li><li>0</li><li>0</li><li>0</li><li>0</li><li>0</li><li>0</li><li>0</li><li>0</li><li>0</li><li>1</li><li>0</li><li>0</li><li>0</li><li>0</li><li>0</li><li>⋯</li><li>0</li><li>0</li><li>0</li><li>0</li><li>0</li><li>0</li><li>0</li><li>0</li><li>0</li><li>0</li><li>0</li><li>0</li><li>0</li><li>0</li><li>0</li><li>0</li><li>0</li><li>0</li><li>0</li><li>0</li><li>0</li><li>0</li><li>0</li><li>0</li><li>0</li><li>0</li><li>0</li><li>0</li><li>0</li><li>0</li><li>0</li><li>0</li><li>0</li><li>0</li><li>0</li><li>0</li><li>0</li><li>0</li><li>0</li><li>0</li><li>0</li><li>0</li><li>0</li><li>0</li><li>1</li><li>0</li><li>0</li><li>0</li><li>0</li><li>0</li><li>0</li><li>0</li><li>0</li><li>0</li><li>0</li><li>0</li><li>0</li><li>0</li><li>0</li><li>0</li><li>0</li><li>0</li><li>0</li><li>0</li><li>0</li><li>0</li><li>0</li><li>0</li><li>0</li><li>0</li><li>0</li><li>0</li><li>0</li><li>0</li><li>0</li><li>0</li><li>0</li><li>0</li><li>0</li><li>0</li><li>0</li><li>0</li><li>0</li><li>0</li><li>0</li><li>0</li><li>0</li><li>0</li><li>0</li><li>0</li><li>0</li><li>0</li><li>0</li><li>0</li><li>0</li><li>0</li><li>0</li><li>0</li><li>0</li><li>0</li><li>0</li><li>0</li><li>0</li><li>0</li><li>0</li><li>0</li><li>0</li><li>0</li><li>0</li><li>0</li><li>0</li><li>0</li><li>0</li><li>0</li><li>0</li><li>0</li><li>0</li><li>0</li><li>0</li><li>1</li><li>0</li><li>0</li><li>1</li><li>1</li><li>1</li><li>1</li><li>1</li><li>1</li><li>1</li><li>1</li><li>1</li><li>1</li><li>1</li><li>1</li><li>1</li><li>1</li><li>1</li><li>1</li><li>1</li><li>1</li><li>1</li><li>1</li><li>1</li><li>1</li><li>1</li><li>1</li><li>1</li><li>1</li><li>1</li><li>1</li><li>1</li><li>1</li><li>1</li><li>1</li><li>1</li><li>1</li><li>1</li><li>1</li><li>1</li><li>1</li><li>1</li><li>1</li><li>1</li><li>1</li><li>1</li><li>1</li><li>1</li><li>1</li><li>1</li><li>1</li><li>1</li><li>1</li><li>1</li><li>1</li><li>1</li><li>1</li><li>1</li><li>0</li><li>0</li><li>0</li><li>0</li><li>0</li><li>0</li><li>0</li><li>0</li><li>0</li><li>0</li><li>0</li><li>0</li><li>0</li><li>0</li><li>0</li><li>0</li><li>0</li><li>0</li><li>0</li><li>0</li><li>0</li><li>0</li><li>0</li></ol>\n"
            ]
          },
          "metadata": {
            "tags": []
          }
        }
      ]
    },
    {
      "cell_type": "code",
      "metadata": {
        "colab": {
          "base_uri": "https://localhost:8080/",
          "height": 67
        },
        "id": "DXm-hs-8DeYt",
        "outputId": "307f7ae9-da02-4e14-e31a-4e94e2e5273b"
      },
      "source": [
        "table(df$Flag)"
      ],
      "execution_count": null,
      "outputs": [
        {
          "output_type": "display_data",
          "data": {
            "text/plain": [
              "\n",
              "   0    1 \n",
              "1583 1559 "
            ]
          },
          "metadata": {
            "tags": []
          }
        }
      ]
    },
    {
      "cell_type": "code",
      "metadata": {
        "colab": {
          "base_uri": "https://localhost:8080/",
          "height": 840
        },
        "id": "Tf1v1qIUDoBx",
        "outputId": "2b3be13d-c82f-4871-e5b6-4b5eded68d46"
      },
      "source": [
        "log_fit = glm(df$Flag ~. -HBP, data = df, family= 'binomial')\n",
        "log_fit\n",
        "summary(log_fit)"
      ],
      "execution_count": null,
      "outputs": [
        {
          "output_type": "display_data",
          "data": {
            "text/plain": [
              "\n",
              "Call:  glm(formula = df$Flag ~ . - HBP, family = \"binomial\", data = df)\n",
              "\n",
              "Coefficients:\n",
              "  (Intercept)       drinking         cancer            CHD        smoking  \n",
              "    -90.90066       -0.24349        4.80640       -0.98515        0.14738  \n",
              "     diabetes            HCH  mental_health     no_leisure        obesity  \n",
              "      1.94661        1.35501       -0.72554        0.01202        0.07317  \n",
              " not_sleeping         stroke        med_HBP  dentist_visit      doc_visit  \n",
              "      0.27476        0.46943        0.30168        0.01948       -0.21144  \n",
              "\n",
              "Degrees of Freedom: 3141 Total (i.e. Null);  3127 Residual\n",
              "Null Deviance:\t    4356 \n",
              "Residual Deviance: 1069 \tAIC: 1099"
            ]
          },
          "metadata": {
            "tags": []
          }
        },
        {
          "output_type": "display_data",
          "data": {
            "text/plain": [
              "\n",
              "Call:\n",
              "glm(formula = df$Flag ~ . - HBP, family = \"binomial\", data = df)\n",
              "\n",
              "Deviance Residuals: \n",
              "    Min       1Q   Median       3Q      Max  \n",
              "-3.8181  -0.1544  -0.0007   0.0911   3.3080  \n",
              "\n",
              "Coefficients:\n",
              "               Estimate Std. Error z value Pr(>|z|)    \n",
              "(Intercept)   -90.90066    6.70364 -13.560  < 2e-16 ***\n",
              "drinking       -0.24349    0.05607  -4.342 1.41e-05 ***\n",
              "cancer          4.80640    0.67980   7.070 1.55e-12 ***\n",
              "CHD            -0.98515    0.34900  -2.823  0.00476 ** \n",
              "smoking         0.14738    0.06682   2.206  0.02740 *  \n",
              "diabetes        1.94661    0.21891   8.892  < 2e-16 ***\n",
              "HCH             1.35501    0.10192  13.295  < 2e-16 ***\n",
              "mental_health  -0.72554    0.14622  -4.962 6.98e-07 ***\n",
              "no_leisure      0.01202    0.05195   0.231  0.81705    \n",
              "obesity         0.07317    0.03478   2.104  0.03541 *  \n",
              "not_sleeping    0.27476    0.05028   5.465 4.63e-08 ***\n",
              "stroke          0.46943    0.58386   0.804  0.42140    \n",
              "med_HBP         0.30168    0.05698   5.294 1.20e-07 ***\n",
              "dentist_visit   0.01948    0.03299   0.590  0.55486    \n",
              "doc_visit      -0.21144    0.05371  -3.937 8.25e-05 ***\n",
              "---\n",
              "Signif. codes:  0 ‘***’ 0.001 ‘**’ 0.01 ‘*’ 0.05 ‘.’ 0.1 ‘ ’ 1\n",
              "\n",
              "(Dispersion parameter for binomial family taken to be 1)\n",
              "\n",
              "    Null deviance: 4355.6  on 3141  degrees of freedom\n",
              "Residual deviance: 1068.6  on 3127  degrees of freedom\n",
              "AIC: 1098.6\n",
              "\n",
              "Number of Fisher Scoring iterations: 8\n"
            ]
          },
          "metadata": {
            "tags": []
          }
        }
      ]
    },
    {
      "cell_type": "code",
      "metadata": {
        "id": "v1R7FCSbDoz2"
      },
      "source": [
        "preds = (predict(log_fit, df, type='response'))\n",
        "actual = df$Flag\n",
        "preds = round(preds, 0)"
      ],
      "execution_count": null,
      "outputs": []
    },
    {
      "cell_type": "code",
      "metadata": {
        "colab": {
          "base_uri": "https://localhost:8080/"
        },
        "id": "YdiVMNQgDyV_",
        "outputId": "e4d34b68-2597-4b89-b370-7963c3df09a4"
      },
      "source": [
        "print(coef(log_fit))"
      ],
      "execution_count": null,
      "outputs": [
        {
          "output_type": "stream",
          "text": [
            "  (Intercept)      drinking        cancer           CHD       smoking \n",
            " -90.90066433   -0.24349145    4.80640030   -0.98515456    0.14738228 \n",
            "     diabetes           HCH mental_health    no_leisure       obesity \n",
            "   1.94661329    1.35501394   -0.72554180    0.01201787    0.07316803 \n",
            " not_sleeping        stroke       med_HBP dentist_visit     doc_visit \n",
            "   0.27475966    0.46942683    0.30167536    0.01948110   -0.21144140 \n"
          ],
          "name": "stdout"
        }
      ]
    },
    {
      "cell_type": "code",
      "metadata": {
        "colab": {
          "base_uri": "https://localhost:8080/",
          "height": 84
        },
        "id": "UHmDmGcdD1WH",
        "outputId": "401ee985-6137-4fa9-8066-7af975704017"
      },
      "source": [
        "exp(coef(log_fit))"
      ],
      "execution_count": null,
      "outputs": [
        {
          "output_type": "display_data",
          "data": {
            "text/plain": [
              "  (Intercept)      drinking        cancer           CHD       smoking \n",
              " 3.329225e-40  7.838862e-01  1.222906e+02  3.733815e-01  1.158797e+00 \n",
              "     diabetes           HCH mental_health    no_leisure       obesity \n",
              " 7.004924e+00  3.876815e+00  4.840622e-01  1.012090e+00  1.075911e+00 \n",
              " not_sleeping        stroke       med_HBP dentist_visit     doc_visit \n",
              " 1.316214e+00  1.599077e+00  1.352122e+00  1.019672e+00  8.094167e-01 "
            ],
            "text/latex": "\\begin{description*}\n\\item[(Intercept)] 3.32922450009968e-40\n\\item[drinking] 0.783886176430802\n\\item[cancer] 122.290614501203\n\\item[CHD] 0.373381511086312\n\\item[smoking] 1.15879686249648\n\\item[diabetes] 7.00492368622755\n\\item[HCH] 3.8768149891987\n\\item[mental\\textbackslash{}\\_health] 0.484062232235246\n\\item[no\\textbackslash{}\\_leisure] 1.01209037754197\n\\item[obesity] 1.07591130927736\n\\item[not\\textbackslash{}\\_sleeping] 1.31621429383564\n\\item[stroke] 1.59907739026135\n\\item[med\\textbackslash{}\\_HBP] 1.35212220589208\n\\item[dentist\\textbackslash{}\\_visit] 1.01967209667904\n\\item[doc\\textbackslash{}\\_visit] 0.809416709526572\n\\end{description*}\n",
            "text/markdown": "(Intercept)\n:   3.32922450009968e-40drinking\n:   0.783886176430802cancer\n:   122.290614501203CHD\n:   0.373381511086312smoking\n:   1.15879686249648diabetes\n:   7.00492368622755HCH\n:   3.8768149891987mental_health\n:   0.484062232235246no_leisure\n:   1.01209037754197obesity\n:   1.07591130927736not_sleeping\n:   1.31621429383564stroke\n:   1.59907739026135med_HBP\n:   1.35212220589208dentist_visit\n:   1.01967209667904doc_visit\n:   0.809416709526572\n\n",
            "text/html": [
              "<style>\n",
              ".dl-inline {width: auto; margin:0; padding: 0}\n",
              ".dl-inline>dt, .dl-inline>dd {float: none; width: auto; display: inline-block}\n",
              ".dl-inline>dt::after {content: \":\\0020\"; padding-right: .5ex}\n",
              ".dl-inline>dt:not(:first-of-type) {padding-left: .5ex}\n",
              "</style><dl class=dl-inline><dt>(Intercept)</dt><dd>3.32922450009968e-40</dd><dt>drinking</dt><dd>0.783886176430802</dd><dt>cancer</dt><dd>122.290614501203</dd><dt>CHD</dt><dd>0.373381511086312</dd><dt>smoking</dt><dd>1.15879686249648</dd><dt>diabetes</dt><dd>7.00492368622755</dd><dt>HCH</dt><dd>3.8768149891987</dd><dt>mental_health</dt><dd>0.484062232235246</dd><dt>no_leisure</dt><dd>1.01209037754197</dd><dt>obesity</dt><dd>1.07591130927736</dd><dt>not_sleeping</dt><dd>1.31621429383564</dd><dt>stroke</dt><dd>1.59907739026135</dd><dt>med_HBP</dt><dd>1.35212220589208</dd><dt>dentist_visit</dt><dd>1.01967209667904</dd><dt>doc_visit</dt><dd>0.809416709526572</dd></dl>\n"
            ]
          },
          "metadata": {
            "tags": []
          }
        }
      ]
    },
    {
      "cell_type": "code",
      "metadata": {
        "colab": {
          "base_uri": "https://localhost:8080/",
          "height": 84
        },
        "id": "L2Yfv2HWD3uX",
        "outputId": "df06cdab-345f-4a64-f4d3-33977f9350a3"
      },
      "source": [
        "table(actual, preds)"
      ],
      "execution_count": null,
      "outputs": [
        {
          "output_type": "display_data",
          "data": {
            "text/plain": [
              "      preds\n",
              "actual    0    1\n",
              "     0 1478  105\n",
              "     1  122 1437"
            ]
          },
          "metadata": {
            "tags": []
          }
        }
      ]
    },
    {
      "cell_type": "code",
      "metadata": {
        "colab": {
          "base_uri": "https://localhost:8080/"
        },
        "id": "FYt5kNgXD6f6",
        "outputId": "ebd4e4b0-e154-401e-ae25-03404ce26e93"
      },
      "source": [
        "install.packages('Metrics')\n",
        "library(Metrics)"
      ],
      "execution_count": null,
      "outputs": [
        {
          "output_type": "stream",
          "text": [
            "Installing package into ‘/usr/local/lib/R/site-library’\n",
            "(as ‘lib’ is unspecified)\n",
            "\n"
          ],
          "name": "stderr"
        }
      ]
    },
    {
      "cell_type": "code",
      "metadata": {
        "colab": {
          "base_uri": "https://localhost:8080/",
          "height": 34
        },
        "id": "NECmY7H7D81R",
        "outputId": "0f0f312a-fb07-4362-a0c8-51698d3fb76e"
      },
      "source": [
        "accuracy(actual, preds)"
      ],
      "execution_count": null,
      "outputs": [
        {
          "output_type": "display_data",
          "data": {
            "text/plain": [
              "[1] 0.927753"
            ],
            "text/latex": "0.927753023551878",
            "text/markdown": "0.927753023551878",
            "text/html": [
              "0.927753023551878"
            ]
          },
          "metadata": {
            "tags": []
          }
        }
      ]
    },
    {
      "cell_type": "code",
      "metadata": {
        "colab": {
          "base_uri": "https://localhost:8080/",
          "height": 34
        },
        "id": "pplpCJ21EGXI",
        "outputId": "1b7b21b3-f587-4ab5-8bd7-8630c87495ec"
      },
      "source": [
        "precision(actual, preds)"
      ],
      "execution_count": null,
      "outputs": [
        {
          "output_type": "display_data",
          "data": {
            "text/plain": [
              "[1] 0.9319066"
            ],
            "text/latex": "0.931906614785992",
            "text/markdown": "0.931906614785992",
            "text/html": [
              "0.931906614785992"
            ]
          },
          "metadata": {
            "tags": []
          }
        }
      ]
    },
    {
      "cell_type": "code",
      "metadata": {
        "colab": {
          "base_uri": "https://localhost:8080/",
          "height": 34
        },
        "id": "PvIh4iRIEIkx",
        "outputId": "fc26ce0c-6986-43ef-faa7-e67902202f43"
      },
      "source": [
        "auc(actual, preds)"
      ],
      "execution_count": null,
      "outputs": [
        {
          "output_type": "display_data",
          "data": {
            "text/plain": [
              "[1] 0.9277075"
            ],
            "text/latex": "0.927707477256952",
            "text/markdown": "0.927707477256952",
            "text/html": [
              "0.927707477256952"
            ]
          },
          "metadata": {
            "tags": []
          }
        }
      ]
    },
    {
      "cell_type": "code",
      "metadata": {
        "colab": {
          "base_uri": "https://localhost:8080/",
          "height": 34
        },
        "id": "z3iQf1d0EKps",
        "outputId": "75afaefa-dbea-464e-80e9-b44866d66516"
      },
      "source": [
        "recall(actual, preds)"
      ],
      "execution_count": null,
      "outputs": [
        {
          "output_type": "display_data",
          "data": {
            "text/plain": [
              "[1] 0.9217447"
            ],
            "text/latex": "0.921744708146248",
            "text/markdown": "0.921744708146248",
            "text/html": [
              "0.921744708146248"
            ]
          },
          "metadata": {
            "tags": []
          }
        }
      ]
    },
    {
      "cell_type": "code",
      "metadata": {
        "colab": {
          "base_uri": "https://localhost:8080/",
          "height": 34
        },
        "id": "yZ4GarNmENpk",
        "outputId": "653cdd71-377b-4928-adb6-7e8c794caf2d"
      },
      "source": [
        "AIC(log_fit)"
      ],
      "execution_count": null,
      "outputs": [
        {
          "output_type": "display_data",
          "data": {
            "text/plain": [
              "[1] 1098.559"
            ],
            "text/latex": "1098.5590849577",
            "text/markdown": "1098.5590849577",
            "text/html": [
              "1098.5590849577"
            ]
          },
          "metadata": {
            "tags": []
          }
        }
      ]
    },
    {
      "cell_type": "code",
      "metadata": {
        "colab": {
          "base_uri": "https://localhost:8080/",
          "height": 605
        },
        "id": "A6_FwPWUEPzs",
        "outputId": "4a8e5187-1130-4cc7-c48a-0cca12b65d8a"
      },
      "source": [
        "summary(log_fit)"
      ],
      "execution_count": null,
      "outputs": [
        {
          "output_type": "display_data",
          "data": {
            "text/plain": [
              "\n",
              "Call:\n",
              "glm(formula = df$Flag ~ . - HBP, family = \"binomial\", data = df)\n",
              "\n",
              "Deviance Residuals: \n",
              "    Min       1Q   Median       3Q      Max  \n",
              "-3.8181  -0.1544  -0.0007   0.0911   3.3080  \n",
              "\n",
              "Coefficients:\n",
              "               Estimate Std. Error z value Pr(>|z|)    \n",
              "(Intercept)   -90.90066    6.70364 -13.560  < 2e-16 ***\n",
              "drinking       -0.24349    0.05607  -4.342 1.41e-05 ***\n",
              "cancer          4.80640    0.67980   7.070 1.55e-12 ***\n",
              "CHD            -0.98515    0.34900  -2.823  0.00476 ** \n",
              "smoking         0.14738    0.06682   2.206  0.02740 *  \n",
              "diabetes        1.94661    0.21891   8.892  < 2e-16 ***\n",
              "HCH             1.35501    0.10192  13.295  < 2e-16 ***\n",
              "mental_health  -0.72554    0.14622  -4.962 6.98e-07 ***\n",
              "no_leisure      0.01202    0.05195   0.231  0.81705    \n",
              "obesity         0.07317    0.03478   2.104  0.03541 *  \n",
              "not_sleeping    0.27476    0.05028   5.465 4.63e-08 ***\n",
              "stroke          0.46943    0.58386   0.804  0.42140    \n",
              "med_HBP         0.30168    0.05698   5.294 1.20e-07 ***\n",
              "dentist_visit   0.01948    0.03299   0.590  0.55486    \n",
              "doc_visit      -0.21144    0.05371  -3.937 8.25e-05 ***\n",
              "---\n",
              "Signif. codes:  0 ‘***’ 0.001 ‘**’ 0.01 ‘*’ 0.05 ‘.’ 0.1 ‘ ’ 1\n",
              "\n",
              "(Dispersion parameter for binomial family taken to be 1)\n",
              "\n",
              "    Null deviance: 4355.6  on 3141  degrees of freedom\n",
              "Residual deviance: 1068.6  on 3127  degrees of freedom\n",
              "AIC: 1098.6\n",
              "\n",
              "Number of Fisher Scoring iterations: 8\n"
            ]
          },
          "metadata": {
            "tags": []
          }
        }
      ]
    },
    {
      "cell_type": "markdown",
      "metadata": {
        "id": "CsiewS1e-7E1"
      },
      "source": [
        "## Stepwise Logistic Regression Model"
      ]
    },
    {
      "cell_type": "code",
      "metadata": {
        "colab": {
          "base_uri": "https://localhost:8080/"
        },
        "id": "7yh4e4KiESLO",
        "outputId": "9854a88c-dd5b-449c-ac19-7b14c72a0571"
      },
      "source": [
        "install.packages('MASS') #installing MASS package\n",
        "library(MASS)"
      ],
      "execution_count": null,
      "outputs": [
        {
          "output_type": "stream",
          "text": [
            "Installing package into ‘/usr/local/lib/R/site-library’\n",
            "(as ‘lib’ is unspecified)\n",
            "\n",
            "\n",
            "Attaching package: ‘MASS’\n",
            "\n",
            "\n",
            "The following object is masked from ‘package:olsrr’:\n",
            "\n",
            "    cement\n",
            "\n",
            "\n"
          ],
          "name": "stderr"
        }
      ]
    },
    {
      "cell_type": "code",
      "metadata": {
        "colab": {
          "base_uri": "https://localhost:8080/"
        },
        "id": "lZgksS1KEU6g",
        "outputId": "ff05463e-56b7-4d97-b5d4-77f32fe6b25c"
      },
      "source": [
        "df = data.frame(df)\n",
        "stepwise_model = stepAIC(log_fit, trace = TRUE)"
      ],
      "execution_count": null,
      "outputs": [
        {
          "output_type": "stream",
          "text": [
            "Start:  AIC=1098.56\n",
            "df$Flag ~ (drinking + cancer + CHD + smoking + diabetes + HBP + \n",
            "    HCH + mental_health + no_leisure + obesity + not_sleeping + \n",
            "    stroke + med_HBP + dentist_visit + doc_visit) - HBP\n",
            "\n",
            "                Df Deviance    AIC\n",
            "- no_leisure     1   1068.6 1096.6\n",
            "- dentist_visit  1   1068.9 1096.9\n",
            "- stroke         1   1069.2 1097.2\n",
            "<none>               1068.6 1098.6\n",
            "- obesity        1   1073.0 1101.0\n",
            "- smoking        1   1073.4 1101.4\n",
            "- CHD            1   1076.7 1104.7\n",
            "- doc_visit      1   1084.4 1112.4\n",
            "- drinking       1   1087.6 1115.6\n",
            "- mental_health  1   1093.9 1121.9\n",
            "- med_HBP        1   1097.4 1125.4\n",
            "- not_sleeping   1   1099.6 1127.6\n",
            "- cancer         1   1123.3 1151.3\n",
            "- diabetes       1   1162.6 1190.6\n",
            "- HCH            1   1325.4 1353.4\n",
            "\n",
            "Step:  AIC=1096.61\n",
            "df$Flag ~ drinking + cancer + CHD + smoking + diabetes + HCH + \n",
            "    mental_health + obesity + not_sleeping + stroke + med_HBP + \n",
            "    dentist_visit + doc_visit\n",
            "\n",
            "                Df Deviance    AIC\n",
            "- dentist_visit  1   1068.9 1094.9\n",
            "- stroke         1   1069.3 1095.3\n",
            "<none>               1068.6 1096.6\n",
            "- obesity        1   1073.3 1099.3\n",
            "- smoking        1   1074.5 1100.5\n",
            "- CHD            1   1076.8 1102.8\n",
            "- doc_visit      1   1084.7 1110.7\n",
            "- drinking       1   1087.7 1113.7\n",
            "- mental_health  1   1094.0 1120.0\n",
            "- med_HBP        1   1097.9 1123.9\n",
            "- not_sleeping   1   1099.7 1125.7\n",
            "- cancer         1   1125.2 1151.2\n",
            "- diabetes       1   1163.8 1189.8\n",
            "- HCH            1   1333.4 1359.4\n",
            "\n",
            "Step:  AIC=1094.91\n",
            "df$Flag ~ drinking + cancer + CHD + smoking + diabetes + HCH + \n",
            "    mental_health + obesity + not_sleeping + stroke + med_HBP + \n",
            "    doc_visit\n",
            "\n",
            "                Df Deviance    AIC\n",
            "- stroke         1   1069.5 1093.5\n",
            "<none>               1068.9 1094.9\n",
            "- obesity        1   1073.6 1097.6\n",
            "- smoking        1   1074.7 1098.7\n",
            "- CHD            1   1077.7 1101.7\n",
            "- doc_visit      1   1085.8 1109.8\n",
            "- drinking       1   1087.9 1111.9\n",
            "- mental_health  1   1096.8 1120.8\n",
            "- med_HBP        1   1098.2 1122.2\n",
            "- not_sleeping   1   1101.6 1125.6\n",
            "- cancer         1   1131.2 1155.2\n",
            "- diabetes       1   1164.2 1188.2\n",
            "- HCH            1   1354.1 1378.1\n",
            "\n",
            "Step:  AIC=1093.52\n",
            "df$Flag ~ drinking + cancer + CHD + smoking + diabetes + HCH + \n",
            "    mental_health + obesity + not_sleeping + med_HBP + doc_visit\n",
            "\n",
            "                Df Deviance    AIC\n",
            "<none>               1069.5 1093.5\n",
            "- obesity        1   1073.6 1095.6\n",
            "- smoking        1   1075.7 1097.7\n",
            "- CHD            1   1077.9 1099.9\n",
            "- doc_visit      1   1086.4 1108.4\n",
            "- drinking       1   1087.9 1109.9\n",
            "- mental_health  1   1096.9 1118.9\n",
            "- med_HBP        1   1098.7 1120.7\n",
            "- not_sleeping   1   1101.6 1123.6\n",
            "- cancer         1   1134.5 1156.5\n",
            "- diabetes       1   1221.0 1243.0\n",
            "- HCH            1   1358.7 1380.7\n"
          ],
          "name": "stdout"
        }
      ]
    },
    {
      "cell_type": "code",
      "metadata": {
        "colab": {
          "base_uri": "https://localhost:8080/",
          "height": 67
        },
        "id": "1V4NW21mEdEs",
        "outputId": "8ed4d298-6d16-4b3e-836f-71167a5262f2"
      },
      "source": [
        "coef(stepwise_model) "
      ],
      "execution_count": null,
      "outputs": [
        {
          "output_type": "display_data",
          "data": {
            "text/plain": [
              "  (Intercept)      drinking        cancer           CHD       smoking \n",
              " -89.58808221   -0.23604192    4.89814645   -0.90929285    0.15529600 \n",
              "     diabetes           HCH mental_health       obesity  not_sleeping \n",
              "   2.01520715    1.33375756   -0.72926090    0.06683782    0.27212069 \n",
              "      med_HBP     doc_visit \n",
              "   0.29558918   -0.19853580 "
            ],
            "text/latex": "\\begin{description*}\n\\item[(Intercept)] -89.5880822078158\n\\item[drinking] -0.236041919675702\n\\item[cancer] 4.89814644507268\n\\item[CHD] -0.909292848668964\n\\item[smoking] 0.155296004860656\n\\item[diabetes] 2.01520715490207\n\\item[HCH] 1.33375756350155\n\\item[mental\\textbackslash{}\\_health] -0.729260904389711\n\\item[obesity] 0.0668378156109642\n\\item[not\\textbackslash{}\\_sleeping] 0.27212068716973\n\\item[med\\textbackslash{}\\_HBP] 0.295589182836674\n\\item[doc\\textbackslash{}\\_visit] -0.198535796175616\n\\end{description*}\n",
            "text/markdown": "(Intercept)\n:   -89.5880822078158drinking\n:   -0.236041919675702cancer\n:   4.89814644507268CHD\n:   -0.909292848668964smoking\n:   0.155296004860656diabetes\n:   2.01520715490207HCH\n:   1.33375756350155mental_health\n:   -0.729260904389711obesity\n:   0.0668378156109642not_sleeping\n:   0.27212068716973med_HBP\n:   0.295589182836674doc_visit\n:   -0.198535796175616\n\n",
            "text/html": [
              "<style>\n",
              ".dl-inline {width: auto; margin:0; padding: 0}\n",
              ".dl-inline>dt, .dl-inline>dd {float: none; width: auto; display: inline-block}\n",
              ".dl-inline>dt::after {content: \":\\0020\"; padding-right: .5ex}\n",
              ".dl-inline>dt:not(:first-of-type) {padding-left: .5ex}\n",
              "</style><dl class=dl-inline><dt>(Intercept)</dt><dd>-89.5880822078158</dd><dt>drinking</dt><dd>-0.236041919675702</dd><dt>cancer</dt><dd>4.89814644507268</dd><dt>CHD</dt><dd>-0.909292848668964</dd><dt>smoking</dt><dd>0.155296004860656</dd><dt>diabetes</dt><dd>2.01520715490207</dd><dt>HCH</dt><dd>1.33375756350155</dd><dt>mental_health</dt><dd>-0.729260904389711</dd><dt>obesity</dt><dd>0.0668378156109642</dd><dt>not_sleeping</dt><dd>0.27212068716973</dd><dt>med_HBP</dt><dd>0.295589182836674</dd><dt>doc_visit</dt><dd>-0.198535796175616</dd></dl>\n"
            ]
          },
          "metadata": {
            "tags": []
          }
        }
      ]
    },
    {
      "cell_type": "code",
      "metadata": {
        "colab": {
          "base_uri": "https://localhost:8080/",
          "height": 588
        },
        "id": "JrHeE15REsmH",
        "outputId": "04170f32-e21d-46ea-ab9a-028ed39ba37d"
      },
      "source": [
        "summary(stepwise_model) "
      ],
      "execution_count": null,
      "outputs": [
        {
          "output_type": "display_data",
          "data": {
            "text/plain": [
              "\n",
              "Call:\n",
              "glm(formula = df$Flag ~ drinking + cancer + CHD + smoking + diabetes + \n",
              "    HCH + mental_health + obesity + not_sleeping + med_HBP + \n",
              "    doc_visit, family = \"binomial\", data = df)\n",
              "\n",
              "Deviance Residuals: \n",
              "    Min       1Q   Median       3Q      Max  \n",
              "-3.7483  -0.1540  -0.0007   0.0925   3.2977  \n",
              "\n",
              "Coefficients:\n",
              "               Estimate Std. Error z value Pr(>|z|)    \n",
              "(Intercept)   -89.58808    6.29473 -14.232  < 2e-16 ***\n",
              "drinking       -0.23604    0.05549  -4.254 2.10e-05 ***\n",
              "cancer          4.89815    0.64562   7.587 3.28e-14 ***\n",
              "CHD            -0.90929    0.31809  -2.859  0.00426 ** \n",
              "smoking         0.15530    0.06267   2.478  0.01322 *  \n",
              "diabetes        2.01521    0.19121  10.539  < 2e-16 ***\n",
              "HCH             1.33376    0.09584  13.916  < 2e-16 ***\n",
              "mental_health  -0.72926    0.14186  -5.141 2.74e-07 ***\n",
              "obesity         0.06684    0.03310   2.019  0.04344 *  \n",
              "not_sleeping    0.27212    0.04909   5.544 2.96e-08 ***\n",
              "med_HBP         0.29559    0.05550   5.326 1.00e-07 ***\n",
              "doc_visit      -0.19854    0.04881  -4.068 4.75e-05 ***\n",
              "---\n",
              "Signif. codes:  0 ‘***’ 0.001 ‘**’ 0.01 ‘*’ 0.05 ‘.’ 0.1 ‘ ’ 1\n",
              "\n",
              "(Dispersion parameter for binomial family taken to be 1)\n",
              "\n",
              "    Null deviance: 4355.6  on 3141  degrees of freedom\n",
              "Residual deviance: 1069.5  on 3130  degrees of freedom\n",
              "AIC: 1093.5\n",
              "\n",
              "Number of Fisher Scoring iterations: 8\n"
            ]
          },
          "metadata": {
            "tags": []
          }
        }
      ]
    },
    {
      "cell_type": "code",
      "metadata": {
        "colab": {
          "base_uri": "https://localhost:8080/",
          "height": 50
        },
        "id": "eBGvnBAIEwWu",
        "outputId": "8085afcc-12b9-493b-fd96-9aba7dd47072"
      },
      "source": [
        "AIC(log_fit)\n",
        "AIC(stepwise_model)"
      ],
      "execution_count": null,
      "outputs": [
        {
          "output_type": "display_data",
          "data": {
            "text/plain": [
              "[1] 1098.559"
            ],
            "text/latex": "1098.5590849577",
            "text/markdown": "1098.5590849577",
            "text/html": [
              "1098.5590849577"
            ]
          },
          "metadata": {
            "tags": []
          }
        },
        {
          "output_type": "display_data",
          "data": {
            "text/plain": [
              "[1] 1093.523"
            ],
            "text/latex": "1093.52309957899",
            "text/markdown": "1093.52309957899",
            "text/html": [
              "1093.52309957899"
            ]
          },
          "metadata": {
            "tags": []
          }
        }
      ]
    },
    {
      "cell_type": "code",
      "metadata": {
        "colab": {
          "base_uri": "https://localhost:8080/",
          "height": 521
        },
        "id": "3stg8qmME3lE",
        "outputId": "8a318c5b-fcc8-4475-ed22-c9dae1dfa8f3"
      },
      "source": [
        "preds = predict(stepwise_model, df, type = 'response')\n",
        "preds = round(preds,0)\n",
        "preds"
      ],
      "execution_count": null,
      "outputs": [
        {
          "output_type": "display_data",
          "data": {
            "text/plain": [
              "   1    2    3    4    5    6    7    8    9   10   11   12   13   14   15   16 \n",
              "   1    0    1    1    0    0    0    0    1    0    0    0    0    0    1    0 \n",
              "  17   18   19   20   21   22   23   24   25   26   27   28   29   30   31   32 \n",
              "   1    0    0    1    0    0    0    0    1    0    0    0    0    1    1    1 \n",
              "  33   34   35   36   37   38   39   40   41   42   43   44   45   46   47   48 \n",
              "   1    1    1    1    1    1    1    1    1    1    1    1    1    1    1    1 \n",
              "  49   50   51   52   53   54   55   56   57   58   59   60   61   62   63   64 \n",
              "   1    1    1    1    1    1    1    1    1    1    1    1    1    1    1    1 \n",
              "  65   66   67   68   69   70   71   72   73   74   75   76   77   78   79   80 \n",
              "   1    1    1    1    1    1    1    1    1    1    1    1    1    1    1    1 \n",
              "  81   82   83   84   85   86   87   88   89   90   91   92   93   94   95   96 \n",
              "   1    1    1    1    1    1    1    1    1    1    1    1    1    1    1    1 \n",
              "  97   98   99  100  101  102  103  104  105  106  107  108  109  110  111  112 \n",
              "   1    1    1    1    1    1    1    1    1    1    1    1    1    1    1    1 \n",
              " 113  114  115  116  117  118  119  120  121  122  123  124  125  126  127  128 \n",
              "   1    1    1    1    1    1    1    1    1    1    0    1    1    1    1    1 \n",
              " 129  130  131  132  133  134  135  136  137  138  139  140  141  142  143  144 \n",
              "   1    1    1    0    1    1    1    1    1    1    1    1    0    1    0    1 \n",
              " 145  146  147  148  149  150  151  152  153  154  155  156  157  158  159  160 \n",
              "   1    1    1    1    1    1    1    1    1    0    1    1    1    1    1    1 \n",
              " 161  162  163  164  165  166  167  168  169  170  171  172  173  174  175  176 \n",
              "   1    1    0    1    1    1    1    1    1    1    1    1    0    0    1    1 \n",
              " 177  178  179  180  181  182  183  184  185  186  187  188  189  190  191  192 \n",
              "   0    0    0    0    0    1    0    0    0    0    0    0    0    1    0    0 \n",
              " 193  194  195  196  197  198  199  200  201  202  203  204  205  206  207  208 \n",
              "   0    0    0    0    0    0    0    0    0    0    0    0    0    0    0    0 \n",
              " 209  210  211  212  213  214  215  216  217  218  219  220  221  222  223  224 \n",
              "   0    0    0    0    1    0    0    0    0    0    0    0    0    0    0    0 \n",
              " 225  226  227  228  229  230  231  232  233  234  235  236  237  238  239  240 \n",
              "   0    0    0    0    0    0    0    0    0    0    0    0    0    0    0    0 \n",
              " 241  242  243  244  245  246  247  248  249  250  251  252  253  254  255  256 \n",
              "   0    0    0    0    0    0    0    0    0    0    0    0    0    0    0    0 \n",
              " 257  258  259  260  261  262  263  264  265  266  267  268  269  270  271  272 \n",
              "   0    0    0    0    0    0    0    0    0    0    0    0    0    0    0    0 \n",
              " 273  274  275  276  277  278  279  280  281  282  283  284  285  286  287  288 \n",
              "   0    0    0    0    0    0    0    0    0    0    0    0    0    0    0    0 \n",
              " 289  290  291  292  293  294  295  296  297  298  299  300  301  302  303  304 \n",
              "   0    0    0    0    0    0    0    0    0    0    0    0    0    0    0    0 \n",
              " 305  306  307  308  309  310  311  312  313  314  315  316  317  318  319  320 \n",
              "   0    0    0    0    0    0    0    0    0    0    0    0    0    0    0    1 \n",
              " 321  322  323  324  325  326  327  328  329  330  331  332  333  334  335  336 \n",
              "   1    1    0    0    1    0    0    1    0    1    0    1    0    1    0    0 \n",
              " 337  338  339  340  341  342  343  344  345  346  347  348  349  350  351  352 \n",
              "   0    1    1    0    0    0    1    0    1    1    0    0    0    1    0    0 \n",
              " 353  354  355  356  357  358  359  360  361  362  363  364  365  366  367  368 \n",
              "   1    0    0    0    0    1    1    1    0    0    1    1    1    1    0    1 \n",
              " 369  370  371  372  373  374  375  376  377  378  379  380  381  382  383  384 \n",
              "   1    1    0    0    0    1    0    1    0    0    1    1    1    1    1    0 \n",
              " 385  386  387  388  389  390  391  392  393  394  395  396  397  398  399  400 \n",
              "   0    0    0    1    1    1    1    1    0    1    0    1    1    1    0    0 \n",
              " 401  402  403  404  405  406  407  408  409  410  411  412  413  414  415  416 \n",
              "   1    1    1    1    0    1    1    1    1    1    1    1    1    1    1    0 \n",
              " 417  418  419  420  421  422  423  424  425  426  427  428  429  430  431  432 \n",
              "   0    1    1    1    0    1    1    0    1    1    1    1    1    1    1    1 \n",
              " 433  434  435  436  437  438  439  440  441  442  443  444  445  446  447  448 \n",
              "   1    0    1    1    1    1    1    1    1    1    1    0    1    1    1    1 \n",
              " 449  450  451  452  453  454  455  456  457  458  459  460  461  462  463  464 \n",
              "   0    1    1    1    1    1    1    0    1    1    1    1    0    1    1    1 \n",
              " 465  466  467  468  469  470  471  472  473  474  475  476  477  478  479  480 \n",
              "   1    1    1    1    0    0    1    1    1    0    1    1    1    1    1    1 \n",
              " 481  482  483  484  485  486  487  488  489  490  491  492  493  494  495  496 \n",
              "   0    0    1    1    1    1    1    1    1    1    1    0    1    1    1    1 \n",
              " 497  498  499  500  501  502  503  504  505  506  507  508  509  510  511  512 \n",
              "   1    1    0    1    0    1    1    1    1    1    1    1    1    1    1    1 \n",
              " 513  514  515  516  517  518  519  520  521  522  523  524  525  526  527  528 \n",
              "   1    1    0    1    1    0    1    1    0    0    1    1    1    0    1    1 \n",
              " 529  530  531  532  533  534  535  536  537  538  539  540  541  542  543  544 \n",
              "   1    1    1    1    0    0    1    1    1    1    1    1    1    1    1    1 \n",
              " 545  546  547  548  549  550  551  552  553  554  555  556  557  558  559  560 \n",
              "   1    1    0    0    0    0    0    0    0    0    0    0    0    0    0    0 \n",
              " 561  562  563  564  565  566  567  568  569  570  571  572  573  574  575  576 \n",
              "   0    0    0    0    0    0    0    0    0    0    0    0    0    0    0    0 \n",
              " 577  578  579  580  581  582  583  584  585  586  587  588  589  590  591  592 \n",
              "   0    0    0    0    0    0    1    0    0    0    0    0    0    0    0    0 \n",
              " 593  594  595  596  597  598  599  600  601  602  603  604  605  606  607  608 \n",
              "   0    0    0    0    0    0    0    0    0    0    0    0    0    0    0    0 \n",
              " 609  610  611  612  613  614  615  616  617  618  619  620  621  622  623  624 \n",
              "   0    0    0    0    0    0    0    0    0    0    0    0    0    0    0    0 \n",
              " 625  626  627  628  629  630  631  632  633  634  635  636  637  638  639  640 \n",
              "   0    0    0    0    0    0    0    0    0    0    0    0    0    0    0    0 \n",
              " 641  642  643  644  645  646  647  648  649  650  651  652  653  654  655  656 \n",
              "   0    0    0    0    0    0    0    0    0    0    0    0    0    0    0    0 \n",
              " 657  658  659  660  661  662  663  664  665  666  667  668  669  670  671  672 \n",
              "   0    0    0    0    0    0    0    0    0    0    0    0    0    1    0    0 \n",
              " 673  674  675  676  677  678  679  680  681  682  683  684  685  686  687  688 \n",
              "   0    0    0    0    0    0    0    0    0    0    0    0    0    0    0    0 \n",
              " 689  690  691  692  693  694  695  696  697  698  699  700  701  702  703  704 \n",
              "   0    0    0    0    0    0    0    0    0    0    0    0    0    0    1    0 \n",
              " 705  706  707  708  709  710  711  712  713  714  715  716  717  718  719  720 \n",
              "   0    1    0    0    0    0    1    0    1    1    0    0    0    0    0    0 \n",
              " 721  722  723  724  725  726  727  728  729  730  731  732  733  734  735  736 \n",
              "   0    1    0    0    0    1    0    0    0    0    0    0    1    0    1    0 \n",
              " 737  738  739  740  741  742  743  744  745  746  747  748  749  750  751  752 \n",
              "   0    1    0    0    0    0    0    0    0    0    0    1    0    0    0    1 \n",
              " 753  754  755  756  757  758  759  760  761  762  763  764  765  766  767  768 \n",
              "   0    0    0    0    0    0    0    0    0    0    0    0    0    0    0    1 \n",
              " 769  770  771  772  773  774  775  776  777  778  779  780  781  782  783  784 \n",
              "   1    0    0    0    1    0    0    0    1    0    0    0    0    0    0    0 \n",
              " 785  786  787  788  789  790  791  792  793  794  795  796  797  798  799  800 \n",
              "   0    0    0    0    0    1    0    1    0    0    0    0    1    1    1    1 \n",
              " 801  802  803  804  805  806  807  808  809  810  811  812  813  814  815  816 \n",
              "   1    1    1    1    0    1    1    1    1    1    1    0    1    1    1    1 \n",
              " 817  818  819  820  821  822  823  824  825  826  827  828  829  830  831  832 \n",
              "   0    1    1    0    1    1    1    0    1    1    1    1    1    1    1    1 \n",
              " 833  834  835  836  837  838  839  840  841  842  843  844  845  846  847  848 \n",
              "   1    1    1    1    1    0    1    1    1    1    1    0    0    1    1    1 \n",
              " 849  850  851  852  853  854  855  856  857  858  859  860  861  862  863  864 \n",
              "   1    1    1    1    1    1    1    1    1    1    0    1    1    1    0    1 \n",
              " 865  866  867  868  869  870  871  872  873  874  875  876  877  878  879  880 \n",
              "   1    1    0    1    1    1    1    1    1    1    0    1    1    1    1    0 \n",
              " 881  882  883  884  885  886  887  888  889  890  891  892  893  894  895  896 \n",
              "   1    0    1    1    1    1    0    1    0    1    1    1    0    1    0    0 \n",
              " 897  898  899  900  901  902  903  904  905  906  907  908  909  910  911  912 \n",
              "   0    1    0    0    0    1    0    0    1    0    1    1    0    0    0    1 \n",
              " 913  914  915  916  917  918  919  920  921  922  923  924  925  926  927  928 \n",
              "   1    0    0    1    0    0    1    0    0    1    0    1    1    0    0    0 \n",
              " 929  930  931  932  933  934  935  936  937  938  939  940  941  942  943  944 \n",
              "   0    0    1    0    0    0    1    0    0    0    0    0    1    0    0    0 \n",
              " 945  946  947  948  949  950  951  952  953  954  955  956  957  958  959  960 \n",
              "   0    0    0    0    1    1    1    0    0    0    1    0    0    0    1    0 \n",
              " 961  962  963  964  965  966  967  968  969  970  971  972  973  974  975  976 \n",
              "   0    0    0    1    1    0    0    0    0    0    0    0    0    0    1    1 \n",
              " 977  978  979  980  981  982  983  984  985  986  987  988  989  990  991  992 \n",
              "   0    1    0    1    1    0    1    1    0    1    0    0    1    1    0    0 \n",
              " 993  994  995  996  997  998  999 1000 1001 1002 1003 1004 1005 1006 1007 1008 \n",
              "   1    1    1    1    1    1    1    1    1    1    1    1    1    1    1    1 \n",
              "1009 1010 1011 1012 1013 1014 1015 1016 1017 1018 1019 1020 1021 1022 1023 1024 \n",
              "   1    1    1    1    1    1    1    1    1    1    1    1    1    1    1    1 \n",
              "1025 1026 1027 1028 1029 1030 1031 1032 1033 1034 1035 1036 1037 1038 1039 1040 \n",
              "   1    1    1    1    1    1    1    1    1    1    1    1    1    1    1    1 \n",
              "1041 1042 1043 1044 1045 1046 1047 1048 1049 1050 1051 1052 1053 1054 1055 1056 \n",
              "   1    1    1    1    1    1    1    1    1    1    1    1    1    1    1    1 \n",
              "1057 1058 1059 1060 1061 1062 1063 1064 1065 1066 1067 1068 1069 1070 1071 1072 \n",
              "   1    1    1    1    1    1    1    1    1    1    1    1    1    1    1    1 \n",
              "1073 1074 1075 1076 1077 1078 1079 1080 1081 1082 1083 1084 1085 1086 1087 1088 \n",
              "   1    1    1    1    1    1    1    1    1    1    1    1    1    1    1    1 \n",
              "1089 1090 1091 1092 1093 1094 1095 1096 1097 1098 1099 1100 1101 1102 1103 1104 \n",
              "   1    1    1    1    1    1    1    1    1    1    1    1    1    1    1    1 \n",
              "1105 1106 1107 1108 1109 1110 1111 1112 1113 1114 1115 1116 1117 1118 1119 1120 \n",
              "   1    1    1    1    1    1    1    1    1    1    1    1    1    1    1    1 \n",
              "1121 1122 1123 1124 1125 1126 1127 1128 1129 1130 1131 1132 1133 1134 1135 1136 \n",
              "   1    1    1    1    1    1    1    1    1    1    1    1    1    1    1    1 \n",
              "1137 1138 1139 1140 1141 1142 1143 1144 1145 1146 1147 1148 1149 1150 1151 1152 \n",
              "   1    1    1    1    1    1    1    1    1    1    1    1    1    1    1    1 \n",
              "1153 1154 1155 1156 1157 1158 1159 1160 1161 1162 1163 1164 1165 1166 1167 1168 \n",
              "   1    1    1    1    1    1    1    1    1    1    1    1    1    1    1    1 \n",
              "1169 1170 1171 1172 1173 1174 1175 1176 1177 1178 1179 1180 1181 1182 1183 1184 \n",
              "   1    1    1    1    1    1    1    1    1    0    0    0    0    0    0    0 \n",
              "1185 1186 1187 1188 1189 1190 1191 1192 1193 1194 1195 1196 1197 1198 1199 1200 \n",
              "   0    0    0    0    0    0    0    1    0    1    0    1    1    1    1    1 \n",
              "1201 1202 1203 1204 1205 1206 1207 1208 1209 1210 1211 1212 1213 1214 1215 1216 \n",
              "   1    0    0    1    0    1    0    0    0    0    1    1    1    1    1    0 \n",
              "1217 1218 1219 1220 1221 1222 1223 1224 1225 1226 1227 1228 1229 1230 1231 1232 \n",
              "   0    0    0    1    0    0    0    0    0    0    0    0    0    0    0    0 \n",
              "1233 1234 1235 1236 1237 1238 1239 1240 1241 1242 1243 1244 1245 1246 1247 1248 \n",
              "   0    1    0    0    1    1    0    1    1    0    0    0    0    0    0    1 \n",
              "1249 1250 1251 1252 1253 1254 1255 1256 1257 1258 1259 1260 1261 1262 1263 1264 \n",
              "   0    1    1    0    0    0    1    1    0    0    0    0    0    0    0    0 \n",
              "1265 1266 1267 1268 1269 1270 1271 1272 1273 1274 1275 1276 1277 1278 1279 1280 \n",
              "   0    1    1    0    0    0    0    0    1    1    1    1    0    0    0    1 \n",
              "1281 1282 1283 1284 1285 1286 1287 1288 1289 1290 1291 1292 1293 1294 1295 1296 \n",
              "   1    1    0    0    0    0    0    1    0    0    0    0    0    0    0    0 \n",
              "1297 1298 1299 1300 1301 1302 1303 1304 1305 1306 1307 1308 1309 1310 1311 1312 \n",
              "   0    0    0    0    0    0    0    0    1    1    0    0    0    0    0    1 \n",
              "1313 1314 1315 1316 1317 1318 1319 1320 1321 1322 1323 1324 1325 1326 1327 1328 \n",
              "   1    1    0    0    0    0    0    0    0    0    0    0    0    0    0    0 \n",
              "1329 1330 1331 1332 1333 1334 1335 1336 1337 1338 1339 1340 1341 1342 1343 1344 \n",
              "   0    0    0    0    0    0    0    0    0    0    0    0    0    0    0    0 \n",
              "1345 1346 1347 1348 1349 1350 1351 1352 1353 1354 1355 1356 1357 1358 1359 1360 \n",
              "   0    0    0    0    0    0    0    0    0    0    0    0    0    0    1    0 \n",
              "1361 1362 1363 1364 1365 1366 1367 1368 1369 1370 1371 1372 1373 1374 1375 1376 \n",
              "   0    0    0    0    0    0    0    0    0    0    0    0    0    0    0    0 \n",
              "1377 1378 1379 1380 1381 1382 1383 1384 1385 1386 1387 1388 1389 1390 1391 1392 \n",
              "   0    0    0    0    0    0    0    0    0    0    0    0    0    0    0    0 \n",
              "1393 1394 1395 1396 1397 1398 1399 1400 1401 1402 1403 1404 1405 1406 1407 1408 \n",
              "   0    0    0    0    0    0    0    0    0    0    0    0    1    1    1    1 \n",
              "1409 1410 1411 1412 1413 1414 1415 1416 1417 1418 1419 1420 1421 1422 1423 1424 \n",
              "   0    1    1    0    1    1    1    1    0    1    1    1    1    1    1    1 \n",
              "1425 1426 1427 1428 1429 1430 1431 1432 1433 1434 1435 1436 1437 1438 1439 1440 \n",
              "   1    1    1    0    0    1    0    0    1    0    1    0    1    1    1    0 \n",
              "1441 1442 1443 1444 1445 1446 1447 1448 1449 1450 1451 1452 1453 1454 1455 1456 \n",
              "   1    1    1    1    1    1    1    0    1    0    1    1    1    0    1    1 \n",
              "1457 1458 1459 1460 1461 1462 1463 1464 1465 1466 1467 1468 1469 1470 1471 1472 \n",
              "   0    1    1    0    1    0    1    1    1    0    1    0    0    0    1    1 \n",
              "1473 1474 1475 1476 1477 1478 1479 1480 1481 1482 1483 1484 1485 1486 1487 1488 \n",
              "   1    0    0    0    0    1    1    1    0    0    0    1    1    1    1    1 \n",
              "1489 1490 1491 1492 1493 1494 1495 1496 1497 1498 1499 1500 1501 1502 1503 1504 \n",
              "   0    0    1    0    0    1    0    1    0    1    1    1    1    1    0    1 \n",
              "1505 1506 1507 1508 1509 1510 1511 1512 1513 1514 1515 1516 1517 1518 1519 1520 \n",
              "   1    1    0    0    1    0    0    0    0    1    1    1    1    1    1    1 \n",
              "1521 1522 1523 1524 1525 1526 1527 1528 1529 1530 1531 1532 1533 1534 1535 1536 \n",
              "   1    1    1    1    1    1    1    1    1    1    1    1    1    1    1    1 \n",
              "1537 1538 1539 1540 1541 1542 1543 1544 1545 1546 1547 1548 1549 1550 1551 1552 \n",
              "   1    1    1    1    1    1    1    1    1    1    1    1    1    1    1    1 \n",
              "1553 1554 1555 1556 1557 1558 1559 1560 1561 1562 1563 1564 1565 1566 1567 1568 \n",
              "   1    1    1    1    1    1    1    1    1    1    1    1    1    1    1    1 \n",
              "1569 1570 1571 1572 1573 1574 1575 1576 1577 1578 1579 1580 1581 1582 1583 1584 \n",
              "   1    1    1    1    1    1    1    1    1    1    1    1    1    1    1    1 \n",
              "1585 1586 1587 1588 1589 1590 1591 1592 1593 1594 1595 1596 1597 1598 1599 1600 \n",
              "   1    1    1    1    1    1    1    1    1    1    1    1    1    1    0    0 \n",
              "1601 1602 1603 1604 1605 1606 1607 1608 1609 1610 1611 1612 1613 1614 1615 1616 \n",
              "   0    0    1    0    0    0    0    0    0    0    0    0    0    0    1    0 \n",
              "1617 1618 1619 1620 1621 1622 1623 1624 1625 1626 1627 1628 1629 1630 1631 1632 \n",
              "   0    0    0    0    0    0    0    0    0    0    0    0    0    0    0    0 \n",
              "1633 1634 1635 1636 1637 1638 1639 1640 1641 1642 1643 1644 1645 1646 1647 1648 \n",
              "   0    0    0    0    0    0    0    0    0    0    0    0    0    0    0    0 \n",
              "1649 1650 1651 1652 1653 1654 1655 1656 1657 1658 1659 1660 1661 1662 1663 1664 \n",
              "   1    0    0    0    0    0    0    1    0    1    1    1    1    1    1    1 \n",
              "1665 1666 1667 1668 1669 1670 1671 1672 1673 1674 1675 1676 1677 1678 1679 1680 \n",
              "   1    1    1    0    0    0    1    0    1    1    0    1    1    0    1    0 \n",
              "1681 1682 1683 1684 1685 1686 1687 1688 1689 1690 1691 1692 1693 1694 1695 1696 \n",
              "   1    1    0    0    1    1    1    1    1    1    0    0    1    1    1    1 \n",
              "1697 1698 1699 1700 1701 1702 1703 1704 1705 1706 1707 1708 1709 1710 1711 1712 \n",
              "   1    1    0    0    0    1    1    1    1    1    1    1    1    1    1    1 \n",
              "1713 1714 1715 1716 1717 1718 1719 1720 1721 1722 1723 1724 1725 1726 1727 1728 \n",
              "   0    1    0    1    1    1    1    0    1    1    0    1    0    0    1    0 \n",
              "1729 1730 1731 1732 1733 1734 1735 1736 1737 1738 1739 1740 1741 1742 1743 1744 \n",
              "   1    1    0    1    1    1    1    1    1    1    1    1    1    1    1    1 \n",
              "1745 1746 1747 1748 1749 1750 1751 1752 1753 1754 1755 1756 1757 1758 1759 1760 \n",
              "   1    1    1    1    0    1    1    1    1    0    0    0    0    0    0    0 \n",
              "1761 1762 1763 1764 1765 1766 1767 1768 1769 1770 1771 1772 1773 1774 1775 1776 \n",
              "   0    0    0    0    0    0    0    0    0    1    0    0    1    0    1    0 \n",
              "1777 1778 1779 1780 1781 1782 1783 1784 1785 1786 1787 1788 1789 1790 1791 1792 \n",
              "   0    0    0    1    0    0    0    0    0    0    0    0    0    0    0    0 \n",
              "1793 1794 1795 1796 1797 1798 1799 1800 1801 1802 1803 1804 1805 1806 1807 1808 \n",
              "   0    0    0    0    0    0    0    0    0    0    0    0    0    0    0    0 \n",
              "1809 1810 1811 1812 1813 1814 1815 1816 1817 1818 1819 1820 1821 1822 1823 1824 \n",
              "   0    0    0    0    0    0    0    0    0    0    0    0    0    0    0    0 \n",
              "1825 1826 1827 1828 1829 1830 1831 1832 1833 1834 1835 1836 1837 1838 1839 1840 \n",
              "   0    0    0    0    0    0    0    0    0    0    0    0    0    0    0    0 \n",
              "1841 1842 1843 1844 1845 1846 1847 1848 1849 1850 1851 1852 1853 1854 1855 1856 \n",
              "   0    0    0    0    0    0    0    0    0    0    0    0    0    0    1    0 \n",
              "1857 1858 1859 1860 1861 1862 1863 1864 1865 1866 1867 1868 1869 1870 1871 1872 \n",
              "   0    0    0    0    0    0    0    0    0    0    0    0    0    0    0    0 \n",
              "1873 1874 1875 1876 1877 1878 1879 1880 1881 1882 1883 1884 1885 1886 1887 1888 \n",
              "   0    0    0    0    0    0    0    0    0    0    0    0    0    0    1    0 \n",
              "1889 1890 1891 1892 1893 1894 1895 1896 1897 1898 1899 1900 1901 1902 1903 1904 \n",
              "   0    0    0    0    0    0    0    0    0    0    0    0    0    0    0    0 \n",
              "1905 1906 1907 1908 1909 1910 1911 1912 1913 1914 1915 1916 1917 1918 1919 1920 \n",
              "   0    0    0    0    0    0    1    0    0    0    0    0    0    0    0    0 \n",
              "1921 1922 1923 1924 1925 1926 1927 1928 1929 1930 1931 1932 1933 1934 1935 1936 \n",
              "   0    0    0    0    1    0    0    0    1    0    0    0    0    0    0    0 \n",
              "1937 1938 1939 1940 1941 1942 1943 1944 1945 1946 1947 1948 1949 1950 1951 1952 \n",
              "   0    0    0    0    0    0    0    0    0    1    1    0    0    0    0    0 \n",
              "1953 1954 1955 1956 1957 1958 1959 1960 1961 1962 1963 1964 1965 1966 1967 1968 \n",
              "   0    0    0    1    0    1    0    0    0    0    0    0    0    1    0    0 \n",
              "1969 1970 1971 1972 1973 1974 1975 1976 1977 1978 1979 1980 1981 1982 1983 1984 \n",
              "   0    1    0    0    0    0    0    0    0    0    0    0    0    0    0    1 \n",
              "1985 1986 1987 1988 1989 1990 1991 1992 1993 1994 1995 1996 1997 1998 1999 2000 \n",
              "   0    0    0    0    0    0    0    0    0    1    0    0    0    0    0    1 \n",
              "2001 2002 2003 2004 2005 2006 2007 2008 2009 2010 2011 2012 2013 2014 2015 2016 \n",
              "   0    0    0    0    0    0    1    0    0    0    0    0    0    0    0    1 \n",
              "2017 2018 2019 2020 2021 2022 2023 2024 2025 2026 2027 2028 2029 2030 2031 2032 \n",
              "   0    0    0    0    0    0    0    0    0    0    0    1    1    0    0    0 \n",
              "2033 2034 2035 2036 2037 2038 2039 2040 2041 2042 2043 2044 2045 2046 2047 2048 \n",
              "   0    0    0    0    0    0    0    0    1    0    0    1    0    1    0    1 \n",
              "2049 2050 2051 2052 2053 2054 2055 2056 2057 2058 2059 2060 2061 2062 2063 2064 \n",
              "   1    1    0    0    1    1    1    0    0    1    1    1    1    0    0    1 \n",
              "2065 2066 2067 2068 2069 2070 2071 2072 2073 2074 2075 2076 2077 2078 2079 2080 \n",
              "   1    0    0    0    0    0    1    0    0    0    0    0    0    1    0    0 \n",
              "2081 2082 2083 2084 2085 2086 2087 2088 2089 2090 2091 2092 2093 2094 2095 2096 \n",
              "   0    1    0    1    0    1    0    1    0    1    0    0    0    1    0    1 \n",
              "2097 2098 2099 2100 2101 2102 2103 2104 2105 2106 2107 2108 2109 2110 2111 2112 \n",
              "   0    1    0    1    0    1    0    1    0    0    1    0    1    0    1    1 \n",
              "2113 2114 2115 2116 2117 2118 2119 2120 2121 2122 2123 2124 2125 2126 2127 2128 \n",
              "   0    0    1    0    1    0    1    0    1    0    0    0    0    0    1    0 \n",
              "2129 2130 2131 2132 2133 2134 2135 2136 2137 2138 2139 2140 2141 2142 2143 2144 \n",
              "   1    0    1    1    1    1    1    1    1    1    1    1    1    1    1    1 \n",
              "2145 2146 2147 2148 2149 2150 2151 2152 2153 2154 2155 2156 2157 2158 2159 2160 \n",
              "   1    1    1    1    1    1    1    1    1    1    1    1    0    1    1    1 \n",
              "2161 2162 2163 2164 2165 2166 2167 2168 2169 2170 2171 2172 2173 2174 2175 2176 \n",
              "   1    1    1    1    1    1    1    1    1    1    1    1    1    1    1    1 \n",
              "2177 2178 2179 2180 2181 2182 2183 2184 2185 2186 2187 2188 2189 2190 2191 2192 \n",
              "   1    1    1    1    1    1    1    1    1    1    1    1    1    1    1    1 \n",
              "2193 2194 2195 2196 2197 2198 2199 2200 2201 2202 2203 2204 2205 2206 2207 2208 \n",
              "   1    1    1    1    1    1    1    1    1    1    1    1    1    1    1    1 \n",
              "2209 2210 2211 2212 2213 2214 2215 2216 2217 2218 2219 2220 2221 2222 2223 2224 \n",
              "   0    0    0    0    0    0    0    0    0    0    0    0    0    0    0    0 \n",
              "2225 2226 2227 2228 2229 2230 2231 2232 2233 2234 2235 2236 2237 2238 2239 2240 \n",
              "   0    0    0    0    0    0    0    0    0    0    0    0    0    0    0    0 \n",
              "2241 2242 2243 2244 2245 2246 2247 2248 2249 2250 2251 2252 2253 2254 2255 2256 \n",
              "   0    0    0    0    0    0    0    0    1    0    0    0    0    0    0    0 \n",
              "2257 2258 2259 2260 2261 2262 2263 2264 2265 2266 2267 2268 2269 2270 2271 2272 \n",
              "   0    0    0    0    0    0    0    0    0    0    0    0    1    0    0    0 \n",
              "2273 2274 2275 2276 2277 2278 2279 2280 2281 2282 2283 2284 2285 2286 2287 2288 \n",
              "   0    0    0    0    0    0    0    0    0    0    0    0    0    0    0    0 \n",
              "2289 2290 2291 2292 2293 2294 2295 2296 2297 2298 2299 2300 2301 2302 2303 2304 \n",
              "   0    0    0    0    0    0    0    0    0    0    0    0    0    0    0    0 \n",
              "2305 2306 2307 2308 2309 2310 2311 2312 2313 2314 2315 2316 2317 2318 2319 2320 \n",
              "   0    0    0    0    0    0    0    0    0    0    0    0    1    1    1    1 \n",
              "2321 2322 2323 2324 2325 2326 2327 2328 2329 2330 2331 2332 2333 2334 2335 2336 \n",
              "   1    1    1    1    1    1    1    1    1    1    1    1    1    1    1    1 \n",
              "2337 2338 2339 2340 2341 2342 2343 2344 2345 2346 2347 2348 2349 2350 2351 2352 \n",
              "   1    1    1    1    1    0    1    1    1    1    1    1    1    1    1    1 \n",
              "2353 2354 2355 2356 2357 2358 2359 2360 2361 2362 2363 2364 2365 2366 2367 2368 \n",
              "   1    1    1    1    0    1    1    1    1    1    0    0    0    0    0    0 \n",
              "2369 2370 2371 2372 2373 2374 2375 2376 2377 2378 2379 2380 2381 2382 2383 2384 \n",
              "   0    0    0    0    0    0    1    0    0    1    0    1    1    0    0    0 \n",
              "2385 2386 2387 2388 2389 2390 2391 2392 2393 2394 2395 2396 2397 2398 2399 2400 \n",
              "   1    0    0    0    0    0    1    0    0    0    0    0    0    0    0    1 \n",
              "2401 2402 2403 2404 2405 2406 2407 2408 2409 2410 2411 2412 2413 2414 2415 2416 \n",
              "   0    0    0    0    0    0    1    0    0    0    0    0    0    0    0    0 \n",
              "2417 2418 2419 2420 2421 2422 2423 2424 2425 2426 2427 2428 2429 2430 2431 2432 \n",
              "   0    0    0    0    0    0    0    0    0    0    0    1    1    1    1    1 \n",
              "2433 2434 2435 2436 2437 2438 2439 2440 2441 2442 2443 2444 2445 2446 2447 2448 \n",
              "   1    1    1    1    1    1    1    1    1    1    1    1    1    1    1    1 \n",
              "2449 2450 2451 2452 2453 2454 2455 2456 2457 2458 2459 2460 2461 2462 2463 2464 \n",
              "   1    1    1    1    1    1    1    1    1    1    1    1    1    1    1    1 \n",
              "2465 2466 2467 2468 2469 2470 2471 2472 2473 2474 2475 2476 2477 2478 2479 2480 \n",
              "   1    1    1    1    1    1    1    1    1    1    1    1    1    1    1    1 \n",
              "2481 2482 2483 2484 2485 2486 2487 2488 2489 2490 2491 2492 2493 2494 2495 2496 \n",
              "   1    1    1    1    1    1    1    1    1    1    1    1    1    0    1    1 \n",
              "2497 2498 2499 2500 2501 2502 2503 2504 2505 2506 2507 2508 2509 2510 2511 2512 \n",
              "   1    1    1    1    1    1    1    1    1    1    1    1    1    1    1    1 \n",
              "2513 2514 2515 2516 2517 2518 2519 2520 2521 2522 2523 2524 2525 2526 2527 2528 \n",
              "   1    1    1    1    1    1    1    1    1    1    1    0    1    1    1    1 \n",
              "2529 2530 2531 2532 2533 2534 2535 2536 2537 2538 2539 2540 2541 2542 2543 2544 \n",
              "   1    1    1    0    1    1    1    1    1    1    1    1    1    1    1    1 \n",
              "2545 2546 2547 2548 2549 2550 2551 2552 2553 2554 2555 2556 2557 2558 2559 2560 \n",
              "   1    1    0    1    1    1    1    1    1    0    1    0    1    1    1    1 \n",
              "2561 2562 2563 2564 2565 2566 2567 2568 2569 2570 2571 2572 2573 2574 2575 2576 \n",
              "   1    0    1    1    1    1    1    1    1    1    1    1    1    1    1    1 \n",
              "2577 2578 2579 2580 2581 2582 2583 2584 2585 2586 2587 2588 2589 2590 2591 2592 \n",
              "   1    1    0    1    1    1    1    1    1    1    1    1    1    1    0    0 \n",
              "2593 2594 2595 2596 2597 2598 2599 2600 2601 2602 2603 2604 2605 2606 2607 2608 \n",
              "   0    1    0    1    1    1    1    1    1    1    1    1    0    1    1    1 \n",
              "2609 2610 2611 2612 2613 2614 2615 2616 2617 2618 2619 2620 2621 2622 2623 2624 \n",
              "   1    0    1    1    1    1    1    0    1    1    1    1    1    1    1    1 \n",
              "2625 2626 2627 2628 2629 2630 2631 2632 2633 2634 2635 2636 2637 2638 2639 2640 \n",
              "   1    1    1    1    1    1    1    1    1    1    1    1    1    1    1    1 \n",
              "2641 2642 2643 2644 2645 2646 2647 2648 2649 2650 2651 2652 2653 2654 2655 2656 \n",
              "   1    1    1    1    1    1    1    1    1    1    1    0    1    0    1    1 \n",
              "2657 2658 2659 2660 2661 2662 2663 2664 2665 2666 2667 2668 2669 2670 2671 2672 \n",
              "   1    1    1    1    1    1    1    1    1    1    1    1    1    1    1    1 \n",
              "2673 2674 2675 2676 2677 2678 2679 2680 2681 2682 2683 2684 2685 2686 2687 2688 \n",
              "   1    1    1    1    1    1    1    1    1    1    1    1    1    1    1    1 \n",
              "2689 2690 2691 2692 2693 2694 2695 2696 2697 2698 2699 2700 2701 2702 2703 2704 \n",
              "   1    1    1    0    1    1    1    1    1    1    1    1    0    1    0    0 \n",
              "2705 2706 2707 2708 2709 2710 2711 2712 2713 2714 2715 2716 2717 2718 2719 2720 \n",
              "   1    1    1    1    1    1    1    1    1    1    0    0    1    1    1    1 \n",
              "2721 2722 2723 2724 2725 2726 2727 2728 2729 2730 2731 2732 2733 2734 2735 2736 \n",
              "   1    1    1    1    1    1    1    0    1    1    1    0    1    1    1    1 \n",
              "2737 2738 2739 2740 2741 2742 2743 2744 2745 2746 2747 2748 2749 2750 2751 2752 \n",
              "   0    1    1    1    1    1    1    1    1    1    0    1    0    1    1    1 \n",
              "2753 2754 2755 2756 2757 2758 2759 2760 2761 2762 2763 2764 2765 2766 2767 2768 \n",
              "   1    0    0    1    1    1    1    0    1    1    0    1    1    1    1    1 \n",
              "2769 2770 2771 2772 2773 2774 2775 2776 2777 2778 2779 2780 2781 2782 2783 2784 \n",
              "   1    0    0    1    1    1    0    1    1    0    0    0    1    0    0    0 \n",
              "2785 2786 2787 2788 2789 2790 2791 2792 2793 2794 2795 2796 2797 2798 2799 2800 \n",
              "   0    0    0    0    0    0    0    0    0    0    0    0    0    0    0    0 \n",
              "2801 2802 2803 2804 2805 2806 2807 2808 2809 2810 2811 2812 2813 2814 2815 2816 \n",
              "   0    0    0    0    0    0    1    1    0    0    1    0    1    1    1    0 \n",
              "2817 2818 2819 2820 2821 2822 2823 2824 2825 2826 2827 2828 2829 2830 2831 2832 \n",
              "   0    0    0    1    0    1    0    0    1    1    1    0    1    0    1    1 \n",
              "2833 2834 2835 2836 2837 2838 2839 2840 2841 2842 2843 2844 2845 2846 2847 2848 \n",
              "   1    1    1    1    1    1    1    0    1    1    1    1    0    1    1    0 \n",
              "2849 2850 2851 2852 2853 2854 2855 2856 2857 2858 2859 2860 2861 2862 2863 2864 \n",
              "   1    1    1    1    1    0    0    1    0    1    1    1    1    0    1    0 \n",
              "2865 2866 2867 2868 2869 2870 2871 2872 2873 2874 2875 2876 2877 2878 2879 2880 \n",
              "   1    0    1    1    0    0    1    0    0    1    0    0    1    0    0    0 \n",
              "2881 2882 2883 2884 2885 2886 2887 2888 2889 2890 2891 2892 2893 2894 2895 2896 \n",
              "   0    1    1    1    1    0    1    0    1    0    0    1    0    1    0    0 \n",
              "2897 2898 2899 2900 2901 2902 2903 2904 2905 2906 2907 2908 2909 2910 2911 2912 \n",
              "   1    0    0    1    1    1    1    0    1    0    1    1    1    1    1    0 \n",
              "2913 2914 2915 2916 2917 2918 2919 2920 2921 2922 2923 2924 2925 2926 2927 2928 \n",
              "   0    1    1    0    0    1    1    0    1    1    1    0    1    1    1    1 \n",
              "2929 2930 2931 2932 2933 2934 2935 2936 2937 2938 2939 2940 2941 2942 2943 2944 \n",
              "   0    1    1    1    0    0    1    0    0    0    0    0    0    0    0    0 \n",
              "2945 2946 2947 2948 2949 2950 2951 2952 2953 2954 2955 2956 2957 2958 2959 2960 \n",
              "   0    0    0    0    0    0    0    0    0    0    0    0    0    0    0    0 \n",
              "2961 2962 2963 2964 2965 2966 2967 2968 2969 2970 2971 2972 2973 2974 2975 2976 \n",
              "   0    0    0    0    0    0    0    0    0    0    0    0    0    0    0    0 \n",
              "2977 2978 2979 2980 2981 2982 2983 2984 2985 2986 2987 2988 2989 2990 2991 2992 \n",
              "   0    0    0    0    0    0    0    0    0    0    0    0    0    0    0    0 \n",
              "2993 2994 2995 2996 2997 2998 2999 3000 3001 3002 3003 3004 3005 3006 3007 3008 \n",
              "   0    0    0    0    0    0    0    0    0    0    0    0    0    0    0    0 \n",
              "3009 3010 3011 3012 3013 3014 3015 3016 3017 3018 3019 3020 3021 3022 3023 3024 \n",
              "   0    0    0    0    0    0    0    0    0    0    0    0    0    0    0    0 \n",
              "3025 3026 3027 3028 3029 3030 3031 3032 3033 3034 3035 3036 3037 3038 3039 3040 \n",
              "   0    0    0    0    0    0    0    0    0    0    0    0    0    0    0    0 \n",
              "3041 3042 3043 3044 3045 3046 3047 3048 3049 3050 3051 3052 3053 3054 3055 3056 \n",
              "   0    0    0    0    0    0    0    0    0    0    0    0    0    0    0    0 \n",
              "3057 3058 3059 3060 3061 3062 3063 3064 3065 3066 3067 3068 3069 3070 3071 3072 \n",
              "   0    0    0    0    0    1    0    0    1    1    1    1    1    1    1    1 \n",
              "3073 3074 3075 3076 3077 3078 3079 3080 3081 3082 3083 3084 3085 3086 3087 3088 \n",
              "   1    1    1    1    1    1    1    1    1    1    1    1    1    1    1    1 \n",
              "3089 3090 3091 3092 3093 3094 3095 3096 3097 3098 3099 3100 3101 3102 3103 3104 \n",
              "   1    1    1    1    1    1    1    1    1    1    1    1    1    1    1    1 \n",
              "3105 3106 3107 3108 3109 3110 3111 3112 3113 3114 3115 3116 3117 3118 3119 3120 \n",
              "   1    1    1    1    1    1    1    1    1    1    1    1    1    1    1    0 \n",
              "3121 3122 3123 3124 3125 3126 3127 3128 3129 3130 3131 3132 3133 3134 3135 3136 \n",
              "   0    0    0    0    0    0    0    0    0    0    0    0    0    0    0    0 \n",
              "3137 3138 3139 3140 3141 3142 \n",
              "   0    0    0    0    0    0 "
            ],
            "text/latex": "\\begin{description*}\n\\item[1] 1\n\\item[2] 0\n\\item[3] 1\n\\item[4] 1\n\\item[5] 0\n\\item[6] 0\n\\item[7] 0\n\\item[8] 0\n\\item[9] 1\n\\item[10] 0\n\\item[11] 0\n\\item[12] 0\n\\item[13] 0\n\\item[14] 0\n\\item[15] 1\n\\item[16] 0\n\\item[17] 1\n\\item[18] 0\n\\item[19] 0\n\\item[20] 1\n\\item[21] 0\n\\item[22] 0\n\\item[23] 0\n\\item[24] 0\n\\item[25] 1\n\\item[26] 0\n\\item[27] 0\n\\item[28] 0\n\\item[29] 0\n\\item[30] 1\n\\item[31] 1\n\\item[32] 1\n\\item[33] 1\n\\item[34] 1\n\\item[35] 1\n\\item[36] 1\n\\item[37] 1\n\\item[38] 1\n\\item[39] 1\n\\item[40] 1\n\\item[41] 1\n\\item[42] 1\n\\item[43] 1\n\\item[44] 1\n\\item[45] 1\n\\item[46] 1\n\\item[47] 1\n\\item[48] 1\n\\item[49] 1\n\\item[50] 1\n\\item[51] 1\n\\item[52] 1\n\\item[53] 1\n\\item[54] 1\n\\item[55] 1\n\\item[56] 1\n\\item[57] 1\n\\item[58] 1\n\\item[59] 1\n\\item[60] 1\n\\item[61] 1\n\\item[62] 1\n\\item[63] 1\n\\item[64] 1\n\\item[65] 1\n\\item[66] 1\n\\item[67] 1\n\\item[68] 1\n\\item[69] 1\n\\item[70] 1\n\\item[71] 1\n\\item[72] 1\n\\item[73] 1\n\\item[74] 1\n\\item[75] 1\n\\item[76] 1\n\\item[77] 1\n\\item[78] 1\n\\item[79] 1\n\\item[80] 1\n\\item[81] 1\n\\item[82] 1\n\\item[83] 1\n\\item[84] 1\n\\item[85] 1\n\\item[86] 1\n\\item[87] 1\n\\item[88] 1\n\\item[89] 1\n\\item[90] 1\n\\item[91] 1\n\\item[92] 1\n\\item[93] 1\n\\item[94] 1\n\\item[95] 1\n\\item[96] 1\n\\item[97] 1\n\\item[98] 1\n\\item[99] 1\n\\item[100] 1\n\\item[101] 1\n\\item[102] 1\n\\item[103] 1\n\\item[104] 1\n\\item[105] 1\n\\item[106] 1\n\\item[107] 1\n\\item[108] 1\n\\item[109] 1\n\\item[110] 1\n\\item[111] 1\n\\item[112] 1\n\\item[113] 1\n\\item[114] 1\n\\item[115] 1\n\\item[116] 1\n\\item[117] 1\n\\item[118] 1\n\\item[119] 1\n\\item[120] 1\n\\item[121] 1\n\\item[122] 1\n\\item[123] 0\n\\item[124] 1\n\\item[125] 1\n\\item[126] 1\n\\item[127] 1\n\\item[128] 1\n\\item[129] 1\n\\item[130] 1\n\\item[131] 1\n\\item[132] 0\n\\item[133] 1\n\\item[134] 1\n\\item[135] 1\n\\item[136] 1\n\\item[137] 1\n\\item[138] 1\n\\item[139] 1\n\\item[140] 1\n\\item[141] 0\n\\item[142] 1\n\\item[143] 0\n\\item[144] 1\n\\item[145] 1\n\\item[146] 1\n\\item[147] 1\n\\item[148] 1\n\\item[149] 1\n\\item[150] 1\n\\item[151] 1\n\\item[152] 1\n\\item[153] 1\n\\item[154] 0\n\\item[155] 1\n\\item[156] 1\n\\item[157] 1\n\\item[158] 1\n\\item[159] 1\n\\item[160] 1\n\\item[161] 1\n\\item[162] 1\n\\item[163] 0\n\\item[164] 1\n\\item[165] 1\n\\item[166] 1\n\\item[167] 1\n\\item[168] 1\n\\item[169] 1\n\\item[170] 1\n\\item[171] 1\n\\item[172] 1\n\\item[173] 0\n\\item[174] 0\n\\item[175] 1\n\\item[176] 1\n\\item[177] 0\n\\item[178] 0\n\\item[179] 0\n\\item[180] 0\n\\item[181] 0\n\\item[182] 1\n\\item[183] 0\n\\item[184] 0\n\\item[185] 0\n\\item[186] 0\n\\item[187] 0\n\\item[188] 0\n\\item[189] 0\n\\item[190] 1\n\\item[191] 0\n\\item[192] 0\n\\item[193] 0\n\\item[194] 0\n\\item[195] 0\n\\item[196] 0\n\\item[197] 0\n\\item[198] 0\n\\item[199] 0\n\\item[200] 0\n\\item[201] ⋯\n\\item[202] 0\n\\item[203] 0\n\\item[204] 0\n\\item[205] 0\n\\item[206] 0\n\\item[207] 0\n\\item[208] 0\n\\item[209] 0\n\\item[210] 0\n\\item[211] 0\n\\item[212] 0\n\\item[213] 0\n\\item[214] 0\n\\item[215] 0\n\\item[216] 0\n\\item[217] 0\n\\item[218] 0\n\\item[219] 0\n\\item[220] 0\n\\item[221] 0\n\\item[222] 0\n\\item[223] 0\n\\item[224] 0\n\\item[225] 0\n\\item[226] 0\n\\item[227] 0\n\\item[228] 0\n\\item[229] 0\n\\item[230] 0\n\\item[231] 0\n\\item[232] 0\n\\item[233] 0\n\\item[234] 0\n\\item[235] 0\n\\item[236] 0\n\\item[237] 0\n\\item[238] 0\n\\item[239] 0\n\\item[240] 0\n\\item[241] 0\n\\item[242] 0\n\\item[243] 0\n\\item[244] 0\n\\item[245] 0\n\\item[246] 0\n\\item[247] 0\n\\item[248] 0\n\\item[249] 0\n\\item[250] 0\n\\item[251] 0\n\\item[252] 0\n\\item[253] 0\n\\item[254] 0\n\\item[255] 0\n\\item[256] 0\n\\item[257] 0\n\\item[258] 0\n\\item[259] 0\n\\item[260] 0\n\\item[261] 0\n\\item[262] 0\n\\item[263] 0\n\\item[264] 0\n\\item[265] 0\n\\item[266] 0\n\\item[267] 0\n\\item[268] 0\n\\item[269] 0\n\\item[270] 0\n\\item[271] 0\n\\item[272] 0\n\\item[273] 0\n\\item[274] 0\n\\item[275] 0\n\\item[276] 0\n\\item[277] 0\n\\item[278] 0\n\\item[279] 0\n\\item[280] 0\n\\item[281] 0\n\\item[282] 0\n\\item[283] 0\n\\item[284] 0\n\\item[285] 0\n\\item[286] 0\n\\item[287] 0\n\\item[288] 0\n\\item[289] 0\n\\item[290] 0\n\\item[291] 0\n\\item[292] 0\n\\item[293] 0\n\\item[294] 0\n\\item[295] 0\n\\item[296] 0\n\\item[297] 0\n\\item[298] 0\n\\item[299] 0\n\\item[300] 0\n\\item[301] 0\n\\item[302] 0\n\\item[303] 0\n\\item[304] 0\n\\item[305] 0\n\\item[306] 0\n\\item[307] 0\n\\item[308] 0\n\\item[309] 0\n\\item[310] 0\n\\item[311] 0\n\\item[312] 0\n\\item[313] 0\n\\item[314] 0\n\\item[315] 0\n\\item[316] 0\n\\item[317] 0\n\\item[318] 0\n\\item[319] 0\n\\item[320] 0\n\\item[321] 1\n\\item[322] 0\n\\item[323] 0\n\\item[324] 1\n\\item[325] 1\n\\item[326] 1\n\\item[327] 1\n\\item[328] 1\n\\item[329] 1\n\\item[330] 1\n\\item[331] 1\n\\item[332] 1\n\\item[333] 1\n\\item[334] 1\n\\item[335] 1\n\\item[336] 1\n\\item[337] 1\n\\item[338] 1\n\\item[339] 1\n\\item[340] 1\n\\item[341] 1\n\\item[342] 1\n\\item[343] 1\n\\item[344] 1\n\\item[345] 1\n\\item[346] 1\n\\item[347] 1\n\\item[348] 1\n\\item[349] 1\n\\item[350] 1\n\\item[351] 1\n\\item[352] 1\n\\item[353] 1\n\\item[354] 1\n\\item[355] 1\n\\item[356] 1\n\\item[357] 1\n\\item[358] 1\n\\item[359] 1\n\\item[360] 1\n\\item[361] 1\n\\item[362] 1\n\\item[363] 1\n\\item[364] 1\n\\item[365] 1\n\\item[366] 1\n\\item[367] 1\n\\item[368] 1\n\\item[369] 1\n\\item[370] 1\n\\item[371] 1\n\\item[372] 1\n\\item[373] 1\n\\item[374] 1\n\\item[375] 1\n\\item[376] 1\n\\item[377] 1\n\\item[378] 1\n\\item[379] 0\n\\item[380] 0\n\\item[381] 0\n\\item[382] 0\n\\item[383] 0\n\\item[384] 0\n\\item[385] 0\n\\item[386] 0\n\\item[387] 0\n\\item[388] 0\n\\item[389] 0\n\\item[390] 0\n\\item[391] 0\n\\item[392] 0\n\\item[393] 0\n\\item[394] 0\n\\item[395] 0\n\\item[396] 0\n\\item[397] 0\n\\item[398] 0\n\\item[399] 0\n\\item[400] 0\n\\item[401] 0\n\\end{description*}\n",
            "text/markdown": "1\n:   12\n:   03\n:   14\n:   15\n:   06\n:   07\n:   08\n:   09\n:   110\n:   011\n:   012\n:   013\n:   014\n:   015\n:   116\n:   017\n:   118\n:   019\n:   020\n:   121\n:   022\n:   023\n:   024\n:   025\n:   126\n:   027\n:   028\n:   029\n:   030\n:   131\n:   132\n:   133\n:   134\n:   135\n:   136\n:   137\n:   138\n:   139\n:   140\n:   141\n:   142\n:   143\n:   144\n:   145\n:   146\n:   147\n:   148\n:   149\n:   150\n:   151\n:   152\n:   153\n:   154\n:   155\n:   156\n:   157\n:   158\n:   159\n:   160\n:   161\n:   162\n:   163\n:   164\n:   165\n:   166\n:   167\n:   168\n:   169\n:   170\n:   171\n:   172\n:   173\n:   174\n:   175\n:   176\n:   177\n:   178\n:   179\n:   180\n:   181\n:   182\n:   183\n:   184\n:   185\n:   186\n:   187\n:   188\n:   189\n:   190\n:   191\n:   192\n:   193\n:   194\n:   195\n:   196\n:   197\n:   198\n:   199\n:   1100\n:   1101\n:   1102\n:   1103\n:   1104\n:   1105\n:   1106\n:   1107\n:   1108\n:   1109\n:   1110\n:   1111\n:   1112\n:   1113\n:   1114\n:   1115\n:   1116\n:   1117\n:   1118\n:   1119\n:   1120\n:   1121\n:   1122\n:   1123\n:   0124\n:   1125\n:   1126\n:   1127\n:   1128\n:   1129\n:   1130\n:   1131\n:   1132\n:   0133\n:   1134\n:   1135\n:   1136\n:   1137\n:   1138\n:   1139\n:   1140\n:   1141\n:   0142\n:   1143\n:   0144\n:   1145\n:   1146\n:   1147\n:   1148\n:   1149\n:   1150\n:   1151\n:   1152\n:   1153\n:   1154\n:   0155\n:   1156\n:   1157\n:   1158\n:   1159\n:   1160\n:   1161\n:   1162\n:   1163\n:   0164\n:   1165\n:   1166\n:   1167\n:   1168\n:   1169\n:   1170\n:   1171\n:   1172\n:   1173\n:   0174\n:   0175\n:   1176\n:   1177\n:   0178\n:   0179\n:   0180\n:   0181\n:   0182\n:   1183\n:   0184\n:   0185\n:   0186\n:   0187\n:   0188\n:   0189\n:   0190\n:   1191\n:   0192\n:   0193\n:   0194\n:   0195\n:   0196\n:   0197\n:   0198\n:   0199\n:   0200\n:   0201\n:   ⋯202\n:   0203\n:   0204\n:   0205\n:   0206\n:   0207\n:   0208\n:   0209\n:   0210\n:   0211\n:   0212\n:   0213\n:   0214\n:   0215\n:   0216\n:   0217\n:   0218\n:   0219\n:   0220\n:   0221\n:   0222\n:   0223\n:   0224\n:   0225\n:   0226\n:   0227\n:   0228\n:   0229\n:   0230\n:   0231\n:   0232\n:   0233\n:   0234\n:   0235\n:   0236\n:   0237\n:   0238\n:   0239\n:   0240\n:   0241\n:   0242\n:   0243\n:   0244\n:   0245\n:   0246\n:   0247\n:   0248\n:   0249\n:   0250\n:   0251\n:   0252\n:   0253\n:   0254\n:   0255\n:   0256\n:   0257\n:   0258\n:   0259\n:   0260\n:   0261\n:   0262\n:   0263\n:   0264\n:   0265\n:   0266\n:   0267\n:   0268\n:   0269\n:   0270\n:   0271\n:   0272\n:   0273\n:   0274\n:   0275\n:   0276\n:   0277\n:   0278\n:   0279\n:   0280\n:   0281\n:   0282\n:   0283\n:   0284\n:   0285\n:   0286\n:   0287\n:   0288\n:   0289\n:   0290\n:   0291\n:   0292\n:   0293\n:   0294\n:   0295\n:   0296\n:   0297\n:   0298\n:   0299\n:   0300\n:   0301\n:   0302\n:   0303\n:   0304\n:   0305\n:   0306\n:   0307\n:   0308\n:   0309\n:   0310\n:   0311\n:   0312\n:   0313\n:   0314\n:   0315\n:   0316\n:   0317\n:   0318\n:   0319\n:   0320\n:   0321\n:   1322\n:   0323\n:   0324\n:   1325\n:   1326\n:   1327\n:   1328\n:   1329\n:   1330\n:   1331\n:   1332\n:   1333\n:   1334\n:   1335\n:   1336\n:   1337\n:   1338\n:   1339\n:   1340\n:   1341\n:   1342\n:   1343\n:   1344\n:   1345\n:   1346\n:   1347\n:   1348\n:   1349\n:   1350\n:   1351\n:   1352\n:   1353\n:   1354\n:   1355\n:   1356\n:   1357\n:   1358\n:   1359\n:   1360\n:   1361\n:   1362\n:   1363\n:   1364\n:   1365\n:   1366\n:   1367\n:   1368\n:   1369\n:   1370\n:   1371\n:   1372\n:   1373\n:   1374\n:   1375\n:   1376\n:   1377\n:   1378\n:   1379\n:   0380\n:   0381\n:   0382\n:   0383\n:   0384\n:   0385\n:   0386\n:   0387\n:   0388\n:   0389\n:   0390\n:   0391\n:   0392\n:   0393\n:   0394\n:   0395\n:   0396\n:   0397\n:   0398\n:   0399\n:   0400\n:   0401\n:   0\n\n",
            "text/html": [
              "<style>\n",
              ".dl-inline {width: auto; margin:0; padding: 0}\n",
              ".dl-inline>dt, .dl-inline>dd {float: none; width: auto; display: inline-block}\n",
              ".dl-inline>dt::after {content: \":\\0020\"; padding-right: .5ex}\n",
              ".dl-inline>dt:not(:first-of-type) {padding-left: .5ex}\n",
              "</style><dl class=dl-inline><dt>1</dt><dd>1</dd><dt>2</dt><dd>0</dd><dt>3</dt><dd>1</dd><dt>4</dt><dd>1</dd><dt>5</dt><dd>0</dd><dt>6</dt><dd>0</dd><dt>7</dt><dd>0</dd><dt>8</dt><dd>0</dd><dt>9</dt><dd>1</dd><dt>10</dt><dd>0</dd><dt>11</dt><dd>0</dd><dt>12</dt><dd>0</dd><dt>13</dt><dd>0</dd><dt>14</dt><dd>0</dd><dt>15</dt><dd>1</dd><dt>16</dt><dd>0</dd><dt>17</dt><dd>1</dd><dt>18</dt><dd>0</dd><dt>19</dt><dd>0</dd><dt>20</dt><dd>1</dd><dt>21</dt><dd>0</dd><dt>22</dt><dd>0</dd><dt>23</dt><dd>0</dd><dt>24</dt><dd>0</dd><dt>25</dt><dd>1</dd><dt>26</dt><dd>0</dd><dt>27</dt><dd>0</dd><dt>28</dt><dd>0</dd><dt>29</dt><dd>0</dd><dt>30</dt><dd>1</dd><dt>31</dt><dd>1</dd><dt>32</dt><dd>1</dd><dt>33</dt><dd>1</dd><dt>34</dt><dd>1</dd><dt>35</dt><dd>1</dd><dt>36</dt><dd>1</dd><dt>37</dt><dd>1</dd><dt>38</dt><dd>1</dd><dt>39</dt><dd>1</dd><dt>40</dt><dd>1</dd><dt>41</dt><dd>1</dd><dt>42</dt><dd>1</dd><dt>43</dt><dd>1</dd><dt>44</dt><dd>1</dd><dt>45</dt><dd>1</dd><dt>46</dt><dd>1</dd><dt>47</dt><dd>1</dd><dt>48</dt><dd>1</dd><dt>49</dt><dd>1</dd><dt>50</dt><dd>1</dd><dt>51</dt><dd>1</dd><dt>52</dt><dd>1</dd><dt>53</dt><dd>1</dd><dt>54</dt><dd>1</dd><dt>55</dt><dd>1</dd><dt>56</dt><dd>1</dd><dt>57</dt><dd>1</dd><dt>58</dt><dd>1</dd><dt>59</dt><dd>1</dd><dt>60</dt><dd>1</dd><dt>61</dt><dd>1</dd><dt>62</dt><dd>1</dd><dt>63</dt><dd>1</dd><dt>64</dt><dd>1</dd><dt>65</dt><dd>1</dd><dt>66</dt><dd>1</dd><dt>67</dt><dd>1</dd><dt>68</dt><dd>1</dd><dt>69</dt><dd>1</dd><dt>70</dt><dd>1</dd><dt>71</dt><dd>1</dd><dt>72</dt><dd>1</dd><dt>73</dt><dd>1</dd><dt>74</dt><dd>1</dd><dt>75</dt><dd>1</dd><dt>76</dt><dd>1</dd><dt>77</dt><dd>1</dd><dt>78</dt><dd>1</dd><dt>79</dt><dd>1</dd><dt>80</dt><dd>1</dd><dt>81</dt><dd>1</dd><dt>82</dt><dd>1</dd><dt>83</dt><dd>1</dd><dt>84</dt><dd>1</dd><dt>85</dt><dd>1</dd><dt>86</dt><dd>1</dd><dt>87</dt><dd>1</dd><dt>88</dt><dd>1</dd><dt>89</dt><dd>1</dd><dt>90</dt><dd>1</dd><dt>91</dt><dd>1</dd><dt>92</dt><dd>1</dd><dt>93</dt><dd>1</dd><dt>94</dt><dd>1</dd><dt>95</dt><dd>1</dd><dt>96</dt><dd>1</dd><dt>97</dt><dd>1</dd><dt>98</dt><dd>1</dd><dt>99</dt><dd>1</dd><dt>100</dt><dd>1</dd><dt>101</dt><dd>1</dd><dt>102</dt><dd>1</dd><dt>103</dt><dd>1</dd><dt>104</dt><dd>1</dd><dt>105</dt><dd>1</dd><dt>106</dt><dd>1</dd><dt>107</dt><dd>1</dd><dt>108</dt><dd>1</dd><dt>109</dt><dd>1</dd><dt>110</dt><dd>1</dd><dt>111</dt><dd>1</dd><dt>112</dt><dd>1</dd><dt>113</dt><dd>1</dd><dt>114</dt><dd>1</dd><dt>115</dt><dd>1</dd><dt>116</dt><dd>1</dd><dt>117</dt><dd>1</dd><dt>118</dt><dd>1</dd><dt>119</dt><dd>1</dd><dt>120</dt><dd>1</dd><dt>121</dt><dd>1</dd><dt>122</dt><dd>1</dd><dt>123</dt><dd>0</dd><dt>124</dt><dd>1</dd><dt>125</dt><dd>1</dd><dt>126</dt><dd>1</dd><dt>127</dt><dd>1</dd><dt>128</dt><dd>1</dd><dt>129</dt><dd>1</dd><dt>130</dt><dd>1</dd><dt>131</dt><dd>1</dd><dt>132</dt><dd>0</dd><dt>133</dt><dd>1</dd><dt>134</dt><dd>1</dd><dt>135</dt><dd>1</dd><dt>136</dt><dd>1</dd><dt>137</dt><dd>1</dd><dt>138</dt><dd>1</dd><dt>139</dt><dd>1</dd><dt>140</dt><dd>1</dd><dt>141</dt><dd>0</dd><dt>142</dt><dd>1</dd><dt>143</dt><dd>0</dd><dt>144</dt><dd>1</dd><dt>145</dt><dd>1</dd><dt>146</dt><dd>1</dd><dt>147</dt><dd>1</dd><dt>148</dt><dd>1</dd><dt>149</dt><dd>1</dd><dt>150</dt><dd>1</dd><dt>151</dt><dd>1</dd><dt>152</dt><dd>1</dd><dt>153</dt><dd>1</dd><dt>154</dt><dd>0</dd><dt>155</dt><dd>1</dd><dt>156</dt><dd>1</dd><dt>157</dt><dd>1</dd><dt>158</dt><dd>1</dd><dt>159</dt><dd>1</dd><dt>160</dt><dd>1</dd><dt>161</dt><dd>1</dd><dt>162</dt><dd>1</dd><dt>163</dt><dd>0</dd><dt>164</dt><dd>1</dd><dt>165</dt><dd>1</dd><dt>166</dt><dd>1</dd><dt>167</dt><dd>1</dd><dt>168</dt><dd>1</dd><dt>169</dt><dd>1</dd><dt>170</dt><dd>1</dd><dt>171</dt><dd>1</dd><dt>172</dt><dd>1</dd><dt>173</dt><dd>0</dd><dt>174</dt><dd>0</dd><dt>175</dt><dd>1</dd><dt>176</dt><dd>1</dd><dt>177</dt><dd>0</dd><dt>178</dt><dd>0</dd><dt>179</dt><dd>0</dd><dt>180</dt><dd>0</dd><dt>181</dt><dd>0</dd><dt>182</dt><dd>1</dd><dt>183</dt><dd>0</dd><dt>184</dt><dd>0</dd><dt>185</dt><dd>0</dd><dt>186</dt><dd>0</dd><dt>187</dt><dd>0</dd><dt>188</dt><dd>0</dd><dt>189</dt><dd>0</dd><dt>190</dt><dd>1</dd><dt>191</dt><dd>0</dd><dt>192</dt><dd>0</dd><dt>193</dt><dd>0</dd><dt>194</dt><dd>0</dd><dt>195</dt><dd>0</dd><dt>196</dt><dd>0</dd><dt>197</dt><dd>0</dd><dt>198</dt><dd>0</dd><dt>199</dt><dd>0</dd><dt>200</dt><dd>0</dd><dt>201</dt><dd>⋯</dd><dt>202</dt><dd>0</dd><dt>203</dt><dd>0</dd><dt>204</dt><dd>0</dd><dt>205</dt><dd>0</dd><dt>206</dt><dd>0</dd><dt>207</dt><dd>0</dd><dt>208</dt><dd>0</dd><dt>209</dt><dd>0</dd><dt>210</dt><dd>0</dd><dt>211</dt><dd>0</dd><dt>212</dt><dd>0</dd><dt>213</dt><dd>0</dd><dt>214</dt><dd>0</dd><dt>215</dt><dd>0</dd><dt>216</dt><dd>0</dd><dt>217</dt><dd>0</dd><dt>218</dt><dd>0</dd><dt>219</dt><dd>0</dd><dt>220</dt><dd>0</dd><dt>221</dt><dd>0</dd><dt>222</dt><dd>0</dd><dt>223</dt><dd>0</dd><dt>224</dt><dd>0</dd><dt>225</dt><dd>0</dd><dt>226</dt><dd>0</dd><dt>227</dt><dd>0</dd><dt>228</dt><dd>0</dd><dt>229</dt><dd>0</dd><dt>230</dt><dd>0</dd><dt>231</dt><dd>0</dd><dt>232</dt><dd>0</dd><dt>233</dt><dd>0</dd><dt>234</dt><dd>0</dd><dt>235</dt><dd>0</dd><dt>236</dt><dd>0</dd><dt>237</dt><dd>0</dd><dt>238</dt><dd>0</dd><dt>239</dt><dd>0</dd><dt>240</dt><dd>0</dd><dt>241</dt><dd>0</dd><dt>242</dt><dd>0</dd><dt>243</dt><dd>0</dd><dt>244</dt><dd>0</dd><dt>245</dt><dd>0</dd><dt>246</dt><dd>0</dd><dt>247</dt><dd>0</dd><dt>248</dt><dd>0</dd><dt>249</dt><dd>0</dd><dt>250</dt><dd>0</dd><dt>251</dt><dd>0</dd><dt>252</dt><dd>0</dd><dt>253</dt><dd>0</dd><dt>254</dt><dd>0</dd><dt>255</dt><dd>0</dd><dt>256</dt><dd>0</dd><dt>257</dt><dd>0</dd><dt>258</dt><dd>0</dd><dt>259</dt><dd>0</dd><dt>260</dt><dd>0</dd><dt>261</dt><dd>0</dd><dt>262</dt><dd>0</dd><dt>263</dt><dd>0</dd><dt>264</dt><dd>0</dd><dt>265</dt><dd>0</dd><dt>266</dt><dd>0</dd><dt>267</dt><dd>0</dd><dt>268</dt><dd>0</dd><dt>269</dt><dd>0</dd><dt>270</dt><dd>0</dd><dt>271</dt><dd>0</dd><dt>272</dt><dd>0</dd><dt>273</dt><dd>0</dd><dt>274</dt><dd>0</dd><dt>275</dt><dd>0</dd><dt>276</dt><dd>0</dd><dt>277</dt><dd>0</dd><dt>278</dt><dd>0</dd><dt>279</dt><dd>0</dd><dt>280</dt><dd>0</dd><dt>281</dt><dd>0</dd><dt>282</dt><dd>0</dd><dt>283</dt><dd>0</dd><dt>284</dt><dd>0</dd><dt>285</dt><dd>0</dd><dt>286</dt><dd>0</dd><dt>287</dt><dd>0</dd><dt>288</dt><dd>0</dd><dt>289</dt><dd>0</dd><dt>290</dt><dd>0</dd><dt>291</dt><dd>0</dd><dt>292</dt><dd>0</dd><dt>293</dt><dd>0</dd><dt>294</dt><dd>0</dd><dt>295</dt><dd>0</dd><dt>296</dt><dd>0</dd><dt>297</dt><dd>0</dd><dt>298</dt><dd>0</dd><dt>299</dt><dd>0</dd><dt>300</dt><dd>0</dd><dt>301</dt><dd>0</dd><dt>302</dt><dd>0</dd><dt>303</dt><dd>0</dd><dt>304</dt><dd>0</dd><dt>305</dt><dd>0</dd><dt>306</dt><dd>0</dd><dt>307</dt><dd>0</dd><dt>308</dt><dd>0</dd><dt>309</dt><dd>0</dd><dt>310</dt><dd>0</dd><dt>311</dt><dd>0</dd><dt>312</dt><dd>0</dd><dt>313</dt><dd>0</dd><dt>314</dt><dd>0</dd><dt>315</dt><dd>0</dd><dt>316</dt><dd>0</dd><dt>317</dt><dd>0</dd><dt>318</dt><dd>0</dd><dt>319</dt><dd>0</dd><dt>320</dt><dd>0</dd><dt>321</dt><dd>1</dd><dt>322</dt><dd>0</dd><dt>323</dt><dd>0</dd><dt>324</dt><dd>1</dd><dt>325</dt><dd>1</dd><dt>326</dt><dd>1</dd><dt>327</dt><dd>1</dd><dt>328</dt><dd>1</dd><dt>329</dt><dd>1</dd><dt>330</dt><dd>1</dd><dt>331</dt><dd>1</dd><dt>332</dt><dd>1</dd><dt>333</dt><dd>1</dd><dt>334</dt><dd>1</dd><dt>335</dt><dd>1</dd><dt>336</dt><dd>1</dd><dt>337</dt><dd>1</dd><dt>338</dt><dd>1</dd><dt>339</dt><dd>1</dd><dt>340</dt><dd>1</dd><dt>341</dt><dd>1</dd><dt>342</dt><dd>1</dd><dt>343</dt><dd>1</dd><dt>344</dt><dd>1</dd><dt>345</dt><dd>1</dd><dt>346</dt><dd>1</dd><dt>347</dt><dd>1</dd><dt>348</dt><dd>1</dd><dt>349</dt><dd>1</dd><dt>350</dt><dd>1</dd><dt>351</dt><dd>1</dd><dt>352</dt><dd>1</dd><dt>353</dt><dd>1</dd><dt>354</dt><dd>1</dd><dt>355</dt><dd>1</dd><dt>356</dt><dd>1</dd><dt>357</dt><dd>1</dd><dt>358</dt><dd>1</dd><dt>359</dt><dd>1</dd><dt>360</dt><dd>1</dd><dt>361</dt><dd>1</dd><dt>362</dt><dd>1</dd><dt>363</dt><dd>1</dd><dt>364</dt><dd>1</dd><dt>365</dt><dd>1</dd><dt>366</dt><dd>1</dd><dt>367</dt><dd>1</dd><dt>368</dt><dd>1</dd><dt>369</dt><dd>1</dd><dt>370</dt><dd>1</dd><dt>371</dt><dd>1</dd><dt>372</dt><dd>1</dd><dt>373</dt><dd>1</dd><dt>374</dt><dd>1</dd><dt>375</dt><dd>1</dd><dt>376</dt><dd>1</dd><dt>377</dt><dd>1</dd><dt>378</dt><dd>1</dd><dt>379</dt><dd>0</dd><dt>380</dt><dd>0</dd><dt>381</dt><dd>0</dd><dt>382</dt><dd>0</dd><dt>383</dt><dd>0</dd><dt>384</dt><dd>0</dd><dt>385</dt><dd>0</dd><dt>386</dt><dd>0</dd><dt>387</dt><dd>0</dd><dt>388</dt><dd>0</dd><dt>389</dt><dd>0</dd><dt>390</dt><dd>0</dd><dt>391</dt><dd>0</dd><dt>392</dt><dd>0</dd><dt>393</dt><dd>0</dd><dt>394</dt><dd>0</dd><dt>395</dt><dd>0</dd><dt>396</dt><dd>0</dd><dt>397</dt><dd>0</dd><dt>398</dt><dd>0</dd><dt>399</dt><dd>0</dd><dt>400</dt><dd>0</dd><dt>401</dt><dd>0</dd></dl>\n"
            ]
          },
          "metadata": {
            "tags": []
          }
        }
      ]
    },
    {
      "cell_type": "code",
      "metadata": {
        "colab": {
          "base_uri": "https://localhost:8080/",
          "height": 151
        },
        "id": "0BzKCHb2E5wZ",
        "outputId": "7dcacfa1-e158-4173-e370-cd26ab72fae9"
      },
      "source": [
        "actual = df$Flag\n",
        "actual"
      ],
      "execution_count": null,
      "outputs": [
        {
          "output_type": "display_data",
          "data": {
            "text/plain": [
              "   [1] 1 0 1 1 0 0 0 1 1 0 0 0 0 0 1 0 1 0 0 1 1 0 0 1 1 0 0 0 0 1 1 1 1 1 1 1 1\n",
              "  [38] 1 1 1 1 1 1 1 1 1 1 1 1 1 1 1 1 1 1 1 1 1 1 1 1 1 1 1 1 1 1 1 1 1 1 1 1 1\n",
              "  [75] 1 1 1 1 1 1 1 1 1 1 1 1 1 1 1 1 1 1 1 1 1 1 1 1 1 1 1 1 1 1 1 1 1 1 1 1 1\n",
              " [112] 1 1 1 1 1 1 1 1 1 1 1 0 1 1 1 1 1 1 1 1 1 1 1 1 1 1 1 1 1 1 1 1 1 1 1 1 1\n",
              " [149] 1 1 1 1 1 1 1 1 1 1 1 1 1 1 1 1 1 1 1 1 1 1 1 0 0 0 1 0 0 1 0 0 0 0 0 0 0\n",
              " [186] 0 0 0 0 0 0 0 0 0 1 0 0 0 0 0 0 0 0 0 0 0 0 0 0 0 0 0 0 0 0 0 0 0 0 0 0 0\n",
              " [223] 0 0 0 0 0 0 0 0 0 0 0 0 0 0 0 0 0 0 0 0 0 0 0 0 0 0 0 0 0 0 0 0 0 0 0 0 0\n",
              " [260] 0 0 0 0 0 0 0 1 0 0 0 0 0 0 0 0 0 0 0 0 0 0 0 0 0 0 0 0 0 0 0 0 0 0 0 0 0\n",
              " [297] 0 0 0 0 0 0 0 0 0 0 0 0 0 0 0 0 0 0 0 0 0 1 0 1 1 1 0 1 1 1 0 1 0 1 0 1 0\n",
              " [334] 1 0 1 0 1 1 0 0 0 1 0 1 1 0 0 0 1 0 0 1 0 0 0 0 1 1 1 1 0 1 1 1 1 1 1 1 1\n",
              " [371] 0 1 1 1 1 1 1 0 1 1 1 1 1 1 0 1 1 1 1 1 1 1 0 1 0 0 0 1 0 0 1 1 1 1 0 0 1\n",
              " [408] 1 1 1 1 1 1 0 1 0 0 1 1 1 0 1 1 0 1 1 1 1 1 1 1 1 1 0 0 1 1 1 1 1 1 1 1 0\n",
              " [445] 1 1 1 1 0 1 1 1 1 1 1 0 1 1 1 0 0 1 1 1 1 1 1 1 0 0 1 1 1 0 1 1 1 1 1 1 0\n",
              " [482] 1 1 1 1 1 1 1 0 1 1 0 1 1 1 1 1 1 0 1 0 1 1 1 1 1 1 0 1 0 1 1 0 1 0 1 1 0\n",
              " [519] 1 1 0 0 1 1 1 0 1 1 1 1 1 1 0 0 1 1 1 1 0 1 1 1 1 1 1 1 0 0 0 0 0 0 1 0 0\n",
              " [556] 0 0 0 0 0 0 0 0 0 0 0 0 0 0 0 0 0 0 0 0 0 0 0 0 0 0 0 0 0 0 0 0 0 0 0 0 0\n",
              " [593] 0 0 0 0 0 0 0 0 0 0 0 0 0 0 0 0 0 0 0 0 0 0 0 0 0 0 0 0 0 0 0 0 0 0 0 0 0\n",
              " [630] 0 0 0 0 0 0 0 0 0 0 0 0 0 0 0 0 0 0 0 0 0 0 0 0 0 0 0 0 0 0 0 0 0 0 0 0 0\n",
              " [667] 0 0 0 0 0 0 0 0 0 0 0 0 0 0 0 0 0 0 0 0 0 0 0 0 0 0 0 0 1 1 1 0 0 0 0 0 1\n",
              " [704] 0 1 1 0 0 0 0 1 0 1 1 0 0 1 0 0 0 0 1 0 1 0 1 0 0 0 0 0 0 1 1 1 1 1 1 0 0\n",
              " [741] 0 0 0 0 1 0 0 1 0 0 1 1 1 0 1 1 0 1 1 1 0 1 0 0 0 0 0 1 1 0 0 0 1 0 0 0 1\n",
              " [778] 1 0 0 0 0 0 0 0 0 0 0 0 1 0 1 0 0 0 0 1 1 1 1 1 1 1 1 0 1 1 1 1 1 1 0 1 1\n",
              " [815] 1 1 1 1 1 1 1 1 1 1 1 1 1 1 1 1 1 1 1 1 1 1 1 0 0 1 1 1 0 1 0 1 0 1 1 1 1\n",
              " [852] 0 1 1 1 0 1 1 0 1 1 1 0 1 1 1 0 1 1 1 1 1 1 1 0 1 1 1 1 1 1 0 1 1 1 1 1 1\n",
              " [889] 0 1 1 1 0 1 0 0 0 1 1 0 0 1 0 0 1 0 1 1 0 0 0 1 1 1 0 1 0 0 1 1 1 1 0 1 1\n",
              " [926] 0 1 0 1 0 1 0 1 0 1 1 1 0 0 1 1 0 0 0 0 1 1 1 1 1 1 1 1 1 1 1 0 0 1 1 0 0\n",
              " [963] 1 0 1 0 0 0 1 1 0 0 0 1 1 1 0 1 0 1 1 0 1 1 0 1 0 0 0 1 0 1 1 1 1 1 1 1 1\n",
              "[1000] 1 1 1 1 1 1 1 1 1 1 1 1 1 1 1 1 1 1 1 1 1 1 1 1 1 1 1 1 1 1 1 1 1 1 1 1 1\n",
              "[1037] 1 1 1 1 1 1 1 1 1 1 1 1 1 1 1 1 1 1 1 1 1 1 1 1 1 1 1 1 1 1 1 1 1 1 1 1 1\n",
              "[1074] 1 1 1 1 1 1 1 1 1 1 1 1 1 1 1 1 1 1 1 1 1 1 1 1 1 1 1 1 1 1 1 1 1 1 1 1 1\n",
              "[1111] 1 1 1 1 1 1 1 1 1 1 1 1 1 1 1 1 1 1 1 1 1 1 1 1 1 1 1 1 1 1 1 1 1 1 1 1 1\n",
              "[1148] 1 1 1 1 1 1 1 1 1 1 1 1 1 1 1 1 1 1 1 1 1 1 1 1 1 1 1 1 1 1 0 0 0 0 0 0 0\n",
              "[1185] 0 0 0 0 0 0 0 1 0 1 0 1 1 1 1 1 1 0 0 1 0 1 1 0 0 0 1 1 1 1 0 0 0 0 0 1 0\n",
              "[1222] 0 1 0 0 0 0 0 0 0 0 0 0 1 0 0 0 1 0 1 1 0 0 0 0 0 0 0 0 1 1 0 0 0 1 0 0 0\n",
              "[1259] 0 0 0 0 0 1 1 1 1 0 1 0 0 0 1 1 1 1 0 0 0 1 0 0 0 0 0 0 0 1 0 0 0 0 0 1 1\n",
              "[1296] 0 0 0 0 0 1 0 0 0 0 1 0 0 0 0 0 1 1 1 0 0 0 0 0 0 0 0 0 0 0 0 0 0 0 0 0 0\n",
              "[1333] 0 0 0 0 0 0 0 0 0 0 0 0 0 0 0 0 0 0 0 0 0 0 0 0 0 0 0 0 0 0 0 0 0 0 0 0 0\n",
              "[1370] 0 0 0 0 0 0 0 0 0 0 0 0 0 0 0 0 0 0 0 0 0 0 0 0 0 0 0 0 0 0 0 0 0 0 0 0 1\n",
              "[1407] 1 1 0 1 1 0 1 0 0 0 0 0 0 1 1 0 1 0 0 0 1 0 0 0 0 0 1 0 0 0 1 1 1 0 1 1 1\n",
              "[1444] 0 0 1 1 0 0 0 1 1 1 0 1 1 0 1 1 0 1 0 0 0 1 0 0 0 0 0 1 1 1 0 0 0 0 1 1 1\n",
              "[1481] 0 0 0 0 0 0 1 0 0 0 0 0 0 1 0 1 0 1 0 0 1 0 0 1 1 1 0 0 0 0 0 0 0 1 0 0 1\n",
              "[1518] 1 1 1 1 1 1 1 1 1 1 1 1 1 1 1 1 1 1 1 1 1 1 1 1 1 1 1 1 1 1 1 1 1 1 1 1 1\n",
              "[1555] 1 1 1 1 1 1 1 1 1 1 1 1 1 1 1 1 1 1 1 1 1 1 1 1 1 1 1 1 1 1 1 1 1 1 1 1 1\n",
              "[1592] 1 1 1 1 1 1 1 0 0 0 0 1 0 0 0 0 0 0 0 0 0 1 0 0 0 0 0 0 0 0 0 0 0 0 0 0 0\n",
              "[1629] 0 0 0 0 0 0 0 0 0 0 0 0 0 0 0 0 0 0 0 0 1 0 0 0 0 0 0 1 0 1 1 1 1 1 1 1 1\n",
              "[1666] 1 1 0 1 0 1 0 1 1 0 1 1 1 1 0 1 1 0 0 1 1 1 1 1 1 0 1 1 1 1 1 1 1 0 0 1 1\n",
              "[1703] 1 1 1 1 1 1 1 1 1 1 1 1 0 1 1 1 1 0 1 1 0 1 0 0 1 0 1 1 0 1 1 1 1 1 1 1 1\n",
              "[1740] 1 1 1 1 1 1 1 1 1 0 1 1 1 1 0 0 0 0 0 0 0 0 0 0 0 0 0 0 0 0 0 0 0 1 0 1 0\n",
              "[1777] 0 0 0 1 0 0 0 0 0 0 0 0 0 0 0 0 0 0 0 0 0 0 0 0 0 0 0 0 0 0 0 0 0 0 0 0 0\n",
              "[1814] 0 0 0 0 0 0 0 0 0 0 0 0 0 0 0 0 0 0 0 0 0 0 0 0 0 0 0 0 0 0 0 0 0 0 0 0 0\n",
              "[1851] 0 0 0 0 1 0 0 0 0 0 0 0 0 0 0 0 0 0 0 0 0 0 0 0 0 0 0 0 0 0 0 0 0 0 0 0 1\n",
              "[1888] 0 0 0 0 0 0 0 0 0 0 0 0 0 0 0 0 0 0 0 0 0 0 0 1 0 0 1 0 1 0 0 1 0 0 0 1 0\n",
              "[1925] 1 0 0 0 1 0 0 0 0 0 0 0 0 0 0 0 0 0 0 0 0 1 0 0 0 0 0 0 1 0 0 1 0 1 0 0 0\n",
              "[1962] 0 0 1 0 0 0 0 0 1 0 0 0 0 0 0 0 1 0 0 0 0 0 0 0 0 0 0 0 0 0 0 0 0 0 0 0 0\n",
              "[1999] 0 0 0 0 0 0 0 0 0 0 0 0 0 0 0 0 0 1 0 0 0 0 0 0 0 0 0 0 0 0 0 0 0 0 0 0 0\n",
              "[2036] 0 0 0 0 0 0 0 0 1 1 1 0 1 1 1 1 1 0 1 0 0 0 1 1 1 0 0 0 1 0 1 1 0 0 0 1 0\n",
              "[2073] 0 0 0 0 1 0 1 0 0 1 0 1 0 1 0 1 0 1 1 0 0 1 0 1 0 1 0 1 0 1 0 0 0 0 1 0 1\n",
              "[2110] 0 0 1 0 0 1 0 1 0 1 0 1 0 0 0 0 0 0 0 1 0 1 1 1 1 1 1 1 1 1 1 1 1 1 1 1 1\n",
              "[2147] 1 1 1 1 1 1 1 1 1 1 1 1 1 1 1 1 1 1 1 1 1 1 1 1 1 1 1 1 1 1 1 1 1 1 1 1 1\n",
              "[2184] 1 1 1 1 1 1 1 1 1 1 1 1 1 1 1 1 1 1 1 1 1 1 1 1 1 0 0 0 0 0 0 0 0 0 0 0 0\n",
              "[2221] 0 0 0 0 0 0 0 0 0 0 0 0 0 0 0 0 1 0 0 0 0 0 0 0 0 0 0 0 1 0 0 0 0 0 0 0 0\n",
              "[2258] 0 0 0 0 0 0 0 0 0 0 0 1 0 0 0 0 0 0 0 0 0 0 0 0 0 0 0 0 0 0 0 0 0 0 0 0 0\n",
              "[2295] 0 0 0 0 0 0 0 0 0 0 0 0 0 0 0 0 0 0 0 0 1 0 1 1 1 0 1 1 1 1 1 1 1 1 1 1 1\n",
              "[2332] 1 1 1 1 1 1 1 1 1 1 1 1 1 1 1 1 1 1 1 1 1 1 1 1 1 0 1 1 1 1 1 0 0 0 0 0 0\n",
              "[2369] 0 0 0 0 0 0 1 0 0 1 0 1 1 0 0 0 1 0 0 0 0 0 1 0 0 0 0 0 0 0 0 1 0 0 0 0 0\n",
              "[2406] 0 1 0 0 0 0 0 0 0 0 0 0 0 0 0 0 0 0 0 0 0 0 1 1 1 1 1 1 1 1 1 1 1 1 1 1 1\n",
              "[2443] 1 1 1 1 1 1 1 1 1 1 1 1 1 1 1 1 1 1 1 1 1 1 1 1 1 1 1 1 1 1 1 1 1 1 1 1 1\n",
              "[2480] 1 1 1 1 1 1 1 1 1 1 1 1 1 1 0 1 1 1 1 1 1 1 1 1 1 1 1 1 1 1 1 1 1 1 1 1 1\n",
              "[2517] 1 1 1 1 1 1 1 1 1 1 1 1 1 1 1 0 1 1 1 0 1 1 1 1 1 1 1 1 1 1 0 1 1 1 1 1 1\n",
              "[2554] 0 1 0 1 1 1 1 1 0 1 1 1 1 1 1 1 1 1 1 1 0 1 0 1 1 0 1 1 1 1 1 1 1 1 1 0 1\n",
              "[2591] 0 0 0 1 0 1 1 1 1 1 1 1 1 1 1 1 1 1 1 0 1 1 1 1 1 0 1 1 1 1 1 1 0 1 1 1 1\n",
              "[2628] 1 0 1 1 1 1 1 1 1 1 1 1 1 1 1 1 1 1 1 1 1 1 1 1 1 1 0 1 1 1 1 1 1 1 1 1 1\n",
              "[2665] 1 1 1 1 1 1 1 1 1 1 1 1 1 1 1 1 1 0 1 1 1 1 1 1 1 1 1 0 1 1 1 1 1 1 1 1 1\n",
              "[2702] 1 1 0 1 0 1 1 1 1 1 1 1 1 1 1 1 1 1 1 1 1 1 1 1 1 0 0 1 1 1 0 1 1 1 1 0 1\n",
              "[2739] 1 1 1 1 1 1 1 1 0 1 0 1 1 1 1 0 0 1 1 1 1 0 1 1 0 1 1 1 1 1 1 0 0 1 1 1 1\n",
              "[2776] 1 1 0 0 0 0 0 0 0 0 0 0 0 0 0 0 0 0 0 0 0 0 0 0 0 0 0 0 0 0 0 1 1 0 0 0 0\n",
              "[2813] 1 0 1 0 0 0 0 1 1 0 0 0 1 0 1 0 1 0 1 1 1 1 1 1 1 1 1 0 1 1 1 1 0 1 1 0 1\n",
              "[2850] 1 0 1 1 0 0 1 1 1 1 1 1 0 1 0 0 0 1 1 0 0 1 0 0 1 0 0 1 0 0 1 0 1 1 0 1 0\n",
              "[2887] 1 0 0 0 0 1 0 1 0 0 1 0 1 1 1 1 1 0 1 0 1 1 1 1 0 0 0 1 1 0 0 1 1 0 0 1 1\n",
              "[2924] 0 0 1 0 0 0 1 1 1 0 0 1 0 0 0 0 0 0 0 0 0 0 0 0 0 0 0 0 0 0 0 0 0 0 0 0 0\n",
              "[2961] 0 0 0 0 0 0 0 0 0 0 0 0 0 0 0 0 0 0 0 0 0 0 0 0 0 0 1 0 0 0 0 0 0 0 0 0 0\n",
              "[2998] 0 0 0 0 0 0 0 0 0 0 0 0 0 0 0 0 0 0 0 0 0 0 0 0 0 0 0 0 0 0 0 0 0 0 0 0 0\n",
              "[3035] 0 0 0 0 0 0 0 0 0 0 0 0 0 0 0 0 0 0 0 0 0 0 0 0 0 0 0 1 0 0 1 1 1 1 1 1 1\n",
              "[3072] 1 1 1 1 1 1 1 1 1 1 1 1 1 1 1 1 1 1 1 1 1 1 1 1 1 1 1 1 1 1 1 1 1 1 1 1 1\n",
              "[3109] 1 1 1 1 1 1 1 1 1 1 1 0 0 0 0 0 0 0 0 0 0 0 0 0 0 0 0 0 0 0 0 0 0 0"
            ],
            "text/latex": "\\begin{enumerate*}\n\\item 1\n\\item 0\n\\item 1\n\\item 1\n\\item 0\n\\item 0\n\\item 0\n\\item 1\n\\item 1\n\\item 0\n\\item 0\n\\item 0\n\\item 0\n\\item 0\n\\item 1\n\\item 0\n\\item 1\n\\item 0\n\\item 0\n\\item 1\n\\item 1\n\\item 0\n\\item 0\n\\item 1\n\\item 1\n\\item 0\n\\item 0\n\\item 0\n\\item 0\n\\item 1\n\\item 1\n\\item 1\n\\item 1\n\\item 1\n\\item 1\n\\item 1\n\\item 1\n\\item 1\n\\item 1\n\\item 1\n\\item 1\n\\item 1\n\\item 1\n\\item 1\n\\item 1\n\\item 1\n\\item 1\n\\item 1\n\\item 1\n\\item 1\n\\item 1\n\\item 1\n\\item 1\n\\item 1\n\\item 1\n\\item 1\n\\item 1\n\\item 1\n\\item 1\n\\item 1\n\\item 1\n\\item 1\n\\item 1\n\\item 1\n\\item 1\n\\item 1\n\\item 1\n\\item 1\n\\item 1\n\\item 1\n\\item 1\n\\item 1\n\\item 1\n\\item 1\n\\item 1\n\\item 1\n\\item 1\n\\item 1\n\\item 1\n\\item 1\n\\item 1\n\\item 1\n\\item 1\n\\item 1\n\\item 1\n\\item 1\n\\item 1\n\\item 1\n\\item 1\n\\item 1\n\\item 1\n\\item 1\n\\item 1\n\\item 1\n\\item 1\n\\item 1\n\\item 1\n\\item 1\n\\item 1\n\\item 1\n\\item 1\n\\item 1\n\\item 1\n\\item 1\n\\item 1\n\\item 1\n\\item 1\n\\item 1\n\\item 1\n\\item 1\n\\item 1\n\\item 1\n\\item 1\n\\item 1\n\\item 1\n\\item 1\n\\item 1\n\\item 1\n\\item 1\n\\item 1\n\\item 1\n\\item 1\n\\item 0\n\\item 1\n\\item 1\n\\item 1\n\\item 1\n\\item 1\n\\item 1\n\\item 1\n\\item 1\n\\item 1\n\\item 1\n\\item 1\n\\item 1\n\\item 1\n\\item 1\n\\item 1\n\\item 1\n\\item 1\n\\item 1\n\\item 1\n\\item 1\n\\item 1\n\\item 1\n\\item 1\n\\item 1\n\\item 1\n\\item 1\n\\item 1\n\\item 1\n\\item 1\n\\item 1\n\\item 1\n\\item 1\n\\item 1\n\\item 1\n\\item 1\n\\item 1\n\\item 1\n\\item 1\n\\item 1\n\\item 1\n\\item 1\n\\item 1\n\\item 1\n\\item 1\n\\item 1\n\\item 1\n\\item 1\n\\item 1\n\\item 0\n\\item 0\n\\item 0\n\\item 1\n\\item 0\n\\item 0\n\\item 1\n\\item 0\n\\item 0\n\\item 0\n\\item 0\n\\item 0\n\\item 0\n\\item 0\n\\item 0\n\\item 0\n\\item 0\n\\item 0\n\\item 0\n\\item 0\n\\item 0\n\\item 0\n\\item 0\n\\item 1\n\\item 0\n\\item 0\n\\item 0\n\\item 0\n\\item 0\n\\item ⋯\n\\item 0\n\\item 0\n\\item 0\n\\item 0\n\\item 0\n\\item 0\n\\item 0\n\\item 0\n\\item 0\n\\item 0\n\\item 0\n\\item 0\n\\item 0\n\\item 0\n\\item 0\n\\item 0\n\\item 0\n\\item 0\n\\item 0\n\\item 0\n\\item 0\n\\item 0\n\\item 0\n\\item 0\n\\item 0\n\\item 0\n\\item 0\n\\item 0\n\\item 0\n\\item 0\n\\item 0\n\\item 0\n\\item 0\n\\item 0\n\\item 0\n\\item 0\n\\item 0\n\\item 0\n\\item 0\n\\item 0\n\\item 0\n\\item 0\n\\item 0\n\\item 0\n\\item 1\n\\item 0\n\\item 0\n\\item 0\n\\item 0\n\\item 0\n\\item 0\n\\item 0\n\\item 0\n\\item 0\n\\item 0\n\\item 0\n\\item 0\n\\item 0\n\\item 0\n\\item 0\n\\item 0\n\\item 0\n\\item 0\n\\item 0\n\\item 0\n\\item 0\n\\item 0\n\\item 0\n\\item 0\n\\item 0\n\\item 0\n\\item 0\n\\item 0\n\\item 0\n\\item 0\n\\item 0\n\\item 0\n\\item 0\n\\item 0\n\\item 0\n\\item 0\n\\item 0\n\\item 0\n\\item 0\n\\item 0\n\\item 0\n\\item 0\n\\item 0\n\\item 0\n\\item 0\n\\item 0\n\\item 0\n\\item 0\n\\item 0\n\\item 0\n\\item 0\n\\item 0\n\\item 0\n\\item 0\n\\item 0\n\\item 0\n\\item 0\n\\item 0\n\\item 0\n\\item 0\n\\item 0\n\\item 0\n\\item 0\n\\item 0\n\\item 0\n\\item 0\n\\item 0\n\\item 0\n\\item 0\n\\item 0\n\\item 0\n\\item 0\n\\item 0\n\\item 0\n\\item 1\n\\item 0\n\\item 0\n\\item 1\n\\item 1\n\\item 1\n\\item 1\n\\item 1\n\\item 1\n\\item 1\n\\item 1\n\\item 1\n\\item 1\n\\item 1\n\\item 1\n\\item 1\n\\item 1\n\\item 1\n\\item 1\n\\item 1\n\\item 1\n\\item 1\n\\item 1\n\\item 1\n\\item 1\n\\item 1\n\\item 1\n\\item 1\n\\item 1\n\\item 1\n\\item 1\n\\item 1\n\\item 1\n\\item 1\n\\item 1\n\\item 1\n\\item 1\n\\item 1\n\\item 1\n\\item 1\n\\item 1\n\\item 1\n\\item 1\n\\item 1\n\\item 1\n\\item 1\n\\item 1\n\\item 1\n\\item 1\n\\item 1\n\\item 1\n\\item 1\n\\item 1\n\\item 1\n\\item 1\n\\item 1\n\\item 1\n\\item 1\n\\item 0\n\\item 0\n\\item 0\n\\item 0\n\\item 0\n\\item 0\n\\item 0\n\\item 0\n\\item 0\n\\item 0\n\\item 0\n\\item 0\n\\item 0\n\\item 0\n\\item 0\n\\item 0\n\\item 0\n\\item 0\n\\item 0\n\\item 0\n\\item 0\n\\item 0\n\\item 0\n\\end{enumerate*}\n",
            "text/markdown": "1. 1\n2. 0\n3. 1\n4. 1\n5. 0\n6. 0\n7. 0\n8. 1\n9. 1\n10. 0\n11. 0\n12. 0\n13. 0\n14. 0\n15. 1\n16. 0\n17. 1\n18. 0\n19. 0\n20. 1\n21. 1\n22. 0\n23. 0\n24. 1\n25. 1\n26. 0\n27. 0\n28. 0\n29. 0\n30. 1\n31. 1\n32. 1\n33. 1\n34. 1\n35. 1\n36. 1\n37. 1\n38. 1\n39. 1\n40. 1\n41. 1\n42. 1\n43. 1\n44. 1\n45. 1\n46. 1\n47. 1\n48. 1\n49. 1\n50. 1\n51. 1\n52. 1\n53. 1\n54. 1\n55. 1\n56. 1\n57. 1\n58. 1\n59. 1\n60. 1\n61. 1\n62. 1\n63. 1\n64. 1\n65. 1\n66. 1\n67. 1\n68. 1\n69. 1\n70. 1\n71. 1\n72. 1\n73. 1\n74. 1\n75. 1\n76. 1\n77. 1\n78. 1\n79. 1\n80. 1\n81. 1\n82. 1\n83. 1\n84. 1\n85. 1\n86. 1\n87. 1\n88. 1\n89. 1\n90. 1\n91. 1\n92. 1\n93. 1\n94. 1\n95. 1\n96. 1\n97. 1\n98. 1\n99. 1\n100. 1\n101. 1\n102. 1\n103. 1\n104. 1\n105. 1\n106. 1\n107. 1\n108. 1\n109. 1\n110. 1\n111. 1\n112. 1\n113. 1\n114. 1\n115. 1\n116. 1\n117. 1\n118. 1\n119. 1\n120. 1\n121. 1\n122. 1\n123. 0\n124. 1\n125. 1\n126. 1\n127. 1\n128. 1\n129. 1\n130. 1\n131. 1\n132. 1\n133. 1\n134. 1\n135. 1\n136. 1\n137. 1\n138. 1\n139. 1\n140. 1\n141. 1\n142. 1\n143. 1\n144. 1\n145. 1\n146. 1\n147. 1\n148. 1\n149. 1\n150. 1\n151. 1\n152. 1\n153. 1\n154. 1\n155. 1\n156. 1\n157. 1\n158. 1\n159. 1\n160. 1\n161. 1\n162. 1\n163. 1\n164. 1\n165. 1\n166. 1\n167. 1\n168. 1\n169. 1\n170. 1\n171. 1\n172. 0\n173. 0\n174. 0\n175. 1\n176. 0\n177. 0\n178. 1\n179. 0\n180. 0\n181. 0\n182. 0\n183. 0\n184. 0\n185. 0\n186. 0\n187. 0\n188. 0\n189. 0\n190. 0\n191. 0\n192. 0\n193. 0\n194. 0\n195. 1\n196. 0\n197. 0\n198. 0\n199. 0\n200. 0\n201. ⋯\n202. 0\n203. 0\n204. 0\n205. 0\n206. 0\n207. 0\n208. 0\n209. 0\n210. 0\n211. 0\n212. 0\n213. 0\n214. 0\n215. 0\n216. 0\n217. 0\n218. 0\n219. 0\n220. 0\n221. 0\n222. 0\n223. 0\n224. 0\n225. 0\n226. 0\n227. 0\n228. 0\n229. 0\n230. 0\n231. 0\n232. 0\n233. 0\n234. 0\n235. 0\n236. 0\n237. 0\n238. 0\n239. 0\n240. 0\n241. 0\n242. 0\n243. 0\n244. 0\n245. 0\n246. 1\n247. 0\n248. 0\n249. 0\n250. 0\n251. 0\n252. 0\n253. 0\n254. 0\n255. 0\n256. 0\n257. 0\n258. 0\n259. 0\n260. 0\n261. 0\n262. 0\n263. 0\n264. 0\n265. 0\n266. 0\n267. 0\n268. 0\n269. 0\n270. 0\n271. 0\n272. 0\n273. 0\n274. 0\n275. 0\n276. 0\n277. 0\n278. 0\n279. 0\n280. 0\n281. 0\n282. 0\n283. 0\n284. 0\n285. 0\n286. 0\n287. 0\n288. 0\n289. 0\n290. 0\n291. 0\n292. 0\n293. 0\n294. 0\n295. 0\n296. 0\n297. 0\n298. 0\n299. 0\n300. 0\n301. 0\n302. 0\n303. 0\n304. 0\n305. 0\n306. 0\n307. 0\n308. 0\n309. 0\n310. 0\n311. 0\n312. 0\n313. 0\n314. 0\n315. 0\n316. 0\n317. 0\n318. 0\n319. 0\n320. 0\n321. 1\n322. 0\n323. 0\n324. 1\n325. 1\n326. 1\n327. 1\n328. 1\n329. 1\n330. 1\n331. 1\n332. 1\n333. 1\n334. 1\n335. 1\n336. 1\n337. 1\n338. 1\n339. 1\n340. 1\n341. 1\n342. 1\n343. 1\n344. 1\n345. 1\n346. 1\n347. 1\n348. 1\n349. 1\n350. 1\n351. 1\n352. 1\n353. 1\n354. 1\n355. 1\n356. 1\n357. 1\n358. 1\n359. 1\n360. 1\n361. 1\n362. 1\n363. 1\n364. 1\n365. 1\n366. 1\n367. 1\n368. 1\n369. 1\n370. 1\n371. 1\n372. 1\n373. 1\n374. 1\n375. 1\n376. 1\n377. 1\n378. 1\n379. 0\n380. 0\n381. 0\n382. 0\n383. 0\n384. 0\n385. 0\n386. 0\n387. 0\n388. 0\n389. 0\n390. 0\n391. 0\n392. 0\n393. 0\n394. 0\n395. 0\n396. 0\n397. 0\n398. 0\n399. 0\n400. 0\n401. 0\n\n\n",
            "text/html": [
              "<style>\n",
              ".list-inline {list-style: none; margin:0; padding: 0}\n",
              ".list-inline>li {display: inline-block}\n",
              ".list-inline>li:not(:last-child)::after {content: \"\\00b7\"; padding: 0 .5ex}\n",
              "</style>\n",
              "<ol class=list-inline><li>1</li><li>0</li><li>1</li><li>1</li><li>0</li><li>0</li><li>0</li><li>1</li><li>1</li><li>0</li><li>0</li><li>0</li><li>0</li><li>0</li><li>1</li><li>0</li><li>1</li><li>0</li><li>0</li><li>1</li><li>1</li><li>0</li><li>0</li><li>1</li><li>1</li><li>0</li><li>0</li><li>0</li><li>0</li><li>1</li><li>1</li><li>1</li><li>1</li><li>1</li><li>1</li><li>1</li><li>1</li><li>1</li><li>1</li><li>1</li><li>1</li><li>1</li><li>1</li><li>1</li><li>1</li><li>1</li><li>1</li><li>1</li><li>1</li><li>1</li><li>1</li><li>1</li><li>1</li><li>1</li><li>1</li><li>1</li><li>1</li><li>1</li><li>1</li><li>1</li><li>1</li><li>1</li><li>1</li><li>1</li><li>1</li><li>1</li><li>1</li><li>1</li><li>1</li><li>1</li><li>1</li><li>1</li><li>1</li><li>1</li><li>1</li><li>1</li><li>1</li><li>1</li><li>1</li><li>1</li><li>1</li><li>1</li><li>1</li><li>1</li><li>1</li><li>1</li><li>1</li><li>1</li><li>1</li><li>1</li><li>1</li><li>1</li><li>1</li><li>1</li><li>1</li><li>1</li><li>1</li><li>1</li><li>1</li><li>1</li><li>1</li><li>1</li><li>1</li><li>1</li><li>1</li><li>1</li><li>1</li><li>1</li><li>1</li><li>1</li><li>1</li><li>1</li><li>1</li><li>1</li><li>1</li><li>1</li><li>1</li><li>1</li><li>1</li><li>1</li><li>1</li><li>1</li><li>0</li><li>1</li><li>1</li><li>1</li><li>1</li><li>1</li><li>1</li><li>1</li><li>1</li><li>1</li><li>1</li><li>1</li><li>1</li><li>1</li><li>1</li><li>1</li><li>1</li><li>1</li><li>1</li><li>1</li><li>1</li><li>1</li><li>1</li><li>1</li><li>1</li><li>1</li><li>1</li><li>1</li><li>1</li><li>1</li><li>1</li><li>1</li><li>1</li><li>1</li><li>1</li><li>1</li><li>1</li><li>1</li><li>1</li><li>1</li><li>1</li><li>1</li><li>1</li><li>1</li><li>1</li><li>1</li><li>1</li><li>1</li><li>1</li><li>0</li><li>0</li><li>0</li><li>1</li><li>0</li><li>0</li><li>1</li><li>0</li><li>0</li><li>0</li><li>0</li><li>0</li><li>0</li><li>0</li><li>0</li><li>0</li><li>0</li><li>0</li><li>0</li><li>0</li><li>0</li><li>0</li><li>0</li><li>1</li><li>0</li><li>0</li><li>0</li><li>0</li><li>0</li><li>⋯</li><li>0</li><li>0</li><li>0</li><li>0</li><li>0</li><li>0</li><li>0</li><li>0</li><li>0</li><li>0</li><li>0</li><li>0</li><li>0</li><li>0</li><li>0</li><li>0</li><li>0</li><li>0</li><li>0</li><li>0</li><li>0</li><li>0</li><li>0</li><li>0</li><li>0</li><li>0</li><li>0</li><li>0</li><li>0</li><li>0</li><li>0</li><li>0</li><li>0</li><li>0</li><li>0</li><li>0</li><li>0</li><li>0</li><li>0</li><li>0</li><li>0</li><li>0</li><li>0</li><li>0</li><li>1</li><li>0</li><li>0</li><li>0</li><li>0</li><li>0</li><li>0</li><li>0</li><li>0</li><li>0</li><li>0</li><li>0</li><li>0</li><li>0</li><li>0</li><li>0</li><li>0</li><li>0</li><li>0</li><li>0</li><li>0</li><li>0</li><li>0</li><li>0</li><li>0</li><li>0</li><li>0</li><li>0</li><li>0</li><li>0</li><li>0</li><li>0</li><li>0</li><li>0</li><li>0</li><li>0</li><li>0</li><li>0</li><li>0</li><li>0</li><li>0</li><li>0</li><li>0</li><li>0</li><li>0</li><li>0</li><li>0</li><li>0</li><li>0</li><li>0</li><li>0</li><li>0</li><li>0</li><li>0</li><li>0</li><li>0</li><li>0</li><li>0</li><li>0</li><li>0</li><li>0</li><li>0</li><li>0</li><li>0</li><li>0</li><li>0</li><li>0</li><li>0</li><li>0</li><li>0</li><li>0</li><li>0</li><li>0</li><li>0</li><li>0</li><li>1</li><li>0</li><li>0</li><li>1</li><li>1</li><li>1</li><li>1</li><li>1</li><li>1</li><li>1</li><li>1</li><li>1</li><li>1</li><li>1</li><li>1</li><li>1</li><li>1</li><li>1</li><li>1</li><li>1</li><li>1</li><li>1</li><li>1</li><li>1</li><li>1</li><li>1</li><li>1</li><li>1</li><li>1</li><li>1</li><li>1</li><li>1</li><li>1</li><li>1</li><li>1</li><li>1</li><li>1</li><li>1</li><li>1</li><li>1</li><li>1</li><li>1</li><li>1</li><li>1</li><li>1</li><li>1</li><li>1</li><li>1</li><li>1</li><li>1</li><li>1</li><li>1</li><li>1</li><li>1</li><li>1</li><li>1</li><li>1</li><li>1</li><li>0</li><li>0</li><li>0</li><li>0</li><li>0</li><li>0</li><li>0</li><li>0</li><li>0</li><li>0</li><li>0</li><li>0</li><li>0</li><li>0</li><li>0</li><li>0</li><li>0</li><li>0</li><li>0</li><li>0</li><li>0</li><li>0</li><li>0</li></ol>\n"
            ]
          },
          "metadata": {
            "tags": []
          }
        }
      ]
    },
    {
      "cell_type": "code",
      "metadata": {
        "colab": {
          "base_uri": "https://localhost:8080/",
          "height": 67
        },
        "id": "XCvzfHgvE_HZ",
        "outputId": "f563d9aa-8370-40d8-875b-73855c6ad251"
      },
      "source": [
        "coef(stepwise_model)"
      ],
      "execution_count": null,
      "outputs": [
        {
          "output_type": "display_data",
          "data": {
            "text/plain": [
              "  (Intercept)      drinking        cancer           CHD       smoking \n",
              " -89.58808221   -0.23604192    4.89814645   -0.90929285    0.15529600 \n",
              "     diabetes           HCH mental_health       obesity  not_sleeping \n",
              "   2.01520715    1.33375756   -0.72926090    0.06683782    0.27212069 \n",
              "      med_HBP     doc_visit \n",
              "   0.29558918   -0.19853580 "
            ],
            "text/latex": "\\begin{description*}\n\\item[(Intercept)] -89.5880822078158\n\\item[drinking] -0.236041919675702\n\\item[cancer] 4.89814644507268\n\\item[CHD] -0.909292848668964\n\\item[smoking] 0.155296004860656\n\\item[diabetes] 2.01520715490207\n\\item[HCH] 1.33375756350155\n\\item[mental\\textbackslash{}\\_health] -0.729260904389711\n\\item[obesity] 0.0668378156109642\n\\item[not\\textbackslash{}\\_sleeping] 0.27212068716973\n\\item[med\\textbackslash{}\\_HBP] 0.295589182836674\n\\item[doc\\textbackslash{}\\_visit] -0.198535796175616\n\\end{description*}\n",
            "text/markdown": "(Intercept)\n:   -89.5880822078158drinking\n:   -0.236041919675702cancer\n:   4.89814644507268CHD\n:   -0.909292848668964smoking\n:   0.155296004860656diabetes\n:   2.01520715490207HCH\n:   1.33375756350155mental_health\n:   -0.729260904389711obesity\n:   0.0668378156109642not_sleeping\n:   0.27212068716973med_HBP\n:   0.295589182836674doc_visit\n:   -0.198535796175616\n\n",
            "text/html": [
              "<style>\n",
              ".dl-inline {width: auto; margin:0; padding: 0}\n",
              ".dl-inline>dt, .dl-inline>dd {float: none; width: auto; display: inline-block}\n",
              ".dl-inline>dt::after {content: \":\\0020\"; padding-right: .5ex}\n",
              ".dl-inline>dt:not(:first-of-type) {padding-left: .5ex}\n",
              "</style><dl class=dl-inline><dt>(Intercept)</dt><dd>-89.5880822078158</dd><dt>drinking</dt><dd>-0.236041919675702</dd><dt>cancer</dt><dd>4.89814644507268</dd><dt>CHD</dt><dd>-0.909292848668964</dd><dt>smoking</dt><dd>0.155296004860656</dd><dt>diabetes</dt><dd>2.01520715490207</dd><dt>HCH</dt><dd>1.33375756350155</dd><dt>mental_health</dt><dd>-0.729260904389711</dd><dt>obesity</dt><dd>0.0668378156109642</dd><dt>not_sleeping</dt><dd>0.27212068716973</dd><dt>med_HBP</dt><dd>0.295589182836674</dd><dt>doc_visit</dt><dd>-0.198535796175616</dd></dl>\n"
            ]
          },
          "metadata": {
            "tags": []
          }
        }
      ]
    },
    {
      "cell_type": "code",
      "metadata": {
        "colab": {
          "base_uri": "https://localhost:8080/",
          "height": 67
        },
        "id": "T2MRfyNgFBEh",
        "outputId": "bc38b924-0e25-4128-b662-a5256f275bd7"
      },
      "source": [
        "exp(coef(stepwise_model))"
      ],
      "execution_count": null,
      "outputs": [
        {
          "output_type": "display_data",
          "data": {
            "text/plain": [
              "  (Intercept)      drinking        cancer           CHD       smoking \n",
              " 1.237059e-39  7.897476e-01  1.340411e+02  4.028090e-01  1.168004e+00 \n",
              "     diabetes           HCH mental_health       obesity  not_sleeping \n",
              " 7.502281e+00  3.795278e+00  4.822653e-01  1.069122e+00  1.312745e+00 \n",
              "      med_HBP     doc_visit \n",
              " 1.343918e+00  8.199304e-01 "
            ],
            "text/latex": "\\begin{description*}\n\\item[(Intercept)] 1.23705854308029e-39\n\\item[drinking] 0.789747567276991\n\\item[cancer] 134.041096747053\n\\item[CHD] 0.4028089702419\n\\item[smoking] 1.16800364469668\n\\item[diabetes] 7.50228135460014\n\\item[HCH] 3.79527762447612\n\\item[mental\\textbackslash{}\\_health] 0.482265298566132\n\\item[obesity] 1.06912206920327\n\\item[not\\textbackslash{}\\_sleeping] 1.31274542328088\n\\item[med\\textbackslash{}\\_HBP] 1.34391793885412\n\\item[doc\\textbackslash{}\\_visit] 0.819930419841782\n\\end{description*}\n",
            "text/markdown": "(Intercept)\n:   1.23705854308029e-39drinking\n:   0.789747567276991cancer\n:   134.041096747053CHD\n:   0.4028089702419smoking\n:   1.16800364469668diabetes\n:   7.50228135460014HCH\n:   3.79527762447612mental_health\n:   0.482265298566132obesity\n:   1.06912206920327not_sleeping\n:   1.31274542328088med_HBP\n:   1.34391793885412doc_visit\n:   0.819930419841782\n\n",
            "text/html": [
              "<style>\n",
              ".dl-inline {width: auto; margin:0; padding: 0}\n",
              ".dl-inline>dt, .dl-inline>dd {float: none; width: auto; display: inline-block}\n",
              ".dl-inline>dt::after {content: \":\\0020\"; padding-right: .5ex}\n",
              ".dl-inline>dt:not(:first-of-type) {padding-left: .5ex}\n",
              "</style><dl class=dl-inline><dt>(Intercept)</dt><dd>1.23705854308029e-39</dd><dt>drinking</dt><dd>0.789747567276991</dd><dt>cancer</dt><dd>134.041096747053</dd><dt>CHD</dt><dd>0.4028089702419</dd><dt>smoking</dt><dd>1.16800364469668</dd><dt>diabetes</dt><dd>7.50228135460014</dd><dt>HCH</dt><dd>3.79527762447612</dd><dt>mental_health</dt><dd>0.482265298566132</dd><dt>obesity</dt><dd>1.06912206920327</dd><dt>not_sleeping</dt><dd>1.31274542328088</dd><dt>med_HBP</dt><dd>1.34391793885412</dd><dt>doc_visit</dt><dd>0.819930419841782</dd></dl>\n"
            ]
          },
          "metadata": {
            "tags": []
          }
        }
      ]
    },
    {
      "cell_type": "code",
      "metadata": {
        "colab": {
          "base_uri": "https://localhost:8080/",
          "height": 84
        },
        "id": "0ZyK4chSFDV8",
        "outputId": "5e568580-7d9a-48bc-fe3f-ef28d60dff84"
      },
      "source": [
        "table(actual, preds)"
      ],
      "execution_count": null,
      "outputs": [
        {
          "output_type": "display_data",
          "data": {
            "text/plain": [
              "      preds\n",
              "actual    0    1\n",
              "     0 1478  105\n",
              "     1  120 1439"
            ]
          },
          "metadata": {
            "tags": []
          }
        }
      ]
    },
    {
      "cell_type": "code",
      "metadata": {
        "colab": {
          "base_uri": "https://localhost:8080/",
          "height": 34
        },
        "id": "LO-odPg0FKwI",
        "outputId": "f033865f-d90e-4072-ae96-928e6ba7cdfe"
      },
      "source": [
        "accuracy(actual, preds)"
      ],
      "execution_count": null,
      "outputs": [
        {
          "output_type": "display_data",
          "data": {
            "text/plain": [
              "[1] 0.9283896"
            ],
            "text/latex": "0.928389560789306",
            "text/markdown": "0.928389560789306",
            "text/html": [
              "0.928389560789306"
            ]
          },
          "metadata": {
            "tags": []
          }
        }
      ]
    },
    {
      "cell_type": "code",
      "metadata": {
        "colab": {
          "base_uri": "https://localhost:8080/",
          "height": 34
        },
        "id": "jITgrR0PFN2d",
        "outputId": "2defc487-07ca-4426-ba41-c396f0540ee7"
      },
      "source": [
        "precision(actual, preds)"
      ],
      "execution_count": null,
      "outputs": [
        {
          "output_type": "display_data",
          "data": {
            "text/plain": [
              "[1] 0.9319948"
            ],
            "text/latex": "0.93199481865285",
            "text/markdown": "0.93199481865285",
            "text/html": [
              "0.93199481865285"
            ]
          },
          "metadata": {
            "tags": []
          }
        }
      ]
    },
    {
      "cell_type": "code",
      "metadata": {
        "colab": {
          "base_uri": "https://localhost:8080/",
          "height": 34
        },
        "id": "9iOwv_hXFQEK",
        "outputId": "8f5f6bcd-0082-4752-d487-636d6250d772"
      },
      "source": [
        "recall(actual, preds)"
      ],
      "execution_count": null,
      "outputs": [
        {
          "output_type": "display_data",
          "data": {
            "text/plain": [
              "[1] 0.9230276"
            ],
            "text/latex": "0.923027581783194",
            "text/markdown": "0.923027581783194",
            "text/html": [
              "0.923027581783194"
            ]
          },
          "metadata": {
            "tags": []
          }
        }
      ]
    },
    {
      "cell_type": "code",
      "metadata": {
        "colab": {
          "base_uri": "https://localhost:8080/",
          "height": 605
        },
        "id": "YeC7TBKxFSS2",
        "outputId": "df683279-35bd-44ec-e417-1493a7d1c317"
      },
      "source": [
        "summary(log_fit)"
      ],
      "execution_count": null,
      "outputs": [
        {
          "output_type": "display_data",
          "data": {
            "text/plain": [
              "\n",
              "Call:\n",
              "glm(formula = df$Flag ~ . - HBP, family = \"binomial\", data = df)\n",
              "\n",
              "Deviance Residuals: \n",
              "    Min       1Q   Median       3Q      Max  \n",
              "-3.8181  -0.1544  -0.0007   0.0911   3.3080  \n",
              "\n",
              "Coefficients:\n",
              "               Estimate Std. Error z value Pr(>|z|)    \n",
              "(Intercept)   -90.90066    6.70364 -13.560  < 2e-16 ***\n",
              "drinking       -0.24349    0.05607  -4.342 1.41e-05 ***\n",
              "cancer          4.80640    0.67980   7.070 1.55e-12 ***\n",
              "CHD            -0.98515    0.34900  -2.823  0.00476 ** \n",
              "smoking         0.14738    0.06682   2.206  0.02740 *  \n",
              "diabetes        1.94661    0.21891   8.892  < 2e-16 ***\n",
              "HCH             1.35501    0.10192  13.295  < 2e-16 ***\n",
              "mental_health  -0.72554    0.14622  -4.962 6.98e-07 ***\n",
              "no_leisure      0.01202    0.05195   0.231  0.81705    \n",
              "obesity         0.07317    0.03478   2.104  0.03541 *  \n",
              "not_sleeping    0.27476    0.05028   5.465 4.63e-08 ***\n",
              "stroke          0.46943    0.58386   0.804  0.42140    \n",
              "med_HBP         0.30168    0.05698   5.294 1.20e-07 ***\n",
              "dentist_visit   0.01948    0.03299   0.590  0.55486    \n",
              "doc_visit      -0.21144    0.05371  -3.937 8.25e-05 ***\n",
              "---\n",
              "Signif. codes:  0 ‘***’ 0.001 ‘**’ 0.01 ‘*’ 0.05 ‘.’ 0.1 ‘ ’ 1\n",
              "\n",
              "(Dispersion parameter for binomial family taken to be 1)\n",
              "\n",
              "    Null deviance: 4355.6  on 3141  degrees of freedom\n",
              "Residual deviance: 1068.6  on 3127  degrees of freedom\n",
              "AIC: 1098.6\n",
              "\n",
              "Number of Fisher Scoring iterations: 8\n"
            ]
          },
          "metadata": {
            "tags": []
          }
        }
      ]
    },
    {
      "cell_type": "code",
      "metadata": {
        "colab": {
          "base_uri": "https://localhost:8080/",
          "height": 101
        },
        "id": "0CC9AzY4FUYJ",
        "outputId": "ab3da856-c603-45ea-b3c7-dfd3964535c6"
      },
      "source": [
        "AIC(log_fit) #Full logistic regression model\n",
        "AIC(stepwise_model) #stepwise logistic regression model\n",
        "AIC(fit.full) #full linear regression\n",
        "AIC(backward$model) #reduced model\n",
        "AIC(backward_model) #backward regression model"
      ],
      "execution_count": null,
      "outputs": [
        {
          "output_type": "display_data",
          "data": {
            "text/plain": [
              "[1] 1098.559"
            ],
            "text/latex": "1098.5590849577",
            "text/markdown": "1098.5590849577",
            "text/html": [
              "1098.5590849577"
            ]
          },
          "metadata": {
            "tags": []
          }
        },
        {
          "output_type": "display_data",
          "data": {
            "text/plain": [
              "[1] 1093.523"
            ],
            "text/latex": "1093.52309957899",
            "text/markdown": "1093.52309957899",
            "text/html": [
              "1093.52309957899"
            ]
          },
          "metadata": {
            "tags": []
          }
        },
        {
          "output_type": "display_data",
          "data": {
            "text/plain": [
              "[1] 10196.31"
            ],
            "text/latex": "10196.3131036908",
            "text/markdown": "10196.3131036908",
            "text/html": [
              "10196.3131036908"
            ]
          },
          "metadata": {
            "tags": []
          }
        },
        {
          "output_type": "display_data",
          "data": {
            "text/plain": [
              "[1] 10194.46"
            ],
            "text/latex": "10194.4608837925",
            "text/markdown": "10194.4608837925",
            "text/html": [
              "10194.4608837925"
            ]
          },
          "metadata": {
            "tags": []
          }
        },
        {
          "output_type": "display_data",
          "data": {
            "text/plain": [
              "[1] 10077.34"
            ],
            "text/latex": "10077.3421606474",
            "text/markdown": "10077.3421606474",
            "text/html": [
              "10077.3421606474"
            ]
          },
          "metadata": {
            "tags": []
          }
        }
      ]
    },
    {
      "cell_type": "markdown",
      "metadata": {
        "id": "dM6H-XN-_Nba"
      },
      "source": [
        "#Discussion / Analysis"
      ]
    },
    {
      "cell_type": "markdown",
      "metadata": {
        "id": "qLpn-HNDoOn2"
      },
      "source": [
        "Given that our columns contain continuous variables, backward reduced linear regression would be the best fit for our study, reducing the overall model's complexity while retaining good predictions.\n",
        "\n",
        "This helped us to compare the results by geographic area, revealing some intriguing findings. Remember that our health outcome, HBP, tells us the prevalence of high blood pressure (HBP) in adults over the age of 18. Our model gave us the following values for each region using boxplot in the EDA approximately had the median values were - West Region- 27, Northeast  Region - 28, South Region - 36 and Midwest Region - 30\n",
        "\n",
        "Individuals with HBP are most common in the South of the United States, while they are least common in the West. This pattern has been consistent since our initial data analysis and hypothesis testing, and it makes a lot of sense. "
      ]
    },
    {
      "cell_type": "code",
      "metadata": {
        "colab": {
          "base_uri": "https://localhost:8080/",
          "height": 1000
        },
        "id": "ljmeQzwgsSup",
        "outputId": "470091af-295f-4a78-b696-c5e49c0d3225"
      },
      "source": [
        "temp1 = cbind(full, reduced)\n",
        "df = as.data.frame(cbind(df,temp1)) #creating a data frame using full and reduced model prediction values. \n",
        "df"
      ],
      "execution_count": null,
      "outputs": [
        {
          "output_type": "display_data",
          "data": {
            "text/plain": [
              "     drinking cancer CHD  smoking diabetes HBP  HCH  mental_health no_leisure\n",
              "1    17.7     6.6     9.3 32.5    15.1     37.0 29.1 18.4          28.8      \n",
              "2    19.3     6.3     5.9 19.9     8.8     28.0 28.1 12.9          20.4      \n",
              "3    14.2     5.3     7.5 21.0    13.9     33.9 29.7 11.5          26.8      \n",
              "4    16.7     6.5     8.8 29.0    14.1     34.9 29.9 17.5          26.9      \n",
              "5    18.5     6.4     6.1 21.4     8.8     29.8 27.8 13.9          20.3      \n",
              "6    17.9     6.4     6.2 18.6     8.8     28.8 28.8 12.4          19.2      \n",
              "7    16.2     6.2     5.4 17.0     9.1     30.7 29.2 12.0          19.0      \n",
              "8    18.2     6.5     7.7 26.9    11.7     33.2 29.0 16.1          24.1      \n",
              "9    16.8     6.6     9.5 33.9    15.1     36.4 29.5 18.7          26.7      \n",
              "10   17.9     6.4     5.6 17.6     8.6     28.0 27.6 12.5          18.4      \n",
              "11   17.8     5.7     5.6 18.8     9.5     28.6 28.6 11.7          21.4      \n",
              "12   17.3     6.4     5.8 20.2     8.4     29.9 27.7 13.4          19.8      \n",
              "13   17.2     6.4     6.0 20.3     9.3     29.7 28.4 13.1          20.8      \n",
              "14   16.4     6.3     5.6 17.4     8.5     30.6 30.2 12.3          19.5      \n",
              "15   15.8     6.7    10.5 35.0    17.2     36.9 29.5 20.5          31.3      \n",
              "16   18.9     6.5     5.3 15.9     7.8     29.8 26.9 11.7          17.7      \n",
              "17   15.0     6.7    13.2 44.6    21.6     42.3 31.7 24.5          38.5      \n",
              "18   17.8     6.5     6.5 23.1     9.7     30.2 29.0 14.4          21.6      \n",
              "19   15.6     5.4     6.7 19.2    12.0     31.5 29.9 10.9          24.4      \n",
              "20   17.6     6.7     8.9 30.2    14.2     33.6 28.3 17.9          26.5      \n",
              "21   19.7     6.3     7.4 25.3    11.9     33.5 28.5 14.2          23.1      \n",
              "22   18.6     6.4     5.8 19.2     8.1     28.1 27.7 12.4          20.9      \n",
              "23   18.9     6.6     6.6 21.8    10.2     30.4 28.4 14.0          20.6      \n",
              "24   18.6     6.5     7.1 23.6    11.0     32.3 28.6 14.8          22.0      \n",
              "25   16.6     6.6    10.1 34.2    16.6     37.4 29.2 19.3          30.0      \n",
              "26   17.7     6.4     7.3 23.8    11.5     31.6 28.5 14.6          23.0      \n",
              "27   19.8     6.6     5.5 17.9     8.0     27.9 27.8 12.4          18.0      \n",
              "28   19.9     6.5     5.3 16.7     7.4     27.9 28.2 11.8          17.1      \n",
              "29   18.9     6.5     6.5 22.3     9.5     28.5 29.3 13.7          21.3      \n",
              "30   14.3     6.5     8.2 24.4    13.1     39.1 34.2 18.7          31.1      \n",
              "⋮    ⋮        ⋮      ⋮    ⋮       ⋮        ⋮    ⋮    ⋮             ⋮         \n",
              "3113 14.3     6.5    9.4  28.9    13.2     38.6 33.7 21.0          31.1      \n",
              "3114 15.8     6.5    7.5  24.5    11.1     37.1 31.4 17.9          25.4      \n",
              "3115 13.8     6.6    9.1  29.0    13.1     37.8 32.1 21.0          31.3      \n",
              "3116 14.6     6.6    7.8  25.0    12.2     36.8 32.0 18.3          27.6      \n",
              "3117 15.4     6.6    7.0  21.5    10.3     34.5 30.9 16.4          22.9      \n",
              "3118 15.2     6.4    7.9  24.7    11.5     37.8 32.2 18.4          26.4      \n",
              "3119 15.0     6.6    8.8  27.5    13.0     37.7 33.3 19.9          29.5      \n",
              "3120 18.3     6.4    5.9  19.4     8.6     28.9 28.0 13.3          22.7      \n",
              "3121 18.8     6.4    6.1  16.8     9.3     28.2 28.3 12.9          19.8      \n",
              "3122 17.7     6.4    6.4  21.3     9.9     27.8 26.9 14.0          23.6      \n",
              "3123 18.4     6.4    6.1  19.4     8.5     29.5 28.3 13.0          24.1      \n",
              "3124 18.6     6.5    5.7  18.5     8.5     30.1 26.4 12.8          23.6      \n",
              "3125 18.4     6.3    5.3  17.5     7.2     25.7 27.7 12.2          22.1      \n",
              "3126 19.0     6.5    5.8  18.6     7.8     28.0 27.5 13.1          21.2      \n",
              "3127 19.6     6.5    5.6  18.7     7.5     27.8 28.2 12.8          21.6      \n",
              "3128 18.7     6.4    6.3  20.6     8.9     27.8 28.0 13.6          23.6      \n",
              "3129 17.4     6.4    6.3  20.8     9.1     29.7 27.9 14.2          24.3      \n",
              "3130 18.6     6.4    5.1  18.1     7.1     26.5 27.3 12.0          19.2      \n",
              "3131 16.8     6.5    6.8  22.8     9.4     29.9 28.5 15.8          25.7      \n",
              "3132 19.4     6.6    5.7  21.8     8.7     27.5 26.2 12.9          22.4      \n",
              "3133 16.6     6.3    5.5  19.2     9.0     29.0 27.1 12.7          21.1      \n",
              "3134 20.0     6.3    5.5  18.0     7.7     28.1 27.0 12.1          19.9      \n",
              "3135 19.7     6.3    6.0  21.5     8.3     28.6 29.1 13.4          24.3      \n",
              "3136 20.3     6.4    4.8  12.9     6.6     25.0 24.7 10.2          16.2      \n",
              "3137 18.5     6.6    6.0  19.1     8.5     28.8 28.5 13.6          22.5      \n",
              "3138 18.1     6.3    6.0  21.8     9.2     28.9 28.4 13.3          26.3      \n",
              "3139 18.2     6.5    5.8  18.3     8.1     26.8 27.7 12.9          21.6      \n",
              "3140 20.1     6.4    5.9  19.5     8.2     27.3 27.5 13.3          22.9      \n",
              "3141 18.5     6.5    6.1  21.0     9.0     29.6 27.8 14.0          23.0      \n",
              "3142 19.3     6.4    5.8  19.5     8.3     28.8 27.7 13.1          22.0      \n",
              "     obesity not_sleeping stroke med_HBP dentist_visit doc_visit Flag full\n",
              "1    33.4    39.1         5.3    49.8    54.2          70.5      1    34.2\n",
              "2    27.2    33.1         2.9    48.3    67.0          67.4      0    26.3\n",
              "3    27.8    38.9         3.9    52.9    56.8          69.5      1    32.8\n",
              "4    35.1    37.6         4.9    50.6    57.0          70.6      1    33.9\n",
              "5    32.0    34.4         3.1    47.5    61.7          67.7      0    26.5\n",
              "6    26.1    31.7         3.0    49.2    65.8          68.5      0    27.4\n",
              "7    27.8    34.4         2.7    49.1    68.5          71.3      0    27.4\n",
              "8    32.2    35.6         4.1    49.6    60.6          69.2      1    30.6\n",
              "9    38.1    37.9         5.4    50.7    53.3          71.1      1    34.6\n",
              "10   26.3    31.0         2.8    47.9    68.7          68.8      0    25.6\n",
              "11   25.5    34.0         2.9    49.9    66.6          67.5      0    27.0\n",
              "12   30.1    33.4         3.0    48.7    65.7          68.2      0    26.5\n",
              "13   34.4    32.1         3.0    49.1    67.0          69.3      0    27.2\n",
              "14   30.8    32.8         2.8    47.5    68.4          69.3      0    28.0\n",
              "15   37.6    38.5         6.3    50.8    52.0          72.0      1    36.8\n",
              "16   24.6    33.7         2.6    49.3    72.6          69.6      0    25.6\n",
              "17   44.3    42.5         8.1    52.7    38.9          71.7      1    43.8\n",
              "18   29.7    34.5         3.3    49.3    65.7          68.4      0    28.4\n",
              "19   29.6    35.9         3.4    50.9    62.1          69.1      0    30.7\n",
              "20   35.2    37.7         5.0    48.9    54.4          71.5      1    32.5\n",
              "21   33.0    34.4         3.9    48.9    61.5          69.1      1    29.6\n",
              "22   31.1    31.0         2.8    48.3    68.0          68.3      0    25.8\n",
              "23   31.5    34.1         3.5    47.8    66.2          69.6      0    28.4\n",
              "24   32.9    35.2         3.7    49.3    62.0          69.9      1    29.3\n",
              "25   40.2    40.3         5.8    51.0    52.4          71.3      1    36.3\n",
              "26   32.4    36.1         3.8    49.1    61.6          69.7      0    29.8\n",
              "27   27.4    31.3         2.8    48.1    67.5          68.2      0    25.5\n",
              "28   27.7    30.7         2.5    48.4    71.3          68.2      0    25.1\n",
              "29   31.6    32.2         3.2    48.6    59.7          67.6      0    28.4\n",
              "30   36.2    38.8         4.0    62.0    53.0          75.1      1    39.4\n",
              "⋮    ⋮       ⋮            ⋮      ⋮       ⋮             ⋮         ⋮    ⋮   \n",
              "3113 39.0    45.1         3.9    61.4    50.2          79.2      1    38.3\n",
              "3114 35.5    40.8         3.1    60.5    57.6          79.5      1    33.9\n",
              "3115 41.5    46.7         3.7    61.6    50.7          79.4      1    36.9\n",
              "3116 40.8    40.8         3.3    62.6    57.5          79.1      1    36.5\n",
              "3117 39.0    40.3         2.8    59.3    62.4          80.4      1    33.1\n",
              "3118 37.8    41.9         3.2    61.1    57.6          79.8      1    35.4\n",
              "3119 43.0    42.2         3.7    61.1    48.9          79.0      1    37.7\n",
              "3120 28.3    32.4         3.0    52.5    65.1          65.8      0    27.7\n",
              "3121 28.4    34.6         3.0    54.2    69.4          67.7      0    28.7\n",
              "3122 29.6    32.7         3.3    53.4    63.1          65.9      0    28.3\n",
              "3123 33.2    33.3         3.0    54.3    63.6          64.8      0    28.6\n",
              "3124 33.2    35.4         2.9    52.1    64.5          66.4      0    27.0\n",
              "3125 27.8    32.0         2.6    53.6    68.7          68.2      0    26.2\n",
              "3126 29.3    31.4         2.8    54.1    65.5          65.8      0    26.8\n",
              "3127 29.6    33.8         2.7    52.0    64.4          66.3      0    26.7\n",
              "3128 34.2    34.5         3.1    54.2    62.2          64.7      0    28.7\n",
              "3129 33.6    35.9         3.1    53.8    65.3          65.2      0    28.7\n",
              "3130 27.7    32.9         2.6    52.8    68.9          65.0      0    25.9\n",
              "3131 32.2    36.2         3.4    55.3    60.0          66.6      0    30.2\n",
              "3132 30.6    33.7         2.8    53.8    65.3          67.4      0    26.7\n",
              "3133 29.9    35.3         2.7    53.6    70.2          68.7      0    27.1\n",
              "3134 26.8    33.0         2.6    52.4    67.1          65.2      0    25.5\n",
              "3135 32.6    35.6         2.9    52.8    66.9          65.8      0    28.3\n",
              "3136 18.8    27.1         2.3    51.1    75.4          67.2      0    22.1\n",
              "3137 28.9    34.2         2.9    53.2    66.0          65.4      0    28.2\n",
              "3138 32.4    36.7         3.0    53.1    58.5          66.9      0    28.4\n",
              "3139 27.6    32.5         2.8    54.2    69.5          66.1      0    27.4\n",
              "3140 31.2    34.0         2.9    53.3    62.8          67.0      0    26.9\n",
              "3141 34.2    35.3         3.0    54.2    58.0          65.3      0    28.6\n",
              "3142 29.8    32.8         2.9    52.7    65.1          65.4      0    26.9\n",
              "     reduced\n",
              "1    35.3   \n",
              "2    27.3   \n",
              "3    33.7   \n",
              "4    35.1   \n",
              "5    26.8   \n",
              "6    28.1   \n",
              "7    27.8   \n",
              "8    32.1   \n",
              "9    36.2   \n",
              "10   26.4   \n",
              "11   27.9   \n",
              "12   26.6   \n",
              "13   27.9   \n",
              "14   28.6   \n",
              "15   37.7   \n",
              "16   25.4   \n",
              "17   44.8   \n",
              "18   28.9   \n",
              "19   31.3   \n",
              "20   33.7   \n",
              "21   31.2   \n",
              "22   26.7   \n",
              "23   29.2   \n",
              "24   30.2   \n",
              "25   37.4   \n",
              "26   30.8   \n",
              "27   26.0   \n",
              "28   25.9   \n",
              "29   28.8   \n",
              "30   39.6   \n",
              "⋮    ⋮      \n",
              "3113 38.2   \n",
              "3114 33.8   \n",
              "3115 36.7   \n",
              "3116 35.6   \n",
              "3117 33.2   \n",
              "3118 35.5   \n",
              "3119 37.3   \n",
              "3120 27.6   \n",
              "3121 28.3   \n",
              "3122 28.3   \n",
              "3123 28.8   \n",
              "3124 26.9   \n",
              "3125 26.5   \n",
              "3126 26.8   \n",
              "3127 27.0   \n",
              "3128 29.1   \n",
              "3129 28.6   \n",
              "3130 26.3   \n",
              "3131 29.3   \n",
              "3132 26.3   \n",
              "3133 27.2   \n",
              "3134 26.6   \n",
              "3135 28.3   \n",
              "3136 22.7   \n",
              "3137 28.3   \n",
              "3138 28.5   \n",
              "3139 27.5   \n",
              "3140 27.1   \n",
              "3141 28.7   \n",
              "3142 27.5   "
            ],
            "text/latex": "A data.frame: 3142 × 18\n\\begin{tabular}{r|llllllllllllllllll}\n  & drinking & cancer & CHD & smoking & diabetes & HBP & HCH & mental\\_health & no\\_leisure & obesity & not\\_sleeping & stroke & med\\_HBP & dentist\\_visit & doc\\_visit & Flag & full & reduced\\\\\n  & <dbl> & <dbl> & <dbl> & <dbl> & <dbl> & <dbl> & <dbl> & <dbl> & <dbl> & <dbl> & <dbl> & <dbl> & <dbl> & <dbl> & <dbl> & <dbl> & <dbl> & <dbl>\\\\\n\\hline\n\t1 & 17.7 & 6.6 &  9.3 & 32.5 & 15.1 & 37.0 & 29.1 & 18.4 & 28.8 & 33.4 & 39.1 & 5.3 & 49.8 & 54.2 & 70.5 & 1 & 34.2 & 35.3\\\\\n\t2 & 19.3 & 6.3 &  5.9 & 19.9 &  8.8 & 28.0 & 28.1 & 12.9 & 20.4 & 27.2 & 33.1 & 2.9 & 48.3 & 67.0 & 67.4 & 0 & 26.3 & 27.3\\\\\n\t3 & 14.2 & 5.3 &  7.5 & 21.0 & 13.9 & 33.9 & 29.7 & 11.5 & 26.8 & 27.8 & 38.9 & 3.9 & 52.9 & 56.8 & 69.5 & 1 & 32.8 & 33.7\\\\\n\t4 & 16.7 & 6.5 &  8.8 & 29.0 & 14.1 & 34.9 & 29.9 & 17.5 & 26.9 & 35.1 & 37.6 & 4.9 & 50.6 & 57.0 & 70.6 & 1 & 33.9 & 35.1\\\\\n\t5 & 18.5 & 6.4 &  6.1 & 21.4 &  8.8 & 29.8 & 27.8 & 13.9 & 20.3 & 32.0 & 34.4 & 3.1 & 47.5 & 61.7 & 67.7 & 0 & 26.5 & 26.8\\\\\n\t6 & 17.9 & 6.4 &  6.2 & 18.6 &  8.8 & 28.8 & 28.8 & 12.4 & 19.2 & 26.1 & 31.7 & 3.0 & 49.2 & 65.8 & 68.5 & 0 & 27.4 & 28.1\\\\\n\t7 & 16.2 & 6.2 &  5.4 & 17.0 &  9.1 & 30.7 & 29.2 & 12.0 & 19.0 & 27.8 & 34.4 & 2.7 & 49.1 & 68.5 & 71.3 & 0 & 27.4 & 27.8\\\\\n\t8 & 18.2 & 6.5 &  7.7 & 26.9 & 11.7 & 33.2 & 29.0 & 16.1 & 24.1 & 32.2 & 35.6 & 4.1 & 49.6 & 60.6 & 69.2 & 1 & 30.6 & 32.1\\\\\n\t9 & 16.8 & 6.6 &  9.5 & 33.9 & 15.1 & 36.4 & 29.5 & 18.7 & 26.7 & 38.1 & 37.9 & 5.4 & 50.7 & 53.3 & 71.1 & 1 & 34.6 & 36.2\\\\\n\t10 & 17.9 & 6.4 &  5.6 & 17.6 &  8.6 & 28.0 & 27.6 & 12.5 & 18.4 & 26.3 & 31.0 & 2.8 & 47.9 & 68.7 & 68.8 & 0 & 25.6 & 26.4\\\\\n\t11 & 17.8 & 5.7 &  5.6 & 18.8 &  9.5 & 28.6 & 28.6 & 11.7 & 21.4 & 25.5 & 34.0 & 2.9 & 49.9 & 66.6 & 67.5 & 0 & 27.0 & 27.9\\\\\n\t12 & 17.3 & 6.4 &  5.8 & 20.2 &  8.4 & 29.9 & 27.7 & 13.4 & 19.8 & 30.1 & 33.4 & 3.0 & 48.7 & 65.7 & 68.2 & 0 & 26.5 & 26.6\\\\\n\t13 & 17.2 & 6.4 &  6.0 & 20.3 &  9.3 & 29.7 & 28.4 & 13.1 & 20.8 & 34.4 & 32.1 & 3.0 & 49.1 & 67.0 & 69.3 & 0 & 27.2 & 27.9\\\\\n\t14 & 16.4 & 6.3 &  5.6 & 17.4 &  8.5 & 30.6 & 30.2 & 12.3 & 19.5 & 30.8 & 32.8 & 2.8 & 47.5 & 68.4 & 69.3 & 0 & 28.0 & 28.6\\\\\n\t15 & 15.8 & 6.7 & 10.5 & 35.0 & 17.2 & 36.9 & 29.5 & 20.5 & 31.3 & 37.6 & 38.5 & 6.3 & 50.8 & 52.0 & 72.0 & 1 & 36.8 & 37.7\\\\\n\t16 & 18.9 & 6.5 &  5.3 & 15.9 &  7.8 & 29.8 & 26.9 & 11.7 & 17.7 & 24.6 & 33.7 & 2.6 & 49.3 & 72.6 & 69.6 & 0 & 25.6 & 25.4\\\\\n\t17 & 15.0 & 6.7 & 13.2 & 44.6 & 21.6 & 42.3 & 31.7 & 24.5 & 38.5 & 44.3 & 42.5 & 8.1 & 52.7 & 38.9 & 71.7 & 1 & 43.8 & 44.8\\\\\n\t18 & 17.8 & 6.5 &  6.5 & 23.1 &  9.7 & 30.2 & 29.0 & 14.4 & 21.6 & 29.7 & 34.5 & 3.3 & 49.3 & 65.7 & 68.4 & 0 & 28.4 & 28.9\\\\\n\t19 & 15.6 & 5.4 &  6.7 & 19.2 & 12.0 & 31.5 & 29.9 & 10.9 & 24.4 & 29.6 & 35.9 & 3.4 & 50.9 & 62.1 & 69.1 & 0 & 30.7 & 31.3\\\\\n\t20 & 17.6 & 6.7 &  8.9 & 30.2 & 14.2 & 33.6 & 28.3 & 17.9 & 26.5 & 35.2 & 37.7 & 5.0 & 48.9 & 54.4 & 71.5 & 1 & 32.5 & 33.7\\\\\n\t21 & 19.7 & 6.3 &  7.4 & 25.3 & 11.9 & 33.5 & 28.5 & 14.2 & 23.1 & 33.0 & 34.4 & 3.9 & 48.9 & 61.5 & 69.1 & 1 & 29.6 & 31.2\\\\\n\t22 & 18.6 & 6.4 &  5.8 & 19.2 &  8.1 & 28.1 & 27.7 & 12.4 & 20.9 & 31.1 & 31.0 & 2.8 & 48.3 & 68.0 & 68.3 & 0 & 25.8 & 26.7\\\\\n\t23 & 18.9 & 6.6 &  6.6 & 21.8 & 10.2 & 30.4 & 28.4 & 14.0 & 20.6 & 31.5 & 34.1 & 3.5 & 47.8 & 66.2 & 69.6 & 0 & 28.4 & 29.2\\\\\n\t24 & 18.6 & 6.5 &  7.1 & 23.6 & 11.0 & 32.3 & 28.6 & 14.8 & 22.0 & 32.9 & 35.2 & 3.7 & 49.3 & 62.0 & 69.9 & 1 & 29.3 & 30.2\\\\\n\t25 & 16.6 & 6.6 & 10.1 & 34.2 & 16.6 & 37.4 & 29.2 & 19.3 & 30.0 & 40.2 & 40.3 & 5.8 & 51.0 & 52.4 & 71.3 & 1 & 36.3 & 37.4\\\\\n\t26 & 17.7 & 6.4 &  7.3 & 23.8 & 11.5 & 31.6 & 28.5 & 14.6 & 23.0 & 32.4 & 36.1 & 3.8 & 49.1 & 61.6 & 69.7 & 0 & 29.8 & 30.8\\\\\n\t27 & 19.8 & 6.6 &  5.5 & 17.9 &  8.0 & 27.9 & 27.8 & 12.4 & 18.0 & 27.4 & 31.3 & 2.8 & 48.1 & 67.5 & 68.2 & 0 & 25.5 & 26.0\\\\\n\t28 & 19.9 & 6.5 &  5.3 & 16.7 &  7.4 & 27.9 & 28.2 & 11.8 & 17.1 & 27.7 & 30.7 & 2.5 & 48.4 & 71.3 & 68.2 & 0 & 25.1 & 25.9\\\\\n\t29 & 18.9 & 6.5 &  6.5 & 22.3 &  9.5 & 28.5 & 29.3 & 13.7 & 21.3 & 31.6 & 32.2 & 3.2 & 48.6 & 59.7 & 67.6 & 0 & 28.4 & 28.8\\\\\n\t30 & 14.3 & 6.5 &  8.2 & 24.4 & 13.1 & 39.1 & 34.2 & 18.7 & 31.1 & 36.2 & 38.8 & 4.0 & 62.0 & 53.0 & 75.1 & 1 & 39.4 & 39.6\\\\\n\t⋮ & ⋮ & ⋮ & ⋮ & ⋮ & ⋮ & ⋮ & ⋮ & ⋮ & ⋮ & ⋮ & ⋮ & ⋮ & ⋮ & ⋮ & ⋮ & ⋮ & ⋮ & ⋮\\\\\n\t3113 & 14.3 & 6.5 & 9.4 & 28.9 & 13.2 & 38.6 & 33.7 & 21.0 & 31.1 & 39.0 & 45.1 & 3.9 & 61.4 & 50.2 & 79.2 & 1 & 38.3 & 38.2\\\\\n\t3114 & 15.8 & 6.5 & 7.5 & 24.5 & 11.1 & 37.1 & 31.4 & 17.9 & 25.4 & 35.5 & 40.8 & 3.1 & 60.5 & 57.6 & 79.5 & 1 & 33.9 & 33.8\\\\\n\t3115 & 13.8 & 6.6 & 9.1 & 29.0 & 13.1 & 37.8 & 32.1 & 21.0 & 31.3 & 41.5 & 46.7 & 3.7 & 61.6 & 50.7 & 79.4 & 1 & 36.9 & 36.7\\\\\n\t3116 & 14.6 & 6.6 & 7.8 & 25.0 & 12.2 & 36.8 & 32.0 & 18.3 & 27.6 & 40.8 & 40.8 & 3.3 & 62.6 & 57.5 & 79.1 & 1 & 36.5 & 35.6\\\\\n\t3117 & 15.4 & 6.6 & 7.0 & 21.5 & 10.3 & 34.5 & 30.9 & 16.4 & 22.9 & 39.0 & 40.3 & 2.8 & 59.3 & 62.4 & 80.4 & 1 & 33.1 & 33.2\\\\\n\t3118 & 15.2 & 6.4 & 7.9 & 24.7 & 11.5 & 37.8 & 32.2 & 18.4 & 26.4 & 37.8 & 41.9 & 3.2 & 61.1 & 57.6 & 79.8 & 1 & 35.4 & 35.5\\\\\n\t3119 & 15.0 & 6.6 & 8.8 & 27.5 & 13.0 & 37.7 & 33.3 & 19.9 & 29.5 & 43.0 & 42.2 & 3.7 & 61.1 & 48.9 & 79.0 & 1 & 37.7 & 37.3\\\\\n\t3120 & 18.3 & 6.4 & 5.9 & 19.4 &  8.6 & 28.9 & 28.0 & 13.3 & 22.7 & 28.3 & 32.4 & 3.0 & 52.5 & 65.1 & 65.8 & 0 & 27.7 & 27.6\\\\\n\t3121 & 18.8 & 6.4 & 6.1 & 16.8 &  9.3 & 28.2 & 28.3 & 12.9 & 19.8 & 28.4 & 34.6 & 3.0 & 54.2 & 69.4 & 67.7 & 0 & 28.7 & 28.3\\\\\n\t3122 & 17.7 & 6.4 & 6.4 & 21.3 &  9.9 & 27.8 & 26.9 & 14.0 & 23.6 & 29.6 & 32.7 & 3.3 & 53.4 & 63.1 & 65.9 & 0 & 28.3 & 28.3\\\\\n\t3123 & 18.4 & 6.4 & 6.1 & 19.4 &  8.5 & 29.5 & 28.3 & 13.0 & 24.1 & 33.2 & 33.3 & 3.0 & 54.3 & 63.6 & 64.8 & 0 & 28.6 & 28.8\\\\\n\t3124 & 18.6 & 6.5 & 5.7 & 18.5 &  8.5 & 30.1 & 26.4 & 12.8 & 23.6 & 33.2 & 35.4 & 2.9 & 52.1 & 64.5 & 66.4 & 0 & 27.0 & 26.9\\\\\n\t3125 & 18.4 & 6.3 & 5.3 & 17.5 &  7.2 & 25.7 & 27.7 & 12.2 & 22.1 & 27.8 & 32.0 & 2.6 & 53.6 & 68.7 & 68.2 & 0 & 26.2 & 26.5\\\\\n\t3126 & 19.0 & 6.5 & 5.8 & 18.6 &  7.8 & 28.0 & 27.5 & 13.1 & 21.2 & 29.3 & 31.4 & 2.8 & 54.1 & 65.5 & 65.8 & 0 & 26.8 & 26.8\\\\\n\t3127 & 19.6 & 6.5 & 5.6 & 18.7 &  7.5 & 27.8 & 28.2 & 12.8 & 21.6 & 29.6 & 33.8 & 2.7 & 52.0 & 64.4 & 66.3 & 0 & 26.7 & 27.0\\\\\n\t3128 & 18.7 & 6.4 & 6.3 & 20.6 &  8.9 & 27.8 & 28.0 & 13.6 & 23.6 & 34.2 & 34.5 & 3.1 & 54.2 & 62.2 & 64.7 & 0 & 28.7 & 29.1\\\\\n\t3129 & 17.4 & 6.4 & 6.3 & 20.8 &  9.1 & 29.7 & 27.9 & 14.2 & 24.3 & 33.6 & 35.9 & 3.1 & 53.8 & 65.3 & 65.2 & 0 & 28.7 & 28.6\\\\\n\t3130 & 18.6 & 6.4 & 5.1 & 18.1 &  7.1 & 26.5 & 27.3 & 12.0 & 19.2 & 27.7 & 32.9 & 2.6 & 52.8 & 68.9 & 65.0 & 0 & 25.9 & 26.3\\\\\n\t3131 & 16.8 & 6.5 & 6.8 & 22.8 &  9.4 & 29.9 & 28.5 & 15.8 & 25.7 & 32.2 & 36.2 & 3.4 & 55.3 & 60.0 & 66.6 & 0 & 30.2 & 29.3\\\\\n\t3132 & 19.4 & 6.6 & 5.7 & 21.8 &  8.7 & 27.5 & 26.2 & 12.9 & 22.4 & 30.6 & 33.7 & 2.8 & 53.8 & 65.3 & 67.4 & 0 & 26.7 & 26.3\\\\\n\t3133 & 16.6 & 6.3 & 5.5 & 19.2 &  9.0 & 29.0 & 27.1 & 12.7 & 21.1 & 29.9 & 35.3 & 2.7 & 53.6 & 70.2 & 68.7 & 0 & 27.1 & 27.2\\\\\n\t3134 & 20.0 & 6.3 & 5.5 & 18.0 &  7.7 & 28.1 & 27.0 & 12.1 & 19.9 & 26.8 & 33.0 & 2.6 & 52.4 & 67.1 & 65.2 & 0 & 25.5 & 26.6\\\\\n\t3135 & 19.7 & 6.3 & 6.0 & 21.5 &  8.3 & 28.6 & 29.1 & 13.4 & 24.3 & 32.6 & 35.6 & 2.9 & 52.8 & 66.9 & 65.8 & 0 & 28.3 & 28.3\\\\\n\t3136 & 20.3 & 6.4 & 4.8 & 12.9 &  6.6 & 25.0 & 24.7 & 10.2 & 16.2 & 18.8 & 27.1 & 2.3 & 51.1 & 75.4 & 67.2 & 0 & 22.1 & 22.7\\\\\n\t3137 & 18.5 & 6.6 & 6.0 & 19.1 &  8.5 & 28.8 & 28.5 & 13.6 & 22.5 & 28.9 & 34.2 & 2.9 & 53.2 & 66.0 & 65.4 & 0 & 28.2 & 28.3\\\\\n\t3138 & 18.1 & 6.3 & 6.0 & 21.8 &  9.2 & 28.9 & 28.4 & 13.3 & 26.3 & 32.4 & 36.7 & 3.0 & 53.1 & 58.5 & 66.9 & 0 & 28.4 & 28.5\\\\\n\t3139 & 18.2 & 6.5 & 5.8 & 18.3 &  8.1 & 26.8 & 27.7 & 12.9 & 21.6 & 27.6 & 32.5 & 2.8 & 54.2 & 69.5 & 66.1 & 0 & 27.4 & 27.5\\\\\n\t3140 & 20.1 & 6.4 & 5.9 & 19.5 &  8.2 & 27.3 & 27.5 & 13.3 & 22.9 & 31.2 & 34.0 & 2.9 & 53.3 & 62.8 & 67.0 & 0 & 26.9 & 27.1\\\\\n\t3141 & 18.5 & 6.5 & 6.1 & 21.0 &  9.0 & 29.6 & 27.8 & 14.0 & 23.0 & 34.2 & 35.3 & 3.0 & 54.2 & 58.0 & 65.3 & 0 & 28.6 & 28.7\\\\\n\t3142 & 19.3 & 6.4 & 5.8 & 19.5 &  8.3 & 28.8 & 27.7 & 13.1 & 22.0 & 29.8 & 32.8 & 2.9 & 52.7 & 65.1 & 65.4 & 0 & 26.9 & 27.5\\\\\n\\end{tabular}\n",
            "text/markdown": "\nA data.frame: 3142 × 18\n\n| <!--/--> | drinking &lt;dbl&gt; | cancer &lt;dbl&gt; | CHD &lt;dbl&gt; | smoking &lt;dbl&gt; | diabetes &lt;dbl&gt; | HBP &lt;dbl&gt; | HCH &lt;dbl&gt; | mental_health &lt;dbl&gt; | no_leisure &lt;dbl&gt; | obesity &lt;dbl&gt; | not_sleeping &lt;dbl&gt; | stroke &lt;dbl&gt; | med_HBP &lt;dbl&gt; | dentist_visit &lt;dbl&gt; | doc_visit &lt;dbl&gt; | Flag &lt;dbl&gt; | full &lt;dbl&gt; | reduced &lt;dbl&gt; |\n|---|---|---|---|---|---|---|---|---|---|---|---|---|---|---|---|---|---|---|\n| 1 | 17.7 | 6.6 |  9.3 | 32.5 | 15.1 | 37.0 | 29.1 | 18.4 | 28.8 | 33.4 | 39.1 | 5.3 | 49.8 | 54.2 | 70.5 | 1 | 34.2 | 35.3 |\n| 2 | 19.3 | 6.3 |  5.9 | 19.9 |  8.8 | 28.0 | 28.1 | 12.9 | 20.4 | 27.2 | 33.1 | 2.9 | 48.3 | 67.0 | 67.4 | 0 | 26.3 | 27.3 |\n| 3 | 14.2 | 5.3 |  7.5 | 21.0 | 13.9 | 33.9 | 29.7 | 11.5 | 26.8 | 27.8 | 38.9 | 3.9 | 52.9 | 56.8 | 69.5 | 1 | 32.8 | 33.7 |\n| 4 | 16.7 | 6.5 |  8.8 | 29.0 | 14.1 | 34.9 | 29.9 | 17.5 | 26.9 | 35.1 | 37.6 | 4.9 | 50.6 | 57.0 | 70.6 | 1 | 33.9 | 35.1 |\n| 5 | 18.5 | 6.4 |  6.1 | 21.4 |  8.8 | 29.8 | 27.8 | 13.9 | 20.3 | 32.0 | 34.4 | 3.1 | 47.5 | 61.7 | 67.7 | 0 | 26.5 | 26.8 |\n| 6 | 17.9 | 6.4 |  6.2 | 18.6 |  8.8 | 28.8 | 28.8 | 12.4 | 19.2 | 26.1 | 31.7 | 3.0 | 49.2 | 65.8 | 68.5 | 0 | 27.4 | 28.1 |\n| 7 | 16.2 | 6.2 |  5.4 | 17.0 |  9.1 | 30.7 | 29.2 | 12.0 | 19.0 | 27.8 | 34.4 | 2.7 | 49.1 | 68.5 | 71.3 | 0 | 27.4 | 27.8 |\n| 8 | 18.2 | 6.5 |  7.7 | 26.9 | 11.7 | 33.2 | 29.0 | 16.1 | 24.1 | 32.2 | 35.6 | 4.1 | 49.6 | 60.6 | 69.2 | 1 | 30.6 | 32.1 |\n| 9 | 16.8 | 6.6 |  9.5 | 33.9 | 15.1 | 36.4 | 29.5 | 18.7 | 26.7 | 38.1 | 37.9 | 5.4 | 50.7 | 53.3 | 71.1 | 1 | 34.6 | 36.2 |\n| 10 | 17.9 | 6.4 |  5.6 | 17.6 |  8.6 | 28.0 | 27.6 | 12.5 | 18.4 | 26.3 | 31.0 | 2.8 | 47.9 | 68.7 | 68.8 | 0 | 25.6 | 26.4 |\n| 11 | 17.8 | 5.7 |  5.6 | 18.8 |  9.5 | 28.6 | 28.6 | 11.7 | 21.4 | 25.5 | 34.0 | 2.9 | 49.9 | 66.6 | 67.5 | 0 | 27.0 | 27.9 |\n| 12 | 17.3 | 6.4 |  5.8 | 20.2 |  8.4 | 29.9 | 27.7 | 13.4 | 19.8 | 30.1 | 33.4 | 3.0 | 48.7 | 65.7 | 68.2 | 0 | 26.5 | 26.6 |\n| 13 | 17.2 | 6.4 |  6.0 | 20.3 |  9.3 | 29.7 | 28.4 | 13.1 | 20.8 | 34.4 | 32.1 | 3.0 | 49.1 | 67.0 | 69.3 | 0 | 27.2 | 27.9 |\n| 14 | 16.4 | 6.3 |  5.6 | 17.4 |  8.5 | 30.6 | 30.2 | 12.3 | 19.5 | 30.8 | 32.8 | 2.8 | 47.5 | 68.4 | 69.3 | 0 | 28.0 | 28.6 |\n| 15 | 15.8 | 6.7 | 10.5 | 35.0 | 17.2 | 36.9 | 29.5 | 20.5 | 31.3 | 37.6 | 38.5 | 6.3 | 50.8 | 52.0 | 72.0 | 1 | 36.8 | 37.7 |\n| 16 | 18.9 | 6.5 |  5.3 | 15.9 |  7.8 | 29.8 | 26.9 | 11.7 | 17.7 | 24.6 | 33.7 | 2.6 | 49.3 | 72.6 | 69.6 | 0 | 25.6 | 25.4 |\n| 17 | 15.0 | 6.7 | 13.2 | 44.6 | 21.6 | 42.3 | 31.7 | 24.5 | 38.5 | 44.3 | 42.5 | 8.1 | 52.7 | 38.9 | 71.7 | 1 | 43.8 | 44.8 |\n| 18 | 17.8 | 6.5 |  6.5 | 23.1 |  9.7 | 30.2 | 29.0 | 14.4 | 21.6 | 29.7 | 34.5 | 3.3 | 49.3 | 65.7 | 68.4 | 0 | 28.4 | 28.9 |\n| 19 | 15.6 | 5.4 |  6.7 | 19.2 | 12.0 | 31.5 | 29.9 | 10.9 | 24.4 | 29.6 | 35.9 | 3.4 | 50.9 | 62.1 | 69.1 | 0 | 30.7 | 31.3 |\n| 20 | 17.6 | 6.7 |  8.9 | 30.2 | 14.2 | 33.6 | 28.3 | 17.9 | 26.5 | 35.2 | 37.7 | 5.0 | 48.9 | 54.4 | 71.5 | 1 | 32.5 | 33.7 |\n| 21 | 19.7 | 6.3 |  7.4 | 25.3 | 11.9 | 33.5 | 28.5 | 14.2 | 23.1 | 33.0 | 34.4 | 3.9 | 48.9 | 61.5 | 69.1 | 1 | 29.6 | 31.2 |\n| 22 | 18.6 | 6.4 |  5.8 | 19.2 |  8.1 | 28.1 | 27.7 | 12.4 | 20.9 | 31.1 | 31.0 | 2.8 | 48.3 | 68.0 | 68.3 | 0 | 25.8 | 26.7 |\n| 23 | 18.9 | 6.6 |  6.6 | 21.8 | 10.2 | 30.4 | 28.4 | 14.0 | 20.6 | 31.5 | 34.1 | 3.5 | 47.8 | 66.2 | 69.6 | 0 | 28.4 | 29.2 |\n| 24 | 18.6 | 6.5 |  7.1 | 23.6 | 11.0 | 32.3 | 28.6 | 14.8 | 22.0 | 32.9 | 35.2 | 3.7 | 49.3 | 62.0 | 69.9 | 1 | 29.3 | 30.2 |\n| 25 | 16.6 | 6.6 | 10.1 | 34.2 | 16.6 | 37.4 | 29.2 | 19.3 | 30.0 | 40.2 | 40.3 | 5.8 | 51.0 | 52.4 | 71.3 | 1 | 36.3 | 37.4 |\n| 26 | 17.7 | 6.4 |  7.3 | 23.8 | 11.5 | 31.6 | 28.5 | 14.6 | 23.0 | 32.4 | 36.1 | 3.8 | 49.1 | 61.6 | 69.7 | 0 | 29.8 | 30.8 |\n| 27 | 19.8 | 6.6 |  5.5 | 17.9 |  8.0 | 27.9 | 27.8 | 12.4 | 18.0 | 27.4 | 31.3 | 2.8 | 48.1 | 67.5 | 68.2 | 0 | 25.5 | 26.0 |\n| 28 | 19.9 | 6.5 |  5.3 | 16.7 |  7.4 | 27.9 | 28.2 | 11.8 | 17.1 | 27.7 | 30.7 | 2.5 | 48.4 | 71.3 | 68.2 | 0 | 25.1 | 25.9 |\n| 29 | 18.9 | 6.5 |  6.5 | 22.3 |  9.5 | 28.5 | 29.3 | 13.7 | 21.3 | 31.6 | 32.2 | 3.2 | 48.6 | 59.7 | 67.6 | 0 | 28.4 | 28.8 |\n| 30 | 14.3 | 6.5 |  8.2 | 24.4 | 13.1 | 39.1 | 34.2 | 18.7 | 31.1 | 36.2 | 38.8 | 4.0 | 62.0 | 53.0 | 75.1 | 1 | 39.4 | 39.6 |\n| ⋮ | ⋮ | ⋮ | ⋮ | ⋮ | ⋮ | ⋮ | ⋮ | ⋮ | ⋮ | ⋮ | ⋮ | ⋮ | ⋮ | ⋮ | ⋮ | ⋮ | ⋮ | ⋮ |\n| 3113 | 14.3 | 6.5 | 9.4 | 28.9 | 13.2 | 38.6 | 33.7 | 21.0 | 31.1 | 39.0 | 45.1 | 3.9 | 61.4 | 50.2 | 79.2 | 1 | 38.3 | 38.2 |\n| 3114 | 15.8 | 6.5 | 7.5 | 24.5 | 11.1 | 37.1 | 31.4 | 17.9 | 25.4 | 35.5 | 40.8 | 3.1 | 60.5 | 57.6 | 79.5 | 1 | 33.9 | 33.8 |\n| 3115 | 13.8 | 6.6 | 9.1 | 29.0 | 13.1 | 37.8 | 32.1 | 21.0 | 31.3 | 41.5 | 46.7 | 3.7 | 61.6 | 50.7 | 79.4 | 1 | 36.9 | 36.7 |\n| 3116 | 14.6 | 6.6 | 7.8 | 25.0 | 12.2 | 36.8 | 32.0 | 18.3 | 27.6 | 40.8 | 40.8 | 3.3 | 62.6 | 57.5 | 79.1 | 1 | 36.5 | 35.6 |\n| 3117 | 15.4 | 6.6 | 7.0 | 21.5 | 10.3 | 34.5 | 30.9 | 16.4 | 22.9 | 39.0 | 40.3 | 2.8 | 59.3 | 62.4 | 80.4 | 1 | 33.1 | 33.2 |\n| 3118 | 15.2 | 6.4 | 7.9 | 24.7 | 11.5 | 37.8 | 32.2 | 18.4 | 26.4 | 37.8 | 41.9 | 3.2 | 61.1 | 57.6 | 79.8 | 1 | 35.4 | 35.5 |\n| 3119 | 15.0 | 6.6 | 8.8 | 27.5 | 13.0 | 37.7 | 33.3 | 19.9 | 29.5 | 43.0 | 42.2 | 3.7 | 61.1 | 48.9 | 79.0 | 1 | 37.7 | 37.3 |\n| 3120 | 18.3 | 6.4 | 5.9 | 19.4 |  8.6 | 28.9 | 28.0 | 13.3 | 22.7 | 28.3 | 32.4 | 3.0 | 52.5 | 65.1 | 65.8 | 0 | 27.7 | 27.6 |\n| 3121 | 18.8 | 6.4 | 6.1 | 16.8 |  9.3 | 28.2 | 28.3 | 12.9 | 19.8 | 28.4 | 34.6 | 3.0 | 54.2 | 69.4 | 67.7 | 0 | 28.7 | 28.3 |\n| 3122 | 17.7 | 6.4 | 6.4 | 21.3 |  9.9 | 27.8 | 26.9 | 14.0 | 23.6 | 29.6 | 32.7 | 3.3 | 53.4 | 63.1 | 65.9 | 0 | 28.3 | 28.3 |\n| 3123 | 18.4 | 6.4 | 6.1 | 19.4 |  8.5 | 29.5 | 28.3 | 13.0 | 24.1 | 33.2 | 33.3 | 3.0 | 54.3 | 63.6 | 64.8 | 0 | 28.6 | 28.8 |\n| 3124 | 18.6 | 6.5 | 5.7 | 18.5 |  8.5 | 30.1 | 26.4 | 12.8 | 23.6 | 33.2 | 35.4 | 2.9 | 52.1 | 64.5 | 66.4 | 0 | 27.0 | 26.9 |\n| 3125 | 18.4 | 6.3 | 5.3 | 17.5 |  7.2 | 25.7 | 27.7 | 12.2 | 22.1 | 27.8 | 32.0 | 2.6 | 53.6 | 68.7 | 68.2 | 0 | 26.2 | 26.5 |\n| 3126 | 19.0 | 6.5 | 5.8 | 18.6 |  7.8 | 28.0 | 27.5 | 13.1 | 21.2 | 29.3 | 31.4 | 2.8 | 54.1 | 65.5 | 65.8 | 0 | 26.8 | 26.8 |\n| 3127 | 19.6 | 6.5 | 5.6 | 18.7 |  7.5 | 27.8 | 28.2 | 12.8 | 21.6 | 29.6 | 33.8 | 2.7 | 52.0 | 64.4 | 66.3 | 0 | 26.7 | 27.0 |\n| 3128 | 18.7 | 6.4 | 6.3 | 20.6 |  8.9 | 27.8 | 28.0 | 13.6 | 23.6 | 34.2 | 34.5 | 3.1 | 54.2 | 62.2 | 64.7 | 0 | 28.7 | 29.1 |\n| 3129 | 17.4 | 6.4 | 6.3 | 20.8 |  9.1 | 29.7 | 27.9 | 14.2 | 24.3 | 33.6 | 35.9 | 3.1 | 53.8 | 65.3 | 65.2 | 0 | 28.7 | 28.6 |\n| 3130 | 18.6 | 6.4 | 5.1 | 18.1 |  7.1 | 26.5 | 27.3 | 12.0 | 19.2 | 27.7 | 32.9 | 2.6 | 52.8 | 68.9 | 65.0 | 0 | 25.9 | 26.3 |\n| 3131 | 16.8 | 6.5 | 6.8 | 22.8 |  9.4 | 29.9 | 28.5 | 15.8 | 25.7 | 32.2 | 36.2 | 3.4 | 55.3 | 60.0 | 66.6 | 0 | 30.2 | 29.3 |\n| 3132 | 19.4 | 6.6 | 5.7 | 21.8 |  8.7 | 27.5 | 26.2 | 12.9 | 22.4 | 30.6 | 33.7 | 2.8 | 53.8 | 65.3 | 67.4 | 0 | 26.7 | 26.3 |\n| 3133 | 16.6 | 6.3 | 5.5 | 19.2 |  9.0 | 29.0 | 27.1 | 12.7 | 21.1 | 29.9 | 35.3 | 2.7 | 53.6 | 70.2 | 68.7 | 0 | 27.1 | 27.2 |\n| 3134 | 20.0 | 6.3 | 5.5 | 18.0 |  7.7 | 28.1 | 27.0 | 12.1 | 19.9 | 26.8 | 33.0 | 2.6 | 52.4 | 67.1 | 65.2 | 0 | 25.5 | 26.6 |\n| 3135 | 19.7 | 6.3 | 6.0 | 21.5 |  8.3 | 28.6 | 29.1 | 13.4 | 24.3 | 32.6 | 35.6 | 2.9 | 52.8 | 66.9 | 65.8 | 0 | 28.3 | 28.3 |\n| 3136 | 20.3 | 6.4 | 4.8 | 12.9 |  6.6 | 25.0 | 24.7 | 10.2 | 16.2 | 18.8 | 27.1 | 2.3 | 51.1 | 75.4 | 67.2 | 0 | 22.1 | 22.7 |\n| 3137 | 18.5 | 6.6 | 6.0 | 19.1 |  8.5 | 28.8 | 28.5 | 13.6 | 22.5 | 28.9 | 34.2 | 2.9 | 53.2 | 66.0 | 65.4 | 0 | 28.2 | 28.3 |\n| 3138 | 18.1 | 6.3 | 6.0 | 21.8 |  9.2 | 28.9 | 28.4 | 13.3 | 26.3 | 32.4 | 36.7 | 3.0 | 53.1 | 58.5 | 66.9 | 0 | 28.4 | 28.5 |\n| 3139 | 18.2 | 6.5 | 5.8 | 18.3 |  8.1 | 26.8 | 27.7 | 12.9 | 21.6 | 27.6 | 32.5 | 2.8 | 54.2 | 69.5 | 66.1 | 0 | 27.4 | 27.5 |\n| 3140 | 20.1 | 6.4 | 5.9 | 19.5 |  8.2 | 27.3 | 27.5 | 13.3 | 22.9 | 31.2 | 34.0 | 2.9 | 53.3 | 62.8 | 67.0 | 0 | 26.9 | 27.1 |\n| 3141 | 18.5 | 6.5 | 6.1 | 21.0 |  9.0 | 29.6 | 27.8 | 14.0 | 23.0 | 34.2 | 35.3 | 3.0 | 54.2 | 58.0 | 65.3 | 0 | 28.6 | 28.7 |\n| 3142 | 19.3 | 6.4 | 5.8 | 19.5 |  8.3 | 28.8 | 27.7 | 13.1 | 22.0 | 29.8 | 32.8 | 2.9 | 52.7 | 65.1 | 65.4 | 0 | 26.9 | 27.5 |\n\n",
            "text/html": [
              "<table class=\"dataframe\">\n",
              "<caption>A data.frame: 3142 × 18</caption>\n",
              "<thead>\n",
              "\t<tr><th></th><th scope=col>drinking</th><th scope=col>cancer</th><th scope=col>CHD</th><th scope=col>smoking</th><th scope=col>diabetes</th><th scope=col>HBP</th><th scope=col>HCH</th><th scope=col>mental_health</th><th scope=col>no_leisure</th><th scope=col>obesity</th><th scope=col>not_sleeping</th><th scope=col>stroke</th><th scope=col>med_HBP</th><th scope=col>dentist_visit</th><th scope=col>doc_visit</th><th scope=col>Flag</th><th scope=col>full</th><th scope=col>reduced</th></tr>\n",
              "\t<tr><th></th><th scope=col>&lt;dbl&gt;</th><th scope=col>&lt;dbl&gt;</th><th scope=col>&lt;dbl&gt;</th><th scope=col>&lt;dbl&gt;</th><th scope=col>&lt;dbl&gt;</th><th scope=col>&lt;dbl&gt;</th><th scope=col>&lt;dbl&gt;</th><th scope=col>&lt;dbl&gt;</th><th scope=col>&lt;dbl&gt;</th><th scope=col>&lt;dbl&gt;</th><th scope=col>&lt;dbl&gt;</th><th scope=col>&lt;dbl&gt;</th><th scope=col>&lt;dbl&gt;</th><th scope=col>&lt;dbl&gt;</th><th scope=col>&lt;dbl&gt;</th><th scope=col>&lt;dbl&gt;</th><th scope=col>&lt;dbl&gt;</th><th scope=col>&lt;dbl&gt;</th></tr>\n",
              "</thead>\n",
              "<tbody>\n",
              "\t<tr><th scope=row>1</th><td>17.7</td><td>6.6</td><td> 9.3</td><td>32.5</td><td>15.1</td><td>37.0</td><td>29.1</td><td>18.4</td><td>28.8</td><td>33.4</td><td>39.1</td><td>5.3</td><td>49.8</td><td>54.2</td><td>70.5</td><td>1</td><td>34.2</td><td>35.3</td></tr>\n",
              "\t<tr><th scope=row>2</th><td>19.3</td><td>6.3</td><td> 5.9</td><td>19.9</td><td> 8.8</td><td>28.0</td><td>28.1</td><td>12.9</td><td>20.4</td><td>27.2</td><td>33.1</td><td>2.9</td><td>48.3</td><td>67.0</td><td>67.4</td><td>0</td><td>26.3</td><td>27.3</td></tr>\n",
              "\t<tr><th scope=row>3</th><td>14.2</td><td>5.3</td><td> 7.5</td><td>21.0</td><td>13.9</td><td>33.9</td><td>29.7</td><td>11.5</td><td>26.8</td><td>27.8</td><td>38.9</td><td>3.9</td><td>52.9</td><td>56.8</td><td>69.5</td><td>1</td><td>32.8</td><td>33.7</td></tr>\n",
              "\t<tr><th scope=row>4</th><td>16.7</td><td>6.5</td><td> 8.8</td><td>29.0</td><td>14.1</td><td>34.9</td><td>29.9</td><td>17.5</td><td>26.9</td><td>35.1</td><td>37.6</td><td>4.9</td><td>50.6</td><td>57.0</td><td>70.6</td><td>1</td><td>33.9</td><td>35.1</td></tr>\n",
              "\t<tr><th scope=row>5</th><td>18.5</td><td>6.4</td><td> 6.1</td><td>21.4</td><td> 8.8</td><td>29.8</td><td>27.8</td><td>13.9</td><td>20.3</td><td>32.0</td><td>34.4</td><td>3.1</td><td>47.5</td><td>61.7</td><td>67.7</td><td>0</td><td>26.5</td><td>26.8</td></tr>\n",
              "\t<tr><th scope=row>6</th><td>17.9</td><td>6.4</td><td> 6.2</td><td>18.6</td><td> 8.8</td><td>28.8</td><td>28.8</td><td>12.4</td><td>19.2</td><td>26.1</td><td>31.7</td><td>3.0</td><td>49.2</td><td>65.8</td><td>68.5</td><td>0</td><td>27.4</td><td>28.1</td></tr>\n",
              "\t<tr><th scope=row>7</th><td>16.2</td><td>6.2</td><td> 5.4</td><td>17.0</td><td> 9.1</td><td>30.7</td><td>29.2</td><td>12.0</td><td>19.0</td><td>27.8</td><td>34.4</td><td>2.7</td><td>49.1</td><td>68.5</td><td>71.3</td><td>0</td><td>27.4</td><td>27.8</td></tr>\n",
              "\t<tr><th scope=row>8</th><td>18.2</td><td>6.5</td><td> 7.7</td><td>26.9</td><td>11.7</td><td>33.2</td><td>29.0</td><td>16.1</td><td>24.1</td><td>32.2</td><td>35.6</td><td>4.1</td><td>49.6</td><td>60.6</td><td>69.2</td><td>1</td><td>30.6</td><td>32.1</td></tr>\n",
              "\t<tr><th scope=row>9</th><td>16.8</td><td>6.6</td><td> 9.5</td><td>33.9</td><td>15.1</td><td>36.4</td><td>29.5</td><td>18.7</td><td>26.7</td><td>38.1</td><td>37.9</td><td>5.4</td><td>50.7</td><td>53.3</td><td>71.1</td><td>1</td><td>34.6</td><td>36.2</td></tr>\n",
              "\t<tr><th scope=row>10</th><td>17.9</td><td>6.4</td><td> 5.6</td><td>17.6</td><td> 8.6</td><td>28.0</td><td>27.6</td><td>12.5</td><td>18.4</td><td>26.3</td><td>31.0</td><td>2.8</td><td>47.9</td><td>68.7</td><td>68.8</td><td>0</td><td>25.6</td><td>26.4</td></tr>\n",
              "\t<tr><th scope=row>11</th><td>17.8</td><td>5.7</td><td> 5.6</td><td>18.8</td><td> 9.5</td><td>28.6</td><td>28.6</td><td>11.7</td><td>21.4</td><td>25.5</td><td>34.0</td><td>2.9</td><td>49.9</td><td>66.6</td><td>67.5</td><td>0</td><td>27.0</td><td>27.9</td></tr>\n",
              "\t<tr><th scope=row>12</th><td>17.3</td><td>6.4</td><td> 5.8</td><td>20.2</td><td> 8.4</td><td>29.9</td><td>27.7</td><td>13.4</td><td>19.8</td><td>30.1</td><td>33.4</td><td>3.0</td><td>48.7</td><td>65.7</td><td>68.2</td><td>0</td><td>26.5</td><td>26.6</td></tr>\n",
              "\t<tr><th scope=row>13</th><td>17.2</td><td>6.4</td><td> 6.0</td><td>20.3</td><td> 9.3</td><td>29.7</td><td>28.4</td><td>13.1</td><td>20.8</td><td>34.4</td><td>32.1</td><td>3.0</td><td>49.1</td><td>67.0</td><td>69.3</td><td>0</td><td>27.2</td><td>27.9</td></tr>\n",
              "\t<tr><th scope=row>14</th><td>16.4</td><td>6.3</td><td> 5.6</td><td>17.4</td><td> 8.5</td><td>30.6</td><td>30.2</td><td>12.3</td><td>19.5</td><td>30.8</td><td>32.8</td><td>2.8</td><td>47.5</td><td>68.4</td><td>69.3</td><td>0</td><td>28.0</td><td>28.6</td></tr>\n",
              "\t<tr><th scope=row>15</th><td>15.8</td><td>6.7</td><td>10.5</td><td>35.0</td><td>17.2</td><td>36.9</td><td>29.5</td><td>20.5</td><td>31.3</td><td>37.6</td><td>38.5</td><td>6.3</td><td>50.8</td><td>52.0</td><td>72.0</td><td>1</td><td>36.8</td><td>37.7</td></tr>\n",
              "\t<tr><th scope=row>16</th><td>18.9</td><td>6.5</td><td> 5.3</td><td>15.9</td><td> 7.8</td><td>29.8</td><td>26.9</td><td>11.7</td><td>17.7</td><td>24.6</td><td>33.7</td><td>2.6</td><td>49.3</td><td>72.6</td><td>69.6</td><td>0</td><td>25.6</td><td>25.4</td></tr>\n",
              "\t<tr><th scope=row>17</th><td>15.0</td><td>6.7</td><td>13.2</td><td>44.6</td><td>21.6</td><td>42.3</td><td>31.7</td><td>24.5</td><td>38.5</td><td>44.3</td><td>42.5</td><td>8.1</td><td>52.7</td><td>38.9</td><td>71.7</td><td>1</td><td>43.8</td><td>44.8</td></tr>\n",
              "\t<tr><th scope=row>18</th><td>17.8</td><td>6.5</td><td> 6.5</td><td>23.1</td><td> 9.7</td><td>30.2</td><td>29.0</td><td>14.4</td><td>21.6</td><td>29.7</td><td>34.5</td><td>3.3</td><td>49.3</td><td>65.7</td><td>68.4</td><td>0</td><td>28.4</td><td>28.9</td></tr>\n",
              "\t<tr><th scope=row>19</th><td>15.6</td><td>5.4</td><td> 6.7</td><td>19.2</td><td>12.0</td><td>31.5</td><td>29.9</td><td>10.9</td><td>24.4</td><td>29.6</td><td>35.9</td><td>3.4</td><td>50.9</td><td>62.1</td><td>69.1</td><td>0</td><td>30.7</td><td>31.3</td></tr>\n",
              "\t<tr><th scope=row>20</th><td>17.6</td><td>6.7</td><td> 8.9</td><td>30.2</td><td>14.2</td><td>33.6</td><td>28.3</td><td>17.9</td><td>26.5</td><td>35.2</td><td>37.7</td><td>5.0</td><td>48.9</td><td>54.4</td><td>71.5</td><td>1</td><td>32.5</td><td>33.7</td></tr>\n",
              "\t<tr><th scope=row>21</th><td>19.7</td><td>6.3</td><td> 7.4</td><td>25.3</td><td>11.9</td><td>33.5</td><td>28.5</td><td>14.2</td><td>23.1</td><td>33.0</td><td>34.4</td><td>3.9</td><td>48.9</td><td>61.5</td><td>69.1</td><td>1</td><td>29.6</td><td>31.2</td></tr>\n",
              "\t<tr><th scope=row>22</th><td>18.6</td><td>6.4</td><td> 5.8</td><td>19.2</td><td> 8.1</td><td>28.1</td><td>27.7</td><td>12.4</td><td>20.9</td><td>31.1</td><td>31.0</td><td>2.8</td><td>48.3</td><td>68.0</td><td>68.3</td><td>0</td><td>25.8</td><td>26.7</td></tr>\n",
              "\t<tr><th scope=row>23</th><td>18.9</td><td>6.6</td><td> 6.6</td><td>21.8</td><td>10.2</td><td>30.4</td><td>28.4</td><td>14.0</td><td>20.6</td><td>31.5</td><td>34.1</td><td>3.5</td><td>47.8</td><td>66.2</td><td>69.6</td><td>0</td><td>28.4</td><td>29.2</td></tr>\n",
              "\t<tr><th scope=row>24</th><td>18.6</td><td>6.5</td><td> 7.1</td><td>23.6</td><td>11.0</td><td>32.3</td><td>28.6</td><td>14.8</td><td>22.0</td><td>32.9</td><td>35.2</td><td>3.7</td><td>49.3</td><td>62.0</td><td>69.9</td><td>1</td><td>29.3</td><td>30.2</td></tr>\n",
              "\t<tr><th scope=row>25</th><td>16.6</td><td>6.6</td><td>10.1</td><td>34.2</td><td>16.6</td><td>37.4</td><td>29.2</td><td>19.3</td><td>30.0</td><td>40.2</td><td>40.3</td><td>5.8</td><td>51.0</td><td>52.4</td><td>71.3</td><td>1</td><td>36.3</td><td>37.4</td></tr>\n",
              "\t<tr><th scope=row>26</th><td>17.7</td><td>6.4</td><td> 7.3</td><td>23.8</td><td>11.5</td><td>31.6</td><td>28.5</td><td>14.6</td><td>23.0</td><td>32.4</td><td>36.1</td><td>3.8</td><td>49.1</td><td>61.6</td><td>69.7</td><td>0</td><td>29.8</td><td>30.8</td></tr>\n",
              "\t<tr><th scope=row>27</th><td>19.8</td><td>6.6</td><td> 5.5</td><td>17.9</td><td> 8.0</td><td>27.9</td><td>27.8</td><td>12.4</td><td>18.0</td><td>27.4</td><td>31.3</td><td>2.8</td><td>48.1</td><td>67.5</td><td>68.2</td><td>0</td><td>25.5</td><td>26.0</td></tr>\n",
              "\t<tr><th scope=row>28</th><td>19.9</td><td>6.5</td><td> 5.3</td><td>16.7</td><td> 7.4</td><td>27.9</td><td>28.2</td><td>11.8</td><td>17.1</td><td>27.7</td><td>30.7</td><td>2.5</td><td>48.4</td><td>71.3</td><td>68.2</td><td>0</td><td>25.1</td><td>25.9</td></tr>\n",
              "\t<tr><th scope=row>29</th><td>18.9</td><td>6.5</td><td> 6.5</td><td>22.3</td><td> 9.5</td><td>28.5</td><td>29.3</td><td>13.7</td><td>21.3</td><td>31.6</td><td>32.2</td><td>3.2</td><td>48.6</td><td>59.7</td><td>67.6</td><td>0</td><td>28.4</td><td>28.8</td></tr>\n",
              "\t<tr><th scope=row>30</th><td>14.3</td><td>6.5</td><td> 8.2</td><td>24.4</td><td>13.1</td><td>39.1</td><td>34.2</td><td>18.7</td><td>31.1</td><td>36.2</td><td>38.8</td><td>4.0</td><td>62.0</td><td>53.0</td><td>75.1</td><td>1</td><td>39.4</td><td>39.6</td></tr>\n",
              "\t<tr><th scope=row>⋮</th><td>⋮</td><td>⋮</td><td>⋮</td><td>⋮</td><td>⋮</td><td>⋮</td><td>⋮</td><td>⋮</td><td>⋮</td><td>⋮</td><td>⋮</td><td>⋮</td><td>⋮</td><td>⋮</td><td>⋮</td><td>⋮</td><td>⋮</td><td>⋮</td></tr>\n",
              "\t<tr><th scope=row>3113</th><td>14.3</td><td>6.5</td><td>9.4</td><td>28.9</td><td>13.2</td><td>38.6</td><td>33.7</td><td>21.0</td><td>31.1</td><td>39.0</td><td>45.1</td><td>3.9</td><td>61.4</td><td>50.2</td><td>79.2</td><td>1</td><td>38.3</td><td>38.2</td></tr>\n",
              "\t<tr><th scope=row>3114</th><td>15.8</td><td>6.5</td><td>7.5</td><td>24.5</td><td>11.1</td><td>37.1</td><td>31.4</td><td>17.9</td><td>25.4</td><td>35.5</td><td>40.8</td><td>3.1</td><td>60.5</td><td>57.6</td><td>79.5</td><td>1</td><td>33.9</td><td>33.8</td></tr>\n",
              "\t<tr><th scope=row>3115</th><td>13.8</td><td>6.6</td><td>9.1</td><td>29.0</td><td>13.1</td><td>37.8</td><td>32.1</td><td>21.0</td><td>31.3</td><td>41.5</td><td>46.7</td><td>3.7</td><td>61.6</td><td>50.7</td><td>79.4</td><td>1</td><td>36.9</td><td>36.7</td></tr>\n",
              "\t<tr><th scope=row>3116</th><td>14.6</td><td>6.6</td><td>7.8</td><td>25.0</td><td>12.2</td><td>36.8</td><td>32.0</td><td>18.3</td><td>27.6</td><td>40.8</td><td>40.8</td><td>3.3</td><td>62.6</td><td>57.5</td><td>79.1</td><td>1</td><td>36.5</td><td>35.6</td></tr>\n",
              "\t<tr><th scope=row>3117</th><td>15.4</td><td>6.6</td><td>7.0</td><td>21.5</td><td>10.3</td><td>34.5</td><td>30.9</td><td>16.4</td><td>22.9</td><td>39.0</td><td>40.3</td><td>2.8</td><td>59.3</td><td>62.4</td><td>80.4</td><td>1</td><td>33.1</td><td>33.2</td></tr>\n",
              "\t<tr><th scope=row>3118</th><td>15.2</td><td>6.4</td><td>7.9</td><td>24.7</td><td>11.5</td><td>37.8</td><td>32.2</td><td>18.4</td><td>26.4</td><td>37.8</td><td>41.9</td><td>3.2</td><td>61.1</td><td>57.6</td><td>79.8</td><td>1</td><td>35.4</td><td>35.5</td></tr>\n",
              "\t<tr><th scope=row>3119</th><td>15.0</td><td>6.6</td><td>8.8</td><td>27.5</td><td>13.0</td><td>37.7</td><td>33.3</td><td>19.9</td><td>29.5</td><td>43.0</td><td>42.2</td><td>3.7</td><td>61.1</td><td>48.9</td><td>79.0</td><td>1</td><td>37.7</td><td>37.3</td></tr>\n",
              "\t<tr><th scope=row>3120</th><td>18.3</td><td>6.4</td><td>5.9</td><td>19.4</td><td> 8.6</td><td>28.9</td><td>28.0</td><td>13.3</td><td>22.7</td><td>28.3</td><td>32.4</td><td>3.0</td><td>52.5</td><td>65.1</td><td>65.8</td><td>0</td><td>27.7</td><td>27.6</td></tr>\n",
              "\t<tr><th scope=row>3121</th><td>18.8</td><td>6.4</td><td>6.1</td><td>16.8</td><td> 9.3</td><td>28.2</td><td>28.3</td><td>12.9</td><td>19.8</td><td>28.4</td><td>34.6</td><td>3.0</td><td>54.2</td><td>69.4</td><td>67.7</td><td>0</td><td>28.7</td><td>28.3</td></tr>\n",
              "\t<tr><th scope=row>3122</th><td>17.7</td><td>6.4</td><td>6.4</td><td>21.3</td><td> 9.9</td><td>27.8</td><td>26.9</td><td>14.0</td><td>23.6</td><td>29.6</td><td>32.7</td><td>3.3</td><td>53.4</td><td>63.1</td><td>65.9</td><td>0</td><td>28.3</td><td>28.3</td></tr>\n",
              "\t<tr><th scope=row>3123</th><td>18.4</td><td>6.4</td><td>6.1</td><td>19.4</td><td> 8.5</td><td>29.5</td><td>28.3</td><td>13.0</td><td>24.1</td><td>33.2</td><td>33.3</td><td>3.0</td><td>54.3</td><td>63.6</td><td>64.8</td><td>0</td><td>28.6</td><td>28.8</td></tr>\n",
              "\t<tr><th scope=row>3124</th><td>18.6</td><td>6.5</td><td>5.7</td><td>18.5</td><td> 8.5</td><td>30.1</td><td>26.4</td><td>12.8</td><td>23.6</td><td>33.2</td><td>35.4</td><td>2.9</td><td>52.1</td><td>64.5</td><td>66.4</td><td>0</td><td>27.0</td><td>26.9</td></tr>\n",
              "\t<tr><th scope=row>3125</th><td>18.4</td><td>6.3</td><td>5.3</td><td>17.5</td><td> 7.2</td><td>25.7</td><td>27.7</td><td>12.2</td><td>22.1</td><td>27.8</td><td>32.0</td><td>2.6</td><td>53.6</td><td>68.7</td><td>68.2</td><td>0</td><td>26.2</td><td>26.5</td></tr>\n",
              "\t<tr><th scope=row>3126</th><td>19.0</td><td>6.5</td><td>5.8</td><td>18.6</td><td> 7.8</td><td>28.0</td><td>27.5</td><td>13.1</td><td>21.2</td><td>29.3</td><td>31.4</td><td>2.8</td><td>54.1</td><td>65.5</td><td>65.8</td><td>0</td><td>26.8</td><td>26.8</td></tr>\n",
              "\t<tr><th scope=row>3127</th><td>19.6</td><td>6.5</td><td>5.6</td><td>18.7</td><td> 7.5</td><td>27.8</td><td>28.2</td><td>12.8</td><td>21.6</td><td>29.6</td><td>33.8</td><td>2.7</td><td>52.0</td><td>64.4</td><td>66.3</td><td>0</td><td>26.7</td><td>27.0</td></tr>\n",
              "\t<tr><th scope=row>3128</th><td>18.7</td><td>6.4</td><td>6.3</td><td>20.6</td><td> 8.9</td><td>27.8</td><td>28.0</td><td>13.6</td><td>23.6</td><td>34.2</td><td>34.5</td><td>3.1</td><td>54.2</td><td>62.2</td><td>64.7</td><td>0</td><td>28.7</td><td>29.1</td></tr>\n",
              "\t<tr><th scope=row>3129</th><td>17.4</td><td>6.4</td><td>6.3</td><td>20.8</td><td> 9.1</td><td>29.7</td><td>27.9</td><td>14.2</td><td>24.3</td><td>33.6</td><td>35.9</td><td>3.1</td><td>53.8</td><td>65.3</td><td>65.2</td><td>0</td><td>28.7</td><td>28.6</td></tr>\n",
              "\t<tr><th scope=row>3130</th><td>18.6</td><td>6.4</td><td>5.1</td><td>18.1</td><td> 7.1</td><td>26.5</td><td>27.3</td><td>12.0</td><td>19.2</td><td>27.7</td><td>32.9</td><td>2.6</td><td>52.8</td><td>68.9</td><td>65.0</td><td>0</td><td>25.9</td><td>26.3</td></tr>\n",
              "\t<tr><th scope=row>3131</th><td>16.8</td><td>6.5</td><td>6.8</td><td>22.8</td><td> 9.4</td><td>29.9</td><td>28.5</td><td>15.8</td><td>25.7</td><td>32.2</td><td>36.2</td><td>3.4</td><td>55.3</td><td>60.0</td><td>66.6</td><td>0</td><td>30.2</td><td>29.3</td></tr>\n",
              "\t<tr><th scope=row>3132</th><td>19.4</td><td>6.6</td><td>5.7</td><td>21.8</td><td> 8.7</td><td>27.5</td><td>26.2</td><td>12.9</td><td>22.4</td><td>30.6</td><td>33.7</td><td>2.8</td><td>53.8</td><td>65.3</td><td>67.4</td><td>0</td><td>26.7</td><td>26.3</td></tr>\n",
              "\t<tr><th scope=row>3133</th><td>16.6</td><td>6.3</td><td>5.5</td><td>19.2</td><td> 9.0</td><td>29.0</td><td>27.1</td><td>12.7</td><td>21.1</td><td>29.9</td><td>35.3</td><td>2.7</td><td>53.6</td><td>70.2</td><td>68.7</td><td>0</td><td>27.1</td><td>27.2</td></tr>\n",
              "\t<tr><th scope=row>3134</th><td>20.0</td><td>6.3</td><td>5.5</td><td>18.0</td><td> 7.7</td><td>28.1</td><td>27.0</td><td>12.1</td><td>19.9</td><td>26.8</td><td>33.0</td><td>2.6</td><td>52.4</td><td>67.1</td><td>65.2</td><td>0</td><td>25.5</td><td>26.6</td></tr>\n",
              "\t<tr><th scope=row>3135</th><td>19.7</td><td>6.3</td><td>6.0</td><td>21.5</td><td> 8.3</td><td>28.6</td><td>29.1</td><td>13.4</td><td>24.3</td><td>32.6</td><td>35.6</td><td>2.9</td><td>52.8</td><td>66.9</td><td>65.8</td><td>0</td><td>28.3</td><td>28.3</td></tr>\n",
              "\t<tr><th scope=row>3136</th><td>20.3</td><td>6.4</td><td>4.8</td><td>12.9</td><td> 6.6</td><td>25.0</td><td>24.7</td><td>10.2</td><td>16.2</td><td>18.8</td><td>27.1</td><td>2.3</td><td>51.1</td><td>75.4</td><td>67.2</td><td>0</td><td>22.1</td><td>22.7</td></tr>\n",
              "\t<tr><th scope=row>3137</th><td>18.5</td><td>6.6</td><td>6.0</td><td>19.1</td><td> 8.5</td><td>28.8</td><td>28.5</td><td>13.6</td><td>22.5</td><td>28.9</td><td>34.2</td><td>2.9</td><td>53.2</td><td>66.0</td><td>65.4</td><td>0</td><td>28.2</td><td>28.3</td></tr>\n",
              "\t<tr><th scope=row>3138</th><td>18.1</td><td>6.3</td><td>6.0</td><td>21.8</td><td> 9.2</td><td>28.9</td><td>28.4</td><td>13.3</td><td>26.3</td><td>32.4</td><td>36.7</td><td>3.0</td><td>53.1</td><td>58.5</td><td>66.9</td><td>0</td><td>28.4</td><td>28.5</td></tr>\n",
              "\t<tr><th scope=row>3139</th><td>18.2</td><td>6.5</td><td>5.8</td><td>18.3</td><td> 8.1</td><td>26.8</td><td>27.7</td><td>12.9</td><td>21.6</td><td>27.6</td><td>32.5</td><td>2.8</td><td>54.2</td><td>69.5</td><td>66.1</td><td>0</td><td>27.4</td><td>27.5</td></tr>\n",
              "\t<tr><th scope=row>3140</th><td>20.1</td><td>6.4</td><td>5.9</td><td>19.5</td><td> 8.2</td><td>27.3</td><td>27.5</td><td>13.3</td><td>22.9</td><td>31.2</td><td>34.0</td><td>2.9</td><td>53.3</td><td>62.8</td><td>67.0</td><td>0</td><td>26.9</td><td>27.1</td></tr>\n",
              "\t<tr><th scope=row>3141</th><td>18.5</td><td>6.5</td><td>6.1</td><td>21.0</td><td> 9.0</td><td>29.6</td><td>27.8</td><td>14.0</td><td>23.0</td><td>34.2</td><td>35.3</td><td>3.0</td><td>54.2</td><td>58.0</td><td>65.3</td><td>0</td><td>28.6</td><td>28.7</td></tr>\n",
              "\t<tr><th scope=row>3142</th><td>19.3</td><td>6.4</td><td>5.8</td><td>19.5</td><td> 8.3</td><td>28.8</td><td>27.7</td><td>13.1</td><td>22.0</td><td>29.8</td><td>32.8</td><td>2.9</td><td>52.7</td><td>65.1</td><td>65.4</td><td>0</td><td>26.9</td><td>27.5</td></tr>\n",
              "</tbody>\n",
              "</table>\n"
            ]
          },
          "metadata": {
            "tags": []
          }
        }
      ]
    },
    {
      "cell_type": "code",
      "metadata": {
        "colab": {
          "base_uri": "https://localhost:8080/",
          "height": 437
        },
        "id": "lVnCRTsRs09N",
        "outputId": "d3fdea29-6234-43ca-8e47-6702fd8eb305"
      },
      "source": [
        "ggplot(temp, aes(x=full, y=State), ) +geom_boxplot()\n"
      ],
      "execution_count": null,
      "outputs": [
        {
          "output_type": "display_data",
          "data": {
            "image/png": "[encoded data removed]",
            "text/plain": [
              "plot without title"
            ]
          },
          "metadata": {
            "tags": [],
            "image/png": {
              "width": 420,
              "height": 420
            }
          }
        }
      ]
    },
    {
      "cell_type": "code",
      "metadata": {
        "colab": {
          "base_uri": "https://localhost:8080/",
          "height": 437
        },
        "id": "OR6mkYg4w7hy",
        "outputId": "fa04c57a-5b85-4ae0-8362-ddcfff862b10"
      },
      "source": [
        "ggplot(south_region, aes(x=HBP, y=State), ) +\n",
        "  geom_boxplot()"
      ],
      "execution_count": null,
      "outputs": [
        {
          "output_type": "display_data",
          "data": {
            "image/png": "[encoded data removed]",
            "text/plain": [
              "plot without title"
            ]
          },
          "metadata": {
            "tags": [],
            "image/png": {
              "width": 420,
              "height": 420
            }
          }
        }
      ]
    },
    {
      "cell_type": "markdown",
      "metadata": {
        "id": "CxWIdx5dwbKx"
      },
      "source": [
        "# Conclusion"
      ]
    },
    {
      "cell_type": "markdown",
      "metadata": {
        "id": "QTJcTOu-wxV4"
      },
      "source": [
        "Overall, high blood pressure is a disease that has affected millions in the US and worldwide. Some groups, like Hispanic blacks, are more susceptible to the disease than others. However, there are some healthy lifestyle changes that one can practice to reduce the chances of developing high blood pressure. Further, do not rely on a healthy diet and lifestyle changes only, it is important to consult a doctor when required. Consulting a doctor and getting medication at the early stage of Hypertension can reduce the chances of making the situation worst for ourselves. We also concluded from Hypothesis testing that Obesity is equally fatal in Mississippi as compared to High Blood Pressure.\n",
        "\n",
        " \n",
        "\n",
        " \n",
        "\n",
        "<br>\n",
        "\n",
        " \n",
        "\n",
        " \n",
        "\n",
        "In the future, it would be interesting to further analyze the differentiators of the Western Region in the US as compared to the rest parts. Is this low statistical data of HBP due to healthy diet choices? Regular exercise? Healthy lifestyle decisions? If students, or researchers, could replicate the exact reason or series of researches for this clear difference in the Western region. This analysis can help us to understand how we can improve the situation of High Blood Pressure in other parts of the United State as well as other countries facing the same issues."
      ]
    },
    {
      "cell_type": "markdown",
      "metadata": {
        "id": "MfIeLMe4pkqb"
      },
      "source": [
        "# Citations"
      ]
    },
    {
      "cell_type": "markdown",
      "metadata": {
        "id": "JTe5IGFpppWf"
      },
      "source": [
        "\n",
        "\n",
        "**Works Cited**\n",
        "\n",
        "\n",
        "[1] Association, A. H. (Nov 30, 2017),\"The Facts About High Blood Pressure\", https://www.heart.org/en/health-topics/high-blood-pressure/the-facts-about-high-blood-pressure\n",
        "\n",
        "<br>\n",
        "\n",
        "[2] Harvard Health Survey. (October, 2020),\"High Blood Pressure (Hypertension)\", https://www.health.harvard.edu/a_to_z/high-blood-pressure-hypertension-a-to-z\n",
        "\n",
        "<br>\n",
        "\n",
        "[3] Centers for Disease Control and Prevention, U. D.,Facts about Hypertension in United States\",https://www.cdc.gov/bloodpressure/facts.htm\n",
        "\n",
        "<br>\n",
        "\n",
        "[4] Shepard, B. (September 09, 2020 ),\"Study shows high blood pressure awareness and control are declining in America\", https://www.uab.edu/news/research/item/11543-study-shows-high-blood-pressure-awareness-and-control-are-declining-in-america#:~:text=Among%20U.S.%20adults%20who%20were,88%20percent%20in%202017%2D2018.\n",
        "\n",
        "<br>\n",
        "\n",
        "[5] McCoy, K.(March 2, 2021),\"7 Ways to prevent Hypertension\", Everyday Health Group, https://www.everydayhealth.com/hypertension/preventing.aspx\n",
        "\n",
        "<br>\n",
        "\n",
        "[6] CDC, American Health Association,(Nov 30, 2017),\"High blood pressure is a “silent killer”, https://www.heart.org/en/health-topics/high-blood-pressure/why-high-blood-pressure-is-a-silent-killer\n",
        "\n",
        "<br>\n",
        "\n",
        "[7] Yechiam Ostchega, P. R. (April 2020),\"Hypertension Prevalence Among Adults Aged 18 and Over: United States, 2017–2018\",https://www.cdc.gov/nchs/products/databriefs/db364.htm\n",
        "\n",
        "<br>\n",
        "\n",
        "[8] Lackland, Daniel T.(Aug 2014),“Racial Differences in Hypertension: Implications for High Blood Pressure Management.”, www.ncbi.nlm.nih.gov/pmc/articles/PMC4108512\n",
        "\n",
        "<br>\n",
        "\n",
        "[9] Robert wood Johnson Foundation, State of childhood obesity (2019), \"Hypertension in the United States\",https://stateofchildhoodobesity.org/hypertension/\n",
        "\n",
        "<br>\n",
        "\n",
        "[10] Mayo Foundation for Medical Education and Research (MFMER),\"High blood pressure (hypertension)\",https://www.mayoclinic.org/diseases-conditions/high-blood-pressure/diagnosis-treatment/drc-20373417\n",
        "\n",
        "<br>\n",
        "\n",
        "[11] Medical New Today (August 15, 2018 ),\"New 'triple pill' could eliminate high blood pressure\",https://www.medicalnewstoday.com/articles/322781\n",
        "\n",
        "<br>\n",
        "\n",
        "[12] Meredith Goodwin, Jill Seladi-Schulman, Ph.D.(August 6, 2020),\"What to Know About COVID-19 and High Blood Pressure\",https://www.healthline.com/health/what-to-know-about-covid-19-and-high-blood-pressure\n",
        "\n",
        "<br>\n",
        "\n",
        "[13] WebMD LLC, Brunilda Nazario, MD (December 13, 2020),\"Coronavirus and High Blood Pressure: What’s the Link?\",https://www.webmd.com/lung/coronavirus-high-blood-pressure#1 \n",
        "\n",
        "<br>\n",
        "\n",
        "[14]  Foundation, U. H. (2020).\" America's Health Rankings\", https://www.americashealthrankings.org/explore/annual/measure/High_Chol/state/MS\n",
        "\n",
        "<br>\n",
        "\n",
        "**Note** : All the citations follows APA formatting.\n",
        "\n",
        "\n",
        "\n",
        "\n",
        "\n",
        "---\n",
        "\n",
        "\n",
        "---\n",
        "\n",
        "\n"
      ]
    }
  ]
}